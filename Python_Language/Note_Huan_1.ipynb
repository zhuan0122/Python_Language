{
 "cells": [
  {
   "cell_type": "code",
   "execution_count": 1,
   "metadata": {},
   "outputs": [
    {
     "data": {
      "text/plain": [
       "'C:\\\\Users\\\\zhuan\\\\BootCamp_Python\\\\00-Python Object and Data Structure Basics'"
      ]
     },
     "execution_count": 1,
     "metadata": {},
     "output_type": "execute_result"
    }
   ],
   "source": [
    "pwd"
   ]
  },
  {
   "cell_type": "markdown",
   "metadata": {},
   "source": [
    "# ctrl + enter to run the cell "
   ]
  },
  {
   "cell_type": "code",
   "execution_count": 17,
   "metadata": {},
   "outputs": [
    {
     "name": "stdout",
     "output_type": "stream",
     "text": [
      "Overwriting mytxt.txt\n"
     ]
    }
   ],
   "source": [
    "%%writefile mytxt.txt\n",
    "this is the first line \n",
    "this is the second line \n"
   ]
  },
  {
   "cell_type": "code",
   "execution_count": 3,
   "metadata": {},
   "outputs": [],
   "source": [
    "my_txt= open('mytxt.txt')"
   ]
  },
  {
   "cell_type": "code",
   "execution_count": 5,
   "metadata": {},
   "outputs": [
    {
     "data": {
      "text/plain": [
       "'this is the first line \\nthis is the second line \\n'"
      ]
     },
     "execution_count": 5,
     "metadata": {},
     "output_type": "execute_result"
    }
   ],
   "source": [
    "my_txt.read()\n"
   ]
  },
  {
   "cell_type": "code",
   "execution_count": 6,
   "metadata": {},
   "outputs": [],
   "source": [
    "my_cmd = open('C:\\\\Users\\\\zhuan\\\\Desktop\\\\cmd.txt')"
   ]
  },
  {
   "cell_type": "code",
   "execution_count": 7,
   "metadata": {},
   "outputs": [
    {
     "data": {
      "text/plain": [
       "\"HUAN'S LEARNING WITH DATA SCIENCE 2020-10-16\\n\\n1.echo %PATH% - list all content in the envoronment path\\nset h -- list the variables start with h \\n\\n2. pip install tensorflow==2.3.0 -- downgrade the tensorflow version to 2.3.0 from 2.3.1\\n\\n3. in Anaconda:\\npython --version  -- check the current version\\nconda search python --list all python \\nconda install python=3.6.9   -- install the one you want\\n\\n4. : Import Error:DLL load failed while importing _pywrap_tensorflow_internal  when import tensorflow in juypter notebook\\nhttps://stackoverflow.com/questions/42011070/on-windows-running-import-tensorflow-generates-no-module-named-pywrap-tenso\\n\\n\\n5. GPU vs CPU\\n\\nhttps://blogs.oracle.com/datascience/cpu-vs-gpu-in-machine-learning\\n\\nhttps://blogs.nvidia.com/blog/2009/12/16/whats-the-difference-between-a-cpu-and-a-gpu/\\n\\n6. https://www.scrum.org/professional-scrum-certifications/professional-scrum-master-assessments\\n\\n\\nGit/GIt Lab notes:\\n\\n\\n&&&&&&&&&&&&&&&&&&&&&&&&&&&&&&&&&&&&&&&&&&&&&\\n# Python command:\\n1. after installing the anaconda3 and add it in environment path then we could find python version directly type 'python' in the working\\ndirectory in terminal prompt and then enter Python shell. \\ntype 'quit()' to quit python and back to the working directory \\n\""
      ]
     },
     "execution_count": 7,
     "metadata": {},
     "output_type": "execute_result"
    }
   ],
   "source": [
    "my_cmd.read()\n"
   ]
  },
  {
   "cell_type": "code",
   "execution_count": 8,
   "metadata": {},
   "outputs": [
    {
     "data": {
      "text/plain": [
       "0"
      ]
     },
     "execution_count": 8,
     "metadata": {},
     "output_type": "execute_result"
    }
   ],
   "source": [
    "my_cmd.seek(0)\n"
   ]
  },
  {
   "cell_type": "code",
   "execution_count": 9,
   "metadata": {},
   "outputs": [
    {
     "data": {
      "text/plain": [
       "[\"HUAN'S LEARNING WITH DATA SCIENCE 2020-10-16\\n\",\n",
       " '\\n',\n",
       " '1.echo %PATH% - list all content in the envoronment path\\n',\n",
       " 'set h -- list the variables start with h \\n',\n",
       " '\\n',\n",
       " '2. pip install tensorflow==2.3.0 -- downgrade the tensorflow version to 2.3.0 from 2.3.1\\n',\n",
       " '\\n',\n",
       " '3. in Anaconda:\\n',\n",
       " 'python --version  -- check the current version\\n',\n",
       " 'conda search python --list all python \\n',\n",
       " 'conda install python=3.6.9   -- install the one you want\\n',\n",
       " '\\n',\n",
       " '4. : Import Error:DLL load failed while importing _pywrap_tensorflow_internal  when import tensorflow in juypter notebook\\n',\n",
       " 'https://stackoverflow.com/questions/42011070/on-windows-running-import-tensorflow-generates-no-module-named-pywrap-tenso\\n',\n",
       " '\\n',\n",
       " '\\n',\n",
       " '5. GPU vs CPU\\n',\n",
       " '\\n',\n",
       " 'https://blogs.oracle.com/datascience/cpu-vs-gpu-in-machine-learning\\n',\n",
       " '\\n',\n",
       " 'https://blogs.nvidia.com/blog/2009/12/16/whats-the-difference-between-a-cpu-and-a-gpu/\\n',\n",
       " '\\n',\n",
       " '6. https://www.scrum.org/professional-scrum-certifications/professional-scrum-master-assessments\\n',\n",
       " '\\n',\n",
       " '\\n',\n",
       " 'Git/GIt Lab notes:\\n',\n",
       " '\\n',\n",
       " '\\n',\n",
       " '&&&&&&&&&&&&&&&&&&&&&&&&&&&&&&&&&&&&&&&&&&&&&\\n',\n",
       " '# Python command:\\n',\n",
       " \"1. after installing the anaconda3 and add it in environment path then we could find python version directly type 'python' in the working\\n\",\n",
       " 'directory in terminal prompt and then enter Python shell. \\n',\n",
       " \"type 'quit()' to quit python and back to the working directory \\n\"]"
      ]
     },
     "execution_count": 9,
     "metadata": {},
     "output_type": "execute_result"
    }
   ],
   "source": [
    "my_cmd.readlines()"
   ]
  },
  {
   "cell_type": "code",
   "execution_count": 11,
   "metadata": {},
   "outputs": [
    {
     "data": {
      "text/plain": [
       "'C:\\\\Users\\\\zhuan\\\\BootCamp_Python\\\\00-Python Object and Data Structure Basics'"
      ]
     },
     "execution_count": 11,
     "metadata": {},
     "output_type": "execute_result"
    }
   ],
   "source": [
    "pwd"
   ]
  },
  {
   "cell_type": "code",
   "execution_count": 12,
   "metadata": {},
   "outputs": [
    {
     "data": {
      "text/plain": [
       "'C:\\\\Users\\\\zhuan\\\\BootCamp_Python\\\\00-Python Object and Data Structure Basics'"
      ]
     },
     "execution_count": 12,
     "metadata": {},
     "output_type": "execute_result"
    }
   ],
   "source": [
    "pwd"
   ]
  },
  {
   "cell_type": "code",
   "execution_count": 14,
   "metadata": {},
   "outputs": [],
   "source": [
    "my_cmd.close()\n",
    "my_txt.close()"
   ]
  },
  {
   "cell_type": "code",
   "execution_count": 16,
   "metadata": {},
   "outputs": [
    {
     "name": "stdout",
     "output_type": "stream",
     "text": [
      "odd number 1\n",
      "even number 2\n",
      "odd number 3\n",
      "even number 4\n",
      "odd number 5\n",
      "even number 6\n",
      "odd number 7\n",
      "even number 8\n"
     ]
    }
   ],
   "source": [
    "my_num = [1,2,3,4,5,6,7,8]\n",
    "for num in my_num:\n",
    "    #check num is even\n",
    "    if num % 2==0:\n",
    "        print(f'even number {num}')\n",
    "    else:\n",
    "        print(f'odd number {num}')\n"
   ]
  },
  {
   "cell_type": "code",
   "execution_count": 20,
   "metadata": {},
   "outputs": [
    {
     "name": "stdout",
     "output_type": "stream",
     "text": [
      "1\n",
      "3\n",
      "6\n",
      "10\n",
      "15\n",
      "21\n",
      "28\n",
      "36\n"
     ]
    }
   ],
   "source": [
    "my_list = 0\n",
    "for num in my_num:\n",
    "    my_list=my_list+num\n",
    "    print(my_list)"
   ]
  },
  {
   "cell_type": "code",
   "execution_count": 23,
   "metadata": {},
   "outputs": [
    {
     "name": "stdout",
     "output_type": "stream",
     "text": [
      "k1\n",
      "k2\n",
      "k3\n"
     ]
    }
   ],
   "source": [
    "my_dic= {'k1':1, 'k2':2,'k3':3}\n",
    "for item in my_dic:\n",
    "    print(item)"
   ]
  },
  {
   "cell_type": "code",
   "execution_count": 24,
   "metadata": {},
   "outputs": [
    {
     "name": "stdout",
     "output_type": "stream",
     "text": [
      "('k1', 1)\n",
      "('k2', 2)\n",
      "('k3', 3)\n"
     ]
    }
   ],
   "source": [
    "my_dic= {'k1':1, 'k2':2,'k3':3}\n",
    "for item in my_dic.items():\n",
    "    print(item)"
   ]
  },
  {
   "cell_type": "code",
   "execution_count": 36,
   "metadata": {},
   "outputs": [],
   "source": [
    "my_dic= {'k1':1, 'k2':2,'k3':3}\n",
    "for keys,value in my_dic:\n",
    "    #commment\n",
    "    pass"
   ]
  },
  {
   "cell_type": "code",
   "execution_count": 41,
   "metadata": {},
   "outputs": [
    {
     "name": "stdout",
     "output_type": "stream",
     "text": [
      "h\n"
     ]
    }
   ],
   "source": [
    "lt = 'heello 2e021'\n",
    "for l in lt: # if the l is 'e', then it goes back to here to iterate object agian \n",
    "    # print all letters except e \n",
    "    if l == 'e':\n",
    "        continue\n",
    "    print(l)"
   ]
  },
  {
   "cell_type": "code",
   "execution_count": null,
   "metadata": {},
   "outputs": [],
   "source": []
  },
  {
   "cell_type": "code",
   "execution_count": null,
   "metadata": {},
   "outputs": [],
   "source": [
    "lt = 'heello 2e021'\n",
    "for l in lt: # \n",
    "    # once reach e then stop the loop \n",
    "    if l == 'e':\n",
    "        break\n",
    "    print(l)"
   ]
  },
  {
   "cell_type": "code",
   "execution_count": 42,
   "metadata": {},
   "outputs": [
    {
     "name": "stdout",
     "output_type": "stream",
     "text": [
      "h\n",
      "e\n",
      "l\n",
      "l\n",
      "o\n",
      " \n",
      "2\n",
      "0\n",
      "2\n",
      "1\n"
     ]
    }
   ],
   "source": [
    "index_count = 0\n",
    "word= 'hello 2021'\n",
    "for index in word:\n",
    "    print(word[index_count])\n",
    "    index_count +=1\n"
   ]
  },
  {
   "cell_type": "code",
   "execution_count": 44,
   "metadata": {},
   "outputs": [
    {
     "name": "stdout",
     "output_type": "stream",
     "text": [
      "0\n",
      "h\n",
      "\n",
      "\n",
      "1\n",
      "e\n",
      "\n",
      "\n",
      "2\n",
      "l\n",
      "\n",
      "\n",
      "3\n",
      "l\n",
      "\n",
      "\n",
      "4\n",
      "o\n",
      "\n",
      "\n",
      "5\n",
      " \n",
      "\n",
      "\n",
      "6\n",
      "2\n",
      "\n",
      "\n",
      "7\n",
      "0\n",
      "\n",
      "\n",
      "8\n",
      "2\n",
      "\n",
      "\n",
      "9\n",
      "1\n",
      "\n",
      "\n"
     ]
    }
   ],
   "source": [
    "# use enumerate to replace the index count above \n",
    "word = 'hello 2021'\n",
    "for index, letter in enumerate(word):\n",
    "    print(index)\n",
    "    print(letter)\n",
    "    print('\\n')"
   ]
  },
  {
   "cell_type": "code",
   "execution_count": null,
   "metadata": {},
   "outputs": [],
   "source": []
  },
  {
   "cell_type": "code",
   "execution_count": 48,
   "metadata": {},
   "outputs": [
    {
     "name": "stdout",
     "output_type": "stream",
     "text": [
      "(1, 'a')\n",
      "(2, 'b')\n",
      "(3, 'c')\n"
     ]
    }
   ],
   "source": [
    "my_list1 = [1,2,3]\n",
    "my_value =['a', 'b', 'c']\n",
    "for item in zip(my_list1,my_value):\n",
    "        print(item)\n"
   ]
  },
  {
   "cell_type": "code",
   "execution_count": 54,
   "metadata": {},
   "outputs": [
    {
     "data": {
      "text/plain": [
       "[6, 4, 2, 8, 0]"
      ]
     },
     "execution_count": 54,
     "metadata": {},
     "output_type": "execute_result"
    }
   ],
   "source": [
    "my_list = list(range(0,10,2))\n",
    "from random import shuffle \n",
    "shuffle(my_list)\n",
    "my_list"
   ]
  },
  {
   "cell_type": "code",
   "execution_count": 55,
   "metadata": {},
   "outputs": [
    {
     "name": "stdout",
     "output_type": "stream",
     "text": [
      "enter jose\n"
     ]
    }
   ],
   "source": [
    "result = input('enter ')"
   ]
  },
  {
   "cell_type": "code",
   "execution_count": 56,
   "metadata": {},
   "outputs": [
    {
     "name": "stdout",
     "output_type": "stream",
     "text": [
      "['h', 'e', 'l', 'l', 'o']\n"
     ]
    }
   ],
   "source": [
    "word = 'hello'\n",
    "mylist=[]\n",
    "for l in word:\n",
    "    mylist.append(l)\n",
    "print(mylist)"
   ]
  },
  {
   "cell_type": "code",
   "execution_count": 58,
   "metadata": {},
   "outputs": [
    {
     "data": {
      "text/plain": [
       "['h', 'e', 'l', 'l', 'o']"
      ]
     },
     "execution_count": 58,
     "metadata": {},
     "output_type": "execute_result"
    }
   ],
   "source": [
    "mylist1=[l for l in word]\n",
    "mylist1"
   ]
  },
  {
   "cell_type": "code",
   "execution_count": null,
   "metadata": {},
   "outputs": [],
   "source": [
    "word = list()"
   ]
  },
  {
   "cell_type": "code",
   "execution_count": 61,
   "metadata": {},
   "outputs": [
    {
     "data": {
      "text/plain": [
       "[0, 4]"
      ]
     },
     "execution_count": 61,
     "metadata": {},
     "output_type": "execute_result"
    }
   ],
   "source": [
    "mylist1=[x**2 for x in range(0,4) if x% 2==0]\n",
    "mylist1"
   ]
  },
  {
   "cell_type": "markdown",
   "metadata": {},
   "source": [
    "# List comprehension "
   ]
  },
  {
   "cell_type": "code",
   "execution_count": 64,
   "metadata": {},
   "outputs": [
    {
     "data": {
      "text/plain": [
       "[0, 3, 2, 5, 4, 7, 6, 9, 8, 11]"
      ]
     },
     "execution_count": 64,
     "metadata": {},
     "output_type": "execute_result"
    }
   ],
   "source": [
    "result = [ x if x% 2 ==0 else x+2  for x in range(0,10)]\n",
    "# x is x if x is even number, else put 'ODD' in the list \n",
    "result"
   ]
  },
  {
   "cell_type": "code",
   "execution_count": 65,
   "metadata": {},
   "outputs": [
    {
     "name": "stdout",
     "output_type": "stream",
     "text": [
      "[2, 40, 60, 3, 60, 90, 4, 80, 120]\n"
     ]
    }
   ],
   "source": [
    "my = []\n",
    "for x in [2,3,4]:\n",
    "    for y in [1,20,30]:\n",
    "        my.append(x*y)\n",
    "print(my)"
   ]
  },
  {
   "cell_type": "code",
   "execution_count": 69,
   "metadata": {},
   "outputs": [
    {
     "data": {
      "text/plain": [
       "[2, 40, 60, 3, 60, 90, 4, 80, 120]"
      ]
     },
     "execution_count": 69,
     "metadata": {},
     "output_type": "execute_result"
    }
   ],
   "source": [
    "my = [ x*y for x in [2,3,4] for y in [1,20,30] ]\n",
    "my"
   ]
  }
 ],
 "metadata": {
  "kernelspec": {
   "display_name": "Python 3",
   "language": "python",
   "name": "python3"
  },
  "language_info": {
   "codemirror_mode": {
    "name": "ipython",
    "version": 3
   },
   "file_extension": ".py",
   "mimetype": "text/x-python",
   "name": "python",
   "nbconvert_exporter": "python",
   "pygments_lexer": "ipython3",
   "version": "3.8.5"
  }
 },
 "nbformat": 4,
 "nbformat_minor": 4
}
