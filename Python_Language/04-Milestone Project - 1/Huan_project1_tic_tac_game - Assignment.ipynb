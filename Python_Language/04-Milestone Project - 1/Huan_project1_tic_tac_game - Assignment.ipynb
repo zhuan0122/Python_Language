{
 "cells": [
  {
   "cell_type": "markdown",
   "metadata": {},
   "source": [
    "___\n",
    "\n",
    "<a href='https://www.udemy.com/user/joseportilla/'><img src='../Pierian_Data_Logo.png'/></a>\n",
    "___\n",
    "<center><em>Content Copyright by Pierian Data</em></center>"
   ]
  },
  {
   "cell_type": "markdown",
   "metadata": {},
   "source": [
    "# Milestone Project 1\n",
    "## Congratulations on making it to your first milestone!\n",
    "You've already learned a ton and are ready to work on a real project.\n",
    "\n",
    "Your assignment: Create a Tic Tac Toe game. You are free to use any IDE you like.\n",
    "\n",
    "Here are the requirements:\n",
    "\n",
    "* 2 players should be able to play the game (both sitting at the same computer)\n",
    "* The board should be printed out every time a player makes a move\n",
    "* You should be able to accept input of the player position and then place a symbol on the board\n",
    "\n",
    "Feel free to use Google to help you figure anything out (but don't just Google \"Tic Tac Toe in Python\" otherwise you won't learn anything!) Keep in mind that this project can take anywhere between several hours to several days.\n",
    "\n",
    "There are 4 Jupyter Notebooks related to this assignment:\n",
    "\n",
    "* This Assignment Notebook\n",
    "* A \"Walkthrough Steps Workbook\" Notebook\n",
    "* A \"Complete Walkthrough Solution\" Notebook\n",
    "* An \"Advanced Solution\" Notebook\n",
    "\n",
    "I encourage you to just try to start the project on your own without referencing any of the notebooks. If you get stuck, check out the next lecture which is a text lecture with helpful hints and steps. If you're still stuck after that, then check out the Walkthrough Steps Workbook, which breaks up the project in steps for you to solve. Still stuck? Then check out the Complete Walkthrough Solution video for more help on approaching the project!"
   ]
  },
  {
   "cell_type": "markdown",
   "metadata": {},
   "source": [
    "There are parts of this that will be a struggle...and that is good! I have complete faith that if you have made it this far through the course you have all the tools and knowledge to tackle this project. Remember, it's totally open book, so take your time, do a little research, and remember:\n",
    "\n",
    "## HAVE FUN!"
   ]
  },
  {
   "cell_type": "markdown",
   "metadata": {},
   "source": [
    "### lOGIC, \n",
    "* Create the dashboard to display this 3*3 board, initial all items as empty \n",
    "* two players could input X or O they want \n",
    "* print out everytime the board is changed \n",
    "* Accept the player position and then place a symbol on the board \n",
    "\n"
   ]
  },
  {
   "cell_type": "markdown",
   "metadata": {},
   "source": [
    "* define the display board \n"
   ]
  },
  {
   "cell_type": "code",
   "execution_count": 60,
   "metadata": {},
   "outputs": [
    {
     "name": "stdout",
     "output_type": "stream",
     "text": [
      "1 | 1 | 1\n",
      "1 | 1 | 1\n",
      "1 | 1 | 1\n"
     ]
    }
   ],
   "source": [
    "from IPython.display import clear_output\n",
    "board = ['1','2','3', '4','5','6','7','8','9'] # initialize the board\n",
    "board= ['1']*9\n",
    "def display_board(board):\n",
    "    #clear_output()\n",
    "    print(board[0]+ ' | ' +board[1]+' | '+ board[2]) \n",
    "   \n",
    "    print (board[3]+ ' | ' +board[4]+' | '+ board[5])\n",
    "   \n",
    "    print (board[6]+ ' | ' +board[7]+' | '+ board[8])\n",
    "display_board(board)"
   ]
  },
  {
   "cell_type": "code",
   "execution_count": 26,
   "metadata": {},
   "outputs": [
    {
     "name": "stdout",
     "output_type": "stream",
     "text": [
      "1 | 2 | 3\n",
      "4 | 5 | 6\n",
      "7 | 8 | 9\n"
     ]
    }
   ],
   "source": [
    "board1=['1','2','3', '4','5','6','7','8','9'] \n",
    "display_board(board1)"
   ]
  },
  {
   "cell_type": "code",
   "execution_count": 11,
   "metadata": {},
   "outputs": [],
   "source": [
    "def print_big(letter):\n",
    "    pattens={1:'  *  ',2:' * * ',3:'*   *',4:'*****'}\n",
    "    Alphabelt={'A':[1,2,4,3,3],'B':[1,2,2,3,4]}\n",
    "    for patten in Alphabelt[letter.upper()]:\n",
    "        print(pattens[patten])\n",
    "        "
   ]
  },
  {
   "cell_type": "code",
   "execution_count": 38,
   "metadata": {},
   "outputs": [],
   "source": [
    "# choose the marker 'X' or 'O' from player 1 and player 2 \n",
    "def marker_choice():\n",
    "    \n",
    "    player1_marker = ''\n",
    "    \n",
    "    # the first player1 \n",
    "    while player1_marker != 'X' and player1_marker != 'O':\n",
    "         player1_marker = input('Please give X or O: ')\n",
    "        \n",
    "    \n",
    "    # second player \n",
    "    if  player1_marker == 'X':\n",
    "        player2_marker = 'O'\n",
    "    else:\n",
    "        player2_marker='X'\n",
    "    return ( player1_marker, player2_marker)# packed it as tuple     \n",
    "       "
   ]
  },
  {
   "cell_type": "code",
   "execution_count": 48,
   "metadata": {},
   "outputs": [
    {
     "name": "stdout",
     "output_type": "stream",
     "text": [
      "Please give X or O: X\n"
     ]
    },
    {
     "data": {
      "text/plain": [
       "'O'"
      ]
     },
     "execution_count": 48,
     "metadata": {},
     "output_type": "execute_result"
    }
   ],
   "source": [
    "marker_choice()\n",
    "player2_marker"
   ]
  },
  {
   "cell_type": "code",
   "execution_count": 49,
   "metadata": {},
   "outputs": [
    {
     "data": {
      "text/plain": [
       "'O'"
      ]
     },
     "execution_count": 49,
     "metadata": {},
     "output_type": "execute_result"
    }
   ],
   "source": [
    "player2_marker"
   ]
  },
  {
   "cell_type": "code",
   "execution_count": 50,
   "metadata": {},
   "outputs": [
    {
     "data": {
      "text/plain": [
       "'X'"
      ]
     },
     "execution_count": 50,
     "metadata": {},
     "output_type": "execute_result"
    }
   ],
   "source": [
    "player1_marker"
   ]
  },
  {
   "cell_type": "markdown",
   "metadata": {},
   "source": [
    "* position_choice"
   ]
  },
  {
   "cell_type": "code",
   "execution_count": 39,
   "metadata": {},
   "outputs": [],
   "source": [
    "# place the marker on the board position \n",
    "def position_choice():\n",
    "    \n",
    "    \n",
    "    choice = 'wrong'\n",
    "    \n",
    "    within_range =  False\n",
    "    \n",
    "    # The choose position\n",
    "    while choice.isdigit() == False or within_range == False:\n",
    "        \n",
    "        choice = input ('Please the  player gives the correct position: must be digital and in range (0-9):')\n",
    "        \n",
    "    # check digital \n",
    "        if choice.isdigit() == False:\n",
    "            \n",
    "            print('please try again, the one is not digital one')\n",
    "        \n",
    "        if choice.isdigit() == True:\n",
    "            \n",
    "            if int(choice) in range(0,9):\n",
    "                within_range = True\n",
    "            else:\n",
    "                within_range=False\n",
    "                \n",
    "                \n",
    "    return int(choice)\n",
    "    \n",
    "        \n",
    "    "
   ]
  },
  {
   "cell_type": "code",
   "execution_count": 32,
   "metadata": {},
   "outputs": [
    {
     "name": "stdout",
     "output_type": "stream",
     "text": [
      "Please the  player gives the correct position: must be digital and in range (0-9):11\n",
      "Please the  player gives the correct position: must be digital and in range (0-9):8\n"
     ]
    },
    {
     "data": {
      "text/plain": [
       "8"
      ]
     },
     "execution_count": 32,
     "metadata": {},
     "output_type": "execute_result"
    }
   ],
   "source": [
    "position_choice()"
   ]
  },
  {
   "cell_type": "code",
   "execution_count": 1,
   "metadata": {},
   "outputs": [
    {
     "data": {
      "text/plain": [
       "True"
      ]
     },
     "execution_count": 1,
     "metadata": {},
     "output_type": "execute_result"
    }
   ],
   "source": [
    "'1'.isdigit()"
   ]
  },
  {
   "cell_type": "code",
   "execution_count": 2,
   "metadata": {},
   "outputs": [
    {
     "data": {
      "text/plain": [
       "1"
      ]
     },
     "execution_count": 2,
     "metadata": {},
     "output_type": "execute_result"
    }
   ],
   "source": [
    "int('1')"
   ]
  },
  {
   "cell_type": "markdown",
   "metadata": {},
   "source": [
    "* replacement"
   ]
  },
  {
   "cell_type": "code",
   "execution_count": 40,
   "metadata": {},
   "outputs": [],
   "source": [
    "\n",
    "def place_value(board, position,marker):\n",
    "    \n",
    "        # place the marker in chosen position of the board \n",
    "    board [position] = marker\n",
    "    \n",
    "    \n",
    "    return board\n",
    "    \n",
    "    "
   ]
  },
  {
   "cell_type": "markdown",
   "metadata": {},
   "source": [
    "* **check if the game is won,tied, lost, or ongoing.**"
   ]
  },
  {
   "cell_type": "code",
   "execution_count": 52,
   "metadata": {},
   "outputs": [
    {
     "name": "stdout",
     "output_type": "stream",
     "text": [
      "2\n"
     ]
    }
   ],
   "source": [
    "board = ['X','X','o',' ',' ',' ',' ',' ',' ']\n",
    "if True in [board[0]==board[1]==board[2]=='X',\n",
    "                   board[3]==board[4]==board[5]=='X',\n",
    "                   board[6]==board[7]==board[8]=='X']:\n",
    "    print(1)\n",
    "else:\n",
    "    print(2)\n",
    "    "
   ]
  },
  {
   "cell_type": "code",
   "execution_count": 53,
   "metadata": {},
   "outputs": [],
   "source": [
    "# check who win the game or the game is tied\n",
    "def check_winer(player1,player2, game_status):\n",
    "    \n",
    "    game_status = 'Continue'\n",
    "    while game_status == 'Continue':\n",
    "    \n",
    "        if True in [board[0]==board[1]==board[2]=='X',\n",
    "                   board[3]==board[4]==board[5]=='X',\n",
    "                   board[6]==board[7]==board[8]=='X']:\n",
    "            if player1 == 'X': \n",
    "                \n",
    "                print('The winer is the first player ')\n",
    "                \n",
    "                game_status = 'Player1 win'\n",
    "\n",
    "\n",
    "            else:\n",
    "                print ('the winer is the second player')\n",
    "                game_status = 'Player2 win'\n",
    "        \n",
    "        elif True in [board[0]==board[1]==board[2]=='O',\n",
    "                      board[3]==board[4]==board[5]=='O',\n",
    "                      board[6]==board[7]==board[8]=='O']:\n",
    "            if player1 == 'O':\n",
    "                \n",
    "                print('The winer is the first player ')\n",
    "                game_status = 'Player1 win'\n",
    "\n",
    "            else:\n",
    "                print ('the winer is the second player')\n",
    "                game_status = 'Player2 win'\n",
    "        elif True not in [board[0]==board[1]==board[2]=='X',\n",
    "                   board[3]==board[4]==board[5]=='X',\n",
    "                   board[6]==board[7]==board[8]=='X'] and True not in [board[0]==board[1]==board[2]=='O',\n",
    "                   board[3]==board[4]==board[5]=='O',\n",
    "                   board[6]==board[7]==board[8]=='O'] and ' ' not in board:\n",
    "            print('The board is tied')\n",
    "            game_status = 'The game is tied'\n",
    "        else:\n",
    "            \n",
    "            game_status = 'Continue'\n",
    "            print('The game is continuing')\n",
    "            \n",
    "    return game_status"
   ]
  },
  {
   "cell_type": "code",
   "execution_count": 42,
   "metadata": {},
   "outputs": [],
   "source": [
    "# play again or not \n",
    "def gamechoice_on(): # return game on or not \n",
    "    \n",
    "    gamechoice_on = 'wrong'\n",
    "    \n",
    "    while gamechoice_on not in ['y','n']:\n",
    "        gamechoice_on= input('do you want to continue?')\n",
    "        \n",
    "        if gamechoice_on not in ['y','n']:\n",
    "            \n",
    "            gamechoice_on = input('please give me the answer y or n:')\n",
    "    if gamechoice_on == 'y':\n",
    "        return True\n",
    "    else:\n",
    "        return False"
   ]
  },
  {
   "cell_type": "code",
   "execution_count": null,
   "metadata": {},
   "outputs": [],
   "source": []
  },
  {
   "cell_type": "code",
   "execution_count": 54,
   "metadata": {},
   "outputs": [
    {
     "name": "stdout",
     "output_type": "stream",
     "text": [
      "  |   |  \n",
      "  |   |  \n",
      "  |   |  \n",
      "Please give X or O: X\n",
      "Please the  player gives the correct position: must be digital and in range (0-9):0\n",
      "X |   |  \n",
      "  |   |  \n",
      "  |   |  \n"
     ]
    },
    {
     "ename": "NameError",
     "evalue": "name 'game_status' is not defined",
     "output_type": "error",
     "traceback": [
      "\u001b[1;31m---------------------------------------------------------------------------\u001b[0m",
      "\u001b[1;31mNameError\u001b[0m                                 Traceback (most recent call last)",
      "\u001b[1;32m<ipython-input-54-f6a4bf5e9dca>\u001b[0m in \u001b[0;36m<module>\u001b[1;34m\u001b[0m\n\u001b[0;32m     18\u001b[0m \u001b[1;33m\u001b[0m\u001b[0m\n\u001b[0;32m     19\u001b[0m     \u001b[1;31m# check the game status\u001b[0m\u001b[1;33m\u001b[0m\u001b[1;33m\u001b[0m\u001b[1;33m\u001b[0m\u001b[0m\n\u001b[1;32m---> 20\u001b[1;33m     \u001b[0mgame_status\u001b[0m \u001b[1;33m=\u001b[0m \u001b[0mcheck_winer\u001b[0m\u001b[1;33m(\u001b[0m\u001b[0mplayer1_marker\u001b[0m\u001b[1;33m,\u001b[0m\u001b[0mplayer2_marker\u001b[0m\u001b[1;33m,\u001b[0m \u001b[0mgame_status\u001b[0m\u001b[1;33m)\u001b[0m\u001b[1;33m\u001b[0m\u001b[1;33m\u001b[0m\u001b[0m\n\u001b[0m\u001b[0;32m     21\u001b[0m     \u001b[1;32mif\u001b[0m \u001b[0mgame_status\u001b[0m \u001b[1;33m!=\u001b[0m \u001b[1;34m'Continue'\u001b[0m\u001b[1;33m:\u001b[0m\u001b[1;33m\u001b[0m\u001b[1;33m\u001b[0m\u001b[0m\n\u001b[0;32m     22\u001b[0m         \u001b[0mprint\u001b[0m\u001b[1;33m(\u001b[0m\u001b[0mgame_status\u001b[0m\u001b[1;33m)\u001b[0m\u001b[1;33m\u001b[0m\u001b[1;33m\u001b[0m\u001b[0m\n",
      "\u001b[1;31mNameError\u001b[0m: name 'game_status' is not defined"
     ]
    }
   ],
   "source": [
    "game_on=True\n",
    "\n",
    "board = [' ']*9 # initialize the board as empty board \n",
    "while game_on:\n",
    "    \n",
    "    # display board\n",
    "    display_board(board)\n",
    "    \n",
    "    # marker choice \n",
    "    player1_marker, player2_marker = marker_choice() # unpack tuple \n",
    "    \n",
    "    # position choice firstplayer and place \n",
    "    position1 = position_choice()\n",
    "    place_value(board, position1,player1_marker)\n",
    "    \n",
    "     # display\n",
    "    display_board(board)\n",
    "    \n",
    "    # check the game status \n",
    "    game_status = check_winer(player1_marker,player2_marker, game_status)\n",
    "    if game_status != 'Continue':\n",
    "        print(game_status)\n",
    "        game_on= gamechoice_on()\n",
    "    else:\n",
    "        pass\n",
    "    \n",
    "    # Second player places his marker \n",
    "    position2 = position_choice()\n",
    "    \n",
    "    # check the place cannot be the same \n",
    "    while position2 == choice1:\n",
    "        print('YOU cannot choose the same place, this place has been taken by the first player')\n",
    "        position2 = position_choice()\n",
    "    \n",
    "    # place second marker\n",
    "    place_value(board, position2,player2_marker)\n",
    "        \n",
    "    # display\n",
    "    display_board(board)\n",
    "    \n",
    "   # check the game status \n",
    "    game_status = check_winer(player1_marker,player2_marker, game_status)\n",
    "    if game_status != 'Continue':\n",
    "        print(game_status)\n",
    "        game_on= gamechoice_on()\n",
    "    else:\n",
    "        pass"
   ]
  },
  {
   "cell_type": "code",
   "execution_count": 12,
   "metadata": {},
   "outputs": [
    {
     "data": {
      "text/plain": [
       "0.6297188606422838"
      ]
     },
     "execution_count": 12,
     "metadata": {},
     "output_type": "execute_result"
    }
   ],
   "source": [
    "import random\n",
    "x = random.random()\n",
    "x"
   ]
  },
  {
   "cell_type": "code",
   "execution_count": 55,
   "metadata": {},
   "outputs": [
    {
     "name": "stdout",
     "output_type": "stream",
     "text": [
      "X\n"
     ]
    },
    {
     "data": {
      "text/plain": [
       "str"
      ]
     },
     "execution_count": 55,
     "metadata": {},
     "output_type": "execute_result"
    }
   ],
   "source": [
    "from random import *\n",
    "\n",
    "items = ['X','O']\n",
    "\n",
    "x = sample(items,  1)   # Pick a random item from the list\n",
    "print(x[0])\n",
    "type(x[0])"
   ]
  },
  {
   "cell_type": "markdown",
   "metadata": {},
   "source": [
    "**************************************************************************************************************************"
   ]
  },
  {
   "cell_type": "markdown",
   "metadata": {},
   "source": [
    "### TIC TAC GAME"
   ]
  },
  {
   "cell_type": "markdown",
   "metadata": {},
   "source": [
    "* **The game steps and key points are:** \n",
    "    * initial the game, decides who takes  X and who takes O. flip coin method or random method; random to decides which one \n",
    "      goes first; initial the board\n",
    "    * are you ready to start the game after initilization \n",
    "    * check if it is player 1's turn or player2's turn\n",
    "      * display board;\n",
    "      * choose position and place the marker in position \n",
    "      * check if this marker wins or it is tied game, brake the game_on loop and ask if replay or not. otherwise go to second\n",
    "        players turn\n",
    "    * finally check if replay or not "
   ]
  },
  {
   "cell_type": "code",
   "execution_count": 1,
   "metadata": {},
   "outputs": [
    {
     "name": "stdout",
     "output_type": "stream",
     "text": [
      "  |   |  \n",
      "----------\n",
      "  |   |  \n",
      "----------\n",
      "  |   |  \n"
     ]
    }
   ],
   "source": [
    "board= [' ']*9\n",
    "def display_board(board):\n",
    "  \n",
    "    print(board[0]+ ' | ' +board[1]+' | '+ board[2]) \n",
    "    print('----------')\n",
    "   \n",
    "    print (board[3]+ ' | ' +board[4]+' | '+ board[5])\n",
    "    print('----------')\n",
    "   \n",
    "    print (board[6]+ ' | ' +board[7]+' | '+ board[8])\n",
    "display_board(board)"
   ]
  },
  {
   "cell_type": "code",
   "execution_count": 3,
   "metadata": {},
   "outputs": [
    {
     "name": "stdout",
     "output_type": "stream",
     "text": [
      "  |   |  \n",
      "----------\n",
      "  |   |  \n",
      "----------\n",
      "  |   |  \n",
      "  |   |  \n",
      "----------\n",
      "  |   |  \n",
      "----------\n",
      "  |   |  \n"
     ]
    }
   ],
   "source": [
    "display_board(board)\n",
    "display_board(board)"
   ]
  },
  {
   "cell_type": "markdown",
   "metadata": {},
   "source": [
    "#### **IF you do not want see a long list of the board display but just the current version of the board \n",
    " * Then just use the clear out in the display_board function. it will clear the previvous board and then show the board that printed out below "
   ]
  },
  {
   "cell_type": "code",
   "execution_count": 5,
   "metadata": {},
   "outputs": [],
   "source": [
    "from IPython.display import clear_output\n",
    "board= [' ']*9\n",
    "def display_board(board):\n",
    "    clear_output()\n",
    "    # clear out here in jyputer note book is from Ipython display. for different tools it is different like in pycharm \n",
    "    #or shell command\n",
    "    print(board[0]+ ' | ' +board[1]+' | '+ board[2]) \n",
    "    print('----------')\n",
    "   \n",
    "    print (board[3]+ ' | ' +board[4]+' | '+ board[5])\n",
    "    print('----------')\n",
    "   \n",
    "    print (board[6]+ ' | ' +board[7]+' | '+ board[8])"
   ]
  },
  {
   "cell_type": "code",
   "execution_count": 6,
   "metadata": {},
   "outputs": [
    {
     "name": "stdout",
     "output_type": "stream",
     "text": [
      "  |   |  \n",
      "----------\n",
      "  |   |  \n",
      "----------\n",
      "  |   |  \n"
     ]
    }
   ],
   "source": [
    "display_board(board)\n",
    "display_board(board)"
   ]
  },
  {
   "cell_type": "code",
   "execution_count": 2,
   "metadata": {},
   "outputs": [],
   "source": [
    "# player_marker random assinged everytime you restart the game the marker picking is random \n",
    "from random import *\n",
    "\n",
    "def player_marker():\n",
    "    \n",
    "\n",
    "    markers = ['X','O']\n",
    "    \n",
    "    # first player \n",
    "    player1_marker = sample(markers, 1)[0]\n",
    "    \n",
    "    # second player \n",
    "    if  player1_marker == 'X':\n",
    "        player2_marker = 'O'\n",
    "    else:\n",
    "        player2_marker='X'\n",
    "    return ( player1_marker, player2_marker)# packed it as tuple  \n",
    "    \n",
    "    "
   ]
  },
  {
   "cell_type": "code",
   "execution_count": 3,
   "metadata": {},
   "outputs": [],
   "source": [
    "player1_marker, player2_marker = player_marker()"
   ]
  },
  {
   "cell_type": "code",
   "execution_count": 5,
   "metadata": {},
   "outputs": [
    {
     "data": {
      "text/plain": [
       "'O'"
      ]
     },
     "execution_count": 5,
     "metadata": {},
     "output_type": "execute_result"
    }
   ],
   "source": [
    "player1_marker\n",
    "player2_marker"
   ]
  },
  {
   "cell_type": "code",
   "execution_count": 7,
   "metadata": {},
   "outputs": [
    {
     "data": {
      "text/plain": [
       "str"
      ]
     },
     "execution_count": 7,
     "metadata": {},
     "output_type": "execute_result"
    }
   ],
   "source": [
    "player_marker()\n",
    "type(player1_marker)"
   ]
  },
  {
   "cell_type": "markdown",
   "metadata": {},
   "source": [
    "Step 5: Write a function that uses the random module to * randomly decide which player goes first. You may want to lookup random.randint() Return a string of which player went first."
   ]
  },
  {
   "cell_type": "code",
   "execution_count": 20,
   "metadata": {},
   "outputs": [
    {
     "data": {
      "text/plain": [
       "1"
      ]
     },
     "execution_count": 20,
     "metadata": {},
     "output_type": "execute_result"
    }
   ],
   "source": [
    "import random\n",
    "x=random.randint(0, 1) # pick 0 or 1 randomly like coin flip \n",
    "x"
   ]
  },
  {
   "cell_type": "code",
   "execution_count": 21,
   "metadata": {},
   "outputs": [],
   "source": [
    "def whos_turn():\n",
    "    if random.randint(0, 1)== 0:\n",
    "        return 'The player2 turn'  \n",
    "    else:\n",
    "        return 'The player1 turn'  "
   ]
  },
  {
   "cell_type": "code",
   "execution_count": 5,
   "metadata": {},
   "outputs": [
    {
     "name": "stdout",
     "output_type": "stream",
     "text": [
      "Are you ready y or n:y\n"
     ]
    },
    {
     "data": {
      "text/plain": [
       "True"
      ]
     },
     "execution_count": 5,
     "metadata": {},
     "output_type": "execute_result"
    }
   ],
   "source": [
    "game_ready=input('Are you ready y or n:')\n",
    "game_ready.lower()=='y'"
   ]
  },
  {
   "cell_type": "code",
   "execution_count": 6,
   "metadata": {},
   "outputs": [],
   "source": [
    "def place_marker(board, position, marker):\n",
    "    \n",
    "    board [position] = marker\n",
    "    "
   ]
  },
  {
   "cell_type": "code",
   "execution_count": 7,
   "metadata": {},
   "outputs": [
    {
     "data": {
      "text/plain": [
       "[' ', 'D', ' ', ' ', ' ', ' ', ' ', ' ', ' ']"
      ]
     },
     "execution_count": 7,
     "metadata": {},
     "output_type": "execute_result"
    }
   ],
   "source": [
    "place_marker(board, 1, 'D')\n",
    "board"
   ]
  },
  {
   "cell_type": "code",
   "execution_count": 8,
   "metadata": {},
   "outputs": [],
   "source": [
    "def player_choice(board):\n",
    "    \n",
    "    choice = 0\n",
    "    \n",
    "    # the position is not in the list or the places still has empty \n",
    "    if choice not in [1,2,3,4,5,6,7,8,9] or ' ' in board:\n",
    "        position = input('Choose your next position: (1-9) ')\n",
    "        if position.isdigit() == False:\n",
    "            position = input(' You may give a wrong input, Please Choose your next position: (1-9) ')\n",
    "    return int(position) # int \n",
    "        "
   ]
  },
  {
   "cell_type": "code",
   "execution_count": 9,
   "metadata": {},
   "outputs": [
    {
     "name": "stdout",
     "output_type": "stream",
     "text": [
      "Choose your next position: (1-9) 3\n"
     ]
    },
    {
     "data": {
      "text/plain": [
       "3"
      ]
     },
     "execution_count": 9,
     "metadata": {},
     "output_type": "execute_result"
    }
   ],
   "source": [
    "player_choice(board)"
   ]
  },
  {
   "cell_type": "code",
   "execution_count": 10,
   "metadata": {},
   "outputs": [],
   "source": [
    "def win_check(board,mark):\n",
    "\n",
    "    \n",
    "     return ((board[6] == mark and board[7] == mark and board[8] == mark) or # across the top\n",
    "    (board[3] == mark and board[4] == mark and board[5] == mark) or # across the middle\n",
    "    (board[0] == mark and board[1] == mark and board[2] == mark) or # across the bottom\n",
    "    (board[2] == mark and board[4] == mark and board[6] == mark) or # down the middle\n",
    "    (board[8] == mark and board[4] == mark and board[0] == mark) or # down the middle\n",
    "    (board[0] == mark and board[6] == mark and board[3] == mark) or # down the right side\n",
    "    (board[1] == mark and board[4] == mark and board[7] == mark) or # diagonal\n",
    "    (board[2] == mark and board[5] == mark and board[8] == mark)) # diagonal\n",
    "    \n",
    "    # return true or false\n",
    "    "
   ]
  },
  {
   "cell_type": "code",
   "execution_count": 11,
   "metadata": {},
   "outputs": [],
   "source": [
    "def full_check(board):\n",
    "    \n",
    "    return ' ' in board"
   ]
  },
  {
   "cell_type": "code",
   "execution_count": 12,
   "metadata": {},
   "outputs": [],
   "source": [
    "board = board = ['0','1','2','3','4','5','6','7','8']"
   ]
  },
  {
   "cell_type": "code",
   "execution_count": 13,
   "metadata": {},
   "outputs": [
    {
     "name": "stdout",
     "output_type": "stream",
     "text": [
      "0 | 1 | 2\n",
      "----------\n",
      "3 | 4 | 5\n",
      "----------\n",
      "6 | 7 | 8\n"
     ]
    }
   ],
   "source": [
    "board\n",
    "display_board(board)"
   ]
  },
  {
   "cell_type": "code",
   "execution_count": 14,
   "metadata": {},
   "outputs": [
    {
     "data": {
      "text/plain": [
       "False"
      ]
     },
     "execution_count": 14,
     "metadata": {},
     "output_type": "execute_result"
    }
   ],
   "source": [
    "full_check(board)"
   ]
  },
  {
   "cell_type": "code",
   "execution_count": 15,
   "metadata": {},
   "outputs": [],
   "source": [
    "def replay():\n",
    "    \n",
    "    request= input('Do you want to replay the game? Y or N :')\n",
    "    if request.lower() == 'y':\n",
    "        return True \n",
    "    else:\n",
    "        return False\n",
    "    "
   ]
  },
  {
   "cell_type": "code",
   "execution_count": 22,
   "metadata": {},
   "outputs": [
    {
     "name": "stdout",
     "output_type": "stream",
     "text": [
      "Player 1 takes X,player2 takesO\n",
      "The player1 turn\n",
      "Are you ready y or n:y\n",
      "The player1 turn\n",
      "  |   |  \n",
      "----------\n",
      "  |   |  \n",
      "----------\n",
      "  |   |  \n",
      "Choose your next position: (1-9) 2\n",
      "The player2 turn\n",
      "  |   | X\n",
      "----------\n",
      "  |   |  \n",
      "----------\n",
      "  |   |  \n",
      "Choose your next position: (1-9) 1\n",
      "The player1 turn\n",
      "  | O | X\n",
      "----------\n",
      "  |   |  \n",
      "----------\n",
      "  |   |  \n",
      "Choose your next position: (1-9) 0\n",
      "The player2 turn\n",
      "X | O | X\n",
      "----------\n",
      "  |   |  \n",
      "----------\n",
      "  |   |  \n",
      "Choose your next position: (1-9) 4\n",
      "The player1 turn\n",
      "X | O | X\n",
      "----------\n",
      "  | O |  \n",
      "----------\n",
      "  |   |  \n",
      "Choose your next position: (1-9) 7\n",
      "The player2 turn\n",
      "X | O | X\n",
      "----------\n",
      "  | O |  \n",
      "----------\n",
      "  | X |  \n",
      "Choose your next position: (1-9) 5\n",
      "The player1 turn\n",
      "X | O | X\n",
      "----------\n",
      "  | O | O\n",
      "----------\n",
      "  | X |  \n",
      "Choose your next position: (1-9) 3\n",
      "The player2 turn\n",
      "X | O | X\n",
      "----------\n",
      "X | O | O\n",
      "----------\n",
      "  | X |  \n",
      "Choose your next position: (1-9) 6\n",
      "The player1 turn\n",
      "X | O | X\n",
      "----------\n",
      "X | O | O\n",
      "----------\n",
      "O | X |  \n",
      "Choose your next position: (1-9) 8\n",
      "X | O | X\n",
      "----------\n",
      "X | O | O\n",
      "----------\n",
      "O | X | X\n",
      "tied game\n",
      "Do you want to replay the game? Y or N :n\n"
     ]
    }
   ],
   "source": [
    "from IPython.display import clear_output\n",
    "\n",
    "# tic tac game \n",
    "while True:\n",
    "    ## game prepare initialize \n",
    "    board = [' ']*9\n",
    "    player1_marker, player2_marker = player_marker() # unpack the tuple\n",
    "    print(f'Player 1 takes {player1_marker},player2 takes{player2_marker}')\n",
    "    turn = whos_turn() # random choose who goes first\n",
    "    print(turn)\n",
    "    \n",
    "    ## are you ready to start?\n",
    "    game_ready=input('Are you ready y or n:')\n",
    "    if game_ready.lower() == 'y':\n",
    "        game_on = True\n",
    "    else:\n",
    "        game_on=False\n",
    "    \n",
    "    ## game on \n",
    "    while game_on:\n",
    "        \n",
    "        print(turn)\n",
    "        \n",
    "        # turn 1\n",
    "        if turn == 'The player1 turn'  :\n",
    "            # display borad\n",
    "            display_board(board)\n",
    "            # pick position and place marker in position \n",
    "            position = player_choice(board)\n",
    "            place_marker(board, position, player1_marker)\n",
    "            #display_board(board)\n",
    "            # check if the marker wins \n",
    "            if win_check(board,player1_marker):\n",
    "                display_board(board)\n",
    "                print(f'Congrats! {turn} win')\n",
    "                game_on = False # quit the game loop \n",
    "            else:\n",
    "                # check if it is full board \n",
    "                if ' ' not in board:\n",
    "                    display_board(board)\n",
    "                    print('tied game')\n",
    "                    game_on = False\n",
    "                else:\n",
    "                    turn = 'The player2 turn'  \n",
    "                    \n",
    "                    \n",
    "        # Turn 2 \n",
    "        # Player2's turn.\n",
    "        else:\n",
    "            \n",
    "            # display borad\n",
    "            display_board(board)\n",
    "            # pick position and place marker in position \n",
    "            position = player_choice(board)\n",
    "            place_marker(board, position, player2_marker)\n",
    "            #display_board(board)\n",
    "            # check if the marker wins \n",
    "            if win_check(board,player2_marker):\n",
    "                display_board(board)\n",
    "                print(f'Congrats! {turn} win')\n",
    "                game_on = False # quit the game loop \n",
    "            else:\n",
    "                # check if it is full board \n",
    "                if ' ' not in board:\n",
    "                    display_board(board)\n",
    "                    print('tied game')\n",
    "                    game_on = False\n",
    "                else:\n",
    "                    turn = 'The player1 turn'        \n",
    "    \n",
    "    if not replay():\n",
    "        break \n",
    "## break the tic tac game "
   ]
  },
  {
   "cell_type": "code",
   "execution_count": null,
   "metadata": {},
   "outputs": [],
   "source": []
  }
 ],
 "metadata": {
  "kernelspec": {
   "display_name": "Python 3",
   "language": "python",
   "name": "python3"
  },
  "language_info": {
   "codemirror_mode": {
    "name": "ipython",
    "version": 3
   },
   "file_extension": ".py",
   "mimetype": "text/x-python",
   "name": "python",
   "nbconvert_exporter": "python",
   "pygments_lexer": "ipython3",
   "version": "3.8.5"
  }
 },
 "nbformat": 4,
 "nbformat_minor": 1
}
