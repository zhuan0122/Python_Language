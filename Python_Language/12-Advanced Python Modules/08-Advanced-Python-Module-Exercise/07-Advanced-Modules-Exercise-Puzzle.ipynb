{
 "cells": [
  {
   "cell_type": "markdown",
   "metadata": {},
   "source": [
    "___\n",
    "\n",
    "<a href='https://www.udemy.com/user/joseportilla/'><img src='../../Pierian_Data_Logo.png'/></a>\n",
    "___\n",
    "<center><em>Content Copyright by Pierian Data</em></center>"
   ]
  },
  {
   "cell_type": "markdown",
   "metadata": {},
   "source": [
    "# Advanced Modules Exercise Puzzle\n",
    "\n",
    "It's time to test your new skills, this puzzle project will combine multiple skills sets, including unzipping files with Python, using os module to automatically search through lots of files.\n",
    "\n",
    "## Your Goal\n",
    "\n",
    "This is a puzzle, so we don't want to give you too much guidance and instead have you figure out things on your own.\n",
    "\n",
    "There is a .zip file called 'unzip_me_for_instructions.zip', unzip it, open the .txt file with Python, read the instructions and see if you can figure out what you need to do!\n",
    "\n",
    "**If you get stuck or don't know where to start, here is a [guide/hints](https://docs.google.com/document/d/1JxydUr4n4fSR0EwwuwT-aHia-yPK6r-oTBuVT2sqheo/edit?usp=sharing)**"
   ]
  },
  {
   "cell_type": "code",
   "execution_count": 3,
   "metadata": {},
   "outputs": [],
   "source": [
    "# unzip the zip file\n",
    "# cannot have any code even the comment above pwd"
   ]
  },
  {
   "cell_type": "code",
   "execution_count": 2,
   "metadata": {},
   "outputs": [
    {
     "data": {
      "text/plain": [
       "'C:\\\\Users\\\\zhuan\\\\BootCamp_Python\\\\12-Advanced Python Modules\\\\08-Advanced-Python-Module-Exercise'"
      ]
     },
     "execution_count": 2,
     "metadata": {},
     "output_type": "execute_result"
    }
   ],
   "source": [
    "pwd"
   ]
  },
  {
   "cell_type": "code",
   "execution_count": 6,
   "metadata": {},
   "outputs": [],
   "source": [
    "import shutil"
   ]
  },
  {
   "cell_type": "code",
   "execution_count": 52,
   "metadata": {},
   "outputs": [],
   "source": [
    "shutil.unpack_archive('unzip_me_for_instructions.zip','','zip')\n"
   ]
  },
  {
   "cell_type": "code",
   "execution_count": 3,
   "metadata": {},
   "outputs": [],
   "source": [
    "import os\n",
    "os.getcwd()\n",
    "import re"
   ]
  },
  {
   "cell_type": "code",
   "execution_count": 60,
   "metadata": {},
   "outputs": [
    {
     "name": "stdout",
     "output_type": "stream",
     "text": [
      "current looking at folder: unzip\n",
      "\n",
      "\n",
      "The subfolers inside the current foler unzip: \n",
      "\tfolders: extracted_content\n",
      "\n",
      "\n",
      "the file inside the current unzip: \n",
      "\n",
      "\n",
      "current looking at folder: unzip\\extracted_content\n",
      "\n",
      "\n",
      "The subfolers inside the current foler unzip\\extracted_content: \n",
      "\tfolders: Five\n",
      "\tfolders: Four\n",
      "\tfolders: One\n",
      "\tfolders: Three\n",
      "\tfolders: Two\n",
      "\n",
      "\n",
      "the file inside the current unzip\\extracted_content: \n"
     ]
    },
    {
     "ename": "FileNotFoundError",
     "evalue": "[Errno 2] No such file or directory: \"unzip\\\\extracted_content/['Five', 'Four', 'One', 'Three', 'Two']/Instructions.txt\"",
     "output_type": "error",
     "traceback": [
      "\u001b[1;31m---------------------------------------------------------------------------\u001b[0m",
      "\u001b[1;31mFileNotFoundError\u001b[0m                         Traceback (most recent call last)",
      "\u001b[1;32m<ipython-input-60-ae963cee6a7c>\u001b[0m in \u001b[0;36m<module>\u001b[1;34m\u001b[0m\n\u001b[0;32m     11\u001b[0m     \u001b[1;32mfor\u001b[0m \u001b[0mf\u001b[0m \u001b[1;32min\u001b[0m \u001b[0mfiles\u001b[0m\u001b[1;33m:\u001b[0m\u001b[1;33m\u001b[0m\u001b[1;33m\u001b[0m\u001b[0m\n\u001b[0;32m     12\u001b[0m         \u001b[1;32mif\u001b[0m \u001b[0mf\u001b[0m\u001b[1;33m==\u001b[0m\u001b[1;34m'Instructions.txt'\u001b[0m\u001b[1;33m:\u001b[0m\u001b[1;33m\u001b[0m\u001b[1;33m\u001b[0m\u001b[0m\n\u001b[1;32m---> 13\u001b[1;33m             \u001b[0mcontent\u001b[0m\u001b[1;33m=\u001b[0m\u001b[0mopen\u001b[0m\u001b[1;33m(\u001b[0m\u001b[1;34mf'{folder}/{subfolders}/{f}'\u001b[0m\u001b[1;33m)\u001b[0m\u001b[1;33m\u001b[0m\u001b[1;33m\u001b[0m\u001b[0m\n\u001b[0m\u001b[0;32m     14\u001b[0m             \u001b[0mprint\u001b[0m\u001b[1;33m(\u001b[0m\u001b[0mcontent\u001b[0m\u001b[1;33m)\u001b[0m\u001b[1;33m\u001b[0m\u001b[1;33m\u001b[0m\u001b[0m\n\u001b[0;32m     15\u001b[0m         \u001b[0mprint\u001b[0m\u001b[1;33m(\u001b[0m\u001b[1;34m'\\tfile: '\u001b[0m\u001b[1;33m+\u001b[0m \u001b[0mf\u001b[0m\u001b[1;33m)\u001b[0m\u001b[1;33m\u001b[0m\u001b[1;33m\u001b[0m\u001b[0m\n",
      "\u001b[1;31mFileNotFoundError\u001b[0m: [Errno 2] No such file or directory: \"unzip\\\\extracted_content/['Five', 'Four', 'One', 'Three', 'Two']/Instructions.txt\""
     ]
    }
   ],
   "source": [
    "# look through files in each directory \n",
    "for folder, subfolders, files in os.walk('unzip'):\n",
    "    print('current looking at folder: '+ folder)\n",
    "    print('\\n')\n",
    "    print(f'The subfolers inside the current foler {folder}: ' )\n",
    "    for subfolder in subfolders:\n",
    "        print('\\tfolders: '+ subfolder)\n",
    "    print('\\n')\n",
    "    \n",
    "    print(f'the file inside the current {folder}: ' )\n",
    "    for f in files:\n",
    "            print(content)\n",
    "        print('\\tfile: '+ f)\n",
    "    print('\\n')\n",
    "    \n",
    "\n",
    "    \n",
    "    "
   ]
  },
  {
   "cell_type": "code",
   "execution_count": 53,
   "metadata": {},
   "outputs": [
    {
     "ename": "FileNotFoundError",
     "evalue": "[Errno 2] No such file or directory: 'Instructions.txt'",
     "output_type": "error",
     "traceback": [
      "\u001b[1;31m---------------------------------------------------------------------------\u001b[0m",
      "\u001b[1;31mFileNotFoundError\u001b[0m                         Traceback (most recent call last)",
      "\u001b[1;32m<ipython-input-53-45e7d54bc60a>\u001b[0m in \u001b[0;36m<module>\u001b[1;34m\u001b[0m\n\u001b[0;32m      1\u001b[0m \u001b[1;31m# Instruction.txt is in subfolder extracted_content\u001b[0m\u001b[1;33m\u001b[0m\u001b[1;33m\u001b[0m\u001b[1;33m\u001b[0m\u001b[0m\n\u001b[1;32m----> 2\u001b[1;33m \u001b[0mcontent\u001b[0m\u001b[1;33m=\u001b[0m \u001b[0mopen\u001b[0m\u001b[1;33m(\u001b[0m\u001b[1;34m'Instructions.txt'\u001b[0m\u001b[1;33m)\u001b[0m\u001b[1;33m\u001b[0m\u001b[1;33m\u001b[0m\u001b[0m\n\u001b[0m\u001b[0;32m      3\u001b[0m \u001b[0mprint\u001b[0m\u001b[1;33m(\u001b[0m\u001b[0mcontent\u001b[0m\u001b[1;33m.\u001b[0m\u001b[0mread\u001b[0m\u001b[1;33m(\u001b[0m\u001b[1;33m)\u001b[0m\u001b[1;33m)\u001b[0m\u001b[1;33m\u001b[0m\u001b[1;33m\u001b[0m\u001b[0m\n",
      "\u001b[1;31mFileNotFoundError\u001b[0m: [Errno 2] No such file or directory: 'Instructions.txt'"
     ]
    }
   ],
   "source": [
    "# Instruction.txt is in subfolder extracted_content\n",
    "content= open('Instructions.txt')\n",
    "print(content.read())"
   ]
  },
  {
   "cell_type": "code",
   "execution_count": null,
   "metadata": {},
   "outputs": [],
   "source": [
    "**\\n needs to be printed with print or return**"
   ]
  },
  {
   "cell_type": "code",
   "execution_count": 103,
   "metadata": {},
   "outputs": [
    {
     "name": "stdout",
     "output_type": "stream",
     "text": [
      "Good work on unzipping the file!\n",
      "You should now see 5 folders, each with a lot of random .txt files.\n",
      "Within one of these text files is a telephone number formated ###-###-#### \n",
      "Use the Python os module and regular expressions to iterate through each file, open it, and search for a telephone number.\n",
      "Good luck!\n"
     ]
    }
   ],
   "source": [
    "with open(os.getcwd()+'/extracted_content/Instructions.txt') as f:\n",
    "    content=f.read()\n",
    "    print(content) # in this way we could print contents with new sentnce"
   ]
  },
  {
   "cell_type": "code",
   "execution_count": 4,
   "metadata": {},
   "outputs": [],
   "source": [
    "def search(file, pattern):\n",
    "    f=open(file,'r') # only for read mode\n",
    "    text=f.read()\n",
    "    #print(text)\n",
    "    if re.search(pattern, text):\n",
    "        return re.search(pattern, text) # object\n",
    "    else:\n",
    "        return ''\n",
    "    \n",
    "    "
   ]
  },
  {
   "cell_type": "code",
   "execution_count": 1,
   "metadata": {},
   "outputs": [],
   "source": [
    "def search2(file, pattern):\n",
    "    f=open(file,'r') # only for read mode\n",
    "    text=f.read()\n",
    "    \n",
    "    if re.findall(pattern, text)!='':\n",
    "        return re.findall(pattern, text) # object\n",
    "    else:\n",
    "        return ''"
   ]
  },
  {
   "cell_type": "code",
   "execution_count": 2,
   "metadata": {},
   "outputs": [
    {
     "ename": "NameError",
     "evalue": "name 'os' is not defined",
     "output_type": "error",
     "traceback": [
      "\u001b[1;31m---------------------------------------------------------------------------\u001b[0m",
      "\u001b[1;31mNameError\u001b[0m                                 Traceback (most recent call last)",
      "\u001b[1;32m<ipython-input-2-a0285fbd0c68>\u001b[0m in \u001b[0;36m<module>\u001b[1;34m\u001b[0m\n\u001b[1;32m----> 1\u001b[1;33m \u001b[0mos\u001b[0m\u001b[1;33m.\u001b[0m\u001b[0mgetcwd\u001b[0m\u001b[1;33m(\u001b[0m\u001b[1;33m)\u001b[0m\u001b[1;33m\u001b[0m\u001b[1;33m\u001b[0m\u001b[0m\n\u001b[0m\u001b[0;32m      2\u001b[0m \u001b[0mos\u001b[0m\u001b[1;33m.\u001b[0m\u001b[0mlistdir\u001b[0m\u001b[1;33m(\u001b[0m\u001b[1;33m)\u001b[0m\u001b[1;33m\u001b[0m\u001b[1;33m\u001b[0m\u001b[0m\n",
      "\u001b[1;31mNameError\u001b[0m: name 'os' is not defined"
     ]
    }
   ],
   "source": [
    "os.getcwd()\n",
    "os.listdir()"
   ]
  },
  {
   "cell_type": "code",
   "execution_count": 5,
   "metadata": {},
   "outputs": [
    {
     "name": "stdout",
     "output_type": "stream",
     "text": [
      "current looking at folder: unzip\n",
      "\n",
      "\n",
      "The subfolers inside the current foler unzip: \n",
      "\tfolders: extracted_content\n",
      "\n",
      "\n",
      "the file inside the current unzip: \n",
      "\n",
      "\n",
      "current looking at folder: unzip\\extracted_content\n",
      "\n",
      "\n",
      "The subfolers inside the current foler unzip\\extracted_content: \n",
      "\tfolders: Five\n",
      "\tfolders: Four\n",
      "\tfolders: One\n",
      "\tfolders: Three\n",
      "\tfolders: Two\n",
      "\n",
      "\n",
      "the file inside the current unzip\\extracted_content: \n",
      "\n",
      "\n",
      "current looking at folder: unzip\\extracted_content\\Five\n",
      "\n",
      "\n",
      "The subfolers inside the current foler unzip\\extracted_content\\Five: \n",
      "\n",
      "\n",
      "the file inside the current unzip\\extracted_content\\Five: \n",
      "\n",
      "\n",
      "current looking at folder: unzip\\extracted_content\\Four\n",
      "\n",
      "\n",
      "The subfolers inside the current foler unzip\\extracted_content\\Four: \n",
      "\n",
      "\n",
      "the file inside the current unzip\\extracted_content\\Four: \n",
      "\t:EMTGPSXQEJX.txt\n",
      "\n",
      "\n",
      "current looking at folder: unzip\\extracted_content\\One\n",
      "\n",
      "\n",
      "The subfolers inside the current foler unzip\\extracted_content\\One: \n",
      "\n",
      "\n",
      "the file inside the current unzip\\extracted_content\\One: \n",
      "\n",
      "\n",
      "current looking at folder: unzip\\extracted_content\\Three\n",
      "\n",
      "\n",
      "The subfolers inside the current foler unzip\\extracted_content\\Three: \n",
      "\n",
      "\n",
      "the file inside the current unzip\\extracted_content\\Three: \n",
      "\n",
      "\n",
      "current looking at folder: unzip\\extracted_content\\Two\n",
      "\n",
      "\n",
      "The subfolers inside the current foler unzip\\extracted_content\\Two: \n",
      "\n",
      "\n",
      "the file inside the current unzip\\extracted_content\\Two: \n",
      "\n",
      "\n"
     ]
    }
   ],
   "source": [
    "# look through files in each directory \n",
    "phone_pattern = r'\\d{3}-\\d{3}-\\d{4}'\n",
    "result1=[]\n",
    "for folder, subfolders, files in os.walk('unzip'):\n",
    "    # look at current folder\n",
    "    print('current looking at folder: '+ folder)\n",
    "    print('\\n')\n",
    "    \n",
    "    # look at subfolder of current folder\n",
    "    print(f'The subfolers inside the current foler {folder}: ' )\n",
    "    for subfolder in subfolders:\n",
    "        print('\\tfolders: '+ subfolder)\n",
    "    print('\\n')\n",
    "    \n",
    "    # look at files of current folder\n",
    "    print(f'the file inside the current {folder}: ' )\n",
    "    for f in files:\n",
    "        full_path = folder+'\\\\'+f\n",
    "        result1.append(search(full_path,phone_pattern))\n",
    "        if search(full_path,phone_pattern) != '':\n",
    "            \n",
    "            print('\\t:' +f)\n",
    "        \n",
    "    print('\\n')\n",
    "    "
   ]
  },
  {
   "cell_type": "code",
   "execution_count": 10,
   "metadata": {},
   "outputs": [
    {
     "name": "stdout",
     "output_type": "stream",
     "text": [
      "current looking at folder: C:\\Users\\zhuan\\BootCamp_Python\\12-Advanced Python Modules\\08-Advanced-Python-Module-Exercise\\extracted_content\n",
      "\n",
      "\n",
      "The subfolers inside the current foler C:\\Users\\zhuan\\BootCamp_Python\\12-Advanced Python Modules\\08-Advanced-Python-Module-Exercise\\extracted_content: \n",
      "\tfolders: Five\n",
      "\tfolders: Four\n",
      "\tfolders: One\n",
      "\tfolders: Three\n",
      "\tfolders: Two\n",
      "\n",
      "\n",
      "the file inside the current C:\\Users\\zhuan\\BootCamp_Python\\12-Advanced Python Modules\\08-Advanced-Python-Module-Exercise\\extracted_content: \n",
      "\n",
      "\n",
      "current looking at folder: C:\\Users\\zhuan\\BootCamp_Python\\12-Advanced Python Modules\\08-Advanced-Python-Module-Exercise\\extracted_content\\Five\n",
      "\n",
      "\n",
      "The subfolers inside the current foler C:\\Users\\zhuan\\BootCamp_Python\\12-Advanced Python Modules\\08-Advanced-Python-Module-Exercise\\extracted_content\\Five: \n",
      "\n",
      "\n",
      "the file inside the current C:\\Users\\zhuan\\BootCamp_Python\\12-Advanced Python Modules\\08-Advanced-Python-Module-Exercise\\extracted_content\\Five: \n",
      "\n",
      "\n",
      "current looking at folder: C:\\Users\\zhuan\\BootCamp_Python\\12-Advanced Python Modules\\08-Advanced-Python-Module-Exercise\\extracted_content\\Four\n",
      "\n",
      "\n",
      "The subfolers inside the current foler C:\\Users\\zhuan\\BootCamp_Python\\12-Advanced Python Modules\\08-Advanced-Python-Module-Exercise\\extracted_content\\Four: \n",
      "\tfolders: .ipynb_checkpoints\n",
      "\n",
      "\n",
      "the file inside the current C:\\Users\\zhuan\\BootCamp_Python\\12-Advanced Python Modules\\08-Advanced-Python-Module-Exercise\\extracted_content\\Four: \n",
      "\t:EMTGPSXQEJX.txt\n",
      "\n",
      "\n",
      "current looking at folder: C:\\Users\\zhuan\\BootCamp_Python\\12-Advanced Python Modules\\08-Advanced-Python-Module-Exercise\\extracted_content\\Four\\.ipynb_checkpoints\n",
      "\n",
      "\n",
      "The subfolers inside the current foler C:\\Users\\zhuan\\BootCamp_Python\\12-Advanced Python Modules\\08-Advanced-Python-Module-Exercise\\extracted_content\\Four\\.ipynb_checkpoints: \n",
      "\n",
      "\n",
      "the file inside the current C:\\Users\\zhuan\\BootCamp_Python\\12-Advanced Python Modules\\08-Advanced-Python-Module-Exercise\\extracted_content\\Four\\.ipynb_checkpoints: \n",
      "\n",
      "\n",
      "current looking at folder: C:\\Users\\zhuan\\BootCamp_Python\\12-Advanced Python Modules\\08-Advanced-Python-Module-Exercise\\extracted_content\\One\n",
      "\n",
      "\n",
      "The subfolers inside the current foler C:\\Users\\zhuan\\BootCamp_Python\\12-Advanced Python Modules\\08-Advanced-Python-Module-Exercise\\extracted_content\\One: \n",
      "\n",
      "\n",
      "the file inside the current C:\\Users\\zhuan\\BootCamp_Python\\12-Advanced Python Modules\\08-Advanced-Python-Module-Exercise\\extracted_content\\One: \n",
      "\n",
      "\n",
      "current looking at folder: C:\\Users\\zhuan\\BootCamp_Python\\12-Advanced Python Modules\\08-Advanced-Python-Module-Exercise\\extracted_content\\Three\n",
      "\n",
      "\n",
      "The subfolers inside the current foler C:\\Users\\zhuan\\BootCamp_Python\\12-Advanced Python Modules\\08-Advanced-Python-Module-Exercise\\extracted_content\\Three: \n",
      "\n",
      "\n",
      "the file inside the current C:\\Users\\zhuan\\BootCamp_Python\\12-Advanced Python Modules\\08-Advanced-Python-Module-Exercise\\extracted_content\\Three: \n",
      "\n",
      "\n",
      "current looking at folder: C:\\Users\\zhuan\\BootCamp_Python\\12-Advanced Python Modules\\08-Advanced-Python-Module-Exercise\\extracted_content\\Two\n",
      "\n",
      "\n",
      "The subfolers inside the current foler C:\\Users\\zhuan\\BootCamp_Python\\12-Advanced Python Modules\\08-Advanced-Python-Module-Exercise\\extracted_content\\Two: \n",
      "\n",
      "\n",
      "the file inside the current C:\\Users\\zhuan\\BootCamp_Python\\12-Advanced Python Modules\\08-Advanced-Python-Module-Exercise\\extracted_content\\Two: \n",
      "\n",
      "\n"
     ]
    }
   ],
   "source": [
    "# look through files in each directory \n",
    "#phone_pattern = r'(\\d{3})-(\\d{3})-(\\d{4})'\n",
    "phone_pattern = r'\\d{3}-\\d{3}-\\d{4}'\n",
    "result=[]\n",
    "for folder, subfolders, files in os.walk(os.getcwd()+\"\\\\extracted_content\"): # since this note is in current path\n",
    "    # look at current folder\n",
    "    print('current looking at folder: '+ folder)\n",
    "    print('\\n')\n",
    "    \n",
    "    # look at subfolder of current folder\n",
    "    print(f'The subfolers inside the current foler {folder}: ' )\n",
    "    for subfolder in subfolders:\n",
    "        print('\\tfolders: '+ subfolder)\n",
    "    print('\\n')\n",
    "    \n",
    "    # look at files of current folder\n",
    "    print(f'the file inside the current {folder}: ' )\n",
    "    for f in files:\n",
    "        full_path = folder+'\\\\'+f\n",
    "        result.append(search2(full_path,phone_pattern)) \n",
    "        if search(full_path,phone_pattern) != '':\n",
    "            \n",
    "            print('\\t:' +f)\n",
    "       \n",
    "    print('\\n')\n",
    "    "
   ]
  },
  {
   "cell_type": "code",
   "execution_count": 141,
   "metadata": {},
   "outputs": [
    {
     "data": {
      "text/plain": [
       "['',\n",
       " '',\n",
       " '',\n",
       " '',\n",
       " '',\n",
       " '',\n",
       " '',\n",
       " '',\n",
       " '',\n",
       " '',\n",
       " '',\n",
       " '',\n",
       " '',\n",
       " '',\n",
       " '',\n",
       " '',\n",
       " '',\n",
       " '',\n",
       " '',\n",
       " '',\n",
       " '',\n",
       " '',\n",
       " '',\n",
       " '',\n",
       " '',\n",
       " '',\n",
       " '',\n",
       " <re.Match object; span=(1062, 1074), match='719-266-2837'>,\n",
       " '',\n",
       " '',\n",
       " '',\n",
       " '',\n",
       " '',\n",
       " '',\n",
       " '',\n",
       " '',\n",
       " '',\n",
       " '',\n",
       " '',\n",
       " '',\n",
       " '',\n",
       " '',\n",
       " '',\n",
       " '',\n",
       " '',\n",
       " '',\n",
       " '',\n",
       " '',\n",
       " '',\n",
       " '',\n",
       " '',\n",
       " '',\n",
       " '',\n",
       " '',\n",
       " '',\n",
       " '',\n",
       " '',\n",
       " '',\n",
       " '',\n",
       " '',\n",
       " '',\n",
       " '',\n",
       " '',\n",
       " '',\n",
       " '',\n",
       " '',\n",
       " '',\n",
       " '',\n",
       " '',\n",
       " '',\n",
       " '',\n",
       " '',\n",
       " '',\n",
       " '',\n",
       " '',\n",
       " '',\n",
       " '',\n",
       " '',\n",
       " '',\n",
       " '',\n",
       " '',\n",
       " '',\n",
       " '',\n",
       " '',\n",
       " '',\n",
       " '',\n",
       " '',\n",
       " '',\n",
       " '',\n",
       " '',\n",
       " '',\n",
       " '',\n",
       " '',\n",
       " '',\n",
       " '',\n",
       " '',\n",
       " '',\n",
       " '',\n",
       " '',\n",
       " '',\n",
       " '',\n",
       " '',\n",
       " '',\n",
       " '',\n",
       " '',\n",
       " '',\n",
       " '',\n",
       " '',\n",
       " '',\n",
       " '',\n",
       " '',\n",
       " '',\n",
       " '',\n",
       " '',\n",
       " '',\n",
       " '',\n",
       " '',\n",
       " '',\n",
       " '',\n",
       " '',\n",
       " '']"
      ]
     },
     "execution_count": 141,
     "metadata": {},
     "output_type": "execute_result"
    }
   ],
   "source": [
    "result1"
   ]
  },
  {
   "cell_type": "code",
   "execution_count": 146,
   "metadata": {},
   "outputs": [
    {
     "data": {
      "text/plain": [
       "[[],\n",
       " [],\n",
       " [],\n",
       " [],\n",
       " [],\n",
       " [],\n",
       " [],\n",
       " [],\n",
       " [],\n",
       " [],\n",
       " [],\n",
       " [],\n",
       " [],\n",
       " [],\n",
       " [],\n",
       " [],\n",
       " [],\n",
       " [],\n",
       " [],\n",
       " [],\n",
       " [],\n",
       " [],\n",
       " [],\n",
       " [],\n",
       " [],\n",
       " [],\n",
       " [],\n",
       " ['719-266-2837'],\n",
       " [],\n",
       " [],\n",
       " [],\n",
       " ['719-266-2837', '719-266-2837', '719-266-2837', '719-266-2837'],\n",
       " [],\n",
       " [],\n",
       " [],\n",
       " [],\n",
       " [],\n",
       " [],\n",
       " [],\n",
       " [],\n",
       " [],\n",
       " [],\n",
       " [],\n",
       " [],\n",
       " [],\n",
       " [],\n",
       " [],\n",
       " [],\n",
       " [],\n",
       " [],\n",
       " [],\n",
       " [],\n",
       " [],\n",
       " [],\n",
       " [],\n",
       " [],\n",
       " [],\n",
       " [],\n",
       " [],\n",
       " [],\n",
       " [],\n",
       " [],\n",
       " [],\n",
       " [],\n",
       " [],\n",
       " [],\n",
       " [],\n",
       " [],\n",
       " [],\n",
       " [],\n",
       " [],\n",
       " [],\n",
       " [],\n",
       " [],\n",
       " [],\n",
       " [],\n",
       " [],\n",
       " [],\n",
       " [],\n",
       " [],\n",
       " [],\n",
       " [],\n",
       " [],\n",
       " [],\n",
       " [],\n",
       " [],\n",
       " [],\n",
       " [],\n",
       " [],\n",
       " [],\n",
       " [],\n",
       " [],\n",
       " [],\n",
       " [],\n",
       " [],\n",
       " [],\n",
       " [],\n",
       " [],\n",
       " [],\n",
       " [],\n",
       " [],\n",
       " [],\n",
       " [],\n",
       " [],\n",
       " [],\n",
       " [],\n",
       " [],\n",
       " [],\n",
       " [],\n",
       " [],\n",
       " [],\n",
       " [],\n",
       " [],\n",
       " [],\n",
       " [],\n",
       " [],\n",
       " [],\n",
       " [],\n",
       " [],\n",
       " [],\n",
       " [],\n",
       " [],\n",
       " []]"
      ]
     },
     "execution_count": 146,
     "metadata": {},
     "output_type": "execute_result"
    }
   ],
   "source": [
    "result"
   ]
  },
  {
   "cell_type": "code",
   "execution_count": 11,
   "metadata": {},
   "outputs": [
    {
     "data": {
      "text/plain": [
       "[['719-266-2837']]"
      ]
     },
     "execution_count": 11,
     "metadata": {},
     "output_type": "execute_result"
    }
   ],
   "source": [
    "[r for r in result if r != []] # from findall resturns a list of grabbing content"
   ]
  },
  {
   "cell_type": "code",
   "execution_count": 8,
   "metadata": {},
   "outputs": [
    {
     "name": "stdout",
     "output_type": "stream",
     "text": [
      "<class 'str'>\n"
     ]
    }
   ],
   "source": [
    "for r in result1:\n",
    "    if r !='':\n",
    "        print(type(r.group()))\n",
    "    else:\n",
    "        pass"
   ]
  },
  {
   "cell_type": "code",
   "execution_count": 13,
   "metadata": {},
   "outputs": [
    {
     "name": "stdout",
     "output_type": "stream",
     "text": [
      "719-266-2837\n"
     ]
    }
   ],
   "source": [
    "for r in result1:\n",
    "    if r !='':\n",
    "        print(r.group()) # re.search().group() returns string \n",
    "    else:\n",
    "        pass"
   ]
  },
  {
   "cell_type": "markdown",
   "metadata": {},
   "source": [
    "### group with re.match(from re.search directly returns re.match object) and normal pattern will return the matched content itself. \n",
    "### group with complie pattern, could list the contents by group(1) not starting from 0"
   ]
  }
 ],
 "metadata": {
  "anaconda-cloud": {},
  "kernelspec": {
   "display_name": "Python 3",
   "language": "python",
   "name": "python3"
  },
  "language_info": {
   "codemirror_mode": {
    "name": "ipython",
    "version": 3
   },
   "file_extension": ".py",
   "mimetype": "text/x-python",
   "name": "python",
   "nbconvert_exporter": "python",
   "pygments_lexer": "ipython3",
   "version": "3.8.5"
  }
 },
 "nbformat": 4,
 "nbformat_minor": 2
}
