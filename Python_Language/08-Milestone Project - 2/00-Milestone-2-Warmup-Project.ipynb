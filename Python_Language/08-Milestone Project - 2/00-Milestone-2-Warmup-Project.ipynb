{
 "cells": [
  {
   "cell_type": "markdown",
   "metadata": {},
   "source": [
    "___\n",
    "\n",
    "<a href='https://www.udemy.com/user/joseportilla/'><img src='../Pierian_Data_Logo.png'/></a>\n",
    "___\n",
    "<center><em>Content Copyright by Pierian Data</em></center>"
   ]
  },
  {
   "cell_type": "markdown",
   "metadata": {
    "collapsed": true
   },
   "source": [
    "# Warmup Project Exercise"
   ]
  },
  {
   "cell_type": "code",
   "execution_count": 8,
   "metadata": {},
   "outputs": [
    {
     "name": "stdout",
     "output_type": "stream",
     "text": [
      "\u001b[32mSOME GREEN TEXT\n"
     ]
    }
   ],
   "source": [
    "from colorama import Fore\n",
    "print(Fore.GREEN + 'SOME GREEN TEXT')"
   ]
  },
  {
   "cell_type": "markdown",
   "metadata": {},
   "source": [
    "**we gonna learn:**\n",
    "*  how classes are connected to other classes not only through inheritence \n",
    "*  how to create instance of one class within another class "
   ]
  },
  {
   "cell_type": "markdown",
   "metadata": {},
   "source": [
    "## Simple War Game\n",
    "\n",
    "Before we launch in to the OOP Milestone 2 Project, let's walk through together on using OOP for a more robust and complex application, such as a game. We will use Python OOP to simulate a simplified version of the game war. Two players will each start off with half the deck, then they each remove a card, compare which card has the highest value, and the player with the higher card wins both cards. In the event of a time"
   ]
  },
  {
   "cell_type": "markdown",
   "metadata": {},
   "source": [
    "## Single Card Class\n",
    "\n",
    "### Creating a Card Class with outside variables\n",
    "\n",
    "* Here we will use some outside variables that we know don't change regardless of the situation, such as a deck of cards. \n",
    "  Regardless of what round,match, or game we're playing, we'll still need the same deck of cards.\n",
    "* we need to understand and know the atributes and property the cards has:\n",
    "  * 4 suits: all cards could be dividen into 4 suits, or 4 groups: heart, dimonds, spades, clubs, all rank has these 4 types \n",
    "  * rank: card name \n",
    "  * values : values mapping to the rank \n",
    "* card class has all basic elements of card and we use card calss to create the deck of card"
   ]
  },
  {
   "cell_type": "code",
   "execution_count": 2,
   "metadata": {},
   "outputs": [],
   "source": [
    "# We'll use this later\n",
    "import random "
   ]
  },
  {
   "cell_type": "markdown",
   "metadata": {},
   "source": [
    "* Card class defines what is the card!!!! this is this class does, since we have calss then we could have instance of the \n",
    "* class and also call the methods inside the class. class will reduce the duplicated work. class is the common part or \n",
    "* includes some methods that any other would use "
   ]
  },
  {
   "cell_type": "markdown",
   "metadata": {},
   "source": [
    "* **!!!!!! __str__() this method inside the class will give the possibilty of printing out the information that you want \n",
    "  to add to describe what the calss or the instance of the class is. so add this __str__ in case of you want to print out \n",
    "  the class or instance of class informatin. otherwise once you print (instance of class) it will just return it is an \n",
    "  object (instance of class)**"
   ]
  },
  {
   "cell_type": "markdown",
   "metadata": {},
   "source": [
    "### 1.1class Card defines what is a card with attributes and description inside __str__"
   ]
  },
  {
   "cell_type": "markdown",
   "metadata": {},
   "source": [
    "* this value definition is defined not within \n",
    "* the class or a function, it is a global vaiable. we could put it at the top of the codes\n",
    "* then we also need to define the common rank names and suits name"
   ]
  },
  {
   "cell_type": "code",
   "execution_count": 3,
   "metadata": {},
   "outputs": [],
   "source": [
    "suits = ('Hearts', 'Diamonds', 'Spades', 'Clubs')\n",
    "ranks = ('Two', 'Three', 'Four', 'Five', 'Six', 'Seven', 'Eight', 'Nine', 'Ten', 'Jack', 'Queen', 'King', 'Ace')\n",
    "values = {'Two':2, 'Three':3, 'Four':4, 'Five':5, 'Six':6, 'Seven':7, 'Eight':8, \n",
    "            'Nine':9, 'Ten':10, 'Jack':11, 'Queen':12, 'King':13, 'Ace':14}"
   ]
  },
  {
   "cell_type": "code",
   "execution_count": 4,
   "metadata": {},
   "outputs": [],
   "source": [
    "# so once you want to create a card you need to provide the attributes that the card class defines: suit and rank\n",
    "# value is not the suite, since value are something related to the rank which menas théy are attached then dictoíonary is a\n",
    "# good data structure to store them. and since it is common use then we define this dictionary as global variable\n",
    "class Card():\n",
    "    def __init__(self,suit,rank):\n",
    "        self.suit = suit\n",
    "        self.rank=rank\n",
    "        self.value = values[rank]  # rank is already passed in instanstiation statement __init__\n",
    "        # the left side of the = are attributes of the calss Card, use self.xxx, the right side are the arguments we are gonna pass in \n",
    "        #once you create the instance of the class\n",
    "\n",
    "    # informtion to decribe the class or instance of the class for printing out\n",
    "    def __str__(self):\n",
    "        return self.rank + ' of ' + self.suit\n",
    "    \n",
    "        "
   ]
  },
  {
   "cell_type": "markdown",
   "metadata": {},
   "source": [
    "* **create an example card**"
   ]
  },
  {
   "cell_type": "code",
   "execution_count": 3,
   "metadata": {},
   "outputs": [],
   "source": [
    "card1=Card('dimonds','Jack')\n"
   ]
  },
  {
   "cell_type": "code",
   "execution_count": 4,
   "metadata": {},
   "outputs": [
    {
     "data": {
      "text/plain": [
       "11"
      ]
     },
     "execution_count": 4,
     "metadata": {},
     "output_type": "execute_result"
    }
   ],
   "source": [
    "card1.rank\n",
    "card1.value\n"
   ]
  },
  {
   "cell_type": "code",
   "execution_count": 5,
   "metadata": {},
   "outputs": [
    {
     "name": "stdout",
     "output_type": "stream",
     "text": [
      "Jack of dimonds\n"
     ]
    }
   ],
   "source": [
    "print(card1)"
   ]
  },
  {
   "cell_type": "markdown",
   "metadata": {},
   "source": [
    "* **when you come to a war then you need to do comparision between ranks. so they will be mapped to values which are int**\n",
    "  **we use dictionary here since ranks are related to values. maps data is a dictionary does**"
   ]
  },
  {
   "cell_type": "code",
   "execution_count": 180,
   "metadata": {},
   "outputs": [],
   "source": [
    "values = {'Two':2, 'Three':3, 'Four':4, 'Five':5, 'Six':6, 'Seven':7, 'Eight':8, \n",
    "            'Nine':9, 'Ten':10, 'Jack':11, 'Queen':12, 'King':13, 'Ace':14}   # this value definition is defined not within \n",
    "# the class or a function, it is a global vaiable. we could put it at the top of the codes\n",
    "# then we also need to define the common rank names and suits name"
   ]
  },
  {
   "cell_type": "code",
   "execution_count": 181,
   "metadata": {},
   "outputs": [
    {
     "data": {
      "text/plain": [
       "11"
      ]
     },
     "execution_count": 181,
     "metadata": {},
     "output_type": "execute_result"
    }
   ],
   "source": [
    "values[card1.rank] # get the value of jack"
   ]
  },
  {
   "cell_type": "code",
   "execution_count": 196,
   "metadata": {},
   "outputs": [],
   "source": [
    "class Card2:\n",
    "    \n",
    "    def __init__(self,suit,rank):\n",
    "        self.suit = suit\n",
    "        self.rank = rank\n",
    "        self.value = values[rank]\n",
    "        \n",
    "    def __str__(self):\n",
    "        return self.rank + ' of ' + self.suit"
   ]
  },
  {
   "cell_type": "markdown",
   "metadata": {},
   "source": [
    "Create an example card"
   ]
  },
  {
   "cell_type": "code",
   "execution_count": 5,
   "metadata": {},
   "outputs": [
    {
     "data": {
      "text/plain": [
       "'Hearts'"
      ]
     },
     "execution_count": 5,
     "metadata": {},
     "output_type": "execute_result"
    }
   ],
   "source": [
    "suits[0]"
   ]
  },
  {
   "cell_type": "code",
   "execution_count": 6,
   "metadata": {},
   "outputs": [
    {
     "data": {
      "text/plain": [
       "'Two'"
      ]
     },
     "execution_count": 6,
     "metadata": {},
     "output_type": "execute_result"
    }
   ],
   "source": [
    "ranks[0]"
   ]
  },
  {
   "cell_type": "code",
   "execution_count": 7,
   "metadata": {
    "collapsed": true
   },
   "outputs": [],
   "source": [
    "two_hearts = Card(suits[0],ranks[0])"
   ]
  },
  {
   "cell_type": "code",
   "execution_count": 8,
   "metadata": {},
   "outputs": [
    {
     "data": {
      "text/plain": [
       "<__main__.Card at 0x1dfaff6b898>"
      ]
     },
     "execution_count": 8,
     "metadata": {},
     "output_type": "execute_result"
    }
   ],
   "source": [
    "two_hearts"
   ]
  },
  {
   "cell_type": "code",
   "execution_count": 9,
   "metadata": {},
   "outputs": [
    {
     "name": "stdout",
     "output_type": "stream",
     "text": [
      "Two of Hearts\n"
     ]
    }
   ],
   "source": [
    "print(two_hearts)"
   ]
  },
  {
   "cell_type": "code",
   "execution_count": 10,
   "metadata": {},
   "outputs": [
    {
     "data": {
      "text/plain": [
       "'Two'"
      ]
     },
     "execution_count": 10,
     "metadata": {},
     "output_type": "execute_result"
    }
   ],
   "source": [
    "two_hearts.rank"
   ]
  },
  {
   "cell_type": "code",
   "execution_count": 11,
   "metadata": {},
   "outputs": [
    {
     "data": {
      "text/plain": [
       "2"
      ]
     },
     "execution_count": 11,
     "metadata": {},
     "output_type": "execute_result"
    }
   ],
   "source": [
    "two_hearts.value"
   ]
  },
  {
   "cell_type": "code",
   "execution_count": 12,
   "metadata": {},
   "outputs": [
    {
     "data": {
      "text/plain": [
       "2"
      ]
     },
     "execution_count": 12,
     "metadata": {},
     "output_type": "execute_result"
    }
   ],
   "source": [
    "values[two_hearts.rank]"
   ]
  },
  {
   "cell_type": "markdown",
   "metadata": {},
   "source": [
    "## Deck Class: create group of cards called one deck \n",
    "* when we create one class, the first thing we are gonna do is instantiate the class with __init__. so this means we need to \n",
    "  define the attributes the class includes and then know how does this attribute organized to be one class. like in this deck\n",
    "  class:\n",
    "   * instantiate deck class:\n",
    "     * create all 52 required cards to formulate one deck \n",
    "     * hold these 52 cards as a list of object\n",
    "   * shuffle the deck, this action will randomly mix the 52 cards and change thier orders. there is one shuffle() built-in \n",
    "     method in random \n",
    "   * deal cards form the deck object(52 cards), \n",
    "     * pop method from the list, it will remove the items from the end of the list \n",
    "\n",
    "### Using a class within another class\n",
    "\n",
    "**We just created a single card class for formulating any single card with suit,rank and value mapped to the rank, but how can we create an entire Deck of cards? Let's explore doing this with a class that utilizes the Card class.**"
   ]
  },
  {
   "cell_type": "markdown",
   "metadata": {},
   "source": [
    "**A Deck will be made up of multiple Cards. Which means we will actually use the Card class within the \\_\\_init__ of the Deck class.**\n"
   ]
  },
  {
   "cell_type": "markdown",
   "metadata": {},
   "source": [
    "* what is special here is each attribute of the deck class is each card instance that is created from the Card class above\n",
    "* all attributes formulates the list group. so each list item represents one full card object\n",
    "* the new thing here is the deck class we gonna create holds a list of another calss object (Card class object)\n",
    "* This means the deck calss will return a list of card object instances not just like normal python data type\n"
   ]
  },
  {
   "cell_type": "markdown",
   "metadata": {},
   "source": [
    "**we have deck class using instance of another calss as the attributes of the deck class**"
   ]
  },
  {
   "cell_type": "code",
   "execution_count": 6,
   "metadata": {},
   "outputs": [],
   "source": [
    "import random "
   ]
  },
  {
   "cell_type": "code",
   "execution_count": 5,
   "metadata": {},
   "outputs": [],
   "source": [
    "class Deck():\n",
    "    \n",
    "    #instantiate method __init__()\n",
    "    def __init__(self):\n",
    "        \n",
    "        self.all_cards = [] # all_card this list is the attritue of Deck where we hold all attributes as a list \n",
    "                           # our Deck instance will take no input from the user since all deck would be the same 52 cards\n",
    "                           # so there is no any other arguments after self\n",
    "                 \n",
    "        for rank in ranks:\n",
    "            for suit in suits:\n",
    "                # create  card\n",
    "                one_card = Card(suit,rank) # return object \n",
    "                self.all_cards.append(one_card)\n",
    "    \n",
    "    def __str__(self):\n",
    "        \n",
    "        # gives the information you want to print out when you call print the instance of Deck \n",
    "        for card in new_deck.all_cards:\n",
    "            print(card)\n",
    "        return 'print the card objects out above. It is a list of card'\n",
    "    \n",
    "    # define shuffle methods \n",
    "    \n",
    "    def shuffle(self):\n",
    "        \n",
    "        # random.shuffle does not return anything so you cannot assign it to any variable, it happens in place in your \n",
    "        #original list\n",
    "        \n",
    "        random.shuffle(self.all_cards) # shuffle the list of cards\n",
    "        \n",
    "   # define the deal method like you need to draw one card for palying\n",
    "    def deal_one(self):\n",
    "        #pop method will also happen in place in the original list so do not assign it to variable\n",
    "        return self.all_cards.pop()\n",
    "    \n",
    "    \n",
    "       \n",
    "        \n",
    "        \n",
    "        "
   ]
  },
  {
   "cell_type": "code",
   "execution_count": 185,
   "metadata": {},
   "outputs": [],
   "source": [
    "new_deck=Deck()\n",
    "new_deck.shuffle()"
   ]
  },
  {
   "cell_type": "code",
   "execution_count": 186,
   "metadata": {},
   "outputs": [],
   "source": [
    "my_card= new_deck.deal_one()"
   ]
  },
  {
   "cell_type": "code",
   "execution_count": 187,
   "metadata": {},
   "outputs": [
    {
     "name": "stdout",
     "output_type": "stream",
     "text": [
      "Seven of Clubs\n"
     ]
    }
   ],
   "source": [
    "print(my_card)"
   ]
  },
  {
   "cell_type": "code",
   "execution_count": 188,
   "metadata": {},
   "outputs": [
    {
     "data": {
      "text/plain": [
       "51"
      ]
     },
     "execution_count": 188,
     "metadata": {},
     "output_type": "execute_result"
    }
   ],
   "source": [
    "len(new_deck.all_cards) # after poping off one "
   ]
  },
  {
   "cell_type": "code",
   "execution_count": 189,
   "metadata": {},
   "outputs": [
    {
     "data": {
      "text/plain": [
       "[<__main__.Card at 0x1754901c790>,\n",
       " <__main__.Card at 0x1754904da30>,\n",
       " <__main__.Card at 0x17548c7d700>,\n",
       " <__main__.Card at 0x17548c7d100>,\n",
       " <__main__.Card at 0x1754901c040>,\n",
       " <__main__.Card at 0x1754904d640>,\n",
       " <__main__.Card at 0x17548c7dfd0>,\n",
       " <__main__.Card at 0x17548c7d190>,\n",
       " <__main__.Card at 0x1754901c940>,\n",
       " <__main__.Card at 0x1754901c2b0>,\n",
       " <__main__.Card at 0x1754901c580>,\n",
       " <__main__.Card at 0x17548c7d310>,\n",
       " <__main__.Card at 0x1754901c310>,\n",
       " <__main__.Card at 0x1754901cfd0>,\n",
       " <__main__.Card at 0x1754904d5e0>,\n",
       " <__main__.Card at 0x17548c7d040>,\n",
       " <__main__.Card at 0x1754901c970>,\n",
       " <__main__.Card at 0x17548c7d0d0>,\n",
       " <__main__.Card at 0x1754904dc70>,\n",
       " <__main__.Card at 0x17548c7d250>,\n",
       " <__main__.Card at 0x1754904d760>,\n",
       " <__main__.Card at 0x1754901ca90>,\n",
       " <__main__.Card at 0x1754901c7c0>,\n",
       " <__main__.Card at 0x17548c7d880>,\n",
       " <__main__.Card at 0x17548c7d9d0>,\n",
       " <__main__.Card at 0x17548c7dc70>,\n",
       " <__main__.Card at 0x1754901cd60>,\n",
       " <__main__.Card at 0x17548c7db50>,\n",
       " <__main__.Card at 0x17548c7d970>,\n",
       " <__main__.Card at 0x1754901c430>,\n",
       " <__main__.Card at 0x1754901cc70>,\n",
       " <__main__.Card at 0x1754901c7f0>,\n",
       " <__main__.Card at 0x1754904dac0>,\n",
       " <__main__.Card at 0x17548c7da60>,\n",
       " <__main__.Card at 0x17548c7d2e0>,\n",
       " <__main__.Card at 0x17548c7d820>,\n",
       " <__main__.Card at 0x1754901cca0>,\n",
       " <__main__.Card at 0x1754901ceb0>,\n",
       " <__main__.Card at 0x1754901c520>,\n",
       " <__main__.Card at 0x17548c7d340>,\n",
       " <__main__.Card at 0x1754901caf0>,\n",
       " <__main__.Card at 0x1754901c0d0>,\n",
       " <__main__.Card at 0x1754901c490>,\n",
       " <__main__.Card at 0x1754904d790>,\n",
       " <__main__.Card at 0x17548c7d610>,\n",
       " <__main__.Card at 0x1754901c880>,\n",
       " <__main__.Card at 0x1754901c550>,\n",
       " <__main__.Card at 0x1754904daf0>,\n",
       " <__main__.Card at 0x1754901cdf0>,\n",
       " <__main__.Card at 0x1754901cf70>,\n",
       " <__main__.Card at 0x1754901c6d0>]"
      ]
     },
     "execution_count": 189,
     "metadata": {},
     "output_type": "execute_result"
    }
   ],
   "source": [
    "new_deck.all_cards # new deck only has one attribute it is a list of objects "
   ]
  },
  {
   "cell_type": "code",
   "execution_count": 190,
   "metadata": {},
   "outputs": [
    {
     "name": "stdout",
     "output_type": "stream",
     "text": [
      "Ten of Clubs\n",
      "Three of Diamonds\n",
      "Six of Spades\n",
      "Six of Hearts\n",
      "Ten of Spades\n",
      "Two of Clubs\n",
      "Four of Hearts\n",
      "Seven of Spades\n",
      "Eight of Clubs\n",
      "King of Clubs\n",
      "Jack of Clubs\n",
      "Five of Hearts\n",
      "Ace of Hearts\n",
      "Jack of Diamonds\n",
      "Two of Diamonds\n",
      "Six of Clubs\n",
      "Ace of Diamonds\n",
      "Five of Clubs\n",
      "Two of Spades\n",
      "Eight of Spades\n",
      "Three of Spades\n",
      "Ace of Clubs\n",
      "Ace of Spades\n",
      "Seven of Hearts\n",
      "Five of Spades\n",
      "Five of Diamonds\n",
      "Queen of Clubs\n",
      "Four of Clubs\n",
      "Eight of Diamonds\n",
      "Queen of Diamonds\n",
      "King of Diamonds\n",
      "Ten of Hearts\n",
      "Three of Hearts\n",
      "Four of Diamonds\n",
      "Seven of Diamonds\n",
      "Four of Spades\n",
      "Nine of Clubs\n",
      "Nine of Spades\n",
      "Jack of Spades\n",
      "Six of Diamonds\n",
      "King of Hearts\n",
      "Nine of Diamonds\n",
      "Queen of Spades\n",
      "Three of Clubs\n",
      "Eight of Hearts\n",
      "Queen of Hearts\n",
      "Nine of Hearts\n",
      "Two of Hearts\n",
      "King of Spades\n",
      "Jack of Hearts\n",
      "Ten of Diamonds\n",
      "print the card objects out above. It is a list of card\n"
     ]
    }
   ],
   "source": [
    "print(new_deck)"
   ]
  },
  {
   "cell_type": "code",
   "execution_count": 191,
   "metadata": {},
   "outputs": [
    {
     "name": "stdout",
     "output_type": "stream",
     "text": [
      "Ten of Clubs\n",
      "Three of Diamonds\n",
      "Six of Spades\n",
      "Six of Hearts\n",
      "Ten of Spades\n",
      "Two of Clubs\n",
      "Four of Hearts\n",
      "Seven of Spades\n",
      "Eight of Clubs\n",
      "King of Clubs\n",
      "Jack of Clubs\n",
      "Five of Hearts\n",
      "Ace of Hearts\n",
      "Jack of Diamonds\n",
      "Two of Diamonds\n",
      "Six of Clubs\n",
      "Ace of Diamonds\n",
      "Five of Clubs\n",
      "Two of Spades\n",
      "Eight of Spades\n",
      "Three of Spades\n",
      "Ace of Clubs\n",
      "Ace of Spades\n",
      "Seven of Hearts\n",
      "Five of Spades\n",
      "Five of Diamonds\n",
      "Queen of Clubs\n",
      "Four of Clubs\n",
      "Eight of Diamonds\n",
      "Queen of Diamonds\n",
      "King of Diamonds\n",
      "Ten of Hearts\n",
      "Three of Hearts\n",
      "Four of Diamonds\n",
      "Seven of Diamonds\n",
      "Four of Spades\n",
      "Nine of Clubs\n",
      "Nine of Spades\n",
      "Jack of Spades\n",
      "Six of Diamonds\n",
      "King of Hearts\n",
      "Nine of Diamonds\n",
      "Queen of Spades\n",
      "Three of Clubs\n",
      "Eight of Hearts\n",
      "Queen of Hearts\n",
      "Nine of Hearts\n",
      "Two of Hearts\n",
      "King of Spades\n",
      "Jack of Hearts\n",
      "Ten of Diamonds\n"
     ]
    }
   ],
   "source": [
    "for card_object in new_deck.all_cards:\n",
    "    print(card_object)"
   ]
  },
  {
   "cell_type": "code",
   "execution_count": 89,
   "metadata": {},
   "outputs": [
    {
     "data": {
      "text/plain": [
       "list"
      ]
     },
     "execution_count": 89,
     "metadata": {},
     "output_type": "execute_result"
    }
   ],
   "source": [
    "type(new_deck.all_cards)"
   ]
  },
  {
   "cell_type": "code",
   "execution_count": null,
   "metadata": {},
   "outputs": [],
   "source": []
  },
  {
   "cell_type": "code",
   "execution_count": null,
   "metadata": {},
   "outputs": [],
   "source": []
  },
  {
   "cell_type": "code",
   "execution_count": null,
   "metadata": {},
   "outputs": [],
   "source": []
  },
  {
   "cell_type": "code",
   "execution_count": null,
   "metadata": {},
   "outputs": [],
   "source": []
  },
  {
   "cell_type": "code",
   "execution_count": null,
   "metadata": {},
   "outputs": [],
   "source": []
  },
  {
   "cell_type": "code",
   "execution_count": 193,
   "metadata": {},
   "outputs": [],
   "source": [
    "class Deck1:\n",
    "    \n",
    "    \n",
    "    def __init__(self):\n",
    "        # Note this only happens once upon creation of a new Deck\n",
    "        self.all_cards = [] \n",
    "        for suit in suits:\n",
    "            for rank in ranks:\n",
    "                # This assumes the Card class has already been defined!\n",
    "                self.all_cards.append(Card(suit,rank))\n",
    "                \n",
    "    def shuffle(self):\n",
    "        # Note this doesn't return anything\n",
    "        random.shuffle(self.all_cards)\n",
    "        \n",
    "    def deal_one(self):\n",
    "        # Note we remove one card from the list of all_cards\n",
    "        return self.all_cards.pop()        "
   ]
  },
  {
   "cell_type": "markdown",
   "metadata": {},
   "source": [
    "### Create a Deck"
   ]
  },
  {
   "cell_type": "code",
   "execution_count": 75,
   "metadata": {},
   "outputs": [],
   "source": [
    "mydeck = Deck()"
   ]
  },
  {
   "cell_type": "code",
   "execution_count": 77,
   "metadata": {},
   "outputs": [
    {
     "data": {
      "text/plain": [
       "52"
      ]
     },
     "execution_count": 77,
     "metadata": {},
     "output_type": "execute_result"
    }
   ],
   "source": [
    "len(mydeck.all_cards)"
   ]
  },
  {
   "cell_type": "code",
   "execution_count": 78,
   "metadata": {},
   "outputs": [
    {
     "data": {
      "text/plain": [
       "<__main__.Card at 0x1754936c670>"
      ]
     },
     "execution_count": 78,
     "metadata": {},
     "output_type": "execute_result"
    }
   ],
   "source": [
    "mydeck.all_cards[0]"
   ]
  },
  {
   "cell_type": "code",
   "execution_count": 17,
   "metadata": {},
   "outputs": [
    {
     "name": "stdout",
     "output_type": "stream",
     "text": [
      "Two of Hearts\n"
     ]
    }
   ],
   "source": [
    "print(mydeck.all_cards[0])"
   ]
  },
  {
   "cell_type": "code",
   "execution_count": 18,
   "metadata": {
    "collapsed": true
   },
   "outputs": [],
   "source": [
    "mydeck.shuffle()"
   ]
  },
  {
   "cell_type": "code",
   "execution_count": 19,
   "metadata": {},
   "outputs": [
    {
     "name": "stdout",
     "output_type": "stream",
     "text": [
      "Five of Spades\n"
     ]
    }
   ],
   "source": [
    "print(mydeck.all_cards[0])"
   ]
  },
  {
   "cell_type": "code",
   "execution_count": 113,
   "metadata": {},
   "outputs": [],
   "source": [
    "my_card = mydeck.deal_one()"
   ]
  },
  {
   "cell_type": "code",
   "execution_count": 114,
   "metadata": {},
   "outputs": [
    {
     "name": "stdout",
     "output_type": "stream",
     "text": [
      "Ace of Clubs\n"
     ]
    }
   ],
   "source": [
    "print(my_card)"
   ]
  },
  {
   "cell_type": "markdown",
   "metadata": {},
   "source": [
    "# Player Class - simulate the human to play cards\n",
    "\n",
    "**Let's create a Player Class,**\n",
    "* a player should be able to hold instances of Cards,\n",
    "* they should also be able to remove and add them from their hand. We want the Player class to be flexible enough to add one \n",
    "  card, or many cards so we'll use a simple if check to keep it all in the same method.**"
   ]
  },
  {
   "cell_type": "markdown",
   "metadata": {},
   "source": [
    "We'll keep this all in mind as we create the methods for the Player class.\n",
    "\n",
    "### Player Class\n"
   ]
  },
  {
   "cell_type": "markdown",
   "metadata": {},
   "source": [
    "* **fOR each class we create we need to know the function of the class first. so we want to use the Player class to be able\n",
    "  to add one single card or multiple cards in their list. so one method will be called to do this**\n",
    "* **when we draw cards we draw from the top when we won the war and add cards to the list we add them to the bottom of the   \n",
    "  list**\n",
    "* **In python, the bottom and top of the list corresponding to the left to right of the Python list. we need to transfer \n"
   ]
  },
  {
   "cell_type": "markdown",
   "metadata": {},
   "source": [
    "* before we start the Player class. we are going to investigate methods for drawing cards and adding cards back to the list**\n"
   ]
  },
  {
   "cell_type": "markdown",
   "metadata": {},
   "source": [
    "### pop(), append(), extend() methods"
   ]
  },
  {
   "cell_type": "code",
   "execution_count": 91,
   "metadata": {},
   "outputs": [
    {
     "data": {
      "text/plain": [
       "1"
      ]
     },
     "execution_count": 91,
     "metadata": {},
     "output_type": "execute_result"
    }
   ],
   "source": [
    "# when we draw card from the top of the list, we still use pop() but with argument of 0 \n",
    "[1,2,3].pop(0) # it will draw the first card no matter how long is the cards list"
   ]
  },
  {
   "cell_type": "code",
   "execution_count": 108,
   "metadata": {},
   "outputs": [
    {
     "data": {
      "text/plain": [
       "int"
      ]
     },
     "execution_count": 108,
     "metadata": {},
     "output_type": "execute_result"
    }
   ],
   "source": [
    "type([1,2,3].pop(0))"
   ]
  },
  {
   "cell_type": "code",
   "execution_count": 92,
   "metadata": {},
   "outputs": [
    {
     "data": {
      "text/plain": [
       "3"
      ]
     },
     "execution_count": 92,
     "metadata": {},
     "output_type": "execute_result"
    }
   ],
   "source": [
    "[1,2,3].pop() # dras item from the end if nothing is passed in pop method"
   ]
  },
  {
   "cell_type": "markdown",
   "metadata": {},
   "source": [
    "### add cards or single card back. \n",
    "### if we add single card back , append is enough to use but if we want to add multiple cards back to the list then \n",
    "###  we cannot use append since it will lead to nested list"
   ]
  },
  {
   "cell_type": "code",
   "execution_count": 106,
   "metadata": {},
   "outputs": [
    {
     "data": {
      "text/plain": [
       "[1, 2, 3, 4]"
      ]
     },
     "execution_count": 106,
     "metadata": {},
     "output_type": "execute_result"
    }
   ],
   "source": [
    "lt= [1,2,3]\n",
    "lt.append(4)\n",
    "lt"
   ]
  },
  {
   "cell_type": "markdown",
   "metadata": {},
   "source": [
    "#### extend () methods only extend with iterable object like list this means you extend single value, it is not okay \n",
    "#### you could put this single value into a list to be it iterable. or you could use append() method"
   ]
  },
  {
   "cell_type": "code",
   "execution_count": 107,
   "metadata": {},
   "outputs": [
    {
     "ename": "TypeError",
     "evalue": "'int' object is not iterable",
     "output_type": "error",
     "traceback": [
      "\u001b[1;31m---------------------------------------------------------------------------\u001b[0m",
      "\u001b[1;31mTypeError\u001b[0m                                 Traceback (most recent call last)",
      "\u001b[1;32m<ipython-input-107-b4fe26e95aab>\u001b[0m in \u001b[0;36m<module>\u001b[1;34m\u001b[0m\n\u001b[1;32m----> 1\u001b[1;33m \u001b[0mlt\u001b[0m\u001b[1;33m.\u001b[0m\u001b[0mextend\u001b[0m\u001b[1;33m(\u001b[0m\u001b[1;36m9\u001b[0m\u001b[1;33m)\u001b[0m\u001b[1;33m\u001b[0m\u001b[1;33m\u001b[0m\u001b[0m\n\u001b[0m",
      "\u001b[1;31mTypeError\u001b[0m: 'int' object is not iterable"
     ]
    }
   ],
   "source": [
    "lt.extend(9)"
   ]
  },
  {
   "cell_type": "code",
   "execution_count": 97,
   "metadata": {},
   "outputs": [
    {
     "data": {
      "text/plain": [
       "[1, 2, 3, 4, [4, 5], [4, 5]]"
      ]
     },
     "execution_count": 97,
     "metadata": {},
     "output_type": "execute_result"
    }
   ],
   "source": [
    "lt.append([4,5])\n",
    "lt # nested "
   ]
  },
  {
   "cell_type": "markdown",
   "metadata": {},
   "source": [
    "* we could use extend to avoid the nested list "
   ]
  },
  {
   "cell_type": "code",
   "execution_count": 100,
   "metadata": {},
   "outputs": [
    {
     "data": {
      "text/plain": [
       "[1, 2, 3, 4, 5, 6]"
      ]
     },
     "execution_count": 100,
     "metadata": {},
     "output_type": "execute_result"
    }
   ],
   "source": [
    "lt.extend([5,6])\n",
    "lt"
   ]
  },
  {
   "cell_type": "code",
   "execution_count": 6,
   "metadata": {},
   "outputs": [],
   "source": [
    "class Player():\n",
    "    \n",
    "    \" think about what kind of attributs or properties a brand new player should have?\"\n",
    "    \n",
    "    def __init__(self, name):\n",
    "        self.name=name\n",
    "        self.all_cards= [] # a brand new player also has empty hand \n",
    "        \n",
    "        \n",
    "    #define methods to add or remove cards from the players hand \n",
    "    def remove_one(self):\n",
    "        return self.all_cards.pop(0) # return the card object that we draw from the top of the list\n",
    "        \n",
    "    def add_cards(self, new_cards):\n",
    "        \n",
    "        # how to check if new_cards is iterable or not \n",
    "        if type(new_cards)== type([]):\n",
    "            # for adding  multiple cards objects into the all_cards list\n",
    "            self.all_cards.extend(new_cards)\n",
    "        else:\n",
    "            # so this mean when we formulate new cards if they are more than one then formulate them into a list\n",
    "            \n",
    "            # add signle card into the all_cards list\n",
    "            self.all_cards.append(new_cards)\n",
    "    \n",
    "    def __str__(self):\n",
    "        \n",
    "        for card in self.all_cards:\n",
    "            print(card)\n",
    "        # no matter what you do inside the str but the return object must be string type then it can be printed out \n",
    "        return f'The player {self.name} has {len(self.all_cards)} cards in hand'\n",
    "        \n",
    "    "
   ]
  },
  {
   "cell_type": "code",
   "execution_count": 9,
   "metadata": {},
   "outputs": [
    {
     "ename": "NameError",
     "evalue": "name 'player' is not defined",
     "output_type": "error",
     "traceback": [
      "\u001b[1;31m---------------------------------------------------------------------------\u001b[0m",
      "\u001b[1;31mNameError\u001b[0m                                 Traceback (most recent call last)",
      "\u001b[1;32m<ipython-input-9-bcddc56022d5>\u001b[0m in \u001b[0;36m<module>\u001b[1;34m\u001b[0m\n\u001b[1;32m----> 1\u001b[1;33m \u001b[0mnew_player\u001b[0m \u001b[1;33m=\u001b[0m \u001b[0mplayer\u001b[0m\u001b[1;33m(\u001b[0m\u001b[1;34m'Jose'\u001b[0m\u001b[1;33m)\u001b[0m\u001b[1;33m\u001b[0m\u001b[1;33m\u001b[0m\u001b[0m\n\u001b[0m",
      "\u001b[1;31mNameError\u001b[0m: name 'player' is not defined"
     ]
    }
   ],
   "source": [
    "new_player = player('Jose')"
   ]
  },
  {
   "cell_type": "code",
   "execution_count": 120,
   "metadata": {},
   "outputs": [
    {
     "name": "stdout",
     "output_type": "stream",
     "text": [
      "Ace of Clubs\n",
      "The player Jose has 1 cards in hand\n"
     ]
    }
   ],
   "source": [
    "print(new_player)"
   ]
  },
  {
   "cell_type": "code",
   "execution_count": 112,
   "metadata": {},
   "outputs": [
    {
     "data": {
      "text/plain": [
       "'Jose'"
      ]
     },
     "execution_count": 112,
     "metadata": {},
     "output_type": "execute_result"
    }
   ],
   "source": [
    "new_player.name"
   ]
  },
  {
   "cell_type": "code",
   "execution_count": 119,
   "metadata": {},
   "outputs": [],
   "source": [
    "new_cards=my_card # new card is from dealing "
   ]
  },
  {
   "cell_type": "code",
   "execution_count": 116,
   "metadata": {},
   "outputs": [],
   "source": [
    "new_player.add_cards(new_cards)"
   ]
  },
  {
   "cell_type": "code",
   "execution_count": 118,
   "metadata": {},
   "outputs": [
    {
     "name": "stdout",
     "output_type": "stream",
     "text": [
      "Ace of Clubs\n"
     ]
    }
   ],
   "source": [
    "print(new_player.all_cards[0])\n"
   ]
  },
  {
   "cell_type": "code",
   "execution_count": 121,
   "metadata": {},
   "outputs": [],
   "source": [
    "new_player.add_cards([my_card,my_card,my_card])"
   ]
  },
  {
   "cell_type": "code",
   "execution_count": 122,
   "metadata": {},
   "outputs": [
    {
     "name": "stdout",
     "output_type": "stream",
     "text": [
      "Ace of Clubs\n",
      "Ace of Clubs\n",
      "Ace of Clubs\n",
      "Ace of Clubs\n",
      "The player Jose has 4 cards in hand\n"
     ]
    }
   ],
   "source": [
    "print(new_player)"
   ]
  },
  {
   "cell_type": "code",
   "execution_count": 123,
   "metadata": {},
   "outputs": [
    {
     "data": {
      "text/plain": [
       "<__main__.Card at 0x175495553d0>"
      ]
     },
     "execution_count": 123,
     "metadata": {},
     "output_type": "execute_result"
    }
   ],
   "source": [
    "new_player.remove_one() # remove card from the top of the objects list "
   ]
  },
  {
   "cell_type": "code",
   "execution_count": 124,
   "metadata": {},
   "outputs": [
    {
     "name": "stdout",
     "output_type": "stream",
     "text": [
      "Ace of Clubs\n",
      "Ace of Clubs\n",
      "Ace of Clubs\n",
      "The player Jose has 3 cards in hand\n"
     ]
    }
   ],
   "source": [
    "print(new_player)"
   ]
  },
  {
   "cell_type": "code",
   "execution_count": null,
   "metadata": {},
   "outputs": [],
   "source": []
  },
  {
   "cell_type": "code",
   "execution_count": null,
   "metadata": {},
   "outputs": [],
   "source": []
  },
  {
   "cell_type": "code",
   "execution_count": 22,
   "metadata": {
    "collapsed": true
   },
   "outputs": [],
   "source": [
    "class Player:\n",
    "    \n",
    "    def __init__(self,name):\n",
    "        self.name = name\n",
    "        # A new player has no cards\n",
    "        self.all_cards = [] \n",
    "        \n",
    "    def remove_one(self):\n",
    "        # Note we remove one card from the list of all_cards\n",
    "        # We state 0 to remove from the \"top\" of the deck\n",
    "        # We'll imagine index -1 as the bottom of the deck\n",
    "        return self.all_cards.pop(0)\n",
    "    \n",
    "    def add_cards(self,new_cards):\n",
    "        if type(new_cards) == type([]):\n",
    "            self.all_cards.extend(new_cards)\n",
    "        else:\n",
    "            self.all_cards.append(new_cards)\n",
    "    \n",
    "    \n",
    "    def __str__(self):\n",
    "        return f'Player {self.name} has {len(self.all_cards)} cards.'"
   ]
  },
  {
   "cell_type": "code",
   "execution_count": 10,
   "metadata": {},
   "outputs": [],
   "source": [
    "jose = Player(\"Jose\")"
   ]
  },
  {
   "cell_type": "code",
   "execution_count": 162,
   "metadata": {},
   "outputs": [
    {
     "data": {
      "text/plain": [
       "2"
      ]
     },
     "execution_count": 162,
     "metadata": {},
     "output_type": "execute_result"
    }
   ],
   "source": []
  },
  {
   "cell_type": "code",
   "execution_count": 11,
   "metadata": {},
   "outputs": [
    {
     "data": {
      "text/plain": [
       "<__main__.Player at 0x1f5329809d0>"
      ]
     },
     "execution_count": 11,
     "metadata": {},
     "output_type": "execute_result"
    }
   ],
   "source": [
    "jose"
   ]
  },
  {
   "cell_type": "code",
   "execution_count": 12,
   "metadata": {},
   "outputs": [
    {
     "name": "stdout",
     "output_type": "stream",
     "text": [
      "The player Jose has 0 cards in hand\n"
     ]
    }
   ],
   "source": [
    "print(jose)"
   ]
  },
  {
   "cell_type": "code",
   "execution_count": 13,
   "metadata": {},
   "outputs": [
    {
     "ename": "NameError",
     "evalue": "name 'two_hearts' is not defined",
     "output_type": "error",
     "traceback": [
      "\u001b[1;31m---------------------------------------------------------------------------\u001b[0m",
      "\u001b[1;31mNameError\u001b[0m                                 Traceback (most recent call last)",
      "\u001b[1;32m<ipython-input-13-97828eaee3f1>\u001b[0m in \u001b[0;36m<module>\u001b[1;34m\u001b[0m\n\u001b[1;32m----> 1\u001b[1;33m \u001b[0mtwo_hearts\u001b[0m\u001b[1;33m\u001b[0m\u001b[1;33m\u001b[0m\u001b[0m\n\u001b[0m",
      "\u001b[1;31mNameError\u001b[0m: name 'two_hearts' is not defined"
     ]
    }
   ],
   "source": [
    "two_hearts"
   ]
  },
  {
   "cell_type": "code",
   "execution_count": 27,
   "metadata": {
    "collapsed": true
   },
   "outputs": [],
   "source": [
    "jose.add_cards(two_hearts)"
   ]
  },
  {
   "cell_type": "code",
   "execution_count": 28,
   "metadata": {},
   "outputs": [
    {
     "name": "stdout",
     "output_type": "stream",
     "text": [
      "Player Jose has 1 cards.\n"
     ]
    }
   ],
   "source": [
    "print(jose)"
   ]
  },
  {
   "cell_type": "code",
   "execution_count": 29,
   "metadata": {
    "collapsed": true
   },
   "outputs": [],
   "source": [
    "jose.add_cards([two_hearts,two_hearts,two_hearts])"
   ]
  },
  {
   "cell_type": "code",
   "execution_count": 14,
   "metadata": {},
   "outputs": [
    {
     "name": "stdout",
     "output_type": "stream",
     "text": [
      "The player Jose has 0 cards in hand\n"
     ]
    }
   ],
   "source": [
    "print(jose)"
   ]
  },
  {
   "cell_type": "markdown",
   "metadata": {},
   "source": [
    "## War Game Logic --  core part of the game\n",
    "since we have all methods and class then we coiuld formulate the war game logic \n",
    "* creating overall logic is the hardest part of the coding. but I think it is also difficult to train the ideas of the methods\n",
    "  attributs and class that we should have step by step \n",
    "* **It is very important to note that we planned the classes around the upcoming logic so in real application, we think of the\n",
    "  logic of the application and also the class structures simultaniously**\n",
    "  \n",
    "* **along the logic planning, you think of what kind of class and structure will fit your logic perfectly. it takes time to be\n",
    "  trained.** "
   ]
  },
  {
   "cell_type": "markdown",
   "metadata": {},
   "source": [
    "#### logic \n",
    "* create two players with name and empty hands \n",
    "* then set up the game with one deck cards 52 cards in total \n",
    "*  shuffle the deck and use for look to split the cards even to two players \n",
    "* check if there is someone lost, check if the player has empty card this will not happen at the beginning of the game but we are expected to check this after each round and if there is some lost, then quit the game on, otherwise \n",
    "  continue the game\n",
    "* inisde the game_on loop, we start the game, draw cards to the table from each player and do comparision in at_war loop. bigger player will collect all\n",
    " cards on the table.when the cards rank is same then we **now the rules could be different, but in this case we decide to draw another 3 cards from ach player and \n",
    " do comparision again one by one. if there is one row that one player wins then end of the at_war loop and add all cards to the winners list. they are added in the bottom of the original list**\n",
    "* out of the at_war, check the player cards in hand agian to see if there is one player has empty card at hand then quit the \n",
    " game_on. annouce the winner "
   ]
  },
  {
   "cell_type": "markdown",
   "metadata": {},
   "source": [
    "## 1. two player created before the game_on"
   ]
  },
  {
   "cell_type": "code",
   "execution_count": 15,
   "metadata": {},
   "outputs": [],
   "source": [
    "player_one = Player(\"Huan\")"
   ]
  },
  {
   "cell_type": "code",
   "execution_count": 16,
   "metadata": {},
   "outputs": [],
   "source": [
    "player_two = Player(\"Jose\")"
   ]
  },
  {
   "cell_type": "markdown",
   "metadata": {},
   "source": [
    "## 2.Setup New Game"
   ]
  },
  {
   "cell_type": "code",
   "execution_count": 19,
   "metadata": {},
   "outputs": [],
   "source": [
    "new_deck = Deck() # create deck "
   ]
  },
  {
   "cell_type": "code",
   "execution_count": 20,
   "metadata": {},
   "outputs": [],
   "source": [
    "new_deck.shuffle() # shuffle the deck"
   ]
  },
  {
   "cell_type": "markdown",
   "metadata": {},
   "source": [
    "### 3.Split the Deck between players"
   ]
  },
  {
   "cell_type": "markdown",
   "metadata": {},
   "source": [
    "#### 3.1split method1"
   ]
  },
  {
   "cell_type": "code",
   "execution_count": 168,
   "metadata": {},
   "outputs": [
    {
     "name": "stdout",
     "output_type": "stream",
     "text": [
      "0\n",
      "1\n",
      "2\n"
     ]
    }
   ],
   "source": [
    "for i in range(0,3):\n",
    "    print (i)"
   ]
  },
  {
   "cell_type": "code",
   "execution_count": 169,
   "metadata": {},
   "outputs": [
    {
     "data": {
      "text/plain": [
       "26.0"
      ]
     },
     "execution_count": 169,
     "metadata": {},
     "output_type": "execute_result"
    }
   ],
   "source": [
    "len(new_deck.all_cards)/2"
   ]
  },
  {
   "cell_type": "code",
   "execution_count": 21,
   "metadata": {},
   "outputs": [],
   "source": [
    "# or assigning the cards in turns \n",
    "for i in range(0,int(len(new_deck.all_cards)/2)):\n",
    "    player_one.add_cards(new_deck.all_cards[i])\n",
    "    player_two.add_cards(new_deck.all_cards[i+1])\n",
    "    "
   ]
  },
  {
   "cell_type": "code",
   "execution_count": 22,
   "metadata": {},
   "outputs": [
    {
     "data": {
      "text/plain": [
       "52"
      ]
     },
     "execution_count": 22,
     "metadata": {},
     "output_type": "execute_result"
    }
   ],
   "source": [
    "len(new_deck.all_cards)"
   ]
  },
  {
   "cell_type": "code",
   "execution_count": 23,
   "metadata": {},
   "outputs": [
    {
     "data": {
      "text/plain": [
       "26"
      ]
     },
     "execution_count": 23,
     "metadata": {},
     "output_type": "execute_result"
    }
   ],
   "source": [
    "len(player_one.all_cards)"
   ]
  },
  {
   "cell_type": "code",
   "execution_count": 15,
   "metadata": {},
   "outputs": [
    {
     "name": "stdout",
     "output_type": "stream",
     "text": [
      "Ten of Hearts\n",
      "Three of Spades\n",
      "Six of Spades\n",
      "Eight of Diamonds\n",
      "Jack of Spades\n",
      "Three of Clubs\n",
      "Two of Spades\n",
      "Five of Clubs\n",
      "Nine of Clubs\n",
      "Four of Diamonds\n",
      "King of Clubs\n",
      "Seven of Hearts\n",
      "Six of Diamonds\n",
      "Nine of Diamonds\n",
      "Queen of Clubs\n",
      "Eight of Clubs\n",
      "Four of Spades\n",
      "Ten of Clubs\n",
      "Nine of Hearts\n",
      "Jack of Diamonds\n",
      "Four of Hearts\n",
      "Five of Spades\n",
      "Ten of Spades\n",
      "Seven of Spades\n",
      "Nine of Spades\n",
      "Ten of Diamonds\n",
      "The player Huan has 26 cards in hand\n"
     ]
    }
   ],
   "source": [
    "print(player_one)"
   ]
  },
  {
   "cell_type": "markdown",
   "metadata": {},
   "source": [
    "### 3.2 split method 2"
   ]
  },
  {
   "cell_type": "code",
   "execution_count": 151,
   "metadata": {},
   "outputs": [
    {
     "data": {
      "text/plain": [
       "0.0"
      ]
     },
     "execution_count": 151,
     "metadata": {},
     "output_type": "execute_result"
    }
   ],
   "source": [
    "len(new_deck.all_cards)/2  # use the simple even split into two parts "
   ]
  },
  {
   "cell_type": "code",
   "execution_count": 16,
   "metadata": {},
   "outputs": [],
   "source": [
    "for x in range(26):\n",
    "    player_one.add_cards(new_deck.deal_one())\n",
    "    player_two.add_cards(new_deck.deal_one())"
   ]
  },
  {
   "cell_type": "code",
   "execution_count": 148,
   "metadata": {},
   "outputs": [
    {
     "data": {
      "text/plain": [
       "0"
      ]
     },
     "execution_count": 148,
     "metadata": {},
     "output_type": "execute_result"
    }
   ],
   "source": [
    "len(new_deck.all_cards)"
   ]
  },
  {
   "cell_type": "code",
   "execution_count": 149,
   "metadata": {},
   "outputs": [
    {
     "data": {
      "text/plain": [
       "52"
      ]
     },
     "execution_count": 149,
     "metadata": {},
     "output_type": "execute_result"
    }
   ],
   "source": [
    "len(player_one.all_cards)"
   ]
  },
  {
   "cell_type": "code",
   "execution_count": 159,
   "metadata": {},
   "outputs": [
    {
     "data": {
      "text/plain": [
       "26"
      ]
     },
     "execution_count": 159,
     "metadata": {},
     "output_type": "execute_result"
    }
   ],
   "source": [
    "len(player_two.all_cards)"
   ]
  },
  {
   "cell_type": "code",
   "execution_count": 24,
   "metadata": {},
   "outputs": [],
   "source": [
    "import pdb"
   ]
  },
  {
   "cell_type": "markdown",
   "metadata": {},
   "source": [
    "## 4. Play the Game"
   ]
  },
  {
   "cell_type": "code",
   "execution_count": 17,
   "metadata": {},
   "outputs": [],
   "source": [
    "import pdb"
   ]
  },
  {
   "cell_type": "code",
   "execution_count": 18,
   "metadata": {},
   "outputs": [],
   "source": [
    "game_on = True"
   ]
  },
  {
   "cell_type": "code",
   "execution_count": 1,
   "metadata": {},
   "outputs": [],
   "source": [
    "# create card\n",
    "suits = ('Hearts', 'Diamonds', 'Spades', 'Clubs')\n",
    "ranks = ('Two', 'Three', 'Four', 'Five', 'Six', 'Seven', 'Eight', 'Nine', 'Ten', 'Jack', 'Queen', 'King', 'Ace')\n",
    "values = {'Two':2, 'Three':3, 'Four':4, 'Five':5, 'Six':6, 'Seven':7, 'Eight':8, \n",
    "            'Nine':9, 'Ten':10, 'Jack':11, 'Queen':12, 'King':13, 'Ace':14}\n",
    "import random \n",
    "\n",
    "class Card():\n",
    "    def __init__(self,suit,rank):\n",
    "        self.suit = suit\n",
    "        self.rank=rank\n",
    "        self.value = values[rank]  # rank is already passed in instanstiation statement __init__\n",
    "        # the left side of the = are attributes of the calss Card, use self.xxx, the right side are the arguments we are gonna pass in \n",
    "        #once you create the instance of the class\n",
    "\n",
    "    # informtion to decribe the class or instance of the class for printing out\n",
    "    def __str__(self):\n",
    "        return self.rank + ' of ' + self.suit\n",
    "    \n",
    "    \n",
    "# create Deck \n",
    "class Deck():\n",
    "    \n",
    "    #instantiate method __init__()\n",
    "    def __init__(self):\n",
    "        \n",
    "        self.all_cards = [] # all_card this list is the attritue of Deck where we hold all attributes as a list \n",
    "                           # our Deck instance will take no input from the user since all deck would be the same 52 cards\n",
    "                           # so there is no any other arguments after self\n",
    "                 \n",
    "        for rank in ranks:\n",
    "            for suit in suits:\n",
    "                # create  card\n",
    "                one_card = Card(suit,rank) # return object \n",
    "                self.all_cards.append(one_card)\n",
    "    \n",
    "    def __str__(self):\n",
    "        \n",
    "        # gives the information you want to print out when you call print the instance of Deck \n",
    "        for card in new_deck.all_cards:\n",
    "            print(card)\n",
    "        return 'print the card objects out above. It is a list of card'\n",
    "    \n",
    "    # define shuffle methods \n",
    "    \n",
    "    def shuffle(self):\n",
    "        \n",
    "        # random.shuffle does not return anything so you cannot assign it to any variable, it happens in place in your \n",
    "        #original list\n",
    "        \n",
    "        random.shuffle(self.all_cards) # shuffle the list of cards\n",
    "        \n",
    "   # define the deal method like you need to draw one card for palying\n",
    "    def deal_one(self):\n",
    "        #pop method will also happen in place in the original list so do not assign it to variable\n",
    "        return self.all_cards.pop()\n",
    "    \n",
    "# create player and player action methods\n",
    "class Player():\n",
    "    \n",
    "    \" think about what kind of attributs or properties a brand new player should have?\"\n",
    "    \n",
    "    def __init__(self, name):\n",
    "        self.name=name\n",
    "        self.all_cards= [] # a brand new player also has empty hand \n",
    "        \n",
    "        \n",
    "    #define methods to add or remove cards from the players hand \n",
    "    def remove_one(self):\n",
    "        return self.all_cards.pop(0) # return the card object that we draw from the top of the list\n",
    "        \n",
    "    def add_cards(self, new_cards):\n",
    "        \n",
    "        # how to check if new_cards is iterable or not \n",
    "        if type(new_cards)== type([]):\n",
    "            # for adding  multiple cards objects into the all_cards list\n",
    "            self.all_cards.extend(new_cards)\n",
    "        else:\n",
    "            # so this mean when we formulate new cards if they are more than one then formulate them into a list\n",
    "            \n",
    "            # add signle card into the all_cards list\n",
    "            self.all_cards.append(new_cards)\n",
    "    \n",
    "    def __str__(self):\n",
    "        \n",
    "        for card in self.all_cards:\n",
    "            print(card)\n",
    "        # no matter what you do inside the str but the return object must be string type then it can be printed out \n",
    "        return f'The player {self.name} has {len(self.all_cards)} cards in hand'\n",
    "        \n"
   ]
  },
  {
   "cell_type": "code",
   "execution_count": 3,
   "metadata": {},
   "outputs": [
    {
     "name": "stdout",
     "output_type": "stream",
     "text": [
      "round 1\n",
      "round 2\n",
      "round 3\n",
      "round 4\n",
      "round 5\n",
      "round 6\n",
      "round 7\n",
      "round 8\n",
      "round 9\n",
      "at war!!!\n",
      "round 10\n",
      "round 11\n",
      "round 12\n",
      "round 13\n",
      "round 14\n",
      "round 15\n",
      "round 16\n",
      "round 17\n",
      "round 18\n",
      "round 19\n",
      "round 20\n",
      "round 21\n",
      "round 22\n",
      "round 23\n",
      "round 24\n",
      "round 25\n",
      "round 26\n",
      "round 27\n",
      "round 28\n",
      "round 29\n",
      "round 30\n",
      "round 31\n",
      "round 32\n",
      "round 33\n",
      "round 34\n",
      "round 35\n",
      "round 36\n",
      "round 37\n",
      "round 38\n",
      "round 39\n",
      "round 40\n",
      "round 41\n",
      "round 42\n",
      "round 43\n",
      "round 44\n",
      "round 45\n",
      "round 46\n",
      "round 47\n",
      "round 48\n",
      "round 49\n",
      "round 50\n",
      "round 51\n",
      "round 52\n",
      "round 53\n",
      "round 54\n",
      "round 55\n",
      "round 56\n",
      "round 57\n",
      "round 58\n",
      "round 59\n",
      "round 60\n",
      "round 61\n",
      "round 62\n",
      "round 63\n",
      "round 64\n",
      "at war!!!\n",
      "round 65\n",
      "round 66\n",
      "round 67\n",
      "round 68\n",
      "round 69\n",
      "round 70\n",
      "round 71\n",
      "round 72\n",
      "round 73\n",
      "round 74\n",
      "round 75\n",
      "round 76\n",
      "round 77\n",
      "round 78\n",
      "round 79\n",
      "round 80\n",
      "round 81\n",
      "round 82\n",
      "round 83\n",
      "round 84\n",
      "round 85\n",
      "round 86\n",
      "round 87\n",
      "round 88\n",
      "round 89\n",
      "round 90\n",
      "round 91\n",
      "round 92\n",
      "round 93\n",
      "round 94\n",
      "round 95\n",
      "round 96\n",
      "round 97\n",
      "round 98\n",
      "round 99\n",
      "round 100\n",
      "round 101\n",
      "round 102\n",
      "round 103\n",
      "round 104\n",
      "round 105\n",
      "round 106\n",
      "round 107\n",
      "round 108\n",
      "round 109\n",
      "round 110\n",
      "at war!!!\n",
      "at war!!!\n",
      "round 111\n",
      "round 112\n",
      "round 113\n",
      "round 114\n",
      "round 115\n",
      "round 116\n",
      "round 117\n",
      "round 118\n",
      "round 119\n",
      "round 120\n",
      "round 121\n",
      "round 122\n",
      "round 123\n",
      "round 124\n",
      "round 125\n",
      "round 126\n",
      "round 127\n",
      "round 128\n",
      "round 129\n",
      "round 130\n",
      "round 131\n",
      "round 132\n",
      "round 133\n",
      "round 134\n",
      "round 135\n",
      "round 136\n",
      "round 137\n",
      "round 138\n",
      "round 139\n",
      "round 140\n",
      "round 141\n",
      "round 142\n",
      "round 143\n",
      "round 144\n",
      "at war!!!\n",
      "round 145\n",
      "round 146\n",
      "round 147\n",
      "round 148\n",
      "round 149\n",
      "round 150\n",
      "round 151\n",
      "round 152\n",
      "round 153\n",
      "round 154\n",
      "round 155\n",
      "round 156\n",
      "round 157\n",
      "round 158\n",
      "round 159\n",
      "round 160\n",
      "round 161\n",
      "round 162\n",
      "round 163\n",
      "round 164\n",
      "round 165\n",
      "round 166\n",
      "round 167\n",
      "round 168\n",
      "round 169\n",
      "round 170\n",
      "round 171\n",
      "round 172\n",
      "at war!!!\n",
      "round 173\n",
      "round 174\n",
      "round 175\n",
      "round 176\n",
      "round 177\n",
      "round 178\n",
      "round 179\n",
      "round 180\n",
      "round 181\n",
      "at war!!!\n",
      "round 182\n",
      "at war!!!\n",
      "round 183\n",
      "Player One out of cards! Game Over\n",
      "Player Two Wins!\n"
     ]
    }
   ],
   "source": [
    "# one round is two players have drawed cards and then have clear result win/lose \n",
    "round_num =0\n",
    "\n",
    "while game_on:\n",
    "    round_num +=1 # round 1 from the beginning\n",
    "    print(f'round {round_num}')\n",
    "\n",
    "    # before start the game, check if the player are ready with not empty cards\n",
    "    if len(player_one.all_cards) == 0:\n",
    "        print(\"Player One out of cards! Game Over\")\n",
    "        print(\"Player Two Wins!\")\n",
    "        game_on=False\n",
    "        break  # break the while game_on loop\n",
    "\n",
    "    if len(player_two.all_cards) == 0:\n",
    "        print(\"Player two out of cards! Game Over\")\n",
    "        print(\"Player one Wins!\")\n",
    "        game_on=False\n",
    "        break  # break the while game_on loop\n",
    "\n",
    "    #otherwise the game_on is continuing\n",
    "    player_one_cards = []\n",
    "    player_one_cards.append(player_one.remove_one())\n",
    "    \n",
    "    player_two_cards = []\n",
    "    player_two_cards.append(player_two.remove_one())\n",
    "    \n",
    "    at_war = True # this one is very important since it will do comparision each time you draw card in the new round \n",
    "    # if we did not set ar_war as True then it will not start the comparison round at all. it just draw cards on tables\n",
    "    \n",
    "    while at_war:\n",
    "        \n",
    "        \n",
    "        if player_one_cards[-1].value > player_two_cards[-1].value:\n",
    "\n",
    "            # Player One gets the cards\n",
    "            player_one.add_cards(player_one_cards)\n",
    "            player_one.add_cards(player_two_cards)\n",
    "\n",
    "\n",
    "            # No Longer at \"war\" , time for next round\n",
    "            at_war = False\n",
    "\n",
    "        # Player Two Has higher Card\n",
    "        elif player_one_cards[-1].value < player_two_cards[-1].value:\n",
    "\n",
    "            # Player Two gets the cards\n",
    "            player_two.add_cards(player_one_cards)\n",
    "            player_two.add_cards(player_two_cards)\n",
    "\n",
    "            # No Longer at \"war\" , time for next round\n",
    "            at_war = False\n",
    "        else: \n",
    "            '''\n",
    "            print('WAR!')\n",
    "            # This occurs when the cards are equal.\n",
    "            # We'll grab another card each and continue the current war.\n",
    "\n",
    "            # First check to see if player has enough cards\n",
    "\n",
    "            # Check to see if a player is out of cards:\n",
    "            if len(player_one.all_cards) < 5:\n",
    "                print(\"Player One unable to play war! Game Over at War\")\n",
    "                print(\"Player Two Wins! Player One Loses!\")\n",
    "                game_on = False\n",
    "                break\n",
    "\n",
    "            elif len(player_two.all_cards) < 5:\n",
    "                print(\"Player Two unable to play war! Game Over at War\")\n",
    "                print(\"Player One Wins! Player One Loses!\")\n",
    "                game_on = False\n",
    "                break\n",
    "            # Otherwise, we're still at war, so we'll add the next cards\n",
    "            else:\n",
    "                for num in range(5):\n",
    "                    player_one_cards.append(player_one.remove_one())\n",
    "                    player_two_cards.append(player_two.remove_one())\n",
    "           \n",
    "            '''\n",
    "            print('at war!!!') \n",
    "            # since the ranks are matched up then the rules here is the player needs to draw additional 5 cards \n",
    "            #to play the\n",
    "            # war but the rule could be different \n",
    "\n",
    "            # before starting the war check if both two players have enough cards to start the war \n",
    "            if len(player_one.all_cards) < 5:\n",
    "                print('player One has lost the game since One has no enough cards to start the war! Player Two wins')\n",
    "                game_on =False # finish the game \n",
    "                break # do not forget to break the current at_war loop\n",
    "\n",
    "            elif len(player_two.all_cards) < 5:\n",
    "                print('player tTwo has lost the game since Two has no enough cards to start the war! Player One wins')\n",
    "                game_on = False\n",
    "                break\n",
    "\n",
    "            else: \n",
    "                # draw additional cards to the table and then start the at_war loop to do inner comparision of \n",
    "                #these adding\n",
    "                # cards cards are added at the bottom of the table list and then it will pop off also from the\n",
    "                #bottom so\n",
    "                # the latest added will be drawn first \n",
    "\n",
    "                for i in range(5):\n",
    "                    player_one_cards.append(player_one.remove_one())\n",
    "                    player_two_cards.append(player_two.remove_one())\n",
    "\n"
   ]
  },
  {
   "cell_type": "markdown",
   "metadata": {},
   "source": [
    "## Game Setup in One Cell"
   ]
  },
  {
   "cell_type": "code",
   "execution_count": 7,
   "metadata": {},
   "outputs": [],
   "source": [
    "# create two players which are two objects and created from the Class \n",
    "player_one = Player(\"One\")\n",
    "player_two = Player(\"Two\")\n",
    "\n",
    "# create the deck of cards \n",
    "new_deck = Deck()\n",
    "# shuffle cards \n",
    "new_deck.shuffle()\n",
    "\n",
    "# split the deck cards into two parts \n",
    "for x in range(26):\n",
    "    player_one.add_cards(new_deck.deal_one())\n",
    "    player_two.add_cards(new_deck.deal_one())\n",
    "\n",
    "# initiante the game_on\n",
    "game_on = True"
   ]
  },
  {
   "cell_type": "code",
   "execution_count": 8,
   "metadata": {},
   "outputs": [
    {
     "name": "stdout",
     "output_type": "stream",
     "text": [
      "Round 1\n",
      "Round 2\n",
      "Round 3\n",
      "Round 4\n",
      "Round 5\n",
      "Round 6\n",
      "Round 7\n",
      "Round 8\n",
      "Round 9\n",
      "Round 10\n",
      "Round 11\n",
      "Round 12\n",
      "Round 13\n",
      "Round 14\n",
      "Round 15\n",
      "Round 16\n",
      "Round 17\n",
      "Round 18\n",
      "Round 19\n",
      "Round 20\n",
      "Round 21\n",
      "Round 22\n",
      "Round 23\n",
      "Round 24\n",
      "Round 25\n",
      "Round 26\n",
      "Round 27\n",
      "Round 28\n",
      "Round 29\n",
      "Round 30\n",
      "Round 31\n",
      "Round 32\n",
      "Round 33\n",
      "Round 34\n",
      "Round 35\n",
      "Round 36\n",
      "Round 37\n",
      "Round 38\n",
      "Round 39\n",
      "Round 40\n",
      "Round 41\n",
      "Round 42\n",
      "Round 43\n",
      "Round 44\n",
      "Round 45\n",
      "Round 46\n",
      "Round 47\n",
      "Round 48\n",
      "Round 49\n",
      "Round 50\n",
      "Round 51\n",
      "Round 52\n",
      "Round 53\n",
      "Round 54\n",
      "Round 55\n",
      "Round 56\n",
      "Round 57\n",
      "Round 58\n",
      "Round 59\n",
      "Round 60\n",
      "Round 61\n",
      "Round 62\n",
      "Round 63\n",
      "Round 64\n",
      "Round 65\n",
      "Round 66\n",
      "Round 67\n",
      "Round 68\n",
      "Round 69\n",
      "Round 70\n",
      "Round 71\n",
      "Round 72\n",
      "Round 73\n",
      "Round 74\n",
      "Round 75\n",
      "Round 76\n",
      "Round 77\n",
      "Round 78\n",
      "Round 79\n",
      "Round 80\n",
      "Round 81\n",
      "Round 82\n",
      "Round 83\n",
      "Round 84\n",
      "Round 85\n",
      "Round 86\n",
      "Round 87\n",
      "Round 88\n",
      "Round 89\n",
      "Round 90\n",
      "Round 91\n",
      "Round 92\n",
      "Round 93\n",
      "Round 94\n",
      "Round 95\n",
      "Round 96\n",
      "Round 97\n",
      "Round 98\n",
      "Round 99\n",
      "Round 100\n",
      "Round 101\n",
      "Round 102\n",
      "Round 103\n",
      "Round 104\n",
      "Round 105\n",
      "Round 106\n",
      "Round 107\n",
      "Round 108\n",
      "Round 109\n",
      "Round 110\n",
      "Round 111\n",
      "Round 112\n",
      "Round 113\n",
      "Round 114\n",
      "Round 115\n",
      "Round 116\n",
      "Round 117\n",
      "Round 118\n",
      "Round 119\n",
      "Round 120\n",
      "Round 121\n",
      "Round 122\n",
      "Round 123\n",
      "Round 124\n",
      "Round 125\n",
      "Round 126\n",
      "Round 127\n",
      "Round 128\n",
      "Round 129\n",
      "Round 130\n",
      "Round 131\n",
      "Round 132\n",
      "Round 133\n",
      "Round 134\n",
      "Round 135\n",
      "Round 136\n",
      "Round 137\n",
      "Round 138\n",
      "Round 139\n",
      "Round 140\n",
      "Round 141\n",
      "Round 142\n",
      "Round 143\n",
      "Round 144\n",
      "Round 145\n",
      "Round 146\n",
      "Round 147\n",
      "Round 148\n",
      "Round 149\n",
      "Round 150\n",
      "Round 151\n",
      "Round 152\n",
      "Round 153\n",
      "Round 154\n",
      "Round 155\n",
      "Round 156\n",
      "Round 157\n",
      "Round 158\n",
      "Round 159\n",
      "Round 160\n",
      "Round 161\n",
      "Round 162\n",
      "Round 163\n",
      "Round 164\n",
      "Round 165\n",
      "Round 166\n",
      "Round 167\n",
      "Round 168\n",
      "Round 169\n",
      "Round 170\n",
      "Round 171\n",
      "Round 172\n",
      "Round 173\n",
      "Round 174\n",
      "Round 175\n",
      "Round 176\n",
      "Round 177\n",
      "Round 178\n",
      "Round 179\n",
      "Round 180\n",
      "Round 181\n",
      "Round 182\n",
      "Round 183\n",
      "Round 184\n",
      "Round 185\n",
      "Round 186\n",
      "Round 187\n",
      "Round 188\n",
      "Round 189\n",
      "Round 190\n",
      "Round 191\n",
      "Round 192\n",
      "Round 193\n",
      "Round 194\n",
      "Round 195\n",
      "Round 196\n",
      "Round 197\n",
      "Round 198\n",
      "Round 199\n",
      "Round 200\n",
      "Round 201\n",
      "Round 202\n",
      "Round 203\n",
      "Round 204\n",
      "Round 205\n",
      "Round 206\n",
      "Round 207\n",
      "Round 208\n",
      "Round 209\n",
      "Round 210\n",
      "Round 211\n",
      "Round 212\n",
      "Round 213\n",
      "Round 214\n",
      "Round 215\n",
      "Round 216\n",
      "Round 217\n",
      "Round 218\n",
      "Round 219\n",
      "Round 220\n",
      "Round 221\n",
      "Round 222\n",
      "Round 223\n",
      "Round 224\n",
      "Round 225\n",
      "Round 226\n",
      "Round 227\n",
      "Round 228\n",
      "Round 229\n",
      "Round 230\n",
      "Round 231\n",
      "Round 232\n",
      "Round 233\n",
      "Round 234\n",
      "Round 235\n",
      "Round 236\n",
      "Round 237\n",
      "Round 238\n",
      "Round 239\n",
      "Round 240\n",
      "Round 241\n",
      "Round 242\n",
      "Round 243\n",
      "Round 244\n",
      "Round 245\n",
      "Round 246\n",
      "Round 247\n",
      "Round 248\n",
      "Round 249\n",
      "Round 250\n",
      "Round 251\n",
      "Round 252\n",
      "Round 253\n",
      "Round 254\n",
      "Round 255\n",
      "Round 256\n",
      "Round 257\n",
      "Round 258\n",
      "Round 259\n",
      "Round 260\n",
      "Round 261\n",
      "Round 262\n",
      "Round 263\n",
      "Round 264\n",
      "Round 265\n",
      "Round 266\n",
      "Round 267\n",
      "Round 268\n",
      "Round 269\n",
      "Round 270\n",
      "Round 271\n",
      "Round 272\n",
      "Round 273\n",
      "Round 274\n",
      "Round 275\n",
      "Round 276\n",
      "Round 277\n",
      "Round 278\n",
      "Round 279\n",
      "Round 280\n",
      "Round 281\n",
      "Round 282\n",
      "Round 283\n",
      "Round 284\n",
      "Round 285\n",
      "Round 286\n",
      "Round 287\n",
      "Round 288\n",
      "Round 289\n",
      "Round 290\n",
      "Round 291\n",
      "Round 292\n",
      "Round 293\n",
      "Round 294\n",
      "Round 295\n",
      "Round 296\n",
      "Round 297\n",
      "Round 298\n",
      "Round 299\n",
      "Round 300\n",
      "Round 301\n",
      "Round 302\n",
      "Round 303\n",
      "Round 304\n",
      "Round 305\n",
      "Round 306\n",
      "Round 307\n",
      "Round 308\n",
      "Round 309\n",
      "Round 310\n",
      "Round 311\n",
      "Round 312\n",
      "Round 313\n",
      "Round 314\n",
      "Round 315\n",
      "Round 316\n",
      "Round 317\n",
      "Round 318\n",
      "Round 319\n",
      "Round 320\n",
      "Round 321\n",
      "Round 322\n",
      "Round 323\n",
      "Round 324\n",
      "Round 325\n",
      "Round 326\n",
      "Round 327\n",
      "Round 328\n",
      "Round 329\n",
      "Round 330\n",
      "Round 331\n",
      "Round 332\n",
      "Round 333\n",
      "Round 334\n",
      "Round 335\n",
      "Round 336\n",
      "Round 337\n",
      "Round 338\n",
      "Round 339\n",
      "Round 340\n",
      "Round 341\n",
      "Round 342\n",
      "Round 343\n",
      "Round 344\n",
      "Round 345\n",
      "Round 346\n",
      "Round 347\n",
      "Round 348\n",
      "Round 349\n",
      "Round 350\n",
      "Round 351\n",
      "Round 352\n",
      "Round 353\n",
      "Round 354\n",
      "Round 355\n",
      "Round 356\n",
      "Round 357\n",
      "Round 358\n",
      "Round 359\n",
      "Round 360\n",
      "Round 361\n",
      "Round 362\n",
      "Round 363\n",
      "Round 364\n",
      "Round 365\n",
      "Round 366\n",
      "Round 367\n",
      "Round 368\n",
      "Round 369\n",
      "Round 370\n",
      "Round 371\n",
      "Round 372\n",
      "Round 373\n",
      "Round 374\n",
      "Round 375\n",
      "Round 376\n",
      "Round 377\n",
      "Round 378\n",
      "Round 379\n",
      "Round 380\n",
      "Round 381\n",
      "Round 382\n",
      "Round 383\n",
      "Round 384\n",
      "Round 385\n",
      "Round 386\n",
      "Round 387\n",
      "Round 388\n",
      "Round 389\n",
      "Round 390\n",
      "Round 391\n",
      "Round 392\n",
      "Round 393\n",
      "Round 394\n",
      "Round 395\n",
      "Round 396\n",
      "Round 397\n",
      "Round 398\n",
      "Round 399\n",
      "Round 400\n",
      "Round 401\n",
      "Round 402\n",
      "Round 403\n",
      "Round 404\n",
      "Round 405\n",
      "Round 406\n",
      "Round 407\n",
      "Round 408\n",
      "Round 409\n",
      "Round 410\n",
      "Round 411\n",
      "Round 412\n",
      "Round 413\n",
      "Round 414\n",
      "Round 415\n",
      "Round 416\n",
      "Round 417\n",
      "Round 418\n",
      "Round 419\n",
      "Round 420\n",
      "Round 421\n",
      "Round 422\n",
      "Round 423\n",
      "Round 424\n",
      "Round 425\n",
      "Round 426\n",
      "Round 427\n",
      "Round 428\n",
      "Round 429\n",
      "Round 430\n",
      "Round 431\n",
      "Round 432\n",
      "Round 433\n",
      "Round 434\n",
      "Round 435\n",
      "Round 436\n",
      "Round 437\n",
      "Round 438\n",
      "Round 439\n",
      "Round 440\n",
      "Round 441\n",
      "Round 442\n",
      "Round 443\n",
      "Round 444\n",
      "Round 445\n",
      "Round 446\n",
      "Round 447\n",
      "Round 448\n",
      "Round 449\n",
      "Round 450\n",
      "Round 451\n",
      "Round 452\n",
      "Round 453\n",
      "Round 454\n",
      "Round 455\n",
      "Round 456\n",
      "Round 457\n",
      "Round 458\n",
      "Round 459\n",
      "Round 460\n",
      "Round 461\n",
      "Round 462\n",
      "Round 463\n",
      "Round 464\n",
      "Round 465\n",
      "Round 466\n",
      "Round 467\n",
      "Round 468\n",
      "Round 469\n",
      "Round 470\n",
      "Round 471\n",
      "Round 472\n",
      "Round 473\n",
      "Round 474\n",
      "Round 475\n",
      "Round 476\n",
      "Round 477\n",
      "Round 478\n",
      "Round 479\n",
      "Round 480\n",
      "Round 481\n",
      "Round 482\n",
      "Round 483\n",
      "Round 484\n",
      "Round 485\n",
      "Round 486\n",
      "Round 487\n",
      "Round 488\n",
      "Round 489\n",
      "Round 490\n",
      "Round 491\n",
      "Round 492\n",
      "Round 493\n",
      "Round 494\n",
      "Round 495\n",
      "Round 496\n",
      "Round 497\n",
      "Round 498\n",
      "Round 499\n",
      "Round 500\n",
      "Round 501\n",
      "Round 502\n",
      "Round 503\n",
      "Round 504\n",
      "Round 505\n",
      "Round 506\n",
      "Round 507\n",
      "Round 508\n",
      "Round 509\n",
      "Round 510\n",
      "Round 511\n",
      "Round 512\n",
      "Round 513\n",
      "Round 514\n",
      "Round 515\n",
      "Round 516\n",
      "Round 517\n",
      "Round 518\n",
      "Round 519\n",
      "Round 520\n",
      "Round 521\n",
      "Round 522\n",
      "Round 523\n",
      "Round 524\n",
      "Round 525\n",
      "Round 526\n",
      "Round 527\n",
      "Round 528\n",
      "Round 529\n",
      "Round 530\n",
      "Round 531\n",
      "Round 532\n",
      "Round 533\n",
      "Round 534\n",
      "Round 535\n",
      "Round 536\n",
      "Round 537\n",
      "Round 538\n",
      "Round 539\n",
      "Round 540\n",
      "Round 541\n",
      "Round 542\n",
      "Round 543\n",
      "Round 544\n",
      "Round 545\n",
      "Round 546\n",
      "Round 547\n",
      "Round 548\n",
      "Round 549\n",
      "Round 550\n",
      "Round 551\n",
      "Round 552\n",
      "Round 553\n",
      "Round 554\n",
      "Round 555\n",
      "Round 556\n",
      "Round 557\n",
      "Round 558\n",
      "Round 559\n",
      "Round 560\n",
      "Round 561\n",
      "Round 562\n",
      "Round 563\n",
      "Round 564\n",
      "Round 565\n",
      "Round 566\n",
      "Round 567\n",
      "Round 568\n",
      "Round 569\n",
      "Round 570\n",
      "Round 571\n",
      "Round 572\n",
      "Round 573\n",
      "Round 574\n",
      "Round 575\n",
      "Round 576\n",
      "Round 577\n",
      "Round 578\n",
      "Round 579\n",
      "Round 580\n",
      "Round 581\n",
      "Round 582\n",
      "Round 583\n",
      "Round 584\n",
      "Round 585\n",
      "Round 586\n",
      "Round 587\n",
      "Round 588\n",
      "Round 589\n",
      "Round 590\n",
      "Round 591\n",
      "Round 592\n",
      "Round 593\n",
      "Round 594\n",
      "Round 595\n",
      "Round 596\n",
      "Round 597\n",
      "Round 598\n",
      "Round 599\n",
      "Round 600\n",
      "Round 601\n",
      "Round 602\n",
      "Round 603\n",
      "Round 604\n",
      "Round 605\n",
      "Round 606\n",
      "Round 607\n",
      "Round 608\n",
      "Round 609\n",
      "Round 610\n",
      "Round 611\n",
      "Round 612\n",
      "Round 613\n",
      "Round 614\n",
      "Round 615\n",
      "Round 616\n",
      "Round 617\n",
      "Round 618\n",
      "Round 619\n",
      "Round 620\n",
      "Round 621\n",
      "Round 622\n",
      "Round 623\n",
      "Round 624\n",
      "Round 625\n",
      "Round 626\n",
      "Round 627\n",
      "Round 628\n",
      "Round 629\n",
      "Round 630\n",
      "Round 631\n",
      "Round 632\n",
      "Round 633\n",
      "Round 634\n",
      "Round 635\n",
      "Round 636\n",
      "Round 637\n",
      "Round 638\n",
      "Round 639\n",
      "Round 640\n",
      "Player two out of cards! Game Over\n",
      "Player one Wins!\n"
     ]
    },
    {
     "data": {
      "text/plain": [
       "\"\\n\\nwhile game_on:\\n    \\n    round_num +=1\\n    print(f'Round {round_num}')\\n    #before any round check if there is one player has lost by checking if they have no cards at hand \\n    if len(player_one.all_cards) == 0:\\n        print('Player One out of cards! Game over! and Player one wins')\\n        game_on = False\\n        break \\n\\n    if len(player_two.all_cards)==0:\\n        print('Player two out of cards! game over and Player two wins')\\n        game_on = False\\n        break \\n    # game continiue \\n    # draw cards on table from two player \\n    player_one_cards_on_table = []\\n    player_one_cards_on_table.append(player_one.remove_one()) # remove always remove from the top. append to the bottom \\n\\n    player_two_cards_on_table = []\\n    player_two_cards_on_table.append(player_two.remove_one())\\n\\n    at_war=True \\n    # start the war for different scenario\\n    while at_war:        \\n        # once there are several cards on table. then compare the card in order from the bottom \\n        # because new cards are added in to the bottom \\n        if player_one_cards_on_table[-1].value > player_two_cards_on_table[-1].value:\\n          # the winner here gets all cards \\n            player_one.add_cards(player_two_cards_on_table)\\n            player_one.add_cards(player_one_cards_on_table)\\n            at_war = False \\n        elif player_one_cards_on_table[-1].value < player_two_cards_on_table[-1].value:\\n\\n            player_two.add_cards(player_two_cards_on_table)\\n            player_two.add_cards(player_one_cards_on_table)\\n            at_war=False\\n        else:\\n            print('war! Draw more cards for biding')\\n            # Check the qualification of two players the rule is each player needs to draw 5 cards to start the war\\n            if len(player_one.all_cards) < 5:\\n                print('Player one has no enough cards to start the war, Player two wins')\\n                game_on = False\\n                break \\n\\n            elif len(player_two.all_cards) < 5:\\n                print('Player two has no enough cards to start the war, Player one wins')\\n                game_on =False \\n                break\\n            else:\\n                # draw crads on table from two players from the top \\n                for x in range(5):\\n                    player_one_cards_on_table.append(player_one.remove_one())\\n                    player_two_cards_on_table.append(player_two.remove_one())\\n\\n\""
      ]
     },
     "execution_count": 8,
     "metadata": {},
     "output_type": "execute_result"
    }
   ],
   "source": [
    "# one round is two players have drawed cards and then have clear result win/lose \n",
    "round_num =0\n",
    "\n",
    "while game_on:\n",
    "    round_num +=1 \n",
    "    print(f'Round {round_num}')\n",
    "    if len(player_one.all_cards) == 0:\n",
    "        print(\"Player One out of cards! Game Over\")\n",
    "        print(\"Player Two Wins!\")\n",
    "        game_on=False\n",
    "        break  # break the while game_on loop\n",
    "    if len(player_two.all_cards) == 0:\n",
    "        print(\"Player two out of cards! Game Over\")\n",
    "        print(\"Player one Wins!\")\n",
    "        game_on=False\n",
    "        break  # break the while game_on loop\n",
    "        \n",
    "    player_one_cards_on_table1 = []\n",
    "    player_one_cards_on_table1.append(player_one.remove_one()) # remove always remove from the top. append to the bottom \n",
    "\n",
    "    player_two_cards_on_table2 = []\n",
    "    player_two_cards_on_table2.append(player_two.remove_one())\n",
    "    at_war = True \n",
    "\n",
    "    while at_war:\n",
    "        \n",
    "        if player_one_cards_on_table1[-1].value > player_two_cards_on_table2[-1].value:\n",
    "          # the winner here gets all cards \n",
    "            player_one.add_cards(player_two_cards_on_table2)\n",
    "            player_one.add_cards(player_one_cards_on_table1)\n",
    "            at_war = False \n",
    "        elif player_one_cards_on_table1[-1].value < player_two_cards_on_table2[-1].value:\n",
    "\n",
    "            player_two.add_cards(player_two_cards_on_table2)\n",
    "            player_two.add_cards(player_one_cards_on_table1)\n",
    "            at_war=False\n",
    "            \n",
    "        else:  \n",
    "            if len(player_one.all_cards) < 5:\n",
    "                game_on=False\n",
    "                break\n",
    "            elif len(player_two.all_cards) <5:\n",
    "                game_on=False\n",
    "                break\n",
    "            else:\n",
    "                 for x in range(5):\n",
    "                    player_one_cards_on_table1.append(player_one.remove_one())\n",
    "                    player_two_cards_on_table2.append(player_two.remove_one())\n",
    "\n",
    "    \n",
    "'''\n",
    "\n",
    "while game_on:\n",
    "    \n",
    "    round_num +=1\n",
    "    print(f'Round {round_num}')\n",
    "    #before any round check if there is one player has lost by checking if they have no cards at hand \n",
    "    if len(player_one.all_cards) == 0:\n",
    "        print('Player One out of cards! Game over! and Player one wins')\n",
    "        game_on = False\n",
    "        break \n",
    "\n",
    "    if len(player_two.all_cards)==0:\n",
    "        print('Player two out of cards! game over and Player two wins')\n",
    "        game_on = False\n",
    "        break \n",
    "    # game continiue \n",
    "    # draw cards on table from two player \n",
    "    player_one_cards_on_table = []\n",
    "    player_one_cards_on_table.append(player_one.remove_one()) # remove always remove from the top. append to the bottom \n",
    "\n",
    "    player_two_cards_on_table = []\n",
    "    player_two_cards_on_table.append(player_two.remove_one())\n",
    "\n",
    "    at_war=True \n",
    "    # start the war for different scenario\n",
    "    while at_war:        \n",
    "        # once there are several cards on table. then compare the card in order from the bottom \n",
    "        # because new cards are added in to the bottom \n",
    "        if player_one_cards_on_table[-1].value > player_two_cards_on_table[-1].value:\n",
    "          # the winner here gets all cards \n",
    "            player_one.add_cards(player_two_cards_on_table)\n",
    "            player_one.add_cards(player_one_cards_on_table)\n",
    "            at_war = False \n",
    "        elif player_one_cards_on_table[-1].value < player_two_cards_on_table[-1].value:\n",
    "\n",
    "            player_two.add_cards(player_two_cards_on_table)\n",
    "            player_two.add_cards(player_one_cards_on_table)\n",
    "            at_war=False\n",
    "        else:\n",
    "            print('war! Draw more cards for biding')\n",
    "            # Check the qualification of two players the rule is each player needs to draw 5 cards to start the war\n",
    "            if len(player_one.all_cards) < 5:\n",
    "                print('Player one has no enough cards to start the war, Player two wins')\n",
    "                game_on = False\n",
    "                break \n",
    "\n",
    "            elif len(player_two.all_cards) < 5:\n",
    "                print('Player two has no enough cards to start the war, Player one wins')\n",
    "                game_on =False \n",
    "                break\n",
    "            else:\n",
    "                # draw crads on table from two players from the top \n",
    "                for x in range(5):\n",
    "                    player_one_cards_on_table.append(player_one.remove_one())\n",
    "                    player_two_cards_on_table.append(player_two.remove_one())\n",
    "\n",
    "''' "
   ]
  },
  {
   "cell_type": "code",
   "execution_count": 6,
   "metadata": {},
   "outputs": [
    {
     "name": "stdout",
     "output_type": "stream",
     "text": [
      "Round 1\n",
      "Round 2\n",
      "Round 3\n",
      "Round 4\n",
      "Round 5\n",
      "Round 6\n",
      "Round 7\n",
      "Round 8\n",
      "Round 9\n",
      "Round 10\n",
      "Round 11\n",
      "Round 12\n",
      "Round 13\n",
      "Round 14\n",
      "Round 15\n",
      "Round 16\n",
      "Round 17\n",
      "Round 18\n",
      "Round 19\n",
      "war! Draw more cards for biding\n",
      "Round 20\n",
      "Round 21\n",
      "Round 22\n",
      "Round 23\n",
      "Round 24\n",
      "Round 25\n",
      "Round 26\n",
      "Round 27\n",
      "Round 28\n",
      "Round 29\n",
      "Round 30\n",
      "Round 31\n",
      "Round 32\n",
      "Round 33\n",
      "Round 34\n",
      "Round 35\n",
      "Round 36\n",
      "Round 37\n",
      "Round 38\n",
      "Round 39\n",
      "Round 40\n",
      "Round 41\n",
      "Round 42\n",
      "Round 43\n",
      "Round 44\n",
      "Round 45\n",
      "Round 46\n",
      "Round 47\n",
      "Round 48\n",
      "Round 49\n",
      "war! Draw more cards for biding\n",
      "Round 50\n",
      "Round 51\n",
      "Round 52\n",
      "Round 53\n",
      "Round 54\n",
      "Round 55\n",
      "Round 56\n",
      "Round 57\n",
      "Round 58\n",
      "Round 59\n",
      "Round 60\n",
      "war! Draw more cards for biding\n",
      "Round 61\n",
      "Round 62\n",
      "Round 63\n",
      "Round 64\n",
      "Round 65\n",
      "Round 66\n",
      "Round 67\n",
      "Round 68\n",
      "Round 69\n",
      "Round 70\n",
      "Round 71\n",
      "Round 72\n",
      "Round 73\n",
      "Round 74\n",
      "Round 75\n",
      "Round 76\n",
      "Round 77\n",
      "Round 78\n",
      "Round 79\n",
      "war! Draw more cards for biding\n",
      "Round 80\n",
      "Round 81\n",
      "Round 82\n",
      "Round 83\n",
      "Round 84\n",
      "Round 85\n",
      "Round 86\n",
      "Round 87\n",
      "Round 88\n",
      "Round 89\n",
      "Round 90\n",
      "Round 91\n",
      "Round 92\n",
      "Round 93\n",
      "Round 94\n",
      "Round 95\n",
      "Round 96\n",
      "Round 97\n",
      "Round 98\n",
      "Round 99\n",
      "Round 100\n",
      "Round 101\n",
      "Round 102\n",
      "Round 103\n",
      "Round 104\n",
      "Round 105\n",
      "Round 106\n",
      "Round 107\n",
      "Round 108\n",
      "Round 109\n",
      "Round 110\n",
      "Round 111\n",
      "Round 112\n",
      "Round 113\n",
      "Round 114\n",
      "Round 115\n",
      "Round 116\n",
      "Round 117\n",
      "Round 118\n",
      "Round 119\n",
      "Round 120\n",
      "Round 121\n",
      "war! Draw more cards for biding\n",
      "Round 122\n",
      "Round 123\n",
      "Round 124\n",
      "Round 125\n",
      "Round 126\n",
      "Round 127\n",
      "Round 128\n",
      "Round 129\n",
      "Round 130\n",
      "Round 131\n",
      "Round 132\n",
      "Round 133\n",
      "Round 134\n",
      "Round 135\n",
      "Round 136\n",
      "Round 137\n",
      "Round 138\n",
      "Round 139\n",
      "Round 140\n",
      "Round 141\n",
      "Round 142\n",
      "Round 143\n",
      "Round 144\n",
      "Round 145\n",
      "Round 146\n",
      "Round 147\n",
      "Round 148\n",
      "Round 149\n",
      "Round 150\n",
      "Round 151\n",
      "Round 152\n",
      "Round 153\n",
      "war! Draw more cards for biding\n",
      "Round 154\n",
      "Round 155\n",
      "Round 156\n",
      "Round 157\n",
      "Round 158\n",
      "Round 159\n",
      "Round 160\n",
      "war! Draw more cards for biding\n",
      "Player two has no enough cards to start the war, Player one wins\n"
     ]
    }
   ],
   "source": [
    "round_num=0\n",
    "while game_on:\n",
    "    \n",
    "    round_num +=1\n",
    "    print(f'Round {round_num}')\n",
    "\n",
    "    #before any round check if there is one player has lost by checking if they have no cards at hand \n",
    "    if len(player_one.all_cards) == 0:\n",
    "        print('Player One out of cards! Game over! and Player one wins')\n",
    "        game_on = False\n",
    "        break \n",
    "\n",
    "    if len(player_two.all_cards)==0:\n",
    "        print('Player two out of cards! game over and Player two wins')\n",
    "        game_on = False\n",
    "        break \n",
    "\n",
    "    # game continiue \n",
    "\n",
    "    # draw cards on table from two player \n",
    "    player_one_cards_on_table = []\n",
    "    player_one_cards_on_table.append(player_one.remove_one()) # remove always remove from the top. append to the bottom \n",
    "\n",
    "    player_two_cards_on_table = []\n",
    "    player_two_cards_on_table.append(player_two.remove_one())\n",
    "\n",
    "    at_war=True \n",
    "    # start the war for different scenario\n",
    "    while at_war:\n",
    "              \n",
    "\n",
    "        # once there are several cards on table. then compare the card in order from the bottom \n",
    "        # because new cards are added in to the bottom \n",
    "        if player_one_cards_on_table[-1].value > player_two_cards_on_table[-1].value:\n",
    "          # the winner here gets all cards \n",
    "            player_one.add_cards(player_two_cards_on_table)\n",
    "            player_one.add_cards(player_one_cards_on_table)\n",
    "            at_war = False \n",
    "        elif player_one_cards_on_table[-1].value < player_two_cards_on_table[-1].value:\n",
    "\n",
    "            player_two.add_cards(player_two_cards_on_table)\n",
    "            player_two.add_cards(player_one_cards_on_table)\n",
    "            at_war=False\n",
    "        else:\n",
    "            print('war! Draw more cards for biding')\n",
    "            # Check the qualification of two players the rule is each player needs to draw 5 cards to start the war\n",
    "            if len(player_one.all_cards) < 5:\n",
    "                print('Player one has no enough cards to start the war, Player two wins')\n",
    "                game_on = False\n",
    "                break \n",
    "\n",
    "            elif len(player_two.all_cards) < 5:\n",
    "                print('Player two has no enough cards to start the war, Player one wins')\n",
    "                game_on =False \n",
    "                break\n",
    "            else:\n",
    "                # draw crads on table from two players from the top \n",
    "                for x in range(5):\n",
    "                    player_one_cards_on_table.append(player_one.remove_one())\n",
    "                    player_two_cards_on_table.append(player_two.remove_one())\n",
    "              \n",
    "\n",
    "                            \n",
    "                      \n",
    "                  \n",
    "              \n",
    "              \n",
    "    "
   ]
  },
  {
   "cell_type": "code",
   "execution_count": 5,
   "metadata": {},
   "outputs": [
    {
     "name": "stdout",
     "output_type": "stream",
     "text": [
      "Round 1\n",
      "Round 2\n",
      "Round 3\n",
      "Round 4\n",
      "Round 5\n",
      "Round 6\n",
      "Round 7\n",
      "Round 8\n",
      "Round 9\n",
      "WAR!\n",
      "Round 10\n",
      "Round 11\n",
      "Round 12\n",
      "Round 13\n",
      "Round 14\n",
      "WAR!\n",
      "Round 15\n",
      "Round 16\n",
      "Round 17\n",
      "Round 18\n",
      "Round 19\n",
      "Round 20\n",
      "Round 21\n",
      "Round 22\n",
      "Round 23\n",
      "Round 24\n",
      "Round 25\n",
      "Round 26\n",
      "Round 27\n",
      "Round 28\n",
      "Round 29\n",
      "Round 30\n",
      "Round 31\n",
      "Round 32\n",
      "Round 33\n",
      "Round 34\n",
      "Round 35\n",
      "Round 36\n",
      "Round 37\n",
      "Round 38\n",
      "Round 39\n",
      "Round 40\n",
      "Round 41\n",
      "Round 42\n",
      "Round 43\n",
      "Round 44\n",
      "Round 45\n",
      "Round 46\n",
      "Round 47\n",
      "Round 48\n",
      "Round 49\n",
      "Round 50\n",
      "Round 51\n",
      "Round 52\n",
      "Round 53\n",
      "Round 54\n",
      "Round 55\n",
      "Round 56\n",
      "Round 57\n",
      "Round 58\n",
      "Round 59\n",
      "Round 60\n",
      "Round 61\n",
      "Round 62\n",
      "Round 63\n",
      "Round 64\n",
      "Round 65\n",
      "Round 66\n",
      "WAR!\n",
      "Round 67\n",
      "Round 68\n",
      "Round 69\n",
      "Round 70\n",
      "Round 71\n",
      "Round 72\n",
      "Round 73\n",
      "Round 74\n",
      "Round 75\n",
      "Round 76\n",
      "Round 77\n",
      "Round 78\n",
      "Round 79\n",
      "Round 80\n",
      "Round 81\n",
      "Round 82\n",
      "Round 83\n",
      "Round 84\n",
      "Round 85\n",
      "Round 86\n",
      "Round 87\n",
      "Round 88\n",
      "Round 89\n",
      "Round 90\n",
      "Round 91\n",
      "Round 92\n",
      "Round 93\n",
      "Round 94\n",
      "Round 95\n",
      "Round 96\n",
      "Round 97\n",
      "Round 98\n",
      "Round 99\n",
      "Round 100\n",
      "Round 101\n",
      "WAR!\n",
      "Round 102\n",
      "Round 103\n",
      "Round 104\n",
      "Round 105\n",
      "Round 106\n",
      "Round 107\n",
      "Round 108\n",
      "Round 109\n",
      "Round 110\n",
      "Round 111\n",
      "Round 112\n",
      "Round 113\n",
      "Round 114\n",
      "Round 115\n",
      "Round 116\n",
      "Round 117\n",
      "Round 118\n",
      "Round 119\n",
      "Round 120\n",
      "Round 121\n",
      "Round 122\n",
      "Round 123\n",
      "Round 124\n",
      "Round 125\n",
      "Round 126\n",
      "Round 127\n",
      "Round 128\n",
      "Round 129\n",
      "Round 130\n",
      "Round 131\n",
      "Round 132\n",
      "Round 133\n",
      "WAR!\n",
      "Round 134\n",
      "WAR!\n",
      "Round 135\n",
      "Round 136\n",
      "Round 137\n",
      "Round 138\n",
      "Round 139\n",
      "WAR!\n",
      "Round 140\n",
      "Round 141\n",
      "Round 142\n",
      "Round 143\n",
      "Round 144\n",
      "Round 145\n",
      "Round 146\n",
      "Round 147\n",
      "Round 148\n",
      "Round 149\n",
      "Round 150\n",
      "WAR!\n",
      "Round 151\n",
      "Round 152\n",
      "Round 153\n",
      "Round 154\n",
      "Round 155\n",
      "Round 156\n",
      "Round 157\n",
      "Round 158\n",
      "Round 159\n",
      "Round 160\n",
      "Round 161\n",
      "WAR!\n",
      "Player One unable to play war! Game Over at War\n",
      "Player Two Wins! Player One Loses!\n"
     ]
    }
   ],
   "source": [
    "round_num = 0\n",
    "while game_on:\n",
    "    \n",
    "    round_num += 1\n",
    "    print(f\"Round {round_num}\")\n",
    "    \n",
    "    # Check to see if a player is out of cards:\n",
    "    if len(player_one.all_cards) == 0:\n",
    "        print(\"Player One out of cards! Game Over\")\n",
    "        print(\"Player Two Wins!\")\n",
    "        game_on = False\n",
    "        break\n",
    "        \n",
    "    if len(player_two.all_cards) == 0:\n",
    "        print(\"Player Two out of cards! Game Over\")\n",
    "        print(\"Player One Wins!\")\n",
    "        game_on = False\n",
    "        break\n",
    "    \n",
    "    # Otherwise, the game is still on!\n",
    "    \n",
    "    # Start a new round and reset current cards \"on the table\"\n",
    "    player_one_cards = []\n",
    "    player_one_cards.append(player_one.remove_one())\n",
    "    \n",
    "    player_two_cards = []\n",
    "    player_two_cards.append(player_two.remove_one())\n",
    "    \n",
    "    at_war = True\n",
    "\n",
    "    while at_war:\n",
    "\n",
    "\n",
    "        if player_one_cards[-1].value > player_two_cards[-1].value:\n",
    "\n",
    "            # Player One gets the cards\n",
    "            player_one.add_cards(player_one_cards)\n",
    "            player_one.add_cards(player_two_cards)\n",
    "            \n",
    "            \n",
    "            # No Longer at \"war\" , time for next round\n",
    "            at_war = False\n",
    "        \n",
    "        # Player Two Has higher Card\n",
    "        elif player_one_cards[-1].value < player_two_cards[-1].value:\n",
    "\n",
    "            # Player Two gets the cards\n",
    "            player_two.add_cards(player_one_cards)\n",
    "            player_two.add_cards(player_two_cards)\n",
    "            \n",
    "            # No Longer at \"war\" , time for next round\n",
    "            at_war = False\n",
    "\n",
    "        else:\n",
    "            print('WAR!')\n",
    "            # This occurs when the cards are equal.\n",
    "            # We'll grab another card each and continue the current war.\n",
    "            \n",
    "            # First check to see if player has enough cards\n",
    "            \n",
    "            # Check to see if a player is out of cards:\n",
    "            if len(player_one.all_cards) < 5:\n",
    "                print(\"Player One unable to play war! Game Over at War\")\n",
    "                print(\"Player Two Wins! Player One Loses!\")\n",
    "                game_on = False\n",
    "                break\n",
    "\n",
    "            elif len(player_two.all_cards) < 5:\n",
    "                print(\"Player Two unable to play war! Game Over at War\")\n",
    "                print(\"Player One Wins! Player One Loses!\")\n",
    "                game_on = False\n",
    "                break\n",
    "            # Otherwise, we're still at war, so we'll add the next cards\n",
    "            else:\n",
    "                for num in range(5):\n",
    "                    player_one_cards.append(player_one.remove_one())\n",
    "                    player_two_cards.append(player_two.remove_one())\n",
    "\n",
    "        "
   ]
  },
  {
   "cell_type": "code",
   "execution_count": null,
   "metadata": {},
   "outputs": [],
   "source": [
    "# one round is two players have drawed cards and then have clear result win/lose \n",
    "round_num =0\n",
    "\n",
    "while game_on:\n",
    "    round_num +=1 # round 1 from the beginning\n",
    "    \n",
    "    print(f'this is round {round_num}')\n",
    "    \n",
    "    # before start the game, check if the player are ready with not empty cards\n",
    "    if len(player_one.all_cards) == 0:\n",
    "        print(\"Player One out of cards! Game Over\")\n",
    "        print(\"Player Two Wins!\")\n",
    "        game_on=False\n",
    "        break  # break the while game_on loop\n",
    "    \n",
    "    if len(player_two.all_cards) == 0:\n",
    "        print(\"Player two out of cards! Game Over\")\n",
    "        print(\"Player one Wins!\")\n",
    "        game_on=False\n",
    "        break  # break the while game_on loop\n",
    "        \n",
    "    #otherwise the game_on is continuing\n",
    "    \n",
    "    # draw cards from two players on the table\n",
    "    player_one_cards_on_table = [] # initiate with empty, each round starts with empty cards on the table\n",
    "    player_one_cards_on_table.append(player_one.remove_one())\n",
    "    \n",
    "    player_two_cards_on_table = [] # the same as above\n",
    "    player_two_cards_on_table.append(player_two.remove_one())\n",
    "    \n",
    "    # since the drawing always starts with  one sigle card. so we define at_war is True until there is one player has resolved\n",
    "    # the match-up and then it will break and quit the at_war loop then it will not have the equal case at all.\n",
    "    at_war = True \n",
    "    \n",
    "    while at_war:\n",
    "        \n",
    "        if player_one_cards_on_table[-1].value > player_two_cards_on_table[-1].value:\n",
    "            # player one gets the cards\n",
    "            player_one.add_cards(player_one_cards_on_table)\n",
    "            player_one.add_cards(player_two_cards_on_table)\n",
    "            \n",
    "            \n",
    "            # quit the at_war loop since this round has been done with certian winner \n",
    "            at_war =False \n",
    "            \n",
    "        elif player_one_cards_on_table[-1].value < player_two_cards_on_table[-1].value:\n",
    "            # player one gets the cards\n",
    "            player_two.add_cards(player_one_cards_on_table)\n",
    "            player_two.add_cards(player_two_cards_on_table)\n",
    "            \n",
    "            at_War = False\n",
    "            \n",
    "        else: \n",
    "            \n",
    "            print('at war!!!') \n",
    "            # since the ranks are matched up then the rules here is the player needs to draw additional 5 cards to play the\n",
    "            # war but the rule could be different \n",
    "            \n",
    "            # before starting the war check if both two players have enough cards to start the war \n",
    "            if len(player_one.all_cards) < 5:\n",
    "                print('player One has lost the game since One has no enough cards to start the war! Player Two wins')\n",
    "                game_on =False # finish the game \n",
    "                break # do not forget to break the current at_war loop\n",
    "                \n",
    "            elif len(player_two.all_cards) <5:\n",
    "                print('player tTwo has lost the game since Two has no enough cards to start the war! Player One wins')\n",
    "                game_on = False\n",
    "                break\n",
    "                \n",
    "            else: \n",
    "                # draw additional cards to the table and then start the at_war loop to do inner comparision of these adding\n",
    "                # cards cards are added at the bottom of the table list and then it will pop off also from the bottom so\n",
    "                # the latest added will be drawn first \n",
    "                \n",
    "                for i in range(5):\n",
    "                    player_one_cards_on_table.append(player_one.remove_one())\n",
    "                    player_two_cards_on_table.append(player_two.remove_one())\n",
    "      \n",
    "    "
   ]
  },
  {
   "cell_type": "code",
   "execution_count": 56,
   "metadata": {},
   "outputs": [
    {
     "data": {
      "text/plain": [
       "27"
      ]
     },
     "execution_count": 56,
     "metadata": {},
     "output_type": "execute_result"
    }
   ],
   "source": [
    "len(player_one.all_cards)"
   ]
  },
  {
   "cell_type": "code",
   "execution_count": 57,
   "metadata": {},
   "outputs": [
    {
     "data": {
      "text/plain": [
       "25"
      ]
     },
     "execution_count": 57,
     "metadata": {},
     "output_type": "execute_result"
    }
   ],
   "source": [
    "len(player_two.all_cards)"
   ]
  },
  {
   "cell_type": "code",
   "execution_count": 59,
   "metadata": {},
   "outputs": [
    {
     "name": "stdout",
     "output_type": "stream",
     "text": [
      "Ace of Diamonds\n"
     ]
    }
   ],
   "source": [
    "print(player_one_cards[-1])"
   ]
  },
  {
   "cell_type": "code",
   "execution_count": 60,
   "metadata": {},
   "outputs": [
    {
     "name": "stdout",
     "output_type": "stream",
     "text": [
      "Four of Hearts\n"
     ]
    }
   ],
   "source": [
    "print(player_two_cards[-1])"
   ]
  },
  {
   "cell_type": "markdown",
   "metadata": {
    "collapsed": true
   },
   "source": [
    "## Great Work!\n",
    "\n",
    "Other links that may interest you:\n",
    "* https://www.reddit.com/r/learnpython/comments/7ay83p/war_card_game/\n",
    "* https://codereview.stackexchange.com/questions/131174/war-card-game-using-classes\n",
    "* https://gist.github.com/damianesteban/6896120\n",
    "* https://lethain.com/war-card-game-in-python/\n",
    "* https://hectorpefo.github.io/2017-09-13-Card-Wars/\n",
    "* https://www.wimpyprogrammer.com/the-statistics-of-war-the-card-game"
   ]
  }
 ],
 "metadata": {
  "kernelspec": {
   "display_name": "Python 3",
   "language": "python",
   "name": "python3"
  },
  "language_info": {
   "codemirror_mode": {
    "name": "ipython",
    "version": 3
   },
   "file_extension": ".py",
   "mimetype": "text/x-python",
   "name": "python",
   "nbconvert_exporter": "python",
   "pygments_lexer": "ipython3",
   "version": "3.8.5"
  }
 },
 "nbformat": 4,
 "nbformat_minor": 2
}
