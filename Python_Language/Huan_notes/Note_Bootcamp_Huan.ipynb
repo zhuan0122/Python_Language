{
 "cells": [
  {
   "cell_type": "markdown",
   "metadata": {},
   "source": [
    "# Function keyword return and pass "
   ]
  },
  {
   "cell_type": "code",
   "execution_count": null,
   "metadata": {},
   "outputs": [],
   "source": [
    "# return true if any of numer in the list is even \n",
    "def even_check_list(num_list):\n",
    "    for num in num_list:\n",
    "        if num%2==0:\n",
    "            return True \n",
    "        else:\n",
    "            return False\n",
    "even_check_list([1,2,5])\n",
    "# but we know this is not False since 2 in the list is even numer\n",
    "# it back to False because we put return in the same indentation of the Ture Return. but\n",
    "#remember keyword Return will quit the loop and won't continue the loop once we reach the Return\n",
    "#change it as below it will work\n",
    "def even_check_list(num_list):\n",
    "    for num in num_list:\n",
    "        if num%2==0:\n",
    "            return True \n",
    "        else:\n",
    "            pass   # pass as a keyword won't quit the loop but continue the loop agian \n",
    "    return False  # the logic is we go through the list first if there is no any even number then we return False \n",
    "# after the for loop then return but return must be within the function even_check_list()\n",
    "even_check_list([1,2,5])"
   ]
  },
  {
   "cell_type": "code",
   "execution_count": 8,
   "metadata": {},
   "outputs": [
    {
     "name": "stdout",
     "output_type": "stream",
     "text": [
      "[]\n"
     ]
    }
   ],
   "source": [
    "# check all even numers and store them in the list \n",
    "\n",
    "def even_check_list(num_list):\n",
    "    #placeholder variable \n",
    "    even_num_list = []\n",
    "    for num in num_list:\n",
    "        if num % 2 == 0:\n",
    "            even_num_list.append(num)\n",
    "        else:\n",
    "            pass \n",
    "    print(even_num_list) # print function is within the def function but after the for loop \n",
    "    # if you do not print the even list you return it then you could assign it to a variable \n",
    "even_check_list([1,5,3])"
   ]
  },
  {
   "cell_type": "code",
   "execution_count": 3,
   "metadata": {},
   "outputs": [
    {
     "data": {
      "text/plain": [
       "[2]"
      ]
     },
     "execution_count": 3,
     "metadata": {},
     "output_type": "execute_result"
    }
   ],
   "source": [
    "# check all even numers and store them in the list \n",
    "\n",
    "def even_check_list(num_list):\n",
    "    # list comprehension is used here to make the code flattened. \n",
    "    return [num for num in num_list if num%2==0]\n",
    "even_num_list = even_check_list([1,2,3])\n",
    "even_num_list"
   ]
  },
  {
   "cell_type": "code",
   "execution_count": 7,
   "metadata": {},
   "outputs": [
    {
     "data": {
      "text/plain": [
       "NoneType"
      ]
     },
     "execution_count": 7,
     "metadata": {},
     "output_type": "execute_result"
    }
   ],
   "source": [
    "# check all even numers and store them in the list \n",
    "\n",
    "def even_check_list(num_list):\n",
    "    [num for num in num_list if num%2==0]\n",
    "    return \n",
    "even_num_list = even_check_list([1,2,3])\n",
    "even_num_list\n",
    "# after you run then ctrl+ enter then you get nothing as output you could check the type of the result\n",
    "type(even_num_list)\n",
    "# it is None type since you return nothing in the function "
   ]
  },
  {
   "cell_type": "markdown",
   "metadata": {},
   "source": [
    "# Tuple unpacking with python function"
   ]
  },
  {
   "cell_type": "markdown",
   "metadata": {},
   "source": [
    "## uNPACK TUPLES IN FOR LOOP "
   ]
  },
  {
   "cell_type": "code",
   "execution_count": 10,
   "metadata": {},
   "outputs": [
    {
     "name": "stdout",
     "output_type": "stream",
     "text": [
      "aPPLE\n",
      "400\n",
      "TESLA\n",
      "900\n",
      "GOOGLE\n",
      "600\n"
     ]
    }
   ],
   "source": [
    "stock_price = [('aPPLE',200),('TESLA',700),('GOOGLE',400)]\n",
    "for index, price in stock_price:\n",
    "    print(index)\n",
    "    print(price+200)\n",
    "    "
   ]
  },
  {
   "cell_type": "markdown",
   "metadata": {},
   "source": [
    "# Tackle the most question: comparision and get the max or min one \\red\n",
    "### for this kind of issue, we need to set the placeholder first to initialize the variable and then compare it with all elements in the list in the for loop to do the comparision"
   ]
  },
  {
   "cell_type": "code",
   "execution_count": 13,
   "metadata": {},
   "outputs": [
    {
     "name": "stdout",
     "output_type": "stream",
     "text": [
      "('johan', 500)\n"
     ]
    }
   ],
   "source": [
    "# give data \n",
    "work_hour=[('jose', 100),('huan',60),('johan',500)]\n",
    "# task find which employ has worked for the longest hour in this year and print the employ name and the working hour\n",
    "def work_evaluation(work_hour_list):\n",
    "    # set the placeholder to store and initialize the elements in the list\n",
    "    max_work_hour =  0\n",
    "    employee_of_month = '' # initialize it with the same data type in the list\n",
    "    for name, hour in work_hour_list:\n",
    "        if hour > max_work_hour:\n",
    "            max_work_hour=hour\n",
    "            employee_of_month = name\n",
    "        else:\n",
    "            pass\n",
    "    return (employee_of_month, max_work_hour)\n",
    "        \n",
    "result=work_evaluation(work_hour)\n",
    "print(result)"
   ]
  },
  {
   "cell_type": "code",
   "execution_count": 17,
   "metadata": {},
   "outputs": [
    {
     "data": {
      "text/plain": [
       "500"
      ]
     },
     "execution_count": 17,
     "metadata": {},
     "output_type": "execute_result"
    }
   ],
   "source": [
    "name, hour = work_evaluation(work_hour)\n",
    "name\n",
    "hour"
   ]
  },
  {
   "cell_type": "markdown",
   "metadata": {},
   "source": [
    "# Fcuntion interaction in python \n",
    "## this mean the result of one function is used as the input of another function"
   ]
  },
  {
   "cell_type": "markdown",
   "metadata": {},
   "source": [
    "## let us create a few function to mimic the game 'three cups monte'\n",
    "### The game is about three cups and a red ball. the red ball is put in one of the cup. and we shuffle the cups randomly around  then user try to guess if the red ball is which cup, right or wrong?\n",
    "\n",
    "## The real cups and ball will be mimiced as two list. O is the red ball in the list.  \n",
    "## The purpose is to show how do functions interact each other in python\n",
    "\n"
   ]
  },
  {
   "cell_type": "code",
   "execution_count": 11,
   "metadata": {},
   "outputs": [],
   "source": [
    "example=[1,2,3,4,5]\n"
   ]
  },
  {
   "cell_type": "code",
   "execution_count": 12,
   "metadata": {},
   "outputs": [
    {
     "data": {
      "text/plain": [
       "[5, 2, 1, 4, 3]"
      ]
     },
     "execution_count": 12,
     "metadata": {},
     "output_type": "execute_result"
    }
   ],
   "source": [
    "# shuffle from random package is imported to re-order the list values\n",
    "# so we use shuffle to relocate the red ball in the cups list which is completely random \n",
    "from random import shuffle \n",
    "shuffle(example)\n",
    "example"
   ]
  },
  {
   "cell_type": "code",
   "execution_count": 13,
   "metadata": {},
   "outputs": [],
   "source": [
    "result=shuffle(example)"
   ]
  },
  {
   "cell_type": "code",
   "execution_count": 14,
   "metadata": {},
   "outputs": [],
   "source": [
    "result"
   ]
  },
  {
   "cell_type": "code",
   "execution_count": 15,
   "metadata": {},
   "outputs": [
    {
     "data": {
      "text/plain": [
       "NoneType"
      ]
     },
     "execution_count": 15,
     "metadata": {},
     "output_type": "execute_result"
    }
   ],
   "source": [
    "type(result)"
   ]
  },
  {
   "cell_type": "markdown",
   "metadata": {},
   "source": [
    "## shuffle cannot assign its result to a variable since it happens in place \n",
    "## so nothing will be returned and what we could do is creating my own function to return the shuffle result \n"
   ]
  },
  {
   "cell_type": "code",
   "execution_count": 16,
   "metadata": {},
   "outputs": [],
   "source": [
    "def shuffle_list(mylist):\n",
    "    my_shuffle_list = shuffle(mylist)\n",
    "    return my_shuffle_list\n",
    "    "
   ]
  },
  {
   "cell_type": "code",
   "execution_count": 17,
   "metadata": {},
   "outputs": [
    {
     "data": {
      "text/plain": [
       "NoneType"
      ]
     },
     "execution_count": 17,
     "metadata": {},
     "output_type": "execute_result"
    }
   ],
   "source": [
    "my= shuffle_list(example)\n",
    "type(my)\n"
   ]
  },
  {
   "cell_type": "code",
   "execution_count": 18,
   "metadata": {},
   "outputs": [],
   "source": [
    "# what we do above is not the correct way to create the def function to make shuffle assigning result to variable\n",
    "def shuffle_list2(mylist):\n",
    "    shuffle(mylist) # you cannot assign its result to any variable, just call shuffle here and return \n",
    "    return mylist"
   ]
  },
  {
   "cell_type": "code",
   "execution_count": 19,
   "metadata": {},
   "outputs": [],
   "source": [
    "result=shuffle_list2(example)"
   ]
  },
  {
   "cell_type": "code",
   "execution_count": 37,
   "metadata": {},
   "outputs": [
    {
     "data": {
      "text/plain": [
       "[4, 5, 1, 3, 2]"
      ]
     },
     "execution_count": 37,
     "metadata": {},
     "output_type": "execute_result"
    }
   ],
   "source": [
    "result"
   ]
  },
  {
   "cell_type": "code",
   "execution_count": 20,
   "metadata": {},
   "outputs": [
    {
     "name": "stdout",
     "output_type": "stream",
     "text": [
      "input:1\n"
     ]
    },
    {
     "data": {
      "text/plain": [
       "'1'"
      ]
     },
     "execution_count": 20,
     "metadata": {},
     "output_type": "execute_result"
    }
   ],
   "source": [
    "k= ''\n",
    "k = input('input:')\n",
    "k"
   ]
  },
  {
   "cell_type": "code",
   "execution_count": 21,
   "metadata": {},
   "outputs": [
    {
     "data": {
      "text/plain": [
       "['', '', 'O']"
      ]
     },
     "execution_count": 21,
     "metadata": {},
     "output_type": "execute_result"
    }
   ],
   "source": [
    "my_cups_list = ['','O',''] # O is the red ball. without ball inside, it is empty \n",
    "shuffle_list2(my_cups_list) # shuffle the cups like shuffle cards ramdonly "
   ]
  },
  {
   "cell_type": "code",
   "execution_count": 22,
   "metadata": {},
   "outputs": [],
   "source": [
    "# we also need to hae a guess fucntion to do the guessing which performs user guess where is the red ball, since \n",
    "# the cups number are three, in list they represents index 0,1,2 for three locations\n",
    "\n",
    "# so the user only can guess 0,1,2 if the user guess another wrong number then it will repeat to guess again and agian \n",
    "# input() function pops up the guess box for user inserting their guess number\n",
    "def user_guess():\n",
    "    guess_number = ''\n",
    "    while guess_number not in ['0','1','2']: # 0, 1 2 here must be in string since input function takes string as inputs only\n",
    "        guess_number= input('Enter your correct guess number:')\n",
    "    return int(guess_number) # we return integer here because we need to use this guess to index the cups list index \n",
    "        \n",
    "    "
   ]
  },
  {
   "cell_type": "code",
   "execution_count": 23,
   "metadata": {},
   "outputs": [
    {
     "name": "stdout",
     "output_type": "stream",
     "text": [
      "Enter your correct guess number:1\n"
     ]
    },
    {
     "data": {
      "text/plain": [
       "1"
      ]
     },
     "execution_count": 23,
     "metadata": {},
     "output_type": "execute_result"
    }
   ],
   "source": [
    "# check user_guess function\n",
    "index=user_guess()\n",
    "index"
   ]
  },
  {
   "cell_type": "markdown",
   "metadata": {},
   "source": [
    "## one more function here combine the list has been shuffled with the user_guess()\n",
    "## user guess number is the shuffle list index!!!!!!"
   ]
  },
  {
   "cell_type": "code",
   "execution_count": 24,
   "metadata": {},
   "outputs": [],
   "source": [
    "# we need to call shuffle and user_guess function before I call this guess checker \n",
    "# we will set the correct calling order in the last step after we have all required functions ready\n",
    "def guess_checker(my_shuffled_list, guess):\n",
    "    \n",
    "    if my_shuffled_list[guess]=='O': # user guess number is the shuffle list index!!!!!!\n",
    "        print('correct guess!')\n",
    "    else:\n",
    "        print('wrong guess!')\n",
    "        print(my_shuffled_list)\n",
    "        \n",
    "    \n",
    "    \n",
    "    "
   ]
  },
  {
   "cell_type": "markdown",
   "metadata": {},
   "source": [
    "# Set the logic you gonna call here to combine or intersect all functions\n",
    "# the return result from functions shuffle_list2() and user_guess() are used as the input of guess_checker()\n",
    "\n",
    "## we are able to write more complex code because we have been able to compartmentalize a lot of these function and a lot of comlexity to a certian function calls"
   ]
  },
  {
   "cell_type": "code",
   "execution_count": 26,
   "metadata": {},
   "outputs": [
    {
     "name": "stdout",
     "output_type": "stream",
     "text": [
      "Enter your correct guess number:1\n",
      "wrong guess!\n",
      "['O', '', '']\n"
     ]
    }
   ],
   "source": [
    "# INITIAL MY_CUPS_LIST AS ANY ORDER YOU WANT \n",
    "my_cups_list = ['','','O']\n",
    "\n",
    "# SHUFFLE THE MY_CUPS_LIST \n",
    "my_shuffled_list = shuffle_list2(my_cups_list)\n",
    "\n",
    "# PLAY USER_GUESS TO GUESS A NUMMBER \n",
    "guess=user_guess()\n",
    "\n",
    "#CHECK THE USER GUESS IS CORRECT OR WRONG\n",
    "# here is where the functions interact with each other \n",
    "# use another functions return result as the input of the function \n",
    "# the return result from functions shuffle_list2() and user_guess() are used as the input of guess_checker()\n",
    "guess_checker(my_shuffled_list, guess)"
   ]
  },
  {
   "cell_type": "markdown",
   "metadata": {},
   "source": [
    "#       ('*args', '**kwargs'  arbitary keyword which is used a lot in the source code and we will encounter them a lot with the longer trip with Python "
   ]
  },
  {
   "cell_type": "markdown",
   "metadata": {},
   "source": [
    "#  Here we will get the point of these keyword in python and know what is the use of these keyword and how do we use them in the code "
   ]
  },
  {
   "cell_type": "markdown",
   "metadata": {},
   "source": [
    "# Start with an example "
   ]
  },
  {
   "cell_type": "markdown",
   "metadata": {},
   "source": [
    "<!-- ### here when we create function to do some things we could pass many arguments in the funcution which we will use later. -->\n",
    "### but the number of the arguments are not arbitatry this means we need to have the same number of arguments that we set \n",
    "## when we build the function otherwise it will throw the error \n"
   ]
  },
  {
   "cell_type": "code",
   "execution_count": 46,
   "metadata": {},
   "outputs": [],
   "source": [
    "# FOR EXAMPLE \n",
    "def myfunc(a,b):\n",
    "    return sum(a,b)*0.05\n",
    "# but how about if you want to work with more arguments \n",
    "def myfunc1(a,b,c):\n",
    "    return sum((a,b,c))*0.05 # sum pass an iterable arguments which could be a list, tuple "
   ]
  },
  {
   "cell_type": "code",
   "execution_count": 48,
   "metadata": {},
   "outputs": [
    {
     "data": {
      "text/plain": [
       "3.0"
      ]
     },
     "execution_count": 48,
     "metadata": {},
     "output_type": "execute_result"
    }
   ],
   "source": [
    "myfunc1(10,20,30) # if the function is defined as 3 arguments then we must pass 3 arguments to call the function"
   ]
  },
  {
   "cell_type": "markdown",
   "metadata": {},
   "source": [
    "## If C has not initialized any default value, then we must pass 3 values in the function when\n",
    "## when we call the function"
   ]
  },
  {
   "cell_type": "code",
   "execution_count": 55,
   "metadata": {},
   "outputs": [
    {
     "ename": "TypeError",
     "evalue": "myfunc1() missing 1 required positional argument: 'c'",
     "output_type": "error",
     "traceback": [
      "\u001b[1;31m---------------------------------------------------------------------------\u001b[0m",
      "\u001b[1;31mTypeError\u001b[0m                                 Traceback (most recent call last)",
      "\u001b[1;32m<ipython-input-55-86c2f40234bf>\u001b[0m in \u001b[0;36m<module>\u001b[1;34m\u001b[0m\n\u001b[1;32m----> 1\u001b[1;33m \u001b[0mmyfunc1\u001b[0m\u001b[1;33m(\u001b[0m\u001b[1;36m10\u001b[0m\u001b[1;33m,\u001b[0m\u001b[1;36m20\u001b[0m\u001b[1;33m)\u001b[0m\u001b[1;33m\u001b[0m\u001b[1;33m\u001b[0m\u001b[0m\n\u001b[0m",
      "\u001b[1;31mTypeError\u001b[0m: myfunc1() missing 1 required positional argument: 'c'"
     ]
    }
   ],
   "source": [
    "myfunc1(10,20) "
   ]
  },
  {
   "cell_type": "code",
   "execution_count": 56,
   "metadata": {},
   "outputs": [
    {
     "data": {
      "text/plain": [
       "3.0"
      ]
     },
     "execution_count": 56,
     "metadata": {},
     "output_type": "execute_result"
    }
   ],
   "source": [
    "myfunc1(10,20,30)"
   ]
  },
  {
   "cell_type": "markdown",
   "metadata": {},
   "source": [
    "## while if we pass c as 0 as default if there is no any given value then we could only pass a, b to the function when we \n",
    "## call the function we do not need to pass c since it will take the default value "
   ]
  },
  {
   "cell_type": "code",
   "execution_count": 44,
   "metadata": {},
   "outputs": [],
   "source": [
    "def myfunc2(a,b,c=0):\n",
    "    return sum((a,b,c))*0.05"
   ]
  },
  {
   "cell_type": "code",
   "execution_count": 53,
   "metadata": {},
   "outputs": [
    {
     "data": {
      "text/plain": [
       "3.0"
      ]
     },
     "execution_count": 53,
     "metadata": {},
     "output_type": "execute_result"
    }
   ],
   "source": [
    "\n",
    "myfunc2(10,20,30)"
   ]
  },
  {
   "cell_type": "code",
   "execution_count": 54,
   "metadata": {},
   "outputs": [
    {
     "data": {
      "text/plain": [
       "1.5"
      ]
     },
     "execution_count": 54,
     "metadata": {},
     "output_type": "execute_result"
    }
   ],
   "source": [
    "myfunc2(10,20)"
   ]
  },
  {
   "cell_type": "markdown",
   "metadata": {},
   "source": [
    "## Sum() method only take two arguments: (iterable, start=0), which means start from index 0 from the iterable objects\n",
    "## and the iterable we must know it means at least one value in the iterable object, the iterable object could be list, \n",
    "## tuple which could sorted and indexing and slicing "
   ]
  },
  {
   "cell_type": "code",
   "execution_count": 40,
   "metadata": {},
   "outputs": [
    {
     "data": {
      "text/plain": [
       "30"
      ]
     },
     "execution_count": 40,
     "metadata": {},
     "output_type": "execute_result"
    }
   ],
   "source": [
    "#sum((10,20))  # sum method takes iterable arguments which mean we need to give a tuple, or a list.... but there should \n",
    "#at least including more than 1 values which is called iterable \n",
    "sum([10,20])"
   ]
  },
  {
   "cell_type": "code",
   "execution_count": 51,
   "metadata": {},
   "outputs": [
    {
     "ename": "TypeError",
     "evalue": "'int' object is not iterable",
     "output_type": "error",
     "traceback": [
      "\u001b[1;31m---------------------------------------------------------------------------\u001b[0m",
      "\u001b[1;31mTypeError\u001b[0m                                 Traceback (most recent call last)",
      "\u001b[1;32m<ipython-input-51-f363354b04f2>\u001b[0m in \u001b[0;36m<module>\u001b[1;34m\u001b[0m\n\u001b[1;32m----> 1\u001b[1;33m \u001b[0msum\u001b[0m\u001b[1;33m(\u001b[0m\u001b[1;36m10\u001b[0m\u001b[1;33m,\u001b[0m\u001b[1;36m20\u001b[0m\u001b[1;33m)\u001b[0m\u001b[1;33m\u001b[0m\u001b[1;33m\u001b[0m\u001b[0m\n\u001b[0m",
      "\u001b[1;31mTypeError\u001b[0m: 'int' object is not iterable"
     ]
    }
   ],
   "source": [
    "sum(10,20)"
   ]
  },
  {
   "cell_type": "code",
   "execution_count": 60,
   "metadata": {},
   "outputs": [
    {
     "name": "stdout",
     "output_type": "stream",
     "text": [
      "Help on built-in function sum in module builtins:\n",
      "\n",
      "sum(iterable, /, start=0)\n",
      "    Return the sum of a 'start' value (default: 0) plus an iterable of numbers\n",
      "    \n",
      "    When the iterable is empty, return the start value.\n",
      "    This function is intended specifically for use with numeric values and may\n",
      "    reject non-numeric types.\n",
      "\n"
     ]
    }
   ],
   "source": [
    "help(sum)"
   ]
  },
  {
   "cell_type": "markdown",
   "metadata": {},
   "source": [
    "#  '''''''''' *args allows arbitary numbers of arguments, args gives tuple \n",
    "# ''''''''' **kwargs allows arbitary numbers of keyword arguments it will give a dictionary "
   ]
  },
  {
   "cell_type": "markdown",
   "metadata": {},
   "source": [
    "## from above we know if we want to work with more arguments but we only use them when we need otherwise they are given the \n",
    "## default value but we could not pass them in function\n",
    "## but!!! we need to set them in the def function when we create the function even we do not need to fill them when we call \n",
    "## function \n",
    "\n",
    "\n",
    "# While now we could achieve this by using *args "
   ]
  },
  {
   "cell_type": "markdown",
   "metadata": {},
   "source": [
    "# we need to know that the aterisk is the key, args is the covention name, but we could take any name folloing with *\n",
    "# in convention we use args \n",
    "# *args is a tuple that you can pass any arbitatry numbers \n",
    "# you can extend the tuple as long as you want but without defining this argument value. see example "
   ]
  },
  {
   "cell_type": "code",
   "execution_count": 61,
   "metadata": {},
   "outputs": [],
   "source": [
    "# \n",
    "def myfunc3(*args):\n",
    "    print(args)"
   ]
  },
  {
   "cell_type": "code",
   "execution_count": 63,
   "metadata": {},
   "outputs": [
    {
     "name": "stdout",
     "output_type": "stream",
     "text": [
      "(10, 20, 20, 40)\n"
     ]
    }
   ],
   "source": [
    "myfunc3(10,20,20,40)\n",
    "# we print the args and we see it is a tuple "
   ]
  },
  {
   "cell_type": "code",
   "execution_count": 71,
   "metadata": {},
   "outputs": [],
   "source": [
    "def myfunc4(*args):\n",
    "    return sum(args)*0.05  # args is the iterable tuple it meets the requierment of sum()\n"
   ]
  },
  {
   "cell_type": "code",
   "execution_count": 70,
   "metadata": {},
   "outputs": [
    {
     "data": {
      "text/plain": [
       "4.5"
      ]
     },
     "execution_count": 70,
     "metadata": {},
     "output_type": "execute_result"
    }
   ],
   "source": [
    "myfunc4(10,20,20,40)"
   ]
  },
  {
   "cell_type": "code",
   "execution_count": 73,
   "metadata": {},
   "outputs": [],
   "source": [
    "def myfunc5(*anyname):\n",
    "    print(anyname)"
   ]
  },
  {
   "cell_type": "code",
   "execution_count": 75,
   "metadata": {},
   "outputs": [
    {
     "name": "stdout",
     "output_type": "stream",
     "text": [
      "(10, 20, 20, 40)\n"
     ]
    }
   ],
   "source": [
    "myfunc5(10,20,20,40) # anyname we could give but it is the * matters it makes the anyname as the arvitary keywprd"
   ]
  },
  {
   "cell_type": "markdown",
   "metadata": {},
   "source": [
    "# **kwargs build a dictionary of key value pairs"
   ]
  },
  {
   "cell_type": "code",
   "execution_count": 76,
   "metadata": {},
   "outputs": [],
   "source": [
    "def myfunc6(**kwargs):\n",
    "    print(kwargs)\n",
    "    "
   ]
  },
  {
   "cell_type": "markdown",
   "metadata": {},
   "source": [
    "## remember the format of arguments you pass when  you call the function with kwargs\n",
    "## kwargs retuns a dictionary and the same as args, kwargs just the name in convention \n",
    "## but we could name it to any name as long as it follows with ** "
   ]
  },
  {
   "cell_type": "code",
   "execution_count": 80,
   "metadata": {},
   "outputs": [
    {
     "name": "stdout",
     "output_type": "stream",
     "text": [
      "{'fruit': 'watermellon', 'animal': 'dogs', 'number': 7, 'key': [1, 2, 3]}\n"
     ]
    }
   ],
   "source": [
    "myfunc6(fruit='watermellon',animal='dogs', number= 7, key=[1,2,3]) # arbitary key value pairs. as long as you give the key \n",
    "# and the value "
   ]
  },
  {
   "cell_type": "code",
   "execution_count": 170,
   "metadata": {},
   "outputs": [],
   "source": [
    "def myfunc7(**kwargs):\n",
    "    if 'fruit' in kwargs:\n",
    "        print(f\"my favoriut fruit is {kwargs['fruit']}\")"
   ]
  },
  {
   "cell_type": "code",
   "execution_count": 88,
   "metadata": {},
   "outputs": [],
   "source": [
    "def myfunc8(**kwargs):\n",
    "    if 'fruit' in kwargs:\n",
    "        print(f'my favoriut fruit is {kwargs}')"
   ]
  },
  {
   "cell_type": "code",
   "execution_count": 90,
   "metadata": {},
   "outputs": [
    {
     "name": "stdout",
     "output_type": "stream",
     "text": [
      "my favoriut fruit is {'fruit': 'watermellon', 'animal': 'dogs', 'number': 7, 'key': [1, 2, 3]}\n"
     ]
    }
   ],
   "source": [
    "myfunc8(fruit='watermellon',animal='dogs', number= 7, key=[1,2,3])"
   ]
  },
  {
   "cell_type": "code",
   "execution_count": 89,
   "metadata": {},
   "outputs": [],
   "source": [
    "def myfunc9(**kwargs):\n",
    "    if 'fruit' in kwargs:\n",
    "        print('my favoriut fruit is {}'.format(kwargs['fruit']))"
   ]
  },
  {
   "cell_type": "code",
   "execution_count": 91,
   "metadata": {},
   "outputs": [
    {
     "name": "stdout",
     "output_type": "stream",
     "text": [
      "my favoriut fruit is watermellon\n"
     ]
    }
   ],
   "source": [
    "myfunc9(fruit='watermellon',animal='dogs', number= 7, key=[1,2,3])"
   ]
  },
  {
   "cell_type": "markdown",
   "metadata": {},
   "source": [
    "## but why I cannot f string to print kwargs['fruit']??????"
   ]
  },
  {
   "cell_type": "markdown",
   "metadata": {},
   "source": [
    "# *************************"
   ]
  },
  {
   "cell_type": "markdown",
   "metadata": {},
   "source": [
    "# Cobine arguments and keyword arguments together to create function "
   ]
  },
  {
   "cell_type": "code",
   "execution_count": 95,
   "metadata": {},
   "outputs": [],
   "source": [
    "def myfunc10(*args,**kwargs):\n",
    "    if 'food' in kwargs:\n",
    "        print('i would like to have {} {}'.format(args[1],kwargs['food']))"
   ]
  },
  {
   "cell_type": "markdown",
   "metadata": {},
   "source": [
    "# the arguments order is fixed, argument first and keyword argument of dictionary is next "
   ]
  },
  {
   "cell_type": "code",
   "execution_count": null,
   "metadata": {},
   "outputs": [],
   "source": []
  },
  {
   "cell_type": "code",
   "execution_count": 96,
   "metadata": {},
   "outputs": [
    {
     "name": "stdout",
     "output_type": "stream",
     "text": [
      "i would like to have 20 eggs\n"
     ]
    }
   ],
   "source": [
    "myfunc10(10,20,30,fruit='mellon',food='eggs',animals='dogs')"
   ]
  },
  {
   "cell_type": "markdown",
   "metadata": {},
   "source": [
    "# leverage your code using arbitary arguments and keyword arguments in Python later "
   ]
  },
  {
   "cell_type": "code",
   "execution_count": 99,
   "metadata": {},
   "outputs": [],
   "source": [
    "varia='shhhh'"
   ]
  },
  {
   "cell_type": "code",
   "execution_count": 106,
   "metadata": {},
   "outputs": [
    {
     "ename": "TypeError",
     "evalue": "'str' object does not support item assignment",
     "output_type": "error",
     "traceback": [
      "\u001b[1;31m---------------------------------------------------------------------------\u001b[0m",
      "\u001b[1;31mTypeError\u001b[0m                                 Traceback (most recent call last)",
      "\u001b[1;32m<ipython-input-106-cd637ce6fb95>\u001b[0m in \u001b[0;36m<module>\u001b[1;34m\u001b[0m\n\u001b[1;32m----> 1\u001b[1;33m \u001b[0mvaria\u001b[0m\u001b[1;33m[\u001b[0m\u001b[1;36m0\u001b[0m\u001b[1;33m]\u001b[0m\u001b[1;33m=\u001b[0m\u001b[0mvaria\u001b[0m\u001b[1;33m[\u001b[0m\u001b[1;36m0\u001b[0m\u001b[1;33m]\u001b[0m\u001b[1;33m.\u001b[0m\u001b[0mupper\u001b[0m\u001b[1;33m(\u001b[0m\u001b[1;33m)\u001b[0m\u001b[1;33m\u001b[0m\u001b[1;33m\u001b[0m\u001b[0m\n\u001b[0m",
      "\u001b[1;31mTypeError\u001b[0m: 'str' object does not support item assignment"
     ]
    }
   ],
   "source": [
    "varia[0]=varia[0].upper()"
   ]
  },
  {
   "cell_type": "code",
   "execution_count": 105,
   "metadata": {},
   "outputs": [
    {
     "data": {
      "text/plain": [
       "'S'"
      ]
     },
     "execution_count": 105,
     "metadata": {},
     "output_type": "execute_result"
    }
   ],
   "source": [
    "varia"
   ]
  },
  {
   "cell_type": "markdown",
   "metadata": {},
   "source": [
    "# Tuple and str are immutable ´, so they does not support item assignment \n",
    "# it is okay to index and slice but not assgin it the index and slice items \n",
    "# but dictionary is immutable and use its key to overwrite the item even though dictionay is not able to index and slicing but it supports item assignment"
   ]
  },
  {
   "cell_type": "code",
   "execution_count": 109,
   "metadata": {},
   "outputs": [
    {
     "data": {
      "text/plain": [
       "{'0': 'H', '1': 'j'}"
      ]
     },
     "execution_count": 109,
     "metadata": {},
     "output_type": "execute_result"
    }
   ],
   "source": [
    "dict={'0':'h', '1':'j'}\n",
    "dict['0']=dict['0'].upper()\n",
    "dict"
   ]
  },
  {
   "cell_type": "markdown",
   "metadata": {},
   "source": [
    "## Task 1 :\n",
    "## define a function which take string as argumnents then it looks thorugh the string and turns the even letter to be\n",
    "## uppercase and odd letter to be lowercase\n",
    "## for example myfunc('aDhF') # output 'AdHf'"
   ]
  },
  {
   "cell_type": "code",
   "execution_count": 163,
   "metadata": {},
   "outputs": [
    {
     "data": {
      "text/plain": [
       "'Dh'"
      ]
     },
     "execution_count": 163,
     "metadata": {},
     "output_type": "execute_result"
    }
   ],
   "source": [
    "# in this task, I have learned \n",
    "def myfunc(args):\n",
    "    st=''\n",
    "    for x in range(0,len(args)):\n",
    "        if x % 2 ==0:\n",
    "            st += args[x].upper()\n",
    "        else:\n",
    "            st += args[x].lower()\n",
    "    return st\n",
    "    \n",
    "myfunc('dH')\n"
   ]
  },
  {
   "cell_type": "code",
   "execution_count": 167,
   "metadata": {},
   "outputs": [
    {
     "name": "stdout",
     "output_type": "stream",
     "text": [
      "1\n",
      "('llll',)\n"
     ]
    }
   ],
   "source": [
    "def my(*args):\n",
    "    print(len(args))\n",
    "    print(args)\n",
    "my('llll')"
   ]
  },
  {
   "cell_type": "code",
   "execution_count": 168,
   "metadata": {},
   "outputs": [
    {
     "name": "stdout",
     "output_type": "stream",
     "text": [
      "2\n",
      "('llll', 'ff')\n"
     ]
    }
   ],
   "source": [
    "my('llll','ff') # args are tuple the string is the items in the tuple "
   ]
  },
  {
   "cell_type": "markdown",
   "metadata": {},
   "source": [
    "## in this task, I have learned that \n",
    "# 1. string is not immutable so we cannot do item assignment after indexing\n",
    "# 2. string can do concatanation using += after initializing it bo be ''\n",
    "# 3. *args if you give 'hhhh' as its argument, it will take as one string and 1 length but this length 1 string is interable\n",
    "# since iterable means we can do index more than 1 time \n",
    "# 4. args is always a tuple so if you pass string to it, the string is the items in the tuple. one '' is one item of tuple. \n",
    "# but tuple is not mmutable "
   ]
  },
  {
   "cell_type": "code",
   "execution_count": 164,
   "metadata": {},
   "outputs": [
    {
     "data": {
      "text/plain": [
       "'AnThRoNmPoJjJh'"
      ]
     },
     "execution_count": 164,
     "metadata": {},
     "output_type": "execute_result"
    }
   ],
   "source": [
    "myfunc('AnthronMpojjjH')\n"
   ]
  }
 ],
 "metadata": {
  "kernelspec": {
   "display_name": "Python 3",
   "language": "python",
   "name": "python3"
  },
  "language_info": {
   "codemirror_mode": {
    "name": "ipython",
    "version": 3
   },
   "file_extension": ".py",
   "mimetype": "text/x-python",
   "name": "python",
   "nbconvert_exporter": "python",
   "pygments_lexer": "ipython3",
   "version": "3.8.5"
  }
 },
 "nbformat": 4,
 "nbformat_minor": 4
}
