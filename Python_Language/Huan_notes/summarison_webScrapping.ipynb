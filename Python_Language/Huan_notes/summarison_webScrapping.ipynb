{
 "cells": [
  {
   "cell_type": "markdown",
   "metadata": {},
   "source": [
    "* **find the correct corresponding tag or class call from the web page by right click the part you want to grab and select     'inspect' to investigate the tag or class call . after you find the tag or class call and then the contents you want to get is \n",
    "the text then just response.text or response.getText() they do the same.**\n",
    "* **two packages for basic scrapping web: requests and bs4**\n",
    "  * requests.get('url') -- returns the response of the asking request from the web page. well. the response.text will show the \n",
    "  text conents that we ask from the web. it is HTML codes\n",
    "  * use bs4.Beatusoup(response.text, 'lxml') -- returns the soup structure with the HTML format\n",
    "  * from soup we could grab contents using the tag(element which is the string inside <title> for example ) and class call \n"
   ]
  },
  {
   "cell_type": "markdown",
   "metadata": {},
   "source": [
    "* t.e.x some HTML has many tags like  that we select as tags or elements to grab the contents after them \n",
    "         soup.select('title')  returns as tag structure and use \n",
    "         soup.select('title').getText() or soup.select('title')[0].text -- returns the text. use [0] since they are list \n",
    "       \n",
    " some contents are stored inside the class call then we select('.class_name') to get the tag data type \n",
    "         still need to use text or getText() to return the content \n",
    "         t.e.x   soup.select('.toctext')[0].text\n",
    "  "
   ]
  }
 ],
 "metadata": {
  "kernelspec": {
   "display_name": "Python 3",
   "language": "python",
   "name": "python3"
  },
  "language_info": {
   "codemirror_mode": {
    "name": "ipython",
    "version": 3
   },
   "file_extension": ".py",
   "mimetype": "text/x-python",
   "name": "python",
   "nbconvert_exporter": "python",
   "pygments_lexer": "ipython3",
   "version": "3.8.5"
  }
 },
 "nbformat": 4,
 "nbformat_minor": 4
}
