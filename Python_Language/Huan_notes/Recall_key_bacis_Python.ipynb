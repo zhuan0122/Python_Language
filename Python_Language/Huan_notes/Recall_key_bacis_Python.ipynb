{
 "cells": [
  {
   "cell_type": "markdown",
   "metadata": {},
   "source": [
    "### 1. Enumerate "
   ]
  },
  {
   "cell_type": "markdown",
   "metadata": {},
   "source": [
    "* Q1:enumerate is to list the elements in the data structure and returns a enumerate data type but it is like **tuple**\n",
    "* Q2:so it supports unpacking with for loop to get the elements and the listed number "
   ]
  },
  {
   "cell_type": "code",
   "execution_count": 5,
   "metadata": {},
   "outputs": [],
   "source": [
    "ls=[1,2,'huan',4,5]\n"
   ]
  },
  {
   "cell_type": "markdown",
   "metadata": {},
   "source": [
    "* **we use enumerate when we want to get elements based on the listed numerated number.\n",
    "    t.e.x the text has lots of rows and each row is a list. we want to concatenate the first element of the first row list\n",
    "    and second element of the second row list \n",
    "    #data_line is the list while each list elments is also a list**\n",
    "        link_str= ''\n",
    "        for row_num, data in enumerate(data_lines): \n",
    "            link_str += data[row_num]\n",
    "            \n",
    "        # row_num, data is the unpacking of data_lines with row_num and data in this row \n",
    "            \n",
    "            \n",
    "            "
   ]
  },
  {
   "cell_type": "code",
   "execution_count": 6,
   "metadata": {},
   "outputs": [
    {
     "name": "stdout",
     "output_type": "stream",
     "text": [
      "0 1\n",
      "1 2\n",
      "2 huan\n",
      "3 4\n",
      "4 5\n"
     ]
    }
   ],
   "source": [
    "for x, y in enumerate(ls):\n",
    "    print(x, y)"
   ]
  },
  {
   "cell_type": "markdown",
   "metadata": {},
   "source": [
    "### 2. Regular Expression"
   ]
  },
  {
   "cell_type": "markdown",
   "metadata": {},
   "source": [
    "* Q:what is the key point of regular expression? what we should grasp from this advanced usecase?\n",
    "\n",
    "\n",
    "\n",
    "\n",
    "\n",
    "\n",
    ">>>>"
   ]
  },
  {
   "cell_type": "markdown",
   "metadata": {},
   "source": [
    "### 3 Class inheritance and Polymorphism\n",
    "* inheritance: <span style='color: green'>inheritence is to form a new class using the classed that have been defined which is called base class---- this is the ability of reusing the code \n",
    "    that has already done and reduce the complexity of the program** \n",
    "* Polymorphism: <span style=\"color:red\"> **In python, polymorphism referes to the way in which different objects classes can share the same \n",
    "    methods name. and these methods can be called from the same places though they are from the different objects (a variety of \n",
    "    objects might be passed in)**\n"
   ]
  },
  {
   "cell_type": "markdown",
   "metadata": {},
   "source": [
    "*  Q1: what is the class inheritance? like pass the base class into the another class. then the class could use and inherite all \n",
    "attributres and methods of the base class?\n",
    "\n",
    "  * Check the <span style=\"color:green\">  [1_Class_inheritance_Polymorophism note]  (http://localhost:8888/notebooks/BootCamp_Python/Huan_notes/1_Class_inheritance_Polymorophism.ipynb).\n"
   ]
  },
  {
   "cell_type": "markdown",
   "metadata": {},
   "source": [
    "* Q2: Does function (def xx) accept object(class) as input? \n",
    "  * <span style='color : blue'>Yes, function could accept any data type as input: class(object), list(built-in object), vairbale- everything in Python \n",
    "    are objects. you also could pass several objects into function to perform action"
   ]
  },
  {
   "cell_type": "markdown",
   "metadata": {},
   "source": [
    "* Q3: what is the abstract class and what is the usecase of abstract class? \n",
    "  *  <span style='color:purple'>another application of polymorphism is abstract class: abstract class will be always used as base class so user cannnot\n",
    "     create any instance of this base class, it is also class but when we use the method from this class, it will raise error\n",
    "     what we could do is we use it as base class and pass it in another class and use the same method name in the class then \n",
    "     once we call the method agian, it will not raise error and it will also not change the method which is defined inside the \n",
    "     abstract function\n",
    "    \n",
    "     * Check the <span style=\"color:green\">  [1_Class_inheritance_Polymorophism note]  (http://localhost:8888/notebooks/BootCamp_Python/Huan_notes/1_Class_inheritance_Polymorophism.ipynb)."
   ]
  },
  {
   "cell_type": "markdown",
   "metadata": {},
   "source": [
    "* Q4. Class intersection\n",
    "  * **how do you call the method from another class inside one class?**\n",
    "    * the following code indicates that:* Check the <span style=\"color:green\">  [1_Class_inheritance_Polymorophism note]  (http://localhost:8888/notebooks/BootCamp_Python/Huan_notes/1_Class_inheritance_Polymorophism.ipynb).\n",
    "    * **inheritance is not passing one class as paramter inside another class. This is not inheritance. Inheritance is put \n",
    "      class.__init__() inside another class __init__ def block**\n",
    "    * when you create object from another class to feed it in attribute of another class. you do not need to do inheritance\n",
    "      like Animal.__init__(self) in Dog class.\n",
    "    * whant is inheritance? inhetritance means\n",
    "        inheritance means you put Class.__init__() inside another class to inherite the attributes then you need to consider \n",
    "        these inherited attributes as well when you create instance \n",
    "    * once you just pass one class as paramter inside another class, you did not inherite the attributes from one class. so you\n",
    "      do not need to feed any attributes for the passed class\n",
    "    * **once you call method of one class inside another class you need to create the object first since all methods are based \n",
    "      on\n",
    "      objects. so either create Animal object to be attribute of Dog inside the Dog init block or just call Animal().method() \n",
    "      since method is called or invoked on object or(instance of class)**\n",
    "  *  **how classes are connected to other classes not only through inheritence**\n",
    "   \n",
    "    * create instance of one class(object) inside another class\n",
    "    * inheritance: \n",
    "    * pass one class or instance of one class(object) as paramter of another class\n",
    "    \n",
    "  *  **how to create instance of one class within another class** \n",
    "    * **well for this, we could take the Deck project as an example. so we have created Card class which is to define and \n",
    "      create one card. then we need to formulate the deck which contains 52 cards. the deck has only one attributes which is \n",
    "      deck and it is a list data type and each element in the list is Card class instance. so this is one example that one \n",
    "      class instance(object) is used as the attributes of another class. we do not need to inherite the attributes of Card \n",
    "      class inside the deck class. just use Card to create object and feed it in Deck attribute**"
   ]
  },
  {
   "cell_type": "markdown",
   "metadata": {},
   "source": [
    "### 4.Dictionary and ordered dictionary\n",
    "* Normal dictionary does not support the sort since dictionary is mapping not a sequence \n",
    "* ordered dictionary does support sort \n",
    "* when it is recommended to use ordered dictionary? is it important to grasp? "
   ]
  },
  {
   "cell_type": "markdown",
   "metadata": {},
   "source": [
    "### 5.Lambda function \n",
    "* Q1: what is the core part of Lambda? \n"
   ]
  },
  {
   "cell_type": "markdown",
   "metadata": {},
   "source": [
    "### 6. Decorators\n",
    "* Q1: what is Decorate @? what is the usecase which is mentioned in one of the course?"
   ]
  },
  {
   "cell_type": "markdown",
   "metadata": {},
   "source": [
    "### 7. colore in MarkDown \n"
   ]
  },
  {
   "cell_type": "code",
   "execution_count": 10,
   "metadata": {},
   "outputs": [
    {
     "name": "stdout",
     "output_type": "stream",
     "text": [
      "\u001b[32mSOME GREEN TEXT\n"
     ]
    }
   ],
   "source": [
    "from colorama import Fore\n",
    "print(Fore.GREEN + 'SOME GREEN TEXT')"
   ]
  },
  {
   "cell_type": "markdown",
   "metadata": {},
   "source": [
    "<span style=\"color:green\"> This is an example for coloring </span>"
   ]
  },
  {
   "cell_type": "markdown",
   "metadata": {},
   "source": [
    "### 8. Special methods"
   ]
  },
  {
   "cell_type": "markdown",
   "metadata": {},
   "source": [
    "*  what is __repr__()? \n",
    "\n",
    "    *  __repr__ is used to compute the 'official' string representation of an object and is typically used for debugging\n",
    "       Syntax: `object.__repr__(self)`\n",
    "       returns a string as a representation of the object \n",
    "       \n",
    "    * Idealy, the represenation should be information-rich and could be used to recreate an object with the same value"
   ]
  },
  {
   "cell_type": "markdown",
   "metadata": {},
   "source": [
    "* The difference and the usage of `__repr__()` and `__str__()` built-in function "
   ]
  },
  {
   "cell_type": "code",
   "execution_count": 12,
   "metadata": {},
   "outputs": [],
   "source": [
    "class Person():\n",
    "    def __init__(self,name, age):\n",
    "        self.name=name\n",
    "        self.age=age\n",
    "    def __repr__(self):\n",
    "        return 'Person('+ self.name+',' + str(self.age) + ')'"
   ]
  },
  {
   "cell_type": "code",
   "execution_count": 14,
   "metadata": {},
   "outputs": [
    {
     "data": {
      "text/plain": [
       "Person(huan,27)"
      ]
     },
     "execution_count": 14,
     "metadata": {},
     "output_type": "execute_result"
    }
   ],
   "source": [
    "p1=Person('huan',27)\n",
    "p1"
   ]
  },
  {
   "cell_type": "code",
   "execution_count": 18,
   "metadata": {},
   "outputs": [
    {
     "name": "stdout",
     "output_type": "stream",
     "text": [
      "Person(huan,27)\n"
     ]
    }
   ],
   "source": [
    "print(repr(p1))"
   ]
  },
  {
   "cell_type": "code",
   "execution_count": 19,
   "metadata": {},
   "outputs": [
    {
     "data": {
      "text/plain": [
       "str"
      ]
     },
     "execution_count": 19,
     "metadata": {},
     "output_type": "execute_result"
    }
   ],
   "source": [
    "type(repr(p1))"
   ]
  },
  {
   "cell_type": "code",
   "execution_count": 20,
   "metadata": {},
   "outputs": [
    {
     "data": {
      "text/plain": [
       "0"
      ]
     },
     "execution_count": 20,
     "metadata": {},
     "output_type": "execute_result"
    }
   ],
   "source": [
    "[0,1,2].pop(0)"
   ]
  },
  {
   "cell_type": "code",
   "execution_count": 22,
   "metadata": {},
   "outputs": [
    {
     "data": {
      "text/plain": [
       "[1, 2]"
      ]
     },
     "execution_count": 22,
     "metadata": {},
     "output_type": "execute_result"
    }
   ],
   "source": [
    "x=[0,1,2]\n",
    "x.pop(0)\n",
    "x"
   ]
  },
  {
   "cell_type": "markdown",
   "metadata": {},
   "source": [
    "### 9.Collection"
   ]
  },
  {
   "cell_type": "markdown",
   "metadata": {},
   "source": [
    "### 10.ordered Dictionary"
   ]
  },
  {
   "cell_type": "markdown",
   "metadata": {},
   "source": [
    "#### 11. Pointer of Python"
   ]
  },
  {
   "cell_type": "markdown",
   "metadata": {},
   "source": [
    "### 12 super() in Class for inheritance\n",
    "    * is this related to inheritance of another class attributes to one class? since I know we could inherite the methods to \n",
    "      another class. But I forgot the detail so recap it again."
   ]
  }
 ],
 "metadata": {
  "kernelspec": {
   "display_name": "Python 3",
   "language": "python",
   "name": "python3"
  },
  "language_info": {
   "codemirror_mode": {
    "name": "ipython",
    "version": 3
   },
   "file_extension": ".py",
   "mimetype": "text/x-python",
   "name": "python",
   "nbconvert_exporter": "python",
   "pygments_lexer": "ipython3",
   "version": "3.8.5"
  }
 },
 "nbformat": 4,
 "nbformat_minor": 4
}
