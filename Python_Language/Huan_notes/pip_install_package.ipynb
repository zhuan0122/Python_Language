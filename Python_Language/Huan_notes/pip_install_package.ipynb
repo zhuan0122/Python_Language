{
 "cells": [
  {
   "cell_type": "markdown",
   "metadata": {},
   "source": [
    "## 1. Pypi and PIP for extenral packages \n",
    "* **Pypi is a repository of open source of all python packages. we could use pip install package_name to install package\n",
    "    from Pypi.**\n",
    "* **when you install Python from Python.org or Anoconda distribution, you also install pip**\n",
    "* **Pip is a simplay way to download packages directly from Pypi repository**\n",
    "* **There are bunch of Python packages created for any use of you think of! since python is growing rapidly langauge**\n",
    "* **This means developer just use google search to help you discover the link to the python pacakge and package documentation w\n",
    "    when you want to developer something with Python. t.e.x Python package for excel ## help you open and work with excel**\n",
    "    "
   ]
  },
  {
   "cell_type": "markdown",
   "metadata": {},
   "source": [
    "* **In notebook here, lots of packages are already installed, but we just see here**"
   ]
  },
  {
   "cell_type": "code",
   "execution_count": 5,
   "metadata": {},
   "outputs": [
    {
     "name": "stdout",
     "output_type": "stream",
     "text": [
      "Requirement already satisfied: requests in c:\\users\\zhuan\\anaconda3\\lib\\site-packages (2.24.0)\n",
      "Requirement already satisfied: idna<3,>=2.5 in c:\\users\\zhuan\\anaconda3\\lib\\site-packages (from requests) (2.10)\n",
      "Requirement already satisfied: urllib3!=1.25.0,!=1.25.1,<1.26,>=1.21.1 in c:\\users\\zhuan\\anaconda3\\lib\\site-packages (from requests) (1.25.11)\n",
      "Requirement already satisfied: chardet<4,>=3.0.2 in c:\\users\\zhuan\\anaconda3\\lib\\site-packages (from requests) (3.0.4)\n",
      "Requirement already satisfied: certifi>=2017.4.17 in c:\\users\\zhuan\\anaconda3\\lib\\site-packages (from requests) (2020.6.20)\n",
      "Note: you may need to restart the kernel to use updated packages.\n"
     ]
    }
   ],
   "source": [
    "pip install requests\n"
   ]
  },
  {
   "cell_type": "code",
   "execution_count": 6,
   "metadata": {},
   "outputs": [
    {
     "name": "stdout",
     "output_type": "stream",
     "text": [
      "pip 20.2.4 from C:\\Users\\zhuan\\anaconda3\\lib\\site-packages\\pip (python 3.8)\n",
      "\n",
      "Note: you may need to restart the kernel to use updated packages.\n"
     ]
    }
   ],
   "source": [
    "pip --version"
   ]
  },
  {
   "cell_type": "code",
   "execution_count": 9,
   "metadata": {},
   "outputs": [
    {
     "name": "stdout",
     "output_type": "stream",
     "text": [
      "Requirement already satisfied: colorama in c:\\users\\zhuan\\anaconda3\\lib\\site-packages (0.4.4)\n",
      "Note: you may need to restart the kernel to use updated packages.\n"
     ]
    }
   ],
   "source": [
    "\n",
    "pip install colorama"
   ]
  },
  {
   "cell_type": "code",
   "execution_count": 5,
   "metadata": {},
   "outputs": [
    {
     "name": "stdout",
     "output_type": "stream",
     "text": [
      "\u001b[32mSOME GREEN TEXT\n"
     ]
    }
   ],
   "source": [
    "from colorama import Fore\n",
    "print(Fore.GREEN + 'SOME GREEN TEXT')"
   ]
  },
  {
   "cell_type": "markdown",
   "metadata": {},
   "source": [
    "* **pip install external package from website Pypi repository for particular use of case**"
   ]
  },
  {
   "cell_type": "markdown",
   "metadata": {},
   "source": [
    "* Google search : Python package for excel --working with excel \n",
    "  * usually go with the result called  python.excel.org then bunch of related packages that we could use, click download or \n",
    "    documentation of the package, it will lead you to the Pypi foundation website. then click the Python documentaion, you will\n",
    "    figure out how to insatll the documentation and usualy use pip to install \n",
    "* Python package for pdf -- working with pdf\n",
    "  * search it when you need to work with pdf with Python"
   ]
  },
  {
   "cell_type": "code",
   "execution_count": 12,
   "metadata": {},
   "outputs": [
    {
     "name": "stdout",
     "output_type": "stream",
     "text": [
      "Requirement already satisfied: openpyxl in c:\\users\\zhuan\\anaconda3\\lib\\site-packages (3.0.5)\n",
      "Requirement already satisfied: jdcal in c:\\users\\zhuan\\anaconda3\\lib\\site-packages (from openpyxl) (1.4.1)\n",
      "Requirement already satisfied: et-xmlfile in c:\\users\\zhuan\\anaconda3\\lib\\site-packages (from openpyxl) (1.0.1)\n",
      "Note: you may need to restart the kernel to use updated packages.\n"
     ]
    }
   ],
   "source": [
    "\n",
    "pip install openpyxl \n"
   ]
  },
  {
   "cell_type": "code",
   "execution_count": 13,
   "metadata": {},
   "outputs": [],
   "source": [
    "import openpyxl"
   ]
  },
  {
   "cell_type": "markdown",
   "metadata": {},
   "source": [
    "## 2.how to create our own modules and packages and install them \n",
    "* **Moduels are just .py scripts that you could call in another .py scripts**\n",
    "* **Packages are just a collection of modules**\n",
    "  * However there is key .py script called __init__.py which must be placed in the folder with all .py scripts then Python \n",
    "    could recognize this colloection of .py scripts (folder) is a package that we could install. \n",
    "* **we gonna show these with some example, however they are not performed in jupyter notebook we gonna do them in sublime text\n",
    "    editor or any other IDE working with .py file since we are dealing with .py scripts which is not the format in notebook.**\n",
    "* **I gonna explain what we do here, since it is not complex to act and also we could check the vedio later**\n"
   ]
  },
  {
   "cell_type": "markdown",
   "metadata": {},
   "source": [
    "### 2.1 create two files in desktop: module.py, program.py. since we will call module.py in program.py. so the first file is called module.py."
   ]
  },
  {
   "cell_type": "code",
   "execution_count": null,
   "metadata": {},
   "outputs": [],
   "source": [
    "# module.py\n",
    "def my_func():\n",
    "    print('this is my module.py file')\n"
   ]
  },
  {
   "cell_type": "code",
   "execution_count": 14,
   "metadata": {},
   "outputs": [
    {
     "ename": "SyntaxError",
     "evalue": "invalid syntax (<ipython-input-14-0d5c69ddffae>, line 1)",
     "output_type": "error",
     "traceback": [
      "\u001b[1;36m  File \u001b[1;32m\"<ipython-input-14-0d5c69ddffae>\"\u001b[1;36m, line \u001b[1;32m1\u001b[0m\n\u001b[1;33m    * program.py, inisde we call the module directly since they are inside the same layer\u001b[0m\n\u001b[1;37m                         ^\u001b[0m\n\u001b[1;31mSyntaxError\u001b[0m\u001b[1;31m:\u001b[0m invalid syntax\n"
     ]
    }
   ],
   "source": [
    "# program.py, inisde we call the module directly since they are inside the same layer\n",
    "from module import my_func\n",
    "\n",
    "my_func()\n"
   ]
  },
  {
   "cell_type": "code",
   "execution_count": null,
   "metadata": {},
   "outputs": [],
   "source": [
    "# Go to command where module.py and program.py located \n",
    "#type\n",
    "python program.py\n",
    ">>>>> this is my module.py file\n",
    "so we are able to the function which is defined in the another module.py file when we execute the program.py. This helps\n",
    "us to organize the code and split them into different module and also later we gonna learn how to create packages which is\n",
    "the collection of modules \n",
    "\n"
   ]
  },
  {
   "cell_type": "markdown",
   "metadata": {},
   "source": [
    "### 2.2 Create packages and subpackages to collect several .py scripts"
   ]
  },
  {
   "cell_type": "code",
   "execution_count": null,
   "metadata": {},
   "outputs": [],
   "source": [
    "# go to desktop create a folde named myMainPackage, then go inside the myMainpPackage, create another folder named it as \n",
    "# subpackage. but we need to let Python understand these two folders we created are not just directories but they are \n",
    "# packages. so we create __init__.py file inside the myMainPackage folder and also __init__.py file inside the subpackage \n",
    "# folder. these two __init__.py are empty. \n",
    "\n",
    "# crate some_main_script.py inside the myMainPackagefolder, you could create bunch of .py here. \n",
    "# create sub_script.py inside the subpacakge folder, you also could create bunch of .py here \n"
   ]
  },
  {
   "cell_type": "code",
   "execution_count": null,
   "metadata": {},
   "outputs": [],
   "source": [
    "# some_main_script.py contents\n",
    "def report_main():\n",
    "    print('Hey I am in main script inside the main package')"
   ]
  },
  {
   "cell_type": "code",
   "execution_count": null,
   "metadata": {},
   "outputs": [],
   "source": [
    "# sub_script.py\n",
    "def my_subfunc():\n",
    "    print('I am inside the sub function in my sub package')\n",
    "    "
   ]
  },
  {
   "cell_type": "code",
   "execution_count": 15,
   "metadata": {},
   "outputs": [
    {
     "ename": "SyntaxError",
     "evalue": "invalid syntax (<ipython-input-15-18492c06c51a>, line 8)",
     "output_type": "error",
     "traceback": [
      "\u001b[1;36m  File \u001b[1;32m\"<ipython-input-15-18492c06c51a>\"\u001b[1;36m, line \u001b[1;32m8\u001b[0m\n\u001b[1;33m    >>>>>>>>>>>> Hey I am in main script inside the main package\u001b[0m\n\u001b[1;37m    ^\u001b[0m\n\u001b[1;31mSyntaxError\u001b[0m\u001b[1;31m:\u001b[0m invalid syntax\n"
     ]
    }
   ],
   "source": [
    "# go to the program.py which we created before inside we already how to import function from a module. now we gonna import \n",
    "# packages \n",
    "from myMainPacakge import my_main_script\n",
    "from myMainPacakge.subpackage import sub_script\n",
    "\n",
    "# call function side the script that we import \n",
    "my_main_script.report_main() \n",
    "\n",
    "sub_script.my_subfunc()\n"
   ]
  },
  {
   "cell_type": "code",
   "execution_count": null,
   "metadata": {},
   "outputs": [],
   "source": [
    "# when we are dealing with .py files we need to run them in IDE py tools. like command and type python \n",
    "# go to command \n",
    "# type:\n",
    "python program.py \n",
    ">>>>>>>>>>>>>>Hey I am in main script inside the main package\n",
    ">>>>>>>>>>>>>>I am inside the sub function in my sub package"
   ]
  },
  {
   "cell_type": "markdown",
   "metadata": {},
   "source": [
    "## 3. __name__ and __main__"
   ]
  },
  {
   "cell_type": "code",
   "execution_count": null,
   "metadata": {},
   "outputs": [],
   "source": [
    "* when you are importing from a module, you always would like to know whether a module function is just imported or they \n",
    "  are executed as .py file. Then __name__ == __main__ operation will help us to know "
   ]
  },
  {
   "cell_type": "code",
   "execution_count": null,
   "metadata": {},
   "outputs": [],
   "source": [
    "# create two simple .py scripts. \n",
    "# create one.py and two.py in desktop "
   ]
  },
  {
   "cell_type": "code",
   "execution_count": null,
   "metadata": {},
   "outputs": [],
   "source": [
    "* **when you call python xx.py in your command line, what happns? well all of the code with indentation zero inside the \n",
    "xx.py will be executed. \n",
    "like def has indentation zero, once you call python xx.py, the functions inside it will be defined but they are not run.\n",
    "print('.....')\n",
    "def ....\n",
    "\n",
    "so in Python, it is not lile C, All code in side main() will be run. In python, it works with indentation. all indentation\n",
    "of zero will be run once you call python xx.py and run that .py file. Python will look thorugh the codes inside this file \n",
    "and run the codes parts with indentation zero "
   ]
  },
  {
   "cell_type": "code",
   "execution_count": null,
   "metadata": {},
   "outputs": [],
   "source": [
    "* In Python, there are two builts in variable called name and main. __name__ and __main__ are two built in function like\n",
    "__str__. they are allowed you really try to overwrite it by accident. \n",
    "\n",
    "* __name__ will be assigned a string but it depends how do you run your scripts. for each .py file. we could check if it\n",
    "is run directly or just be imported as import. so how do we check it. once you run python xx.py in command, then if it is \n",
    "run directly, python will assign '__main__' to the __name in the background. so __name__='__main__'. then we use \n",
    "if __name__=='__main__': \n",
    "    do check here \n",
    "    or call functions here \n",
    "    \n",
    "\n"
   ]
  },
  {
   "cell_type": "code",
   "execution_count": null,
   "metadata": {},
   "outputs": [],
   "source": [
    "## example one.py \n",
    "print 'hello'\n",
    "def func1():\n",
    "    pass\n",
    "def func2():\n",
    "    pass\n",
    "\n",
    "if __name__=='__main__':\n",
    "    func1()\n",
    "    func2()\n",
    "\n",
    "### so function will be called when we run this one.py directly. like type python one.py in command line \n"
   ]
  },
  {
   "cell_type": "code",
   "execution_count": null,
   "metadata": {},
   "outputs": [],
   "source": [
    "### another example \n",
    "# inside one.py write:\n",
    "\n",
    "def func():\n",
    "    print('This is code inside the one.py function')\n",
    "    \n",
    "print('TOP LEVEL IN ONE.PY') # indentation zero global statement\n",
    "\n",
    "if __name__=='__main__':\n",
    "    print('one.py is called directly')\n",
    "else:\n",
    "    print('one.py is just imported!')\n"
   ]
  },
  {
   "cell_type": "code",
   "execution_count": null,
   "metadata": {},
   "outputs": [],
   "source": [
    "## create two.py\n",
    "import one  # one is as module to be imported inside two.py not a package \n",
    "\n",
    "print('TOP LEVEL IN TWO.PY')\n",
    "\n",
    "one.func() # call func from one.py\n",
    "\n",
    "if __name__=='__main__':\n",
    "    print('two.py is called directly')\n",
    "else:\n",
    "    print('two.py is just imported!')\n"
   ]
  },
  {
   "cell_type": "code",
   "execution_count": null,
   "metadata": {},
   "outputs": [],
   "source": [
    "# go to the command line \n",
    "python one.py\n",
    ">>>>>>>>>>TOP LEVEL IN ONE.PY\n",
    ">>>>>>>>>>one.py is called directly"
   ]
  },
  {
   "cell_type": "code",
   "execution_count": null,
   "metadata": {},
   "outputs": [],
   "source": [
    "# go to the comand line and type\n",
    "python two.py\n",
    ">>>>>>>>>TOP LEVEL IN ONE.PY   # this line is run from oen.py since it has indentation zero \n",
    ">>>>>>>>>one.py is just imported! # since one.py is not run directly so __name__ is not assigned with '__main__'\n",
    ">>>>>>>>>TOP LEVEL IN TWO.PY\n",
    ">>>>>>>>>This is code inside the one.py function\n",
    ">>>>>>>>>two.py is called directly"
   ]
  },
  {
   "cell_type": "code",
   "execution_count": null,
   "metadata": {},
   "outputs": [],
   "source": [
    "### so thorugh this way we could know which is run directly or just imported \n",
    "* **but we use this __name__=='__main__' not for just checking if they are run directly or not \n",
    "* ** developer use it to set logic, so once the .py is called directly then the functions inside this .py will be run \n",
    "\n",
    "# three.py\n",
    "\n",
    "def func1():\n",
    "    pass\n",
    "def func2():\n",
    "    pass\n",
    "def .....\n",
    "\n",
    "class ....\n",
    "\n",
    "if __name__=='__main__':\n",
    "    # if the three.py is run directly then run these functions \n",
    "    func1()\n",
    "    func2()\n",
    "    .....\n",
    "    maybe more logic here for code organizatios \n",
    "    "
   ]
  }
 ],
 "metadata": {
  "kernelspec": {
   "display_name": "Python 3",
   "language": "python",
   "name": "python3"
  },
  "language_info": {
   "codemirror_mode": {
    "name": "ipython",
    "version": 3
   },
   "file_extension": ".py",
   "mimetype": "text/x-python",
   "name": "python",
   "nbconvert_exporter": "python",
   "pygments_lexer": "ipython3",
   "version": "3.8.5"
  }
 },
 "nbformat": 4,
 "nbformat_minor": 4
}
