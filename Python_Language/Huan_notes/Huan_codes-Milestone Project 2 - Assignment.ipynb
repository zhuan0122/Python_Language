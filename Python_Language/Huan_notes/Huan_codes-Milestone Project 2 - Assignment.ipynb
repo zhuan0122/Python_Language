{
 "cells": [
  {
   "cell_type": "markdown",
   "metadata": {},
   "source": [
    "___\n",
    "\n",
    "<a href='https://www.udemy.com/user/joseportilla/'><img src='../Pierian_Data_Logo.png'/></a>\n",
    "___\n",
    "<center><em>Content Copyright by Pierian Data</em></center>"
   ]
  },
  {
   "cell_type": "markdown",
   "metadata": {},
   "source": [
    "# Milestone Project 2 - Blackjack Game\n",
    "In this milestone project you will be creating a Complete BlackJack Card Game in Python.\n",
    "\n",
    "Here are the requirements:\n",
    "\n",
    "* You need to create a simple text-based [BlackJack](https://en.wikipedia.org/wiki/Blackjack) game\n",
    "* The game needs to have one player versus an automated dealer.\n",
    "* The player can stand or hit.\n",
    "* The player must be able to pick their betting amount.\n",
    "* You need to keep track of the player's total money.\n",
    "* You need to alert the player of wins, losses, or busts, etc...\n",
    "\n",
    "And most importantly:\n",
    "\n",
    "* **You must use OOP and classes in some portion of your game. You can not just use functions in your game. Use classes to help you define the Deck and the Player's hand. There are many right ways to do this, so explore it well!**\n",
    "\n",
    "\n",
    "Feel free to expand this game. Try including multiple players. Try adding in Double-Down and card splits! Remember to you are free to use any resources you want and as always:\n",
    "\n",
    "# HAVE FUN!"
   ]
  },
  {
   "cell_type": "code",
   "execution_count": 1,
   "metadata": {},
   "outputs": [],
   "source": [
    "# one player and one computer dealer\n",
    "# normal card and deck of cards created by class defined with Python\n",
    "# player hand and computer dealer class for playing stand or hit "
   ]
  },
  {
   "cell_type": "markdown",
   "metadata": {},
   "source": [
    "* implement with Python that we have one player and one dealer and one deck of cards which is 52 cards \n",
    "* the human player has the bankroll where player can place their bet. so it is a bank account that we have created before\n",
    "* player starts with two cards faced up and the dealer starts with one card faced up and one card faced down \n",
    "* the player goes first with the game play: the player's goal is to make the sum of the card gets more closer to 21 than \n",
    "    the dealer does. In order to achieve this, the player has two options of action that he can do. He could ask another\n",
    "    cards from the deck and make it face down. or he can just stay not receive more cards. for example in the first turn, \n",
    "    based on the two initial card which are faced down now, the player can hit another card and face it down. now he has \n",
    "    3 cards at hands and take sum of these 3 cards. if the sum is over 21 then the palyer busts before it goes to the dealer\n",
    "    turn, the dealer wins and collect all money that player placed \n",
    "* once the sum of the players cards is still under 21 and \n",
    "  the player's turn has gone so he has decided to hit or stay then it is the dealer's turn. The dealer could take the turn\n",
    "  dealer continues to hit cards from the deck and the sum of them is still under 21 but get closer to 21 than the players \n",
    "  sum then dealer wins again. \n",
    "* another option of game ends is that it is the dealer's turn and he continue to hit cards from deck, and the sum of cards\n",
    "  over 21 and dealer busts so the player wins the game and collect all bets which is double of the bets  money to the bank. \n",
    "    \n",
    "* so my question is once the player gets the turn, players hits only one card or stay, but after this then player sum is \n",
    "  under 21 then dealer can have its turn, computer dealer will keep to hit until dealer over 21, it buts or it gets a closer\n",
    "  21 value compared with the player. so the dealer will continue to hit, until they gets a more closer sum value or ther \n",
    "  buts\n"
   ]
  },
  {
   "cell_type": "markdown",
   "metadata": {},
   "source": [
    "* **special rule: face cards J,Q K take as value of 10**\n",
    "* **ACES can be treated as either 1 or 11, which value is preferable to the player to achieve the goal**\n"
   ]
  },
  {
   "cell_type": "code",
   "execution_count": 1,
   "metadata": {},
   "outputs": [],
   "source": [
    "suits = ('Hearts', 'Diamonds', 'Spades', 'Clubs')\n",
    "ranks = ('Two', 'Three', 'Four', 'Five', 'Six', 'Seven', 'Eight', 'Nine', 'Ten', 'Jack', 'Queen', 'King', 'Ace')\n",
    "values = {'Two':2, 'Three':3, 'Four':4, 'Five':5, 'Six':6, 'Seven':7, 'Eight':8, \n",
    "            'Nine':9, 'Ten':10, 'Jack':10, 'Queen':10, 'King':10, 'Ace':11}"
   ]
  },
  {
   "cell_type": "code",
   "execution_count": 2,
   "metadata": {},
   "outputs": [],
   "source": [
    "# card class \n",
    "class Card():\n",
    "    \n",
    "    def __init__(self, suit,rank):\n",
    "        self.suit = suit\n",
    "        self.rank = rank\n",
    "        self.value= values[rank]\n",
    "    \n",
    "    def __str__(self):\n",
    "        \n",
    "         return self.rank + ' of ' + self.suit + f' value: {self.value}'\n",
    "    "
   ]
  },
  {
   "cell_type": "code",
   "execution_count": 60,
   "metadata": {},
   "outputs": [
    {
     "name": "stdout",
     "output_type": "stream",
     "text": [
      "Ace of Hearts value: 11\n"
     ]
    }
   ],
   "source": [
    "print(Card('Hearts','Ace'))"
   ]
  },
  {
   "cell_type": "code",
   "execution_count": 61,
   "metadata": {},
   "outputs": [
    {
     "data": {
      "text/plain": [
       "str"
      ]
     },
     "execution_count": 61,
     "metadata": {},
     "output_type": "execute_result"
    }
   ],
   "source": [
    "card=Card('Hearts','Two')\n",
    "\n",
    "type(card.rank)\n"
   ]
  },
  {
   "cell_type": "markdown",
   "metadata": {},
   "source": [
    "### the object attributes can be overwriten if it is not abstract object"
   ]
  },
  {
   "cell_type": "code",
   "execution_count": 22,
   "metadata": {},
   "outputs": [],
   "source": [
    "card.value = 3 # the "
   ]
  },
  {
   "cell_type": "code",
   "execution_count": 23,
   "metadata": {},
   "outputs": [
    {
     "data": {
      "text/plain": [
       "'Two'"
      ]
     },
     "execution_count": 23,
     "metadata": {},
     "output_type": "execute_result"
    }
   ],
   "source": [
    "card.rank"
   ]
  },
  {
   "cell_type": "code",
   "execution_count": 24,
   "metadata": {},
   "outputs": [
    {
     "data": {
      "text/plain": [
       "3"
      ]
     },
     "execution_count": 24,
     "metadata": {},
     "output_type": "execute_result"
    }
   ],
   "source": [
    "card.value"
   ]
  },
  {
   "cell_type": "code",
   "execution_count": 3,
   "metadata": {},
   "outputs": [],
   "source": [
    "# represent deck class \n",
    "import random \n",
    "class Deck():\n",
    "    \n",
    "    def __init__(self):\n",
    "        self.deck = []\n",
    "        for suit in suits:\n",
    "            for rank in ranks:\n",
    "                one_card = Card(suit,rank) # calss Card returns object \n",
    "                self.deck.append(one_card) # object list\n",
    "                \n",
    "    def shuffle(self):\n",
    "        random.shuffle(self.deck)\n",
    "        \n",
    "    def deal(self):\n",
    "        \n",
    "        #pop method will also happen in place in the original list so do not assign it to variable\n",
    "        return self.deck.pop() # pop off from the bottom of the deck\n",
    "                \n",
    "    def __str__(self):\n",
    "       # for x in self.deck:\n",
    "          #  print(x)\n",
    "        return 'all cards in one deck' + f' length : {len(self.deck)}'\n",
    "    \n",
    "                "
   ]
  },
  {
   "cell_type": "code",
   "execution_count": 63,
   "metadata": {},
   "outputs": [
    {
     "name": "stdout",
     "output_type": "stream",
     "text": [
      "all cards in one deck length : 52\n"
     ]
    }
   ],
   "source": [
    "deck1= Deck()\n",
    "print(deck1)"
   ]
  },
  {
   "cell_type": "code",
   "execution_count": 27,
   "metadata": {},
   "outputs": [
    {
     "data": {
      "text/plain": [
       "__main__.Deck"
      ]
     },
     "execution_count": 27,
     "metadata": {},
     "output_type": "execute_result"
    }
   ],
   "source": [
    "Deck"
   ]
  },
  {
   "cell_type": "code",
   "execution_count": 12,
   "metadata": {},
   "outputs": [
    {
     "name": "stdout",
     "output_type": "stream",
     "text": [
      "5\n",
      "\n",
      "\n",
      "7\n"
     ]
    }
   ],
   "source": [
    "print(5)\n",
    "print('\\n')\n",
    "print(7)"
   ]
  },
  {
   "cell_type": "code",
   "execution_count": 11,
   "metadata": {},
   "outputs": [],
   "source": [
    "# define huamn player, all instance of the class can call all methods defined inside the class\n",
    "\n",
    "class human_player():\n",
    "    \n",
    "    def __init__(self,name, bank_saving):\n",
    "        self.name = name\n",
    "        self.bank_saving = bank_saving\n",
    "        self.human_cards=[]\n",
    "        \n",
    "    \n",
    "    def hit_card(self,new_cards): \n",
    "         # how to check if new_cards is iterable or not \n",
    "        if type(new_cards)== type([]):\n",
    "            # for adding  multiple cards objects into the all_cards list\n",
    "            self.human_cards.extend(new_cards)\n",
    "        else:\n",
    "            # so this mean when we formulate new cards if they are more than one then formulate them into a list\n",
    "            \n",
    "            # add signle card into the all_cards list\n",
    "            self.human_cards.append(new_cards)\n",
    "    \n",
    "    def place_bets(self):\n",
    "        place_amount = int(input('please place you bet value as a int: ')) \n",
    "        return place_amount \n",
    "    \n",
    "    def sum_off(self):\n",
    "        return sum([card.value for card in self.human_cards])\n",
    "    '''\n",
    "    def sum_off(self):\n",
    "        sum_human=0\n",
    "        for card in self.human_cards:      \n",
    "            sum_human += card.value\n",
    "        return sum_human\n",
    "    '''     \n",
    "    def collect_bonus(self, place_bets):\n",
    "        self.bank_saving+=place_bets*2\n",
    "        return self.bank_saving\n",
    "    \n",
    "    def __str__(self):\n",
    "        return self.name + ' has ' + f'bank_saving:{self.bank_saving}' + ' at his bank account' + '\\n' + str([card.rank for card in self.human_cards]) +  ':'+ str([card.value for card in self.human_cards])\n",
    "               \n",
    "               \n",
    "        "
   ]
  },
  {
   "cell_type": "code",
   "execution_count": 13,
   "metadata": {},
   "outputs": [
    {
     "data": {
      "text/plain": [
       "'[10, 11]'"
      ]
     },
     "execution_count": 13,
     "metadata": {},
     "output_type": "execute_result"
    }
   ],
   "source": [
    "str([10,11])"
   ]
  },
  {
   "cell_type": "code",
   "execution_count": 5,
   "metadata": {},
   "outputs": [],
   "source": [
    "class computer_dealer():\n",
    "    \n",
    "    def __init__(self):\n",
    "        \n",
    "        self.computer_cards=[]\n",
    "        \n",
    "    def hit_cards(self,new_cards):\n",
    "        # how to check if new_cards is iterable or not \n",
    "        if type(new_cards)== type([]):\n",
    "            # for adding  multiple cards objects into the all_cards list\n",
    "            self.computer_cards.extend(new_cards)\n",
    "        else:\n",
    "            # so this mean when we formulate new cards if they are more than one then formulate them into a list\n",
    "            # add signle card into the all_cards list\n",
    "            self.computer_cards.append(new_cards)\n",
    "    \n",
    "    # sum off in a more packed way\n",
    "    def sum_off(self):\n",
    "        return sum([card.value for card in self.computer_cards])\n",
    "    \n",
    "    '''\n",
    "        \n",
    "    def sum_off(self):\n",
    "        sum_computer = 0\n",
    "        for card in self.computer_cards:\n",
    "            sum_computer += card.value\n",
    "        return sum_computer\n",
    "    '''\n",
    "    \n",
    "    def __str__(self):\n",
    "        return str([card.rank for card in self.computer_cards]) + ':' + str([card.value for card in self.computer_cards])"
   ]
  },
  {
   "cell_type": "code",
   "execution_count": 15,
   "metadata": {},
   "outputs": [],
   "source": [
    "def initial_game():\n",
    "    new_deck = Deck()\n",
    "    new_deck.shuffle()\n",
    "    player= human_player('huan',1000)\n",
    "    # initial human player cards\n",
    "    new_cards= [new_deck.deal(), new_deck.deal()]\n",
    "    player.hit_card(new_cards) # initial player cards at hand \n",
    "    # if there is Ace in the initial cards. choose 1 or 11 as the value based on another value\n",
    "    if sum([card.value for card in player.human_cards]) >21:\n",
    "\n",
    "        # only case with two Ace then it will bigger than 21 then chose one of them to be 1 \n",
    "        player.human_cards[0].value = 1\n",
    "\n",
    "    else:\n",
    "        pass\n",
    "    \n",
    "    # initial dealer\n",
    "    dealer = computer_dealer()\n",
    "    new_cards= [new_deck.deal(), new_deck.deal()]\n",
    "    dealer.hit_cards(new_cards)\n",
    "    face_up = dealer.computer_cards[0].value # face up the first one \n",
    "    \n",
    "    # face up one card\n",
    "    \n",
    "    # if there is Ace in the initial cards. choose 1 or 11 as the value based on another value\n",
    "    if sum([card.value for card in dealer.computer_cards]) >21:\n",
    "\n",
    "        # only case with two Ace then it will bigger than 21 then chose one of them to be 1 \n",
    "        dealer.computer_cards[0].value = 1\n",
    "\n",
    "    else:\n",
    "        pass\n",
    "    return player, dealer, new_deck\n",
    "\n",
    "\n",
    "    "
   ]
  },
  {
   "cell_type": "code",
   "execution_count": 6,
   "metadata": {},
   "outputs": [
    {
     "name": "stdout",
     "output_type": "stream",
     "text": [
      "all cards in one deck length : 52\n"
     ]
    }
   ],
   "source": [
    "# whole game logic \n",
    "new_deck = Deck()\n",
    "print(new_deck)"
   ]
  },
  {
   "cell_type": "code",
   "execution_count": 7,
   "metadata": {},
   "outputs": [],
   "source": [
    "new_deck.shuffle() # new deck has been shuffled "
   ]
  },
  {
   "cell_type": "code",
   "execution_count": 8,
   "metadata": {},
   "outputs": [
    {
     "name": "stdout",
     "output_type": "stream",
     "text": [
      "huan has 1000 at his bank account\n",
      "[]:[]\n"
     ]
    }
   ],
   "source": [
    "# player is the object of human_player which has attibutes as name and human_cards\n",
    "player= human_player('huan','1000')\n",
    "print(player)"
   ]
  },
  {
   "cell_type": "code",
   "execution_count": 9,
   "metadata": {},
   "outputs": [
    {
     "name": "stdout",
     "output_type": "stream",
     "text": [
      "Jack of Hearts value: 10\n",
      "King of Clubs value: 10\n"
     ]
    },
    {
     "data": {
      "text/plain": [
       "[<__main__.Card at 0x17bf7ee8580>, <__main__.Card at 0x17bf7f278b0>]"
      ]
     },
     "execution_count": 9,
     "metadata": {},
     "output_type": "execute_result"
    }
   ],
   "source": [
    "# initial human player cards\n",
    "new_cards= [new_deck.deal(), new_deck.deal()]\n",
    "for x in new_cards:\n",
    "    print(x)\n",
    "# call hitCard to initial cards to human. which returns a list of object(card), so the item in the list is object of Card\n",
    "# so it has attributs rank, suits and value\n",
    "player.hit_card(new_cards) # initial player cards at hand \n",
    "# initial player cards p\n",
    "player.human_cards\n"
   ]
  },
  {
   "cell_type": "code",
   "execution_count": 10,
   "metadata": {},
   "outputs": [
    {
     "data": {
      "text/plain": [
       "[<__main__.Card at 0x17bf7ee8580>, <__main__.Card at 0x17bf7f278b0>]"
      ]
     },
     "execution_count": 10,
     "metadata": {},
     "output_type": "execute_result"
    }
   ],
   "source": [
    "player.human_cards"
   ]
  },
  {
   "cell_type": "code",
   "execution_count": 11,
   "metadata": {},
   "outputs": [
    {
     "name": "stdout",
     "output_type": "stream",
     "text": [
      "Jack of Hearts value: 10\n",
      "King of Clubs value: 10\n"
     ]
    }
   ],
   "source": [
    "for x in new_cards:\n",
    "    print(x)"
   ]
  },
  {
   "cell_type": "code",
   "execution_count": 12,
   "metadata": {},
   "outputs": [
    {
     "data": {
      "text/plain": [
       "20"
      ]
     },
     "execution_count": 12,
     "metadata": {},
     "output_type": "execute_result"
    }
   ],
   "source": [
    "sum([card.value for card in player.human_cards])"
   ]
  },
  {
   "cell_type": "code",
   "execution_count": 44,
   "metadata": {},
   "outputs": [
    {
     "data": {
      "text/plain": [
       "[[11], 10]"
      ]
     },
     "execution_count": 44,
     "metadata": {},
     "output_type": "execute_result"
    }
   ],
   "source": [
    "[card.value for card in player.human_cards]"
   ]
  },
  {
   "cell_type": "markdown",
   "metadata": {},
   "source": [
    "## use fileter to filter the objects according to its attributs"
   ]
  },
  {
   "cell_type": "code",
   "execution_count": 179,
   "metadata": {},
   "outputs": [],
   "source": [
    "# filter the card object which has rank=='Three'\n",
    "a=list(filter(lambda card: card.rank !='Three',[card for card in player.human_cards]))"
   ]
  },
  {
   "cell_type": "code",
   "execution_count": 180,
   "metadata": {},
   "outputs": [
    {
     "data": {
      "text/plain": [
       "list"
      ]
     },
     "execution_count": 180,
     "metadata": {},
     "output_type": "execute_result"
    }
   ],
   "source": [
    "type(a)"
   ]
  },
  {
   "cell_type": "code",
   "execution_count": 181,
   "metadata": {},
   "outputs": [
    {
     "data": {
      "text/plain": [
       "10"
      ]
     },
     "execution_count": 181,
     "metadata": {},
     "output_type": "execute_result"
    }
   ],
   "source": [
    "a[0].value"
   ]
  },
  {
   "cell_type": "code",
   "execution_count": 182,
   "metadata": {},
   "outputs": [
    {
     "data": {
      "text/plain": [
       "'King'"
      ]
     },
     "execution_count": 182,
     "metadata": {},
     "output_type": "execute_result"
    }
   ],
   "source": [
    "a[0].rank"
   ]
  },
  {
   "cell_type": "code",
   "execution_count": 187,
   "metadata": {},
   "outputs": [
    {
     "data": {
      "text/plain": [
       "\"\\n    \\nfor rank in [card.rank for card in player.human_cards]:\\n    sum_cards+= card.value \\n    if rank == 'Ace':\\n        sum_cards= \\n    \\n    for value in [card.value for card in player.human_cards]:\\n        print(value)\\n        break\\n\""
      ]
     },
     "execution_count": 187,
     "metadata": {},
     "output_type": "execute_result"
    }
   ],
   "source": [
    "# if there is Ace in the initial cards. choose 1 or 11 as the value based on another value\n",
    "if sum([card.value for card in player.human_cards]) >21:\n",
    "    \n",
    "    # only case with two Ace then it will bigger than 21 then chose one of them to be 1 \n",
    "    player.human_cards[0].value = 1\n",
    "    \n",
    "else:\n",
    "    pass\n",
    "\n",
    "'''\n",
    "    \n",
    "for rank in [card.rank for card in player.human_cards]:\n",
    "    sum_cards+= card.value \n",
    "    if rank == 'Ace':\n",
    "        sum_cards= \n",
    "    \n",
    "    for value in [card.value for card in player.human_cards]:\n",
    "        print(value)\n",
    "        break\n",
    "'''"
   ]
  },
  {
   "cell_type": "code",
   "execution_count": 159,
   "metadata": {},
   "outputs": [
    {
     "name": "stdout",
     "output_type": "stream",
     "text": [
      "['Three']\n",
      "['Three']\n"
     ]
    }
   ],
   "source": [
    "for rank in [card.rank for card in player.human_cards]:\n",
    "    print(list(filter(lambda rank: rank=='Three',[card.rank for card in player.human_cards])))"
   ]
  },
  {
   "cell_type": "code",
   "execution_count": 125,
   "metadata": {},
   "outputs": [
    {
     "data": {
      "text/plain": [
       "list"
      ]
     },
     "execution_count": 125,
     "metadata": {},
     "output_type": "execute_result"
    }
   ],
   "source": [
    "type(player.human_cards)"
   ]
  },
  {
   "cell_type": "code",
   "execution_count": 202,
   "metadata": {},
   "outputs": [
    {
     "data": {
      "text/plain": [
       "int"
      ]
     },
     "execution_count": 202,
     "metadata": {},
     "output_type": "execute_result"
    }
   ],
   "source": [
    "type (player.human_cards[0].value)"
   ]
  },
  {
   "cell_type": "code",
   "execution_count": 128,
   "metadata": {},
   "outputs": [
    {
     "data": {
      "text/plain": [
       "str"
      ]
     },
     "execution_count": 128,
     "metadata": {},
     "output_type": "execute_result"
    }
   ],
   "source": [
    "type(player.human_cards[0].rank)"
   ]
  },
  {
   "cell_type": "code",
   "execution_count": 188,
   "metadata": {},
   "outputs": [
    {
     "data": {
      "text/plain": [
       "13"
      ]
     },
     "execution_count": 188,
     "metadata": {},
     "output_type": "execute_result"
    }
   ],
   "source": [
    "sum([card.value for card in player.human_cards])"
   ]
  },
  {
   "cell_type": "code",
   "execution_count": 190,
   "metadata": {},
   "outputs": [
    {
     "name": "stdout",
     "output_type": "stream",
     "text": [
      "all cards in one deck length : 50\n"
     ]
    }
   ],
   "source": [
    "print(new_deck)"
   ]
  },
  {
   "cell_type": "code",
   "execution_count": 13,
   "metadata": {},
   "outputs": [],
   "source": [
    "# initial computer two cards\n",
    "# print(new_deck) should have 50 after popping off 2 cards to player \n",
    "dealer = computer_dealer()\n",
    "new_cards= [new_deck.deal(), new_deck.deal()]\n"
   ]
  },
  {
   "cell_type": "code",
   "execution_count": 21,
   "metadata": {},
   "outputs": [
    {
     "name": "stdout",
     "output_type": "stream",
     "text": [
      "Jack of Hearts value: 10\n",
      "King of Clubs value: 10\n"
     ]
    }
   ],
   "source": [
    "for x in player.human_cards:\n",
    "    print(x)"
   ]
  },
  {
   "cell_type": "code",
   "execution_count": 14,
   "metadata": {},
   "outputs": [
    {
     "name": "stdout",
     "output_type": "stream",
     "text": [
      "all cards in one deck length : 48\n"
     ]
    }
   ],
   "source": [
    "print(new_deck)"
   ]
  },
  {
   "cell_type": "code",
   "execution_count": 23,
   "metadata": {},
   "outputs": [
    {
     "name": "stdout",
     "output_type": "stream",
     "text": [
      "[<__main__.Card object at 0x0000017BF7EE8520>, <__main__.Card object at 0x0000017BF7F27310>]\n"
     ]
    }
   ],
   "source": [
    "print(new_cards)"
   ]
  },
  {
   "cell_type": "code",
   "execution_count": 24,
   "metadata": {},
   "outputs": [
    {
     "name": "stdout",
     "output_type": "stream",
     "text": [
      "Five of Hearts value: 5\n",
      "Four of Clubs value: 4\n"
     ]
    }
   ],
   "source": [
    "for x in new_cards:\n",
    "    print(x)"
   ]
  },
  {
   "cell_type": "code",
   "execution_count": 17,
   "metadata": {},
   "outputs": [
    {
     "name": "stdout",
     "output_type": "stream",
     "text": [
      "[]:[]\n"
     ]
    }
   ],
   "source": [
    "print(dealer)"
   ]
  },
  {
   "cell_type": "code",
   "execution_count": 25,
   "metadata": {},
   "outputs": [
    {
     "name": "stdout",
     "output_type": "stream",
     "text": [
      "Five of Hearts value: 5\n",
      "Four of Clubs value: 4\n",
      "[<__main__.Card object at 0x0000017BF7EE8520>, <__main__.Card object at 0x0000017BF7F27310>]\n",
      "Five of Hearts value: 5\n",
      "Four of Clubs value: 4\n",
      "[<__main__.Card object at 0x0000017BF7EE8520>, <__main__.Card object at 0x0000017BF7F27310>]\n",
      "Five of Hearts value: 5\n",
      "Four of Clubs value: 4\n",
      "[<__main__.Card object at 0x0000017BF7EE8520>, <__main__.Card object at 0x0000017BF7F27310>]\n"
     ]
    }
   ],
   "source": [
    "#call hitCard to initial cards to human. which returns a list of object(card), so the item in the list is object of Card\n",
    "# so it has attributs rank, suits and value\n",
    "dealer.hit_cards(new_cards)\n",
    "dealer.computer_cards\n",
    "for x in dealer.computer_cards:\n",
    "    print(x)"
   ]
  },
  {
   "cell_type": "code",
   "execution_count": 22,
   "metadata": {},
   "outputs": [
    {
     "data": {
      "text/plain": [
       "[<__main__.Card at 0x17bf7ee8520>,\n",
       " <__main__.Card at 0x17bf7f27310>,\n",
       " [<__main__.Card at 0x17bf7ee8520>, <__main__.Card at 0x17bf7f27310>],\n",
       " <__main__.Card at 0x17bf7ee8520>,\n",
       " <__main__.Card at 0x17bf7f27310>,\n",
       " [<__main__.Card at 0x17bf7ee8520>, <__main__.Card at 0x17bf7f27310>]]"
      ]
     },
     "execution_count": 22,
     "metadata": {},
     "output_type": "execute_result"
    }
   ],
   "source": [
    "dealer.computer_cards"
   ]
  },
  {
   "cell_type": "code",
   "execution_count": 20,
   "metadata": {},
   "outputs": [
    {
     "name": "stdout",
     "output_type": "stream",
     "text": [
      "Five of Hearts value: 5\n",
      "Four of Clubs value: 4\n",
      "[<__main__.Card object at 0x0000017BF7EE8520>, <__main__.Card object at 0x0000017BF7F27310>]\n",
      "Five of Hearts value: 5\n",
      "Four of Clubs value: 4\n",
      "[<__main__.Card object at 0x0000017BF7EE8520>, <__main__.Card object at 0x0000017BF7F27310>]\n"
     ]
    }
   ],
   "source": [
    "for x in dealer.computer_cards:\n",
    "    print(x)"
   ]
  },
  {
   "cell_type": "code",
   "execution_count": 74,
   "metadata": {},
   "outputs": [
    {
     "data": {
      "text/plain": [
       "10"
      ]
     },
     "execution_count": 74,
     "metadata": {},
     "output_type": "execute_result"
    }
   ],
   "source": [
    "# face up one cards of computer initial cards\n",
    "face_up = dealer.computer_cards[0].value # face up the first one \n",
    "face_up"
   ]
  },
  {
   "cell_type": "code",
   "execution_count": 203,
   "metadata": {},
   "outputs": [],
   "source": [
    "# if there is Ace in the initial cards. choose 1 or 11 as the value based on another value\n",
    "if sum([card.value for card in dealer.computer_cards]) >21:\n",
    "    \n",
    "    # only case with two Ace then it will bigger than 21 then chose one of them to be 1 \n",
    "    dealer.computer_cards[0].value = 1\n",
    "    \n",
    "else:\n",
    "    pass\n"
   ]
  },
  {
   "cell_type": "code",
   "execution_count": 136,
   "metadata": {},
   "outputs": [
    {
     "name": "stdout",
     "output_type": "stream",
     "text": [
      "please place you bet value as a int: 100\n"
     ]
    }
   ],
   "source": [
    "# player place the bets\n",
    "bets = player.place_bets()"
   ]
  },
  {
   "cell_type": "code",
   "execution_count": null,
   "metadata": {},
   "outputs": [],
   "source": [
    "* The most tricky part is decide the ace takes 1 or 11. \n",
    "* so we have 2 3 4 5 6 7 8 9 10 10 10 10 [1, 11] they have two cards initially. if the sum of these two cards bigger than 10\n",
    "* the third card take 1 otherwise take 11 while also "
   ]
  },
  {
   "cell_type": "code",
   "execution_count": 137,
   "metadata": {},
   "outputs": [
    {
     "data": {
      "text/plain": [
       "10"
      ]
     },
     "execution_count": 137,
     "metadata": {},
     "output_type": "execute_result"
    }
   ],
   "source": [
    "sum([0,10])"
   ]
  },
  {
   "cell_type": "code",
   "execution_count": 200,
   "metadata": {},
   "outputs": [
    {
     "ename": "TypeError",
     "evalue": "'int' object is not iterable",
     "output_type": "error",
     "traceback": [
      "\u001b[1;31m---------------------------------------------------------------------------\u001b[0m",
      "\u001b[1;31mTypeError\u001b[0m                                 Traceback (most recent call last)",
      "\u001b[1;32m<ipython-input-200-2cc0c21868b8>\u001b[0m in \u001b[0;36m<module>\u001b[1;34m\u001b[0m\n\u001b[1;32m----> 1\u001b[1;33m \u001b[0msum\u001b[0m\u001b[1;33m(\u001b[0m\u001b[1;36m9\u001b[0m\u001b[1;33m,\u001b[0m \u001b[1;36m10\u001b[0m\u001b[1;33m)\u001b[0m\u001b[1;33m\u001b[0m\u001b[1;33m\u001b[0m\u001b[0m\n\u001b[0m",
      "\u001b[1;31mTypeError\u001b[0m: 'int' object is not iterable"
     ]
    }
   ],
   "source": [
    "sum(9, 10)"
   ]
  },
  {
   "cell_type": "code",
   "execution_count": 82,
   "metadata": {},
   "outputs": [
    {
     "data": {
      "text/plain": [
       "10"
      ]
     },
     "execution_count": 82,
     "metadata": {},
     "output_type": "execute_result"
    }
   ],
   "source": []
  },
  {
   "cell_type": "markdown",
   "metadata": {},
   "source": [
    "#### ?? could we call deck.deal() inside the player method? so call the method from another class inside one class method"
   ]
  },
  {
   "cell_type": "code",
   "execution_count": 13,
   "metadata": {},
   "outputs": [],
   "source": [
    "player, dealer, face_up=  initial_game()"
   ]
  },
  {
   "cell_type": "code",
   "execution_count": 8,
   "metadata": {},
   "outputs": [
    {
     "data": {
      "text/plain": [
       "[<__main__.Card at 0x219bb5b64f0>, <__main__.Card at 0x219bb5b6400>]"
      ]
     },
     "execution_count": 8,
     "metadata": {},
     "output_type": "execute_result"
    }
   ],
   "source": [
    "player.human_cards"
   ]
  },
  {
   "cell_type": "code",
   "execution_count": 14,
   "metadata": {},
   "outputs": [
    {
     "name": "stdout",
     "output_type": "stream",
     "text": [
      "huan has bank_saving:1000 at his bank account\n",
      "['Nine', 'Seven']:[9, 7]\n"
     ]
    }
   ],
   "source": [
    "print(player)\n"
   ]
  },
  {
   "cell_type": "code",
   "execution_count": 19,
   "metadata": {},
   "outputs": [
    {
     "name": "stdout",
     "output_type": "stream",
     "text": [
      "player:huan has bank_saving:1200 at his bank account\n",
      "['Nine', 'Ace', 'King']:[9, 11, 1]'\n",
      "'dealer:['Jack', 'Nine', 'Seven']:[10, 9, 7]'\n",
      "' current_deck length:all cards in one deck length : 46\n"
     ]
    }
   ],
   "source": [
    "print(f\"player:{player}'\\n'dealer:{dealer}'\\n' current_deck length:{new_deck}\")"
   ]
  },
  {
   "cell_type": "code",
   "execution_count": 38,
   "metadata": {},
   "outputs": [
    {
     "data": {
      "text/plain": [
       "10"
      ]
     },
     "execution_count": 38,
     "metadata": {},
     "output_type": "execute_result"
    }
   ],
   "source": [
    "face_up"
   ]
  },
  {
   "cell_type": "code",
   "execution_count": 11,
   "metadata": {},
   "outputs": [
    {
     "data": {
      "text/plain": [
       "[<__main__.Card at 0x219bb52a790>, <__main__.Card at 0x219bb548ee0>]"
      ]
     },
     "execution_count": 11,
     "metadata": {},
     "output_type": "execute_result"
    }
   ],
   "source": [
    "dealer.computer_cards"
   ]
  },
  {
   "cell_type": "markdown",
   "metadata": {},
   "source": [
    "* the background: \n",
    "    * initial game with initial_game() where we shuffle the deck and then send two cards to player and dealer to start\n",
    "    * if the initial two cards reaches 21 directly then the one wins. if they are both 21 then initial agian\n",
    "    *if none of them reach 21, then we start the game to hit card from player \n",
    "    * if player hits card Ace, then choose it takes 1 or 11. the goal is not over 21 \n",
    "    * once the player has decided and also after choose, it still within 21 then dealer will take the turn. dealer will end\n",
    "      dealing until it reaches 21 or buts "
   ]
  },
  {
   "cell_type": "code",
   "execution_count": 29,
   "metadata": {},
   "outputs": [
    {
     "name": "stdout",
     "output_type": "stream",
     "text": [
      "player:huan has bank_saving:1000 at his bank account\n",
      "['Nine', 'Six']:[9, 6]'\n",
      "'dealer:['Seven', 'Six']:[7, 6]'\n",
      "'all cards in one deck length : 48\n",
      "please place you bet value as a int: 90\n",
      "player choose to stand\n",
      "it goes to dealers turn now\n",
      "all cards in one deck length : 48\n",
      "all cards in one deck length : 47\n",
      "all cards in one deck length : 46\n",
      " The dealer hits card in ('Two', 2)\n",
      "dealer wins the game, player has sum of 15 while dealer has sum of 17\n"
     ]
    }
   ],
   "source": [
    "game_on = True\n",
    "initial_done =True\n",
    "dealer_hitting = True\n",
    "player, dealer, new_deck=initial_game()\n",
    "print(f\"player:{player}'\\n'dealer:{dealer}'\\n'{face_up}\")\n",
    "sum_of_initial_player = sum([card.value for card in player.human_cards])\n",
    "sum_of_initial_dealer = sum([card.value for card in dealer.computer_cards])\n",
    "\n",
    "# initial cards \n",
    "\n",
    "# before the game on we have make sure the sum of initial two cards not over 21\n",
    "# check sum of initial two card\n",
    "while initial_done:\n",
    "    if sum_of_initial_player == 21:\n",
    "        if sum_of_initial_dealer == 21:\n",
    "            print('initial again to start the game')\n",
    "            player, dealer, face_up=initial_game()\n",
    "            sum_of_initial_player = sum([card.value for card in player.human_cards])\n",
    "            sum_of_initial_dealer = sum([card.value for card in dealer.computer_cards])\n",
    "            initial_done = False\n",
    "            break\n",
    "        else:\n",
    "            print('Player reaches 21 directly, player wins')\n",
    "            initial_done = False\n",
    "            game_on = False\n",
    "            break\n",
    "    if sum_of_initial_dealer ==21:\n",
    "        if sum_of_initial_player !=21:\n",
    "            print('Dealer reaches 21 directly, dealer wins the game directly')\n",
    "            initial_done = False\n",
    "            game_on = False\n",
    "            break\n",
    "    \n",
    "    initial_done = False\n",
    "    break\n",
    "    \n",
    "while game_on:\n",
    "    \n",
    "    # after make sure there is no 21 after initialization then start the game \n",
    "    # player place the bets\n",
    "    bets = player.place_bets()           \n",
    "    # player hits card\n",
    "    new_deck.shuffle()\n",
    "    \n",
    "    # player can decide to hit or stand \n",
    "    if sum_of_initial_player <=10:\n",
    "        hit_one_card = new_deck.deal() # pop of one card from the current list bottom \n",
    "        print(new_deck)\n",
    "        if sum([sum_of_initial_player, hit_one_card.value]) > 21 and 'Ace'==hit_one_card.rank:\n",
    "            hit_one_card.value =1\n",
    "        else:\n",
    "            pass\n",
    "        player.hit_card(hit_one_card)\n",
    "    else:\n",
    "        # stand\n",
    "        print('player choose to stand')\n",
    "  \n",
    "    # sum off the current cards value \n",
    "    sum_off_player = sum([card.value for card in player.human_cards])\n",
    "\n",
    "    if sum_off_player > 21:\n",
    "        game_on= False \n",
    "        print(f' The player hits card in {hit_one_card.rank, hit_one_card.value}')\n",
    "        print(f'dealer wins the game, player buts with the sum of {sum_off_player}'\n",
    "              f'and computer dealer gets the money {bets}')\n",
    "        break\n",
    "    else:\n",
    "        print('it goes to dealers turn now')\n",
    "        \n",
    "        # dealer only ends hits until it buts or its sum under 21 but closer to 21 compare with player sum\n",
    "        while dealer_hitting:\n",
    "              \n",
    "            new_deck.shuffle()\n",
    "            print(new_deck)\n",
    "            hit_card = new_deck.deal() \n",
    "            dealer.hit_cards(hit_card) # add card to dealer \n",
    "            if sum([sum_of_initial_dealer, hit_card.value]) > 21:\n",
    "                hit_card.value =1\n",
    "            else:\n",
    "                pass\n",
    "\n",
    "            sum_dealer = dealer.sum_off()\n",
    "\n",
    "            if sum_dealer > 21:\n",
    "                game_on=False\n",
    "                dealer_hitting= False\n",
    "                player.collect_bonus(bets)\n",
    "                print(f' The dealer hits card in {hit_card.rank, hit_card.value}')\n",
    "                print(f'Player wins since dealer buts, player money in bank now {player.bank_saving} with add bonus:{bets*2}')\n",
    "                break \n",
    "\n",
    "            else:\n",
    "                if (21-sum_dealer) < (21-sum_off_player):\n",
    "                    game_on=False\n",
    "                    dealer_hitting= False\n",
    "                    print(f' The dealer hits card in {hit_card.rank, hit_card.value}')\n",
    "                    print(f'dealer wins the game, player has sum of {sum_off_player} while dealer has sum of {sum_dealer}')\n",
    "                    break\n",
    "                else:\n",
    "                    continue \n",
    "              \n",
    "              \n",
    "              \n",
    "    \n",
    "\n",
    "                  \n",
    "        \n",
    "        \n",
    "        \n",
    "        "
   ]
  },
  {
   "cell_type": "code",
   "execution_count": 103,
   "metadata": {},
   "outputs": [
    {
     "name": "stdout",
     "output_type": "stream",
     "text": [
      "11\n"
     ]
    }
   ],
   "source": [
    "i= 6\n",
    "T=True\n",
    "while T:\n",
    "    i+=1\n",
    "    if i > 10:\n",
    "        print(i)\n",
    "        break\n",
    "        T=False\n",
    "    else:\n",
    "        continue\n",
    "        \n",
    "    \n",
    "    \n",
    "    "
   ]
  },
  {
   "cell_type": "code",
   "execution_count": 104,
   "metadata": {},
   "outputs": [
    {
     "data": {
      "text/plain": [
       "9"
      ]
     },
     "execution_count": 104,
     "metadata": {},
     "output_type": "execute_result"
    }
   ],
   "source": [
    "5+[4,10][0]"
   ]
  }
 ],
 "metadata": {
  "kernelspec": {
   "display_name": "Python 3",
   "language": "python",
   "name": "python3"
  },
  "language_info": {
   "codemirror_mode": {
    "name": "ipython",
    "version": 3
   },
   "file_extension": ".py",
   "mimetype": "text/x-python",
   "name": "python",
   "nbconvert_exporter": "python",
   "pygments_lexer": "ipython3",
   "version": "3.8.5"
  }
 },
 "nbformat": 4,
 "nbformat_minor": 1
}
