{
 "cells": [
  {
   "cell_type": "markdown",
   "metadata": {},
   "source": [
    "___\n",
    "\n",
    "<a href='https://www.udemy.com/user/joseportilla/'><img src='../Pierian_Data_Logo.png'/></a>\n",
    "___\n",
    "<center><em>Content Copyright by Pierian Data</em></center>"
   ]
  },
  {
   "cell_type": "markdown",
   "metadata": {},
   "source": [
    "# Some useful format when we use markdown to create note!!\n",
    "* Bold \n",
    " use **text** to bold the text part you want \n",
    "* Italicized text\n",
    "  use *text* to do italicization \n",
    "* List the bullet and use the bold \n",
    " * space here after the * with the bullets **This is a bullet item with bold words**\n",
    " * *This is a bullet item with italicized words* \n",
    "* another list format \n",
    "    1. And you can also create ordered lists\n",
    "    2. by using numbers\n",
    "    3. and listing new items in the lists \n",
    "    4. on their own lines\n",
    "* Highlight text with backstick \n",
    " * inner list\n",
    "  `highlight text`\n",
    " * inner list\n",
    "* You can also create a horizontal line or rule to highlight a block of Markdown syntax (similar to the highlighting a block of code using the backticks):\n",
    "***\n",
    "\n",
    "Here is some important text!\n",
    "\n",
    "***\n",
    "* Create hyperlink here \n",
    "Our program website can be found at <a href=\"http://earthdatascience.org\" target=\"_blank\">this link</a>\n",
    "\n",
    "* you can render igmage here \n",
    "![Markdown Logo is here.](https://www.fullstackpython.com/img/logos/markdown.png)"
   ]
  },
  {
   "cell_type": "markdown",
   "metadata": {},
   "source": [
    "# Nested Statements and Scope \n",
    "\n",
    "Now that we have gone over writing our own functions, it's important to understand how Python deals with the variable names you assign. When you create a variable name in Python the name is stored in a *name-space*. Variable names also have a *scope*, the scope determines the visibility of that variable name to other parts of your code.\n",
    "\n",
    "Let's start with a quick thought experiment; imagine the following code:"
   ]
  },
  {
   "cell_type": "markdown",
   "metadata": {},
   "source": [
    "* **scope and vaiables applying rules** \n",
    "LEGB Rule:\n",
    "\n",
    "1. L: Local — Names assigned in any way within **a function** which means this is one function without inner nested function (def or lambda), and not declared global in that function.\n",
    "\n",
    "2. E: Enclosing function locals — Names in the local scope of any and all enclosing functions (def or lambda), from inner to outer. Enclosing function means there are at least two functions intersected together we also call it as **Nested function**\n",
    "\n",
    "3. G: Global (module) — Names assigned at the top-level of a module file, or declared global in a def within the file.**the variable not inside any function, so it is at the top-level of a module** \n",
    "\n",
    "4. B: Built-in (Python) — Names preassigned in the built-in names module : open, range, SyntaxError,...**Built in variables are the higest level**\n"
   ]
  },
  {
   "cell_type": "code",
   "execution_count": 1,
   "metadata": {},
   "outputs": [],
   "source": [
    "x = 25\n",
    "\n",
    "def printer():\n",
    "    x = 50\n",
    "    return x\n",
    "\n",
    "# print(x)\n",
    "# print(printer())"
   ]
  },
  {
   "cell_type": "markdown",
   "metadata": {},
   "source": [
    "What do you imagine the output of printer() is? 25 or 50? What is the output of print x? 25 or 50?"
   ]
  },
  {
   "cell_type": "markdown",
   "metadata": {},
   "source": [
    "*  **print() is a built in function of Python, when you call it, it will try to find x from Local> Enclosing local> global > \n",
    "built in order**"
   ]
  },
  {
   "cell_type": "code",
   "execution_count": 2,
   "metadata": {},
   "outputs": [
    {
     "name": "stdout",
     "output_type": "stream",
     "text": [
      "25\n"
     ]
    }
   ],
   "source": [
    "print(x) # only find x in global scope and print it "
   ]
  },
  {
   "cell_type": "code",
   "execution_count": 3,
   "metadata": {},
   "outputs": [
    {
     "name": "stdout",
     "output_type": "stream",
     "text": [
      "50\n"
     ]
    }
   ],
   "source": [
    "print(printer()) # when printer() is called it will find x in Local> Enclosing local> global > \n",
    "# built in order"
   ]
  },
  {
   "cell_type": "markdown",
   "metadata": {},
   "source": [
    "**Interesting! But how does Python know which** **x** **you're referring to in your code? This is where the idea of scope comes in. Python has a set of rules it follows to decide what variables (such as** **x** **in this case) you are referencing in your code. Lets break down the rules:**"
   ]
  },
  {
   "cell_type": "markdown",
   "metadata": {
    "collapsed": true
   },
   "source": [
    "This idea of scope in your code is very important to understand in order to properly assign and call variable names. \n",
    "\n",
    "In simple terms, the idea of scope can be described by 3 general rules:\n",
    "\n",
    "1. Name assignments will create or change local names by default.\n",
    "2. Name references search (at most) four scopes, these are:\n",
    "    * local\n",
    "    * enclosing functions\n",
    "    * global\n",
    "    * built-in\n",
    "3. Names declared in global and nonlocal statements map assigned names to enclosing module and function scopes.\n",
    "\n",
    "\n",
    "The statement in #2 above can be defined by the LEGB rule.\n",
    "\n",
    "**LEGB Rule:**\n",
    "\n",
    "L: Local — Names assigned in any way within a function (def or lambda), and not declared global in that function.\n",
    "\n",
    "E: Enclosing function locals — Names in the local scope of any and all enclosing functions (def or lambda), from inner to outer.\n",
    "\n",
    "G: Global (module) — Names assigned at the top-level of a module file, or declared global in a def within the file.\n",
    "\n",
    "B: Built-in (Python) — Names preassigned in the built-in names module : open, range, SyntaxError,..."
   ]
  },
  {
   "cell_type": "markdown",
   "metadata": {},
   "source": [
    "## Quick examples of LEGB\n",
    "\n",
    "### Local"
   ]
  },
  {
   "cell_type": "code",
   "execution_count": 11,
   "metadata": {},
   "outputs": [],
   "source": [
    "# x is local here:\n",
    "f = lambda x:x**2"
   ]
  },
  {
   "cell_type": "markdown",
   "metadata": {},
   "source": [
    "### Enclosing function locals\n",
    "`This occurs when we have a function inside a function (nested functions)`\n"
   ]
  },
  {
   "cell_type": "code",
   "execution_count": 4,
   "metadata": {},
   "outputs": [
    {
     "name": "stdout",
     "output_type": "stream",
     "text": [
      "Hello Sammy\n"
     ]
    }
   ],
   "source": [
    "name = 'This is a global name'\n",
    "\n",
    "def greet():\n",
    "    # Enclosing function\n",
    "    name = 'Sammy'\n",
    "    \n",
    "    def hello():\n",
    "        print('Hello '+name)\n",
    "    \n",
    "    hello()\n",
    "\n",
    "greet() # when you call greet, it defines a enclose local variabe name as Sammy and then it defines hello() inner function\n",
    "# then call hello, hello will dearch name in local first then ecloseing lcoal then global, \n",
    "#if it finds a name variable then it will use it. here it finds the enclosing variable"
   ]
  },
  {
   "cell_type": "code",
   "execution_count": 5,
   "metadata": {},
   "outputs": [
    {
     "name": "stdout",
     "output_type": "stream",
     "text": [
      "Hello This is a global name\n"
     ]
    }
   ],
   "source": [
    "name = 'This is a global name'\n",
    "\n",
    "def greet():\n",
    "    # Enclosing function\n",
    "    #name = 'Sammy'\n",
    "    \n",
    "    def hello():\n",
    "        print('Hello '+name)\n",
    "    \n",
    "    hello()\n",
    "greet() # since hello did not find any variable name in its local and enclosing local "
   ]
  },
  {
   "cell_type": "code",
   "execution_count": 1,
   "metadata": {},
   "outputs": [
    {
     "name": "stdout",
     "output_type": "stream",
     "text": [
      "5\n",
      "Hello This is my local name \n"
     ]
    }
   ],
   "source": [
    "name = 5\n",
    "\n",
    "def greet():\n",
    "    # Enclosing function\n",
    "    #name = 'Sammy'\n",
    "    print(name) \n",
    "    def hello():\n",
    "        name = 'This is my local name '\n",
    "        print('Hello '+name)\n",
    "    \n",
    "    hello()\n",
    "greet() # the search order is local, enlocsing local, global so here is local first "
   ]
  },
  {
   "cell_type": "code",
   "execution_count": 10,
   "metadata": {},
   "outputs": [
    {
     "name": "stdout",
     "output_type": "stream",
     "text": [
      "Sammy\n",
      "Hello Sammy\n"
     ]
    }
   ],
   "source": [
    "name = 'This is a global name'\n",
    "\n",
    "def greet():\n",
    "\n",
    "    # Enclosing function\n",
    "    name = 'Sammy'\n",
    "    print(name)\n",
    "    \n",
    "    def hello():\n",
    "        print('Hello '+name)\n",
    "    \n",
    "    hello()\n",
    "greet() # always search above level, the print is in enclose scope then it will not use its lower scope the local name\n",
    "# so it uses its same level which enclose variable name "
   ]
  },
  {
   "cell_type": "code",
   "execution_count": 13,
   "metadata": {},
   "outputs": [
    {
     "name": "stdout",
     "output_type": "stream",
     "text": [
      "This is a global name\n",
      "Hello local\n"
     ]
    }
   ],
   "source": [
    "name = 'This is a global name'\n",
    "\n",
    "def greet():\n",
    "    # Enclosing function\n",
    "    #name = 'Sammy'\n",
    "    print(name) # print did not find its enclose scope variable name so it search above to global L E G B >>> level up searching\n",
    "                # is bottom to up. so B is highest levl \n",
    "    def hello():\n",
    "        name = 'local'\n",
    "        print('Hello '+name)\n",
    "    \n",
    "    hello()\n",
    "greet()"
   ]
  },
  {
   "cell_type": "markdown",
   "metadata": {},
   "source": [
    "**The scope rules are applied for searching variable in equal or above level**\n",
    "**This means when you have a local variable name2 in local function hello, while you print name2 in its above level function greet which is called enclose function, it will search the name2 from enclose variable level and also global level**\n",
    "**Apparently it did find nothing**"
   ]
  },
  {
   "cell_type": "code",
   "execution_count": 30,
   "metadata": {},
   "outputs": [
    {
     "ename": "NameError",
     "evalue": "name 'name2' is not defined",
     "output_type": "error",
     "traceback": [
      "\u001b[1;31m---------------------------------------------------------------------------\u001b[0m",
      "\u001b[1;31mNameError\u001b[0m                                 Traceback (most recent call last)",
      "\u001b[1;32m<ipython-input-30-b4781833da53>\u001b[0m in \u001b[0;36m<module>\u001b[1;34m\u001b[0m\n\u001b[0;32m     10\u001b[0m \u001b[1;33m\u001b[0m\u001b[0m\n\u001b[0;32m     11\u001b[0m     \u001b[0mhello\u001b[0m\u001b[1;33m(\u001b[0m\u001b[1;33m)\u001b[0m\u001b[1;33m\u001b[0m\u001b[1;33m\u001b[0m\u001b[0m\n\u001b[1;32m---> 12\u001b[1;33m \u001b[0mgreet\u001b[0m\u001b[1;33m(\u001b[0m\u001b[1;33m)\u001b[0m\u001b[1;33m\u001b[0m\u001b[1;33m\u001b[0m\u001b[0m\n\u001b[0m",
      "\u001b[1;32m<ipython-input-30-b4781833da53>\u001b[0m in \u001b[0;36mgreet\u001b[1;34m()\u001b[0m\n\u001b[0;32m      4\u001b[0m     \u001b[1;31m# Enclosing function\u001b[0m\u001b[1;33m\u001b[0m\u001b[1;33m\u001b[0m\u001b[1;33m\u001b[0m\u001b[0m\n\u001b[0;32m      5\u001b[0m     \u001b[1;31m#name = 'Sammy'\u001b[0m\u001b[1;33m\u001b[0m\u001b[1;33m\u001b[0m\u001b[1;33m\u001b[0m\u001b[0m\n\u001b[1;32m----> 6\u001b[1;33m     \u001b[0mprint\u001b[0m\u001b[1;33m(\u001b[0m\u001b[0mname2\u001b[0m\u001b[1;33m)\u001b[0m\u001b[1;33m\u001b[0m\u001b[1;33m\u001b[0m\u001b[0m\n\u001b[0m\u001b[0;32m      7\u001b[0m     \u001b[1;32mdef\u001b[0m \u001b[0mhello\u001b[0m\u001b[1;33m(\u001b[0m\u001b[1;33m)\u001b[0m\u001b[1;33m:\u001b[0m\u001b[1;33m\u001b[0m\u001b[1;33m\u001b[0m\u001b[0m\n\u001b[0;32m      8\u001b[0m         \u001b[0mname2\u001b[0m\u001b[1;33m=\u001b[0m \u001b[1;34m'this is in local'\u001b[0m\u001b[1;33m\u001b[0m\u001b[1;33m\u001b[0m\u001b[0m\n",
      "\u001b[1;31mNameError\u001b[0m: name 'name2' is not defined"
     ]
    }
   ],
   "source": [
    "#name1 = 'This is a global name'\n",
    "\n",
    "def greet():\n",
    "    # Enclosing function\n",
    "    #name = 'Sammy'\n",
    "    print(name2)\n",
    "    def hello():\n",
    "        name2= 'this is in local'\n",
    "        print('Hello '+name2)\n",
    "    \n",
    "    hello()\n",
    "greet()"
   ]
  },
  {
   "cell_type": "code",
   "execution_count": 38,
   "metadata": {},
   "outputs": [
    {
     "name": "stdout",
     "output_type": "stream",
     "text": [
      "This is a global name\n",
      "Hello this is in local\n"
     ]
    }
   ],
   "source": [
    "name2 = 'This is a global name'\n",
    "\n",
    "def greet():\n",
    "    # Enclosing function\n",
    "    #name = 'Sammy'\n",
    "    #print the global name2\n",
    "    print(name2)\n",
    "    def hello():\n",
    "        name2= 'this is in local'\n",
    "        print('Hello '+name2)\n",
    "    \n",
    "    hello()\n",
    "greet()"
   ]
  },
  {
   "cell_type": "markdown",
   "metadata": {},
   "source": [
    "**The error below** "
   ]
  },
  {
   "cell_type": "code",
   "execution_count": 19,
   "metadata": {},
   "outputs": [
    {
     "ename": "UnboundLocalError",
     "evalue": "local variable 'name3' referenced before assignment",
     "output_type": "error",
     "traceback": [
      "\u001b[1;31m---------------------------------------------------------------------------\u001b[0m",
      "\u001b[1;31mUnboundLocalError\u001b[0m                         Traceback (most recent call last)",
      "\u001b[1;32m<ipython-input-19-64aa09528893>\u001b[0m in \u001b[0;36m<module>\u001b[1;34m\u001b[0m\n\u001b[0;32m     15\u001b[0m \u001b[1;33m\u001b[0m\u001b[0m\n\u001b[0;32m     16\u001b[0m     \u001b[0mhello\u001b[0m\u001b[1;33m(\u001b[0m\u001b[1;33m)\u001b[0m\u001b[1;33m\u001b[0m\u001b[1;33m\u001b[0m\u001b[0m\n\u001b[1;32m---> 17\u001b[1;33m \u001b[0mgreet\u001b[0m\u001b[1;33m(\u001b[0m\u001b[1;33m)\u001b[0m\u001b[1;33m\u001b[0m\u001b[1;33m\u001b[0m\u001b[0m\n\u001b[0m",
      "\u001b[1;32m<ipython-input-19-64aa09528893>\u001b[0m in \u001b[0;36mgreet\u001b[1;34m()\u001b[0m\n\u001b[0;32m      3\u001b[0m \u001b[1;32mdef\u001b[0m \u001b[0mgreet\u001b[0m\u001b[1;33m(\u001b[0m\u001b[1;33m)\u001b[0m\u001b[1;33m:\u001b[0m\u001b[1;33m\u001b[0m\u001b[1;33m\u001b[0m\u001b[0m\n\u001b[0;32m      4\u001b[0m \u001b[1;33m\u001b[0m\u001b[0m\n\u001b[1;32m----> 5\u001b[1;33m     \u001b[0mprint\u001b[0m\u001b[1;33m(\u001b[0m\u001b[0mname3\u001b[0m\u001b[1;33m)\u001b[0m\u001b[1;33m\u001b[0m\u001b[1;33m\u001b[0m\u001b[0m\n\u001b[0m\u001b[0;32m      6\u001b[0m \u001b[1;33m\u001b[0m\u001b[0m\n\u001b[0;32m      7\u001b[0m     \u001b[1;31m# Enclosing function\u001b[0m\u001b[1;33m\u001b[0m\u001b[1;33m\u001b[0m\u001b[1;33m\u001b[0m\u001b[0m\n",
      "\u001b[1;31mUnboundLocalError\u001b[0m: local variable 'name3' referenced before assignment"
     ]
    }
   ],
   "source": [
    "name3 = 'This is a global name'\n",
    "\n",
    "def greet():\n",
    "    \n",
    "    print(name3)\n",
    "    \n",
    "    # Enclosing function\n",
    "    name3= 'Sammy'\n",
    "    print(name3)\n",
    "    \n",
    "    def hello():\n",
    "        # local name3\n",
    "        name3= 'this is in local'\n",
    "        print('Hello '+name3)\n",
    "    \n",
    "    hello()\n",
    "greet()"
   ]
  },
  {
   "cell_type": "markdown",
   "metadata": {},
   "source": [
    "**When you call print in enclose function like the example below, if there is no enclosing variable defined then it is okay**\n",
    "**it will search and use global variable `But if you define any enclose variable then you must define it before you call \n",
    "any function`** \n",
    "**But you the error above happens also because when you def function greet you pass no paramter, if we give x inside then this\n",
    "error will be solved**"
   ]
  },
  {
   "cell_type": "markdown",
   "metadata": {},
   "source": [
    "#### so WHY we need to give paramter to make it work? what is the key point of searching order in Python??\n",
    "**well, In python the searching order is local variable >> enclosing local variable >> global variable**\n",
    "**The same scope variables are overwritten all the time if you assign new values to the same name of the variable**\n",
    "**But the different scope variables cannot be replaced and overwriten. They will lead error or conflict**\n",
    "**This mean when you name a variable 'name3' as a global variable and then you also name it 'name3' inside the function, no**\n",
    "**matter when you define the local name3, ALL local variables are recognized as local variables by PYton once they are created that is determined when the function is defined, before it is executed.**\n",
    "**But THEY are only assigned with values until they are executed. So you get error below once you run, you expected the print(name3) will print the global variable, because it is executed directly inside the function, but since you also set name3 as local variable. they are determined as local by python once the def function is defined then Python will throw error that you need to assign value before you call name3 so Python know there is a name3 inside the function as a local, since print function is inside the function, so its searching order is local vavriable >>encloed local >> global. in Theory once python did not find the local then it will go to next level, but since Python has found the local name3 but it is not assgined value so it failed**\n",
    "\n"
   ]
  },
  {
   "cell_type": "code",
   "execution_count": 24,
   "metadata": {},
   "outputs": [
    {
     "name": "stdout",
     "output_type": "stream",
     "text": [
      "This is a global name\n",
      "This is a global name\n",
      "Hello this is in local\n"
     ]
    }
   ],
   "source": [
    "name4 = 'This is a global name'\n",
    "#name4 = 'overwritten ones'\n",
    "\n",
    "def greet():\n",
    "    \n",
    "    \n",
    "    # Enclosing function\n",
    "    #name3= 'Sammy'\n",
    "    print(name4)\n",
    "    \n",
    "    name3= 'Sammy'\n",
    "    print(name4)\n",
    "    \n",
    "    def hello():\n",
    "        # local name3\n",
    "        name3= 'this is in local'\n",
    "        print('Hello '+name3)\n",
    "    \n",
    "    hello()\n",
    "greet()"
   ]
  },
  {
   "cell_type": "markdown",
   "metadata": {},
   "source": [
    "### name the glocal variable as a different name of the local variable name3, Then it works "
   ]
  },
  {
   "cell_type": "code",
   "execution_count": 132,
   "metadata": {},
   "outputs": [
    {
     "name": "stdout",
     "output_type": "stream",
     "text": [
      "This is a global name\n",
      "Sammy\n",
      "Hello this is in local\n"
     ]
    }
   ],
   "source": [
    "name4 = 'This is a global name' #\n",
    "\n",
    "def greet():\n",
    "    \n",
    "    \n",
    "    # Enclosing function\n",
    "    #name3= 'Sammy'\n",
    "    print(name4)\n",
    "    \n",
    "    name3= 'Sammy'\n",
    "    print(name3)\n",
    "    \n",
    "    def hello():\n",
    "        # local name3\n",
    "        name3= 'this is in local'\n",
    "        print('Hello '+name3)\n",
    "    \n",
    "    hello()\n",
    "greet()"
   ]
  },
  {
   "cell_type": "markdown",
   "metadata": {},
   "source": [
    "#### when you pass the paramter in the function, it is taken as the function local variable and it is assinged once the \n",
    "#### fnction is called, so it will happen first once you reassign the variable to the same name then it will be overwritten\n"
   ]
  },
  {
   "cell_type": "code",
   "execution_count": 135,
   "metadata": {},
   "outputs": [
    {
     "name": "stdout",
     "output_type": "stream",
     "text": [
      "hi\n"
     ]
    },
    {
     "data": {
      "text/plain": [
       "'right here'"
      ]
     },
     "execution_count": 135,
     "metadata": {},
     "output_type": "execute_result"
    }
   ],
   "source": [
    "name3 = 'This is a global name'\n",
    "\n",
    "def greet(name3):\n",
    "    \n",
    "    # Print global name3\n",
    "    #name3 = 'right here'\n",
    "    print(name3)\n",
    "    name3 = 'right here'\n",
    "    # Enclosing function local variable \n",
    "    \n",
    "   # name3= 'Sammy\n",
    "   # print(name3)\n",
    "    return name3\n",
    "    \n",
    "    \n",
    "\n",
    "greet('hi') # once you pass name3 as the parameter of greet then it is use global name3 first"
   ]
  },
  {
   "cell_type": "code",
   "execution_count": 120,
   "metadata": {},
   "outputs": [
    {
     "name": "stdout",
     "output_type": "stream",
     "text": [
      "23\n"
     ]
    },
    {
     "data": {
      "text/plain": [
       "23"
      ]
     },
     "execution_count": 120,
     "metadata": {},
     "output_type": "execute_result"
    }
   ],
   "source": [
    "x=23\n",
    "\n",
    "def printer():\n",
    "\n",
    "    print(x)\n",
    "\n",
    "    #x=x+1\n",
    "\n",
    "    return x\n",
    "\n",
    "printer()"
   ]
  },
  {
   "cell_type": "markdown",
   "metadata": {},
   "source": [
    "Note how Sammy was used, because the hello() function was enclosed inside of the greet function!"
   ]
  },
  {
   "cell_type": "markdown",
   "metadata": {},
   "source": [
    "### Global\n",
    "**Luckily in Jupyter a quick way to test for global variables is to see if another cell recognizes the variable!**\n",
    "**as long as name is called and defined somewhere before this cell in notebook it is saved in the space and used as global variable**\n"
   ]
  },
  {
   "cell_type": "code",
   "execution_count": 48,
   "metadata": {},
   "outputs": [
    {
     "name": "stdout",
     "output_type": "stream",
     "text": [
      "This is a global name\n",
      "This is a global name\n",
      "This is a global name\n"
     ]
    }
   ],
   "source": [
    "print(name) \n",
    "print(name2)\n",
    "print(name3) # only print their global definition "
   ]
  },
  {
   "cell_type": "markdown",
   "metadata": {},
   "source": [
    "### Built-in\n",
    "**These are the built-in function names in Python (don't overwrite these!), do not overwrite them**"
   ]
  },
  {
   "cell_type": "code",
   "execution_count": 7,
   "metadata": {},
   "outputs": [
    {
     "data": {
      "text/plain": [
       "<function len>"
      ]
     },
     "execution_count": 7,
     "metadata": {},
     "output_type": "execute_result"
    }
   ],
   "source": [
    "len"
   ]
  },
  {
   "cell_type": "markdown",
   "metadata": {},
   "source": [
    "## Local Variables\n",
    "**When you declare variables inside a function definition, they are not related in any way to other variables with the same names used outside the function - i.e. variable names are local to the function.** This is called the scope of the variable. All variables have the scope of the block they are declared in starting from the point of definition of the name.\n",
    "\n",
    "Example:"
   ]
  },
  {
   "cell_type": "markdown",
   "metadata": {},
   "source": [
    "**Built in function level is high then global of course it is higher then enclose function and local inner function\n",
    "when you print() outside the function it will use global function variable instead of the local ones \n",
    "and local changes will not affect the global ones**"
   ]
  },
  {
   "cell_type": "code",
   "execution_count": 5,
   "metadata": {},
   "outputs": [
    {
     "name": "stdout",
     "output_type": "stream",
     "text": [
      "x is 50\n",
      "Changed local x to 2\n",
      "x is still 50\n"
     ]
    }
   ],
   "source": [
    "x = 50\n",
    "\n",
    "def func(x):\n",
    "    print('x is', x)\n",
    "    x = 2\n",
    "    print('Changed local x to', x)\n",
    "\n",
    "func(x) \n",
    "print('x is still', x) "
   ]
  },
  {
   "cell_type": "markdown",
   "metadata": {},
   "source": [
    "The first time that we print the value of the name **x** with the first line in the function’s body, Python uses the value of the parameter declared in the main block, above the function definition.\n",
    "\n",
    "Next, we assign the value 2 to **x**. The name **x** is local to our function. So, when we change the value of **x** in the function, the **x** defined in the main block remains unaffected.\n",
    "\n",
    "With the last print statement, we display the value of **x** as defined in the main block, thereby confirming that it is actually unaffected by the local assignment within the previously called function.\n",
    "\n",
    "## The <code>global</code> statement\n",
    "**If you want to assign a value to a name defined at the top level of the program (i.e. not inside any kind of scope such as functions or classes), then you have to tell Python that the name is not local, but it is global. We do this using the <code>global</code> statement. It is impossible to assign a value to a variable defined outside a function without the global statement.**\n",
    "\n",
    "**Once you state the global inside the function, You can use the values of such variables defined outside the function (assuming there is no variable with the same name within the function). However, this is not encouraged and should be avoided since it becomes unclear to the reader of the program as to where that variable’s definition is. Using the <code>global</code> statement makes it amply clear that the variable is defined in an outermost block.**\n",
    "\n",
    "Example:"
   ]
  },
  {
   "cell_type": "code",
   "execution_count": 7,
   "metadata": {},
   "outputs": [
    {
     "name": "stdout",
     "output_type": "stream",
     "text": [
      "Before calling func(), x is:  50\n",
      "This function is now using the global x!\n",
      "Because of global x is:  50\n",
      "Ran func(), changed global x to 2\n",
      "Value of x (outside of func()) is:  2\n"
     ]
    }
   ],
   "source": [
    "x = 50\n",
    "\n",
    "def func():\n",
    "    global x\n",
    "    print('This function is now using the global x!')\n",
    "    print('Because of global x is: ', x)\n",
    "    x = 2\n",
    "    print('Ran func(), changed global x to', x)\n",
    "\n",
    "print('Before calling func(), x is: ', x)\n",
    "func()\n",
    "print('Value of x (outside of func()) is: ', x)"
   ]
  },
  {
   "cell_type": "markdown",
   "metadata": {},
   "source": [
    "**recommended way to not affect the global variable x**\n"
   ]
  },
  {
   "cell_type": "code",
   "execution_count": 25,
   "metadata": {},
   "outputs": [
    {
     "name": "stdout",
     "output_type": "stream",
     "text": [
      "Before calling func(), x is:  50\n",
      "This function is now using the global x!\n",
      "Because of global x is:  50\n",
      "Ran func(), changed global x to 2\n",
      "Value of x (outside of func()) is:  2\n"
     ]
    }
   ],
   "source": [
    "x = 50\n",
    "\n",
    "def func(x): # pass x as parameter when you want to change the global variable locally \n",
    "    #global x\n",
    "    print('This function is now using the global x!')\n",
    "    print('Because of global x is: ', x)\n",
    "    x = 2\n",
    "    print('Ran func(), changed global x to', x)\n",
    "    return x # return this x since you will assign this function to x to change x \n",
    "\n",
    "print('Before calling func(), x is: ', x)\n",
    "x = func(x) # reassign global variable x from the return result of func(). if just call func(x) it will just locally change\n",
    "print('Value of x (outside of func()) is: ', x)"
   ]
  },
  {
   "cell_type": "code",
   "execution_count": 8,
   "metadata": {},
   "outputs": [
    {
     "name": "stdout",
     "output_type": "stream",
     "text": [
      "Before calling func(), x is:  50\n",
      "This function is now using the global x!\n",
      "Because of global x is:  50\n",
      "Ran func(), changed global x to 51\n",
      "Value of x (outside of func()) is:  50\n"
     ]
    }
   ],
   "source": [
    "x = 50\n",
    "\n",
    "def func(x): # pass x as parameter when you want to change the global variable locally \n",
    "    #global x\n",
    "    print('This function is now using the global x!')\n",
    "    print('Because of global x is: ', x)\n",
    "    x +=1\n",
    "    print('Ran func(), changed global x to', x)\n",
    "    return x # return this x since you will assign this function to x to change x \n",
    "\n",
    "print('Before calling func(), x is: ', x)\n",
    "h = func(x) # reassign global variable x from the return result of func(). if just call func(x) it will just locally change\n",
    "print('Value of x (outside of func()) is: ', x)"
   ]
  },
  {
   "cell_type": "code",
   "execution_count": 9,
   "metadata": {},
   "outputs": [
    {
     "data": {
      "text/plain": [
       "51"
      ]
     },
     "execution_count": 9,
     "metadata": {},
     "output_type": "execute_result"
    }
   ],
   "source": [
    "h"
   ]
  },
  {
   "cell_type": "code",
   "execution_count": 20,
   "metadata": {},
   "outputs": [],
   "source": [
    "calculation=0\n",
    "\n",
    "def fabocchino():\n",
    "    \n",
    "    #global calculation\n",
    "    while calculation< 8:\n",
    "        calculation+=1\n",
    "        \n",
    "    print(calculation)\n",
    "    \n",
    "   \n",
    "   # return fabocchino(n-1)+fabocchino(n-2)"
   ]
  },
  {
   "cell_type": "code",
   "execution_count": 23,
   "metadata": {},
   "outputs": [],
   "source": [
    "calculation=0\n",
    "\n",
    "def fabocchino():\n",
    "    \n",
    "    #global calculation\n",
    "    \n",
    "    var= calculation\n",
    "        \n",
    "        \n",
    "    print(var)\n",
    "    \n",
    "   "
   ]
  },
  {
   "cell_type": "code",
   "execution_count": 24,
   "metadata": {},
   "outputs": [
    {
     "name": "stdout",
     "output_type": "stream",
     "text": [
      "0\n"
     ]
    }
   ],
   "source": [
    "fabocchino()"
   ]
  },
  {
   "cell_type": "markdown",
   "metadata": {},
   "source": [
    "## But what is the application case that we define the function with parameter passed or without parameter passed"
   ]
  },
  {
   "cell_type": "markdown",
   "metadata": {
    "collapsed": true
   },
   "source": [
    "The <code>global</code> statement is used to declare that **x** is a global variable - hence, when we assign a value to **x** inside the function, that change is reflected when we use the value of **x** in the main block.\n",
    "\n",
    "You can specify more than one global variable using the same global statement e.g. <code>global x, y, z</code>."
   ]
  },
  {
   "cell_type": "markdown",
   "metadata": {
    "collapsed": true
   },
   "source": [
    "## Conclusion\n",
    "You should now have a good understanding of Scope (you may have already intuitively felt right about Scope which is great!) One last mention is that you can use the **globals()** and **locals()** functions to check what are your current local and global variables.\n",
    "\n",
    "Another thing to keep in mind is that everything in Python is an object! I can assign variables to functions just like I can with numbers! We will go over this again in the decorator section of the course!"
   ]
  }
 ],
 "metadata": {
  "kernelspec": {
   "display_name": "Python 3",
   "language": "python",
   "name": "python3"
  },
  "language_info": {
   "codemirror_mode": {
    "name": "ipython",
    "version": 3
   },
   "file_extension": ".py",
   "mimetype": "text/x-python",
   "name": "python",
   "nbconvert_exporter": "python",
   "pygments_lexer": "ipython3",
   "version": "3.8.5"
  }
 },
 "nbformat": 4,
 "nbformat_minor": 1
}
