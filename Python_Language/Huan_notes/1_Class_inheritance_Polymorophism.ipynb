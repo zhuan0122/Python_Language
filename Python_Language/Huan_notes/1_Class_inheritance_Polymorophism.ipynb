{
 "cells": [
  {
   "cell_type": "markdown",
   "metadata": {},
   "source": [
    "## Object oriented programming (OOP)\n",
    "* what is object oriented programming?\n",
    "  * So Python is one type of OOP. OOP allows programmer to create their own objects that has their own methods and attribute\n",
    "    we have also some built in objects like dictionary, list, tuple which have their corresponding methods. once we create \n",
    "    our own objects, we could call methods off of them with .methodname syntax. like .append after a list and .index method off \n",
    "    of a tuple. \n",
    "    \n",
    "  * These methods acts like functions that use information about the object, also the object itself to return result or change \n",
    "    the current object \n",
    "    for example when yuu call list.sort() on a list, it will change the list itself in an order. so list is the built in    \n",
    "    object(function)\n",
    "    \n",
    "    or you could appending to a list\n",
    "* OOP allows programmer to create their own objects with its own methods and own attributes. which create more possibility \n",
    "  and creativity \n",
    "  It uses **self keyword** so its general format is confused when it is first encountered for the programmer. its usefulness may \n",
    "  not be completely clear at the first \n",
    "  \n",
    "* **In general, OOP allows us to create code that is repeatable and organized**"
   ]
  },
  {
   "cell_type": "markdown",
   "metadata": {},
   "source": [
    "### CLASS & OBJECT IN PYTTHON\n",
    "* Python Classes/Objects\n",
    "Python is an object oriented programming language.\n",
    "\n",
    "* Almost everything in Python is an object, with its properties and methods.\n",
    "\n",
    "* A Class is like an object constructor, or a \"blueprint\" for creating objects.\n",
    "\n",
    "* objects are created from Class\n",
    "* <!--  -->\n",
    "* To understand the meaning of classes we have to understand the built-in **__init__()** function.\n",
    "\n",
    "  **All classes have a function called **__init__()**, which is always executed when the class is being initiated.**\n",
    "\n",
    "  Use the __init__() function to assign values to object properties, or other operations that are necessary to do when the  \n",
    "  object is being created:\n",
    "\n"
   ]
  },
  {
   "cell_type": "markdown",
   "metadata": {},
   "source": [
    "### Example\n",
    "Create a class named Person, use the __init__() function to assign values for name and age:\n",
    "The __init__() function is called automatically every time the class is being used to create a new object."
   ]
  },
  {
   "cell_type": "code",
   "execution_count": 2,
   "metadata": {},
   "outputs": [
    {
     "name": "stdout",
     "output_type": "stream",
     "text": [
      "John\n",
      "36\n"
     ]
    }
   ],
   "source": [
    "class Person:\n",
    "    ## name and age are paramters that Python expects you pass when you actually create an instance of this class, namely\n",
    "    ## when you createa an object; for exaplme when you create an object here called p1, and you pass a paramter 36 as the\n",
    "    ## second paramter and then it will go ahead to assign it to an attribute of a function (function inside the class), \n",
    "    ## with this way, python knows when you are referrring self.name or self.age, you are referring to the attribute para\n",
    "    ## -meter name or age that is connected to this actual instance of class instead of a global variable name called age \n",
    "    ## or name.\n",
    "    def __init__(self, name, age):\n",
    "        self.name = name\n",
    "        self.age = age # so what we do here in init__ is passing paramter and connect the parameter with use of self.paramt\n",
    "                       # to link it to the actual class or instance of class itself\n",
    "\n",
    "p1 = Person(\"John\", 36) # p1 is an object created from class Person\n",
    "\n",
    "print(p1.name)\n",
    "print(p1.age)"
   ]
  },
  {
   "cell_type": "markdown",
   "metadata": {},
   "source": [
    "#### Modify Object Properties (attributes in the class that are inherited by any instance of class (objects) )\n",
    "You can modify properties on objects like this:"
   ]
  },
  {
   "cell_type": "code",
   "execution_count": 8,
   "metadata": {},
   "outputs": [
    {
     "data": {
      "text/plain": [
       "40"
      ]
     },
     "execution_count": 8,
     "metadata": {},
     "output_type": "execute_result"
    }
   ],
   "source": [
    "p1.age=40\n",
    "p1.age"
   ]
  },
  {
   "cell_type": "markdown",
   "metadata": {},
   "source": [
    "### Delete the age property from the p1 object:"
   ]
  },
  {
   "cell_type": "code",
   "execution_count": 16,
   "metadata": {},
   "outputs": [
    {
     "ename": "AttributeError",
     "evalue": "age",
     "output_type": "error",
     "traceback": [
      "\u001b[1;31m---------------------------------------------------------------------------\u001b[0m",
      "\u001b[1;31mAttributeError\u001b[0m                            Traceback (most recent call last)",
      "\u001b[1;32m<ipython-input-16-6e420d5634f7>\u001b[0m in \u001b[0;36m<module>\u001b[1;34m\u001b[0m\n\u001b[0;32m      1\u001b[0m \u001b[0mp1\u001b[0m\u001b[1;33m.\u001b[0m\u001b[0mname\u001b[0m\u001b[1;33m\u001b[0m\u001b[1;33m\u001b[0m\u001b[0m\n\u001b[1;32m----> 2\u001b[1;33m \u001b[1;32mdel\u001b[0m \u001b[0mp1\u001b[0m\u001b[1;33m.\u001b[0m\u001b[0mage\u001b[0m\u001b[1;33m\u001b[0m\u001b[1;33m\u001b[0m\u001b[0m\n\u001b[0m",
      "\u001b[1;31mAttributeError\u001b[0m: age"
     ]
    }
   ],
   "source": [
    "p1.name\n",
    "del p1.age"
   ]
  },
  {
   "cell_type": "code",
   "execution_count": 17,
   "metadata": {},
   "outputs": [],
   "source": [
    "del p1"
   ]
  },
  {
   "cell_type": "code",
   "execution_count": 18,
   "metadata": {},
   "outputs": [
    {
     "ename": "NameError",
     "evalue": "name 'p1' is not defined",
     "output_type": "error",
     "traceback": [
      "\u001b[1;31m---------------------------------------------------------------------------\u001b[0m",
      "\u001b[1;31mNameError\u001b[0m                                 Traceback (most recent call last)",
      "\u001b[1;32m<ipython-input-18-7eee5d7ce100>\u001b[0m in \u001b[0;36m<module>\u001b[1;34m\u001b[0m\n\u001b[1;32m----> 1\u001b[1;33m \u001b[0mp1\u001b[0m\u001b[1;33m\u001b[0m\u001b[1;33m\u001b[0m\u001b[0m\n\u001b[0m",
      "\u001b[1;31mNameError\u001b[0m: name 'p1' is not defined"
     ]
    }
   ],
   "source": [
    "p1 # it has been deleted from the notebook"
   ]
  },
  {
   "cell_type": "markdown",
   "metadata": {},
   "source": [
    "### Object Methods\n",
    "Objects can also contain methods. Methods in objects are functions that belong to the object.\n",
    "\n",
    "Let us create a method in the Person class:\n",
    "Objects are from class, methods are defined in Class, once object is created, it inherits all methods from the class"
   ]
  },
  {
   "cell_type": "markdown",
   "metadata": {},
   "source": [
    "#### Note: The self parameter is a reference to the current instance of the class(object), and is used to access variables \n",
    "that belong to the class."
   ]
  },
  {
   "cell_type": "code",
   "execution_count": 4,
   "metadata": {},
   "outputs": [
    {
     "name": "stdout",
     "output_type": "stream",
     "text": [
      "Hello my name is John\n"
     ]
    }
   ],
   "source": [
    "class Person:\n",
    "    def __init__(self, name, age):  \n",
    "    self.name = name\n",
    "    self.age = age\n",
    "\n",
    "    def myfunc(self):  # self paramter here means this myfunc is not just a function, it is a method of this class also\n",
    "                     # is the method of any instance of this class (object). once we call it self.name, python knows that\n",
    "                     # you are not referring any other global variable name, you are referring the attribute name that is\n",
    "            ## one connected to the class itself \n",
    "    print(\"Hello my name is \" + self.name)\n",
    "\n",
    "p1 = Person(\"John\", 36)\n",
    "p1.myfunc()"
   ]
  },
  {
   "cell_type": "markdown",
   "metadata": {},
   "source": [
    "### self paramter \n",
    "**The self Parameter\n",
    "The self parameter is a reference to the current instance of the class, and is used to access variables that belongs to the class.**\n",
    "\n",
    "**It does not have to be named self , you can call it whatever you like, but it has to be the first parameter of any function in the class:**"
   ]
  },
  {
   "cell_type": "code",
   "execution_count": 5,
   "metadata": {},
   "outputs": [
    {
     "name": "stdout",
     "output_type": "stream",
     "text": [
      "Hello my name is John\n"
     ]
    }
   ],
   "source": [
    "class Person:\n",
    "    # self is named as mysillyobject here and it is required to get access to the class attributes and methods(belongings)\n",
    "    def __init__(mysillyobject, name, age):\n",
    "    mysillyobject.name = name\n",
    "    mysillyobject.age = age\n",
    "\n",
    "    def myfunc(abc):\n",
    "        print(\"Hello my name is \" + abc.name)\n",
    "\n",
    "p1 = Person(\"John\", 36)\n",
    "p1.myfunc()\n"
   ]
  },
  {
   "cell_type": "markdown",
   "metadata": {},
   "source": [
    "#### The pass Statement\n",
    "class definitions cannot be empty, but if you for some reason have a class definition with no content, \n",
    "put in the pass statement to avoid getting an error."
   ]
  },
  {
   "cell_type": "code",
   "execution_count": 19,
   "metadata": {},
   "outputs": [],
   "source": [
    "class PP:\n",
    "    pass"
   ]
  },
  {
   "cell_type": "code",
   "execution_count": 20,
   "metadata": {},
   "outputs": [
    {
     "ename": "SyntaxError",
     "evalue": "unexpected EOF while parsing (<ipython-input-20-efcfebc34903>, line 2)",
     "output_type": "error",
     "traceback": [
      "\u001b[1;36m  File \u001b[1;32m\"<ipython-input-20-efcfebc34903>\"\u001b[1;36m, line \u001b[1;32m2\u001b[0m\n\u001b[1;33m    \u001b[0m\n\u001b[1;37m    ^\u001b[0m\n\u001b[1;31mSyntaxError\u001b[0m\u001b[1;31m:\u001b[0m unexpected EOF while parsing\n"
     ]
    }
   ],
   "source": [
    "class pe:\n",
    "    "
   ]
  },
  {
   "cell_type": "markdown",
   "metadata": {},
   "source": [
    "### Class name schemes: Capitalize the first letter of every single word like class NameObject: \n",
    "### function or method name rules : lower case of letter and connected with underscore "
   ]
  },
  {
   "cell_type": "markdown",
   "metadata": {},
   "source": [
    "******************************************************************************************************************"
   ]
  },
  {
   "cell_type": "markdown",
   "metadata": {},
   "source": [
    "## Let's start step by step to grasp OOP"
   ]
  },
  {
   "cell_type": "markdown",
   "metadata": {},
   "source": [
    "## 1. **OOP- Attributs and class keyword**"
   ]
  },
  {
   "cell_type": "code",
   "execution_count": 24,
   "metadata": {},
   "outputs": [
    {
     "data": {
      "text/plain": [
       "[1, 2, 3, 4]"
      ]
     },
     "execution_count": 24,
     "metadata": {},
     "output_type": "execute_result"
    }
   ],
   "source": [
    "# buit-in objects \n",
    "# [] is built in data structure, click tab you could see all its methods and attributes, like append is one of them \n",
    "# method off this object \n",
    "mylist = [1,2,3] # mylist is the instance of [] which is object \n",
    "mylist.append(4)\n",
    "mylist"
   ]
  },
  {
   "cell_type": "code",
   "execution_count": 25,
   "metadata": {},
   "outputs": [
    {
     "data": {
      "text/plain": [
       "<function set.intersection_update>"
      ]
     },
     "execution_count": 25,
     "metadata": {},
     "output_type": "execute_result"
    }
   ],
   "source": [
    "myset= set() # set is built in class, myset is the object created from set class \n",
    "myset.intersection_update"
   ]
  },
  {
   "cell_type": "markdown",
   "metadata": {},
   "source": [
    "#####  Almost everything in Python is an object, with its properties and methods.\n",
    "\n",
    "* A Class is like an object constructor, or a \"blueprint\" for creating objects.\n",
    "* use class to  create the user defined object\n",
    "* class is the keyword to create the object, class is the blueprint that defines the details and nature of objects\n",
    "  from classes we can construct an instance of an object, and an instance is a specific object created from a particular \n",
    "\n"
   ]
  },
  {
   "cell_type": "code",
   "execution_count": 26,
   "metadata": {},
   "outputs": [],
   "source": [
    "# use class to  create the user defined object\n",
    "# class is the keyword to create the object, class is the blueprint that defines the details and nature of objects\n",
    "# from classes we can construct an instance of an object, and an instance is a specific object created from a particular \n",
    "# class\n",
    "\n",
    "class Dog():\n",
    "    # once you want define attributes or paramter in class you always need to use __init__ to pass attributes\n",
    "    ## __init__() method will always be called upon whenever you create an instance of this class and pass paramters\n",
    "    ## the first parameter could be any name not necessaryly to be self, but we must give it here, to basically connect this\n",
    "    ## method to the instance of calss and allows us to refere to itself. for exmaple breed is the attributes of the dog\n",
    "    ## will have \n",
    "    \n",
    "    ## so breed is attributes of the dog has. like when we create mylist, and click tab after list., bunch of methods and \n",
    "    ## attributes will pop up. we can test like after we create breed as the attribute of dog usíng init method, \n",
    "    ## then when we create a instance of dog, click tab, breed will pop up \n",
    "    \n",
    "    # self represents the instance of the class itself \n",
    "    def __init__(self,breed):\n",
    "        self.breed = breed "
   ]
  },
  {
   "cell_type": "code",
   "execution_count": 29,
   "metadata": {},
   "outputs": [],
   "source": [
    "juan = Dog('Huski')\n"
   ]
  },
  {
   "cell_type": "code",
   "execution_count": 30,
   "metadata": {},
   "outputs": [
    {
     "data": {
      "text/plain": [
       "__main__.Dog"
      ]
     },
     "execution_count": 30,
     "metadata": {},
     "output_type": "execute_result"
    }
   ],
   "source": [
    "type(juan)"
   ]
  },
  {
   "cell_type": "code",
   "execution_count": 32,
   "metadata": {},
   "outputs": [
    {
     "data": {
      "text/plain": [
       "'Huski'"
      ]
     },
     "execution_count": 32,
     "metadata": {},
     "output_type": "execute_result"
    }
   ],
   "source": [
    "juan.breed\n",
    "# i just typed juan.  and then hit tab button, breed pops up automatically since it is the attributes of juan as an intance\n",
    "# of the Dog has. if it is attribute, it will be called without parathensis "
   ]
  },
  {
   "cell_type": "markdown",
   "metadata": {},
   "source": [
    "#### Note! by convention, the attribute name would be the same as the corresponding paramter name that we pass when we \n",
    "#### create the instance of the class"
   ]
  },
  {
   "cell_type": "code",
   "execution_count": 1,
   "metadata": {},
   "outputs": [],
   "source": [
    "class Dog():\n",
    "    \n",
    "    def __init__(self, dogsbreed):\n",
    "        \n",
    "        # self keyword represents the instance of class itself\n",
    "        # dogsbreed is the paramter we pass when we create the insatnce of calss which is called object, hobby below \n",
    "        # we assign the paramter whatever what we passed to the self.attribute_name (breed is the given attribute name here)\n",
    "        # so even we ususally give the attibute_name the same as the paramter name. but we should know paramter is paramter \n",
    "        # attribute is attribute, they are different \n",
    "        # here breed is the attribute name flowing after self. while dogsbreed is the paramter name \n",
    "        self.breed=dogsbreed \n",
    "        \n"
   ]
  },
  {
   "cell_type": "code",
   "execution_count": 2,
   "metadata": {},
   "outputs": [],
   "source": [
    "hobby=Dog('huskie')"
   ]
  },
  {
   "cell_type": "code",
   "execution_count": 3,
   "metadata": {},
   "outputs": [
    {
     "data": {
      "text/plain": [
       "'huskie'"
      ]
     },
     "execution_count": 3,
     "metadata": {},
     "output_type": "execute_result"
    }
   ],
   "source": [
    "hobby.breed"
   ]
  },
  {
   "cell_type": "code",
   "execution_count": 4,
   "metadata": {},
   "outputs": [],
   "source": [
    "# to be more clear \n",
    "\n",
    "# by convention, my_attribute would be the same name of the corresponding parameter \n",
    "class Dog():\n",
    "    \n",
    "    def __init__(self, dogsbreed):\n",
    "        \n",
    "        self.my_attribute = dogsbreed\n",
    "        "
   ]
  },
  {
   "cell_type": "code",
   "execution_count": 5,
   "metadata": {},
   "outputs": [],
   "source": [
    "example=Dog(dogsbreed='huskie')"
   ]
  },
  {
   "cell_type": "code",
   "execution_count": 6,
   "metadata": {},
   "outputs": [
    {
     "data": {
      "text/plain": [
       "'huskie'"
      ]
     },
     "execution_count": 6,
     "metadata": {},
     "output_type": "execute_result"
    }
   ],
   "source": [
    "example.my_attribute"
   ]
  },
  {
   "cell_type": "code",
   "execution_count": 7,
   "metadata": {},
   "outputs": [],
   "source": [
    "class Dog():\n",
    "    \n",
    "    def __init__(self, breed,name,spots):\n",
    "        \n",
    "        # my_first_attibute of the class or object, which is breed \n",
    "        self.breed = breed\n",
    "        \n",
    "        # my_second_attribute name \n",
    "        self.name=name\n",
    "        \n",
    "        # my_third_attribute spots\n",
    "        \n",
    "        # spots expects passed as True or False \n",
    "        self.spots = spots \n",
    "        \n",
    "        \n",
    "        "
   ]
  },
  {
   "cell_type": "markdown",
   "metadata": {},
   "source": [
    "#### for paramters data type, they can be any type, but programmer should know what kind of type you expect to show\n",
    "#### but for class itself, it accepts any type of data. so it is quite flexible "
   ]
  },
  {
   "cell_type": "markdown",
   "metadata": {},
   "source": [
    "###  <span style=\"color:red\">since class paramters are so flexible of data type, we need to add docstring to describe whihc kind of data type should be passed when the isntance of class is created to make intention clear and readble</span>"
   ]
  },
  {
   "cell_type": "code",
   "execution_count": 55,
   "metadata": {},
   "outputs": [],
   "source": [
    "my_dog=Dog(breed='huskie',name='huan',spots=True)"
   ]
  },
  {
   "cell_type": "code",
   "execution_count": 56,
   "metadata": {},
   "outputs": [
    {
     "data": {
      "text/plain": [
       "'huan'"
      ]
     },
     "execution_count": 56,
     "metadata": {},
     "output_type": "execute_result"
    }
   ],
   "source": [
    "my_dog.name    # now if you hit tab after my_dog.     you will get a dropdown list with 3 attributes"
   ]
  },
  {
   "cell_type": "code",
   "execution_count": 57,
   "metadata": {},
   "outputs": [],
   "source": [
    "my_dog2=Dog(breed='goldenretriver',name='grogu',spots=3)"
   ]
  },
  {
   "cell_type": "code",
   "execution_count": 58,
   "metadata": {},
   "outputs": [
    {
     "data": {
      "text/plain": [
       "3"
      ]
     },
     "execution_count": 58,
     "metadata": {},
     "output_type": "execute_result"
    }
   ],
   "source": [
    "my_dog2.spots"
   ]
  },
  {
   "cell_type": "markdown",
   "metadata": {},
   "source": [
    "## 2. OOP- Class object attributes and methods "
   ]
  },
  {
   "cell_type": "markdown",
   "metadata": {},
   "source": [
    "\n",
    "    \n",
    "* **<span style=\"color:blue\">above we learn the attributes that we could create for instance of dog class when user creates the instance of class and they pass these parmaters to assgin to the corresponding attributes. so they are specific instance** attributes**\n",
    "    \n",
    "* **<span style=\"color:blue\">while we could define the class objects attributes which is defined above the init method and without self keyword\n",
    "    since self keyword is for specific user created instance of the Dog class. and the class object attributes are all \n",
    "    applied to any instance of the class whatever you passed in the instance as the paramters** ?? --- well like the specices=='Mammal' which is outside of the init()"
   ]
  },
  {
   "cell_type": "markdown",
   "metadata": {},
   "source": [
    "* **Method is the function defined inside the body of the class and they are used to perform operations that sometimes \n",
    "    utilize the actual attrinutes of the object that we created**\n",
    "* **So you could basically think the method as the function acting on the object and that takes the object itself into \n",
    "    account through use of the self argument or self keyword** \n",
    "* **what is the difference of function and methods? well methods are functions that created inside a class and we work with\n",
    "     methods on objects created in some way**\n",
    "* **So THE difference of calling attributes and method is the paraenthesis. Attributes are attributes of the instance of class\n",
    "    it does not need to be excuted. but methods are needed to be executed. so we need call it as object.method_name()**"
   ]
  },
  {
   "cell_type": "code",
   "execution_count": 95,
   "metadata": {},
   "outputs": [],
   "source": [
    "class Dog():\n",
    "    \n",
    "    #****************************************************\n",
    "    # CLASS OBJECTS ATTRIBUTES \n",
    "    # SAME FOR ANY INSTANCE OF THE CLASS\n",
    "    species = 'Mammal' \n",
    "    \n",
    "    #****************************************************\n",
    "    \n",
    "    def __init__(self, breed,name,spots):\n",
    "        \n",
    "        # specific user defined Attributes: which from user passed paramters since you pass the paramter to the attributes\n",
    "    \n",
    "           # my_first_attibute of the class or object, which is breed \n",
    "        self.breed = breed\n",
    "        \n",
    "           # my_second_attribute name \n",
    "        self.name=name\n",
    "        \n",
    "           # my_third_attribute spots\n",
    "        \n",
    "            # spots expects passed as True or False \n",
    "        self.spots = spots \n",
    "        \n",
    "    #******************************************************   \n",
    "    # Operation/Actions ---->>Methods \n",
    "    \n",
    "    def bark(self): # self here as keyword connect the method to the actual object so the object can do this action \n",
    "         print(f'The dog {self.name} is quiet!') # when you use the attributes you need to use self which represents the \n",
    "                                                 # specific object you created with the paramters passed \n",
    "         \n",
    "    \n",
    "    \n",
    "    "
   ]
  },
  {
   "cell_type": "code",
   "execution_count": 97,
   "metadata": {},
   "outputs": [],
   "source": [
    "my_dog4=Dog(breed='huskie',name='huan',spots=True)"
   ]
  },
  {
   "cell_type": "code",
   "execution_count": 66,
   "metadata": {},
   "outputs": [
    {
     "data": {
      "text/plain": [
       "'Mammal'"
      ]
     },
     "execution_count": 66,
     "metadata": {},
     "output_type": "execute_result"
    }
   ],
   "source": [
    "my_dog4.species   # species is the same for all instance of the class "
   ]
  },
  {
   "cell_type": "code",
   "execution_count": 91,
   "metadata": {},
   "outputs": [
    {
     "data": {
      "text/plain": [
       "<bound method Dog.bark of <__main__.Dog object at 0x0000016FCED56D30>>"
      ]
     },
     "execution_count": 91,
     "metadata": {},
     "output_type": "execute_result"
    }
   ],
   "source": [
    "my_dog4.bark ### call method must execute it with ()"
   ]
  },
  {
   "cell_type": "markdown",
   "metadata": {},
   "source": [
    "###### methods are usually using the information the object itself that we dedined as attributes "
   ]
  },
  {
   "cell_type": "code",
   "execution_count": 98,
   "metadata": {},
   "outputs": [
    {
     "name": "stdout",
     "output_type": "stream",
     "text": [
      "The dog huan is quiet!\n"
     ]
    }
   ],
   "source": [
    "my_dog4.bark()"
   ]
  },
  {
   "cell_type": "markdown",
   "metadata": {},
   "source": [
    "#### method could have its own paramter which is not from the attributes, but we need to feed once you call the method\n"
   ]
  },
  {
   "cell_type": "code",
   "execution_count": 100,
   "metadata": {},
   "outputs": [],
   "source": [
    "class Dog():\n",
    "    \n",
    "    #****************************************************\n",
    "    # CLASS OBJECTS ATTRIBUTES \n",
    "    # SAME FOR ANY INSTANCE OF THE CLASS\n",
    "    species = 'Mammal' \n",
    "    \n",
    "    #****************************************************\n",
    "    \n",
    "    def __init__(self, breed,name,spots):\n",
    "        \n",
    "        # specific user defined Attributes: which from user passed paramters since you pass the paramter to the attributes\n",
    "    \n",
    "           # my_first_attibute of the class or object, which is breed \n",
    "        self.breed = breed\n",
    "        \n",
    "           # my_second_attribute name \n",
    "        self.name=name\n",
    "        \n",
    "           # my_third_attribute spots\n",
    "        \n",
    "            # spots expects passed as True or False \n",
    "        self.spots = spots \n",
    "        \n",
    "    #******************************************************   \n",
    "    # Operation/Actions ---->>Methods \n",
    "    \n",
    "    def bark(self, time): # self here as keyword connect the method to the actual object so the object can do this action \n",
    "         print(f'The dog {self.name} is quiet! for the time {time}') # when you use the attributes you need to use self which represents the \n",
    "                                                 # specific object you created with the paramters passed \n",
    "         "
   ]
  },
  {
   "cell_type": "code",
   "execution_count": 101,
   "metadata": {},
   "outputs": [],
   "source": [
    "my_dog5=Dog(breed='huskie',name='huan',spots=True)"
   ]
  },
  {
   "cell_type": "code",
   "execution_count": 102,
   "metadata": {},
   "outputs": [
    {
     "ename": "TypeError",
     "evalue": "bark() missing 1 required positional argument: 'time'",
     "output_type": "error",
     "traceback": [
      "\u001b[1;31m---------------------------------------------------------------------------\u001b[0m",
      "\u001b[1;31mTypeError\u001b[0m                                 Traceback (most recent call last)",
      "\u001b[1;32m<ipython-input-102-05cd28565ceb>\u001b[0m in \u001b[0;36m<module>\u001b[1;34m\u001b[0m\n\u001b[1;32m----> 1\u001b[1;33m \u001b[0mmy_dog5\u001b[0m\u001b[1;33m.\u001b[0m\u001b[0mbark\u001b[0m\u001b[1;33m(\u001b[0m\u001b[1;33m)\u001b[0m\u001b[1;33m\u001b[0m\u001b[1;33m\u001b[0m\u001b[0m\n\u001b[0m",
      "\u001b[1;31mTypeError\u001b[0m: bark() missing 1 required positional argument: 'time'"
     ]
    }
   ],
   "source": [
    "my_dog5.bark()"
   ]
  },
  {
   "cell_type": "code",
   "execution_count": 103,
   "metadata": {},
   "outputs": [
    {
     "name": "stdout",
     "output_type": "stream",
     "text": [
      "The dog huan is quiet! for the time 1\n"
     ]
    }
   ],
   "source": [
    "my_dog5.bark(1)"
   ]
  },
  {
   "cell_type": "code",
   "execution_count": 105,
   "metadata": {},
   "outputs": [
    {
     "name": "stdout",
     "output_type": "stream",
     "text": [
      "The dog huan is quiet! for the time 1 hour\n"
     ]
    }
   ],
   "source": [
    "my_dog5.bark('1 hour')  # time is the arguments that user provides once they call this method which is not linked to any\n",
    "                        # instance of the class "
   ]
  },
  {
   "cell_type": "markdown",
   "metadata": {},
   "source": [
    "##### example for more clear"
   ]
  },
  {
   "cell_type": "code",
   "execution_count": 117,
   "metadata": {},
   "outputs": [],
   "source": [
    "class Circle():\n",
    "    \n",
    "    #Attributes \n",
    "    \n",
    "     # class object attributes \n",
    "    pi = 3.14 \n",
    "    \n",
    "    def __init__(self, radius=1):\n",
    "        \n",
    "        # user defined attributes\n",
    "        self.radius= radius \n",
    "        self.area = radius*radius*Circle.pi  # or self.pi but use Circle.pi will be more clear that pi is the class \n",
    "                                            # attribute\n",
    "                                 # 1 is as default but you could overwriten it if you pass a new value when you create the \n",
    "                                   \n",
    "                                 # instance \n",
    "    # Methods \n",
    "    def length(self):\n",
    "        return 2*Circle.pi*self.radius"
   ]
  },
  {
   "cell_type": "code",
   "execution_count": 107,
   "metadata": {},
   "outputs": [],
   "source": [
    "my_circle=Circle() # no need to give value to radius since it has default value "
   ]
  },
  {
   "cell_type": "code",
   "execution_count": 108,
   "metadata": {},
   "outputs": [
    {
     "data": {
      "text/plain": [
       "1"
      ]
     },
     "execution_count": 108,
     "metadata": {},
     "output_type": "execute_result"
    }
   ],
   "source": [
    "my_circle.radius"
   ]
  },
  {
   "cell_type": "code",
   "execution_count": 109,
   "metadata": {},
   "outputs": [],
   "source": [
    "my_circle=Circle(30)"
   ]
  },
  {
   "cell_type": "code",
   "execution_count": 110,
   "metadata": {},
   "outputs": [
    {
     "data": {
      "text/plain": [
       "30"
      ]
     },
     "execution_count": 110,
     "metadata": {},
     "output_type": "execute_result"
    }
   ],
   "source": [
    "my_circle.radius  # overwrite "
   ]
  },
  {
   "cell_type": "code",
   "execution_count": 116,
   "metadata": {},
   "outputs": [
    {
     "data": {
      "text/plain": [
       "188.4"
      ]
     },
     "execution_count": 116,
     "metadata": {},
     "output_type": "execute_result"
    }
   ],
   "source": [
    "my_circle.length()"
   ]
  },
  {
   "cell_type": "markdown",
   "metadata": {},
   "source": [
    "## 3. Inheritence and polymorohism ***"
   ]
  },
  {
   "cell_type": "markdown",
   "metadata": {},
   "source": [
    "* **inheritence is to form a new class using the classed that have been defined which is called base class---- this is the ability of reusing the code \n",
    "    that has already done and reduce the complexity of the program** \n",
    "* <span style=\"color:red\"> **In python, polymorphism referes to the way in which different objects classes can share the same \n",
    "    methods name. and these methods can be called from the same places though they are from the different objects (a variety of \n",
    "    objects might be passed in)**"
   ]
  },
  {
   "cell_type": "markdown",
   "metadata": {},
   "source": [
    "### 3.1 Inheritence "
   ]
  },
  {
   "cell_type": "markdown",
   "metadata": {},
   "source": [
    "### <span style='color:green'>very simple and direct inheritance without any attributes **"
   ]
  },
  {
   "cell_type": "markdown",
   "metadata": {},
   "source": [
    "* the following code indicates that:\n",
    "    * **inheritance is not passing one class as paramter inside another class. This is not inheritance. Inheritance is put \n",
    "      class.__init__() inside another class __init__ def block**\n",
    "    * when you create object from another class to feed it in attribute of another class. you do not need to do inheritance\n",
    "      like Animal.__init__(self) in Dog class.\n",
    "    * whant is inheritance? inhetritance means\n",
    "        inheritance means you put Class.__init__() inside another class to inherite the attributes then you need to consider \n",
    "        these inherited attributes as well when you create instance \n",
    "    * once you just pass one class as paramter inside another class, you did not inherite the attributes from one class. so you\n",
    "      do not need to feed any attributes for the passed class\n",
    "    * **once you call method of one class inside another class you need to create the object first since all methods are based \n",
    "      on\n",
    "      objects. so either create Animal object to be attribute of Dog inside the Dog init block or just call Animal().method() \n",
    "      since method is called or invoked on object or(instance of class)**"
   ]
  },
  {
   "cell_type": "code",
   "execution_count": 1,
   "metadata": {},
   "outputs": [],
   "source": [
    "# inheritence \n",
    "\n",
    "class Animal():\n",
    "    \n",
    "    def __init__(self, name):\n",
    "        self.name=name\n",
    "     \n",
    "        #print('GThis is dog')\n",
    "        \n",
    "    def who_am_i(self):\n",
    "        print('I am a jedi')\n",
    "    \n",
    "    def what_i_eat(self):\n",
    "        print('I eat everything!')"
   ]
  },
  {
   "cell_type": "code",
   "execution_count": 10,
   "metadata": {},
   "outputs": [
    {
     "data": {
      "text/plain": [
       "'huan'"
      ]
     },
     "execution_count": 10,
     "metadata": {},
     "output_type": "execute_result"
    }
   ],
   "source": [
    "tt=Animal('huan')\n",
    "tt.name"
   ]
  },
  {
   "cell_type": "code",
   "execution_count": 2,
   "metadata": {},
   "outputs": [],
   "source": [
    "animal=Animal('huan')"
   ]
  },
  {
   "cell_type": "code",
   "execution_count": 3,
   "metadata": {},
   "outputs": [
    {
     "data": {
      "text/plain": [
       "__main__.Animal"
      ]
     },
     "execution_count": 3,
     "metadata": {},
     "output_type": "execute_result"
    }
   ],
   "source": [
    "type(animal)"
   ]
  },
  {
   "cell_type": "code",
   "execution_count": 12,
   "metadata": {},
   "outputs": [],
   "source": [
    "class Dog():   # pass another class as argument of this class to be able to inherite all from Animal class\n",
    "    \n",
    "    ## there are some common methods that have already in Animal class then we could reuse them by inheritence \n",
    "    \n",
    "    def __init__(self,name): # so once \n",
    "        #self.name = name # its specific objected attributes \n",
    "        Animal.__init__(self,name) # inherite everything from Animal class, not only the attributes but methods also \n",
    "        #self.animal = Animal('jj') # animal is an instance of Animal class\n",
    "        print('This is an jedi')\n",
    "        \n",
    "        \n",
    "    # instead of inheriting the method from ANIMAL CLASS we also could overwrite the original methods from Animal class\n",
    "    def who_am_i(self):\n",
    "        #self.Animal.who_am_i() # self is the point pointed to Animal Class related to this Dog class \n",
    "        print('I am not a jedi I am a dog so  I overwrite it once my object is created from Dog class')\n",
    "        \n",
    "        \n",
    "    # also could add your own methods in this class \n",
    "    def bark(self):\n",
    "        print('I am quiet and I am not a barking dog')\n",
    "        "
   ]
  },
  {
   "cell_type": "code",
   "execution_count": 13,
   "metadata": {},
   "outputs": [
    {
     "name": "stdout",
     "output_type": "stream",
     "text": [
      "This is an jedi\n"
     ]
    }
   ],
   "source": [
    "hh=Dog('kk')"
   ]
  },
  {
   "cell_type": "code",
   "execution_count": 14,
   "metadata": {},
   "outputs": [
    {
     "data": {
      "text/plain": [
       "'kk'"
      ]
     },
     "execution_count": 14,
     "metadata": {},
     "output_type": "execute_result"
    }
   ],
   "source": [
    "hh.name # name is the same attribute inhetrited from Amimal \n"
   ]
  },
  {
   "cell_type": "code",
   "execution_count": 15,
   "metadata": {},
   "outputs": [
    {
     "name": "stdout",
     "output_type": "stream",
     "text": [
      "I am not a jedi I am a dog so  I overwrite it once my object is created from Dog class\n"
     ]
    }
   ],
   "source": [
    "## error arised Dog' object has no attribute 'Animal'\n",
    "hh.who_am_i()"
   ]
  },
  {
   "cell_type": "code",
   "execution_count": 16,
   "metadata": {},
   "outputs": [
    {
     "ename": "AttributeError",
     "evalue": "'Dog' object has no attribute 'what_i_eat'",
     "output_type": "error",
     "traceback": [
      "\u001b[1;31m---------------------------------------------------------------------------\u001b[0m",
      "\u001b[1;31mAttributeError\u001b[0m                            Traceback (most recent call last)",
      "\u001b[1;32m<ipython-input-16-040a52838de6>\u001b[0m in \u001b[0;36m<module>\u001b[1;34m\u001b[0m\n\u001b[1;32m----> 1\u001b[1;33m \u001b[0mhh\u001b[0m\u001b[1;33m.\u001b[0m\u001b[0mwhat_i_eat\u001b[0m\u001b[1;33m(\u001b[0m\u001b[1;33m)\u001b[0m\u001b[1;33m\u001b[0m\u001b[1;33m\u001b[0m\u001b[0m\n\u001b[0m",
      "\u001b[1;31mAttributeError\u001b[0m: 'Dog' object has no attribute 'what_i_eat'"
     ]
    }
   ],
   "source": [
    "hh.what_i_eat()"
   ]
  },
  {
   "cell_type": "markdown",
   "metadata": {},
   "source": [
    "* <span style='color: purple'>here you do not need do any inheritance but to create object Animal to be the attribute of Dog class. so you call the\n",
    "  Animal class inside the Dogs block "
   ]
  },
  {
   "cell_type": "code",
   "execution_count": 7,
   "metadata": {},
   "outputs": [],
   "source": [
    "class Dog():   # pass another class as argument of this class to be able to inherite all from Animal class\n",
    "    \n",
    "    ## there are some common methods that have already in Animal class then we could reuse them by inheritence \n",
    "    \n",
    "    def __init__(self): # so once \n",
    "        #self.name = name # its specific objected attributes \n",
    "        #Animal.__init__(self) # inherite everything from Animal class, not only the attributes but methods also \n",
    "        self.animal = Animal('huan')#\n",
    "        #self.animal.append(Animal('huan'))\n",
    "        print('This is an jedi')\n",
    "        \n",
    "        \n",
    "    # instead of inheriting the method from ANIMAL CLASS we also could overwrite the original methods from Animal class\n",
    "    def who_am_i(self):\n",
    "        self.Animal.who_am_i() # self is the point pointed to Animal Class related to this Dog class \n",
    "        print('I am not a jedi I am a dog so  I overwrite it once my object is created from Dog class')\n",
    "        \n",
    "        \n",
    "    # also could add your own methods in this class \n",
    "    def bark(self):\n",
    "        print('I am quiet and I am not a barking dog')\n",
    "        "
   ]
  },
  {
   "cell_type": "code",
   "execution_count": 9,
   "metadata": {},
   "outputs": [
    {
     "name": "stdout",
     "output_type": "stream",
     "text": [
      "This is an jedi\n"
     ]
    }
   ],
   "source": [
    "my_dog = Dog()"
   ]
  },
  {
   "cell_type": "code",
   "execution_count": 42,
   "metadata": {},
   "outputs": [
    {
     "data": {
      "text/plain": [
       "<__main__.Animal at 0x27ab240eca0>"
      ]
     },
     "execution_count": 42,
     "metadata": {},
     "output_type": "execute_result"
    }
   ],
   "source": [
    "my_dog.animal"
   ]
  },
  {
   "cell_type": "code",
   "execution_count": 11,
   "metadata": {},
   "outputs": [
    {
     "ename": "AttributeError",
     "evalue": "'Dog' object has no attribute 'Animal'",
     "output_type": "error",
     "traceback": [
      "\u001b[1;31m---------------------------------------------------------------------------\u001b[0m",
      "\u001b[1;31mAttributeError\u001b[0m                            Traceback (most recent call last)",
      "\u001b[1;32m<ipython-input-11-58a5742d622f>\u001b[0m in \u001b[0;36m<module>\u001b[1;34m\u001b[0m\n\u001b[1;32m----> 1\u001b[1;33m \u001b[0mmy_dog\u001b[0m\u001b[1;33m.\u001b[0m\u001b[0mwho_am_i\u001b[0m\u001b[1;33m(\u001b[0m\u001b[1;33m)\u001b[0m \u001b[1;31m# Dog' object has no attribute 'Animal'\u001b[0m\u001b[1;33m\u001b[0m\u001b[1;33m\u001b[0m\u001b[0m\n\u001b[0m",
      "\u001b[1;32m<ipython-input-7-047790ef04fe>\u001b[0m in \u001b[0;36mwho_am_i\u001b[1;34m(self)\u001b[0m\n\u001b[0;32m     13\u001b[0m     \u001b[1;31m# instead of inheriting the method from ANIMAL CLASS we also could overwrite the original methods from Animal class\u001b[0m\u001b[1;33m\u001b[0m\u001b[1;33m\u001b[0m\u001b[1;33m\u001b[0m\u001b[0m\n\u001b[0;32m     14\u001b[0m     \u001b[1;32mdef\u001b[0m \u001b[0mwho_am_i\u001b[0m\u001b[1;33m(\u001b[0m\u001b[0mself\u001b[0m\u001b[1;33m)\u001b[0m\u001b[1;33m:\u001b[0m\u001b[1;33m\u001b[0m\u001b[1;33m\u001b[0m\u001b[0m\n\u001b[1;32m---> 15\u001b[1;33m         \u001b[0mself\u001b[0m\u001b[1;33m.\u001b[0m\u001b[0mAnimal\u001b[0m\u001b[1;33m.\u001b[0m\u001b[0mwho_am_i\u001b[0m\u001b[1;33m(\u001b[0m\u001b[1;33m)\u001b[0m \u001b[1;31m# self is the point pointed to Animal Class related to this Dog class\u001b[0m\u001b[1;33m\u001b[0m\u001b[1;33m\u001b[0m\u001b[0m\n\u001b[0m\u001b[0;32m     16\u001b[0m         \u001b[0mprint\u001b[0m\u001b[1;33m(\u001b[0m\u001b[1;34m'I am not a jedi I am a dog so  I overwrite it once my object is created from Dog class'\u001b[0m\u001b[1;33m)\u001b[0m\u001b[1;33m\u001b[0m\u001b[1;33m\u001b[0m\u001b[0m\n\u001b[0;32m     17\u001b[0m \u001b[1;33m\u001b[0m\u001b[0m\n",
      "\u001b[1;31mAttributeError\u001b[0m: 'Dog' object has no attribute 'Animal'"
     ]
    }
   ],
   "source": [
    "my_dog.who_am_i() # Dog' object has no attribute 'Animal'"
   ]
  },
  {
   "cell_type": "markdown",
   "metadata": {},
   "source": [
    "* <span style='color: green'> here even you do not pass Animal inside Dog as paramter. but you do inheritance. so when you creaye Dog object then you\n",
    "  also need to consider the Animal attributes otherwise error arised"
   ]
  },
  {
   "cell_type": "code",
   "execution_count": 25,
   "metadata": {},
   "outputs": [],
   "source": [
    "class Dog():   # pass another class as argument of this class to be able to inherite all from Animal class\n",
    "    \n",
    "    ## there are some common methods that have already in Animal class then we could reuse them by inheritence \n",
    "    \n",
    "    def __init__(self,name): # so once if name is missing then error arised since name is the attribute of Dog class as well\n",
    "        #self.name = name # its specific objected attributes \n",
    "        Animal.__init__(self,name) # inherite everything from Animal class, not only the attributes but methods also \n",
    "        self.animal = Animal('huan') #\n",
    "        print('This is an jedi')\n",
    "        \n",
    "        \n",
    "    # instead of inheriting the method from ANIMAL CLASS we also could overwrite the original methods from Animal class\n",
    "    def who_am_i(self):\n",
    "        self.Animal.who_am_i() # self is the point pointed to Animal Class related to this Dog class \n",
    "        print('I am not a jedi I am a dog so  I overwrite it once my object is created from Dog class')\n",
    "        \n",
    "        \n",
    "    # also could add your own methods in this class \n",
    "    def bark(self):\n",
    "        print('I am quiet and I am not a barking dog')\n",
    "        "
   ]
  },
  {
   "cell_type": "code",
   "execution_count": 26,
   "metadata": {},
   "outputs": [
    {
     "name": "stdout",
     "output_type": "stream",
     "text": [
      "This is an jedi\n"
     ]
    }
   ],
   "source": [
    "my_dog = Dog('hh')"
   ]
  },
  {
   "cell_type": "code",
   "execution_count": null,
   "metadata": {},
   "outputs": [],
   "source": []
  },
  {
   "cell_type": "code",
   "execution_count": 29,
   "metadata": {},
   "outputs": [
    {
     "ename": "AttributeError",
     "evalue": "'Dog' object has no attribute 'what_i_eat'",
     "output_type": "error",
     "traceback": [
      "\u001b[1;31m---------------------------------------------------------------------------\u001b[0m",
      "\u001b[1;31mAttributeError\u001b[0m                            Traceback (most recent call last)",
      "\u001b[1;32m<ipython-input-29-2d610a6c2f88>\u001b[0m in \u001b[0;36m<module>\u001b[1;34m\u001b[0m\n\u001b[1;32m----> 1\u001b[1;33m \u001b[0mmy_dog\u001b[0m\u001b[1;33m.\u001b[0m\u001b[0mwhat_i_eat\u001b[0m\u001b[1;33m(\u001b[0m\u001b[1;33m)\u001b[0m\u001b[1;33m\u001b[0m\u001b[1;33m\u001b[0m\u001b[0m\n\u001b[0m",
      "\u001b[1;31mAttributeError\u001b[0m: 'Dog' object has no attribute 'what_i_eat'"
     ]
    }
   ],
   "source": [
    "my_dog.what_i_eat()"
   ]
  },
  {
   "cell_type": "code",
   "execution_count": 27,
   "metadata": {},
   "outputs": [
    {
     "data": {
      "text/plain": [
       "<__main__.Animal at 0x2201b25b190>"
      ]
     },
     "execution_count": 27,
     "metadata": {},
     "output_type": "execute_result"
    }
   ],
   "source": [
    "my_dog.animal"
   ]
  },
  {
   "cell_type": "code",
   "execution_count": 28,
   "metadata": {},
   "outputs": [
    {
     "ename": "AttributeError",
     "evalue": "'Dog' object has no attribute 'Animal'",
     "output_type": "error",
     "traceback": [
      "\u001b[1;31m---------------------------------------------------------------------------\u001b[0m",
      "\u001b[1;31mAttributeError\u001b[0m                            Traceback (most recent call last)",
      "\u001b[1;32m<ipython-input-28-d3054ebdb3ae>\u001b[0m in \u001b[0;36m<module>\u001b[1;34m\u001b[0m\n\u001b[1;32m----> 1\u001b[1;33m \u001b[0mmy_dog\u001b[0m\u001b[1;33m.\u001b[0m\u001b[0mwho_am_i\u001b[0m\u001b[1;33m(\u001b[0m\u001b[1;33m)\u001b[0m\u001b[1;33m\u001b[0m\u001b[1;33m\u001b[0m\u001b[0m\n\u001b[0m",
      "\u001b[1;32m<ipython-input-25-69c57c11a16f>\u001b[0m in \u001b[0;36mwho_am_i\u001b[1;34m(self)\u001b[0m\n\u001b[0;32m     12\u001b[0m     \u001b[1;31m# instead of inheriting the method from ANIMAL CLASS we also could overwrite the original methods from Animal class\u001b[0m\u001b[1;33m\u001b[0m\u001b[1;33m\u001b[0m\u001b[1;33m\u001b[0m\u001b[0m\n\u001b[0;32m     13\u001b[0m     \u001b[1;32mdef\u001b[0m \u001b[0mwho_am_i\u001b[0m\u001b[1;33m(\u001b[0m\u001b[0mself\u001b[0m\u001b[1;33m)\u001b[0m\u001b[1;33m:\u001b[0m\u001b[1;33m\u001b[0m\u001b[1;33m\u001b[0m\u001b[0m\n\u001b[1;32m---> 14\u001b[1;33m         \u001b[0mself\u001b[0m\u001b[1;33m.\u001b[0m\u001b[0mAnimal\u001b[0m\u001b[1;33m.\u001b[0m\u001b[0mwho_am_i\u001b[0m\u001b[1;33m(\u001b[0m\u001b[1;33m)\u001b[0m \u001b[1;31m# self is the point pointed to Animal Class related to this Dog class\u001b[0m\u001b[1;33m\u001b[0m\u001b[1;33m\u001b[0m\u001b[0m\n\u001b[0m\u001b[0;32m     15\u001b[0m         \u001b[0mprint\u001b[0m\u001b[1;33m(\u001b[0m\u001b[1;34m'I am not a jedi I am a dog so  I overwrite it once my object is created from Dog class'\u001b[0m\u001b[1;33m)\u001b[0m\u001b[1;33m\u001b[0m\u001b[1;33m\u001b[0m\u001b[0m\n\u001b[0;32m     16\u001b[0m \u001b[1;33m\u001b[0m\u001b[0m\n",
      "\u001b[1;31mAttributeError\u001b[0m: 'Dog' object has no attribute 'Animal'"
     ]
    }
   ],
   "source": [
    "my_dog.who_am_i()"
   ]
  },
  {
   "cell_type": "markdown",
   "metadata": {},
   "source": [
    "* <span style='color: red'>this is for just passing Animal inside Dog. it is not inheritance. so just Dog() to create object without considering\n",
    "  the Aimal class attributs "
   ]
  },
  {
   "cell_type": "code",
   "execution_count": 66,
   "metadata": {},
   "outputs": [],
   "source": [
    "class Dog(Animal):   # pass another class as argument of this class to be able to inherite all from Animal class\n",
    "    \n",
    "    ## there are some common methods that have already in Animal class then we could reuse them by inheritence \n",
    "    \n",
    "    def __init__(self): # so once name from Animal class \n",
    "        #self.name = name # its specific objected attributes\n",
    "        #Animal.__init__(self,name) # inherite everything from Animal class, not only the attributes but methods also \n",
    "        self.animal = Animal('huan') #\n",
    "        print('This is an jedi')\n",
    "        \n",
    "        \n",
    "    # instead of inheriting the method from ANIMAL CLASS we also could overwrite the original methods from Animal class\n",
    "    def who_am_i(self):\n",
    "        Animal('ll').who_am_i() # self is the point pointed to Animal Class related to this Dog class \n",
    "        print('I am not a jedi I am a dog so  I overwrite it once my object is created from Dog class')\n",
    "        \n",
    "        \n",
    "    # also could add your own methods in this class \n",
    "    def bark(self):\n",
    "        print('I am quiet and I am not a barking dog')"
   ]
  },
  {
   "cell_type": "code",
   "execution_count": 67,
   "metadata": {},
   "outputs": [
    {
     "name": "stdout",
     "output_type": "stream",
     "text": [
      "GThis is huan\n",
      "This is an jedi\n"
     ]
    }
   ],
   "source": [
    "mm=Dog()"
   ]
  },
  {
   "cell_type": "code",
   "execution_count": 68,
   "metadata": {},
   "outputs": [
    {
     "name": "stdout",
     "output_type": "stream",
     "text": [
      "GThis is ll\n",
      "I am a jedi\n",
      "I am not a jedi I am a dog so  I overwrite it once my object is created from Dog class\n"
     ]
    }
   ],
   "source": [
    "mm.who_am_i()"
   ]
  },
  {
   "cell_type": "code",
   "execution_count": 69,
   "metadata": {},
   "outputs": [
    {
     "name": "stdout",
     "output_type": "stream",
     "text": [
      "I eat everything!\n"
     ]
    }
   ],
   "source": [
    "mm.what_i_eat() # ingerite methods from Animal without using Animal instance(object). This cannot be done by adding Amial \n",
    "# attributes in Dog init"
   ]
  },
  {
   "cell_type": "code",
   "execution_count": 70,
   "metadata": {},
   "outputs": [
    {
     "ename": "AttributeError",
     "evalue": "'Dog' object has no attribute 'name'",
     "output_type": "error",
     "traceback": [
      "\u001b[1;31m---------------------------------------------------------------------------\u001b[0m",
      "\u001b[1;31mAttributeError\u001b[0m                            Traceback (most recent call last)",
      "\u001b[1;32m<ipython-input-70-c66a58001b49>\u001b[0m in \u001b[0;36m<module>\u001b[1;34m\u001b[0m\n\u001b[1;32m----> 1\u001b[1;33m \u001b[0mmm\u001b[0m\u001b[1;33m.\u001b[0m\u001b[0mname\u001b[0m\u001b[1;33m\u001b[0m\u001b[1;33m\u001b[0m\u001b[0m\n\u001b[0m",
      "\u001b[1;31mAttributeError\u001b[0m: 'Dog' object has no attribute 'name'"
     ]
    }
   ],
   "source": [
    "mm.name"
   ]
  },
  {
   "cell_type": "code",
   "execution_count": 39,
   "metadata": {},
   "outputs": [
    {
     "name": "stdout",
     "output_type": "stream",
     "text": [
      "This is an jedi\n"
     ]
    }
   ],
   "source": [
    "my_dog=Dog()"
   ]
  },
  {
   "cell_type": "markdown",
   "metadata": {},
   "source": [
    "* <span style='color: green'> call another class method inside one class: then you need to create the object of the class first then it is able \n",
    "     to call the methods inside.then we could create the class object as the attribute as Dog class then we could take this\n",
    "     object as attribute "
   ]
  },
  {
   "cell_type": "code",
   "execution_count": 3,
   "metadata": {},
   "outputs": [],
   "source": [
    "class Animal():\n",
    "    \n",
    "    def __init__(self):\n",
    "        #self.name=name\n",
    "     \n",
    "        print('GThis is dog')\n",
    "        \n",
    "    def who_am_i(self):\n",
    "        print('I am a jedi')\n",
    "    \n",
    "    def what_i_eat(self):\n",
    "        print('I eat everything!')"
   ]
  },
  {
   "cell_type": "markdown",
   "metadata": {},
   "source": [
    "* when you call method. you need to have object or instance of class first like here Animal().method(), but you do not need  \n",
    "  to pass paramter or do inheritance to be able to call methods from Animal class inside the Dog Class"
   ]
  },
  {
   "cell_type": "code",
   "execution_count": 36,
   "metadata": {},
   "outputs": [],
   "source": [
    "class Dog():   # pass another class as argument of this class to be able to inherite all from Animal class\n",
    "    \n",
    "    ## there are some common methods that have already in Animal class then we could reuse them by inheritence \n",
    "    \n",
    "    def __init__(self): # so once name from Animal class \n",
    "        #self.name = name # its specific objected attributes\n",
    "        Animal.__init__(self) # inherite everything from Animal class, not only the attributes but methods also \n",
    "        #self.animal = Animal('huan') #\n",
    "        print('This is an jedi')\n",
    "        \n",
    "        \n",
    "    # instead of inheriting the method from ANIMAL CLASS we also could overwrite the original methods from Animal class\n",
    "    def who_am(self):\n",
    "        #self.Animal.who_am_i() # this is not callable : 'Dog' object has no attribute 'Animal'\n",
    "        Animal().who_am_i() # self is the point pointed to Animal Class related to this Dog class \n",
    "        print('I am not a jedi I am a dog so  I overwrite it once my object is created from Dog class')\n",
    "        \n",
    "        \n",
    "    # also could add your own methods in this class \n",
    "    def bark(self):\n",
    "        print('I am quiet and I am not a barking dog')"
   ]
  },
  {
   "cell_type": "code",
   "execution_count": 37,
   "metadata": {},
   "outputs": [
    {
     "name": "stdout",
     "output_type": "stream",
     "text": [
      "GThis is dog\n",
      "This is an jedi\n"
     ]
    }
   ],
   "source": [
    "my_dog=Dog()"
   ]
  },
  {
   "cell_type": "code",
   "execution_count": 38,
   "metadata": {},
   "outputs": [
    {
     "name": "stdout",
     "output_type": "stream",
     "text": [
      "GThis is dog\n",
      "I am a jedi\n",
      "I am not a jedi I am a dog so  I overwrite it once my object is created from Dog class\n"
     ]
    }
   ],
   "source": [
    "my_dog.who_am()"
   ]
  },
  {
   "cell_type": "code",
   "execution_count": null,
   "metadata": {},
   "outputs": [],
   "source": []
  },
  {
   "cell_type": "code",
   "execution_count": 39,
   "metadata": {},
   "outputs": [
    {
     "ename": "SyntaxError",
     "evalue": "invalid syntax (<ipython-input-39-86c4b1d8f739>, line 1)",
     "output_type": "error",
     "traceback": [
      "\u001b[1;36m  File \u001b[1;32m\"<ipython-input-39-86c4b1d8f739>\"\u001b[1;36m, line \u001b[1;32m1\u001b[0m\n\u001b[1;33m    * Improvement for calling  class method in another class.\u001b[0m\n\u001b[1;37m                  ^\u001b[0m\n\u001b[1;31mSyntaxError\u001b[0m\u001b[1;31m:\u001b[0m invalid syntax\n"
     ]
    }
   ],
   "source": [
    "* Improvement for calling  class method in another class."
   ]
  },
  {
   "cell_type": "code",
   "execution_count": 16,
   "metadata": {},
   "outputs": [],
   "source": [
    "class Animal():\n",
    "    \n",
    "    def __init__(self,name):\n",
    "        self.name=name\n",
    "     \n",
    "        print('GThis is dog')\n",
    "        \n",
    "    def who_am_i(self):\n",
    "        print('I am a jedi')\n",
    "    \n",
    "    def what_i_eat(self):\n",
    "        print('I eat everything!')"
   ]
  },
  {
   "cell_type": "code",
   "execution_count": 71,
   "metadata": {},
   "outputs": [
    {
     "ename": "TypeError",
     "evalue": "__init__() missing 1 required positional argument: 'name'",
     "output_type": "error",
     "traceback": [
      "\u001b[1;31m---------------------------------------------------------------------------\u001b[0m",
      "\u001b[1;31mTypeError\u001b[0m                                 Traceback (most recent call last)",
      "\u001b[1;32m<ipython-input-71-b97af3166666>\u001b[0m in \u001b[0;36m<module>\u001b[1;34m\u001b[0m\n\u001b[1;32m----> 1\u001b[1;33m \u001b[0mAnimal\u001b[0m\u001b[1;33m(\u001b[0m\u001b[1;33m)\u001b[0m\u001b[1;33m\u001b[0m\u001b[1;33m\u001b[0m\u001b[0m\n\u001b[0m",
      "\u001b[1;31mTypeError\u001b[0m: __init__() missing 1 required positional argument: 'name'"
     ]
    }
   ],
   "source": [
    "Animal()"
   ]
  },
  {
   "cell_type": "code",
   "execution_count": 41,
   "metadata": {},
   "outputs": [],
   "source": [
    "class Dog():   # pass another class as argument of this class to be able to inherite all from Animal class\n",
    "    \n",
    "    ## there are some common methods that have already in Animal class then we could reuse them by inheritence \n",
    "    \n",
    "    def __init__(self): # so once name from Animal class \n",
    "        #self.name = name # its specific objected attributes\n",
    "        #Animal.__init__(self) # inherite everything from Animal class, not only the attributes but methods also \n",
    "        #self.animal = Animal('huan') #\n",
    "        print('This is an jedi')\n",
    "        \n",
    "        \n",
    "    # instead of inheriting the method from ANIMAL CLASS we also could overwrite the original methods from Animal class\n",
    "    def who_am(self):\n",
    "        #self.Animal.who_am_i() # this is not callable : 'Dog' object has no attribute 'Animal'\n",
    "        Animal('huan').who_am_i() # self is the point pointed to Animal Class related to this Dog class \n",
    "        print('I am not a jedi I am a dog so  I overwrite it once my object is created from Dog class')\n",
    "        \n",
    "        \n",
    "    # also could add your own methods in this class \n",
    "    def bark(self):\n",
    "        print('I am quiet and I am not a barking dog')"
   ]
  },
  {
   "cell_type": "code",
   "execution_count": 42,
   "metadata": {},
   "outputs": [
    {
     "name": "stdout",
     "output_type": "stream",
     "text": [
      "This is an jedi\n"
     ]
    }
   ],
   "source": [
    "my_dog=Dog() "
   ]
  },
  {
   "cell_type": "code",
   "execution_count": 43,
   "metadata": {},
   "outputs": [
    {
     "name": "stdout",
     "output_type": "stream",
     "text": [
      "GThis is dog\n",
      "I am a jedi\n",
      "I am not a jedi I am a dog so  I overwrite it once my object is created from Dog class\n"
     ]
    }
   ],
   "source": [
    "my_dog.who_am()"
   ]
  },
  {
   "cell_type": "markdown",
   "metadata": {},
   "source": [
    "*  **now the Animal object becomes the attribute of Dog**\n"
   ]
  },
  {
   "cell_type": "code",
   "execution_count": 21,
   "metadata": {},
   "outputs": [],
   "source": [
    "class Dog():   # pass another class as argument of this class to be able to inherite all from Animal class\n",
    "    \n",
    "    ## there are some common methods that have already in Animal class then we could reuse them by inheritence \n",
    "    \n",
    "    def __init__(self): # so once name from Animal class \n",
    "        #self.name = name # its specific objected attributes\n",
    "        #Animal.__init__(self) # inherite everything from Animal class, not only the attributes but methods also \n",
    "        self.animal = Animal('ll') # now the Animal object becomes the attribute of Dog \n",
    "        print('This is an jedi')\n",
    "        \n",
    "        \n",
    "    # instead of inheriting the method from ANIMAL CLASS we also could overwrite the original methods from Animal class\n",
    "    def who_am(self):\n",
    "        #self.Animal.who_am_i() # this is not callable : 'Dog' object has no attribute 'Animal'\n",
    "        Animal('ll').who_am_i() # self is the point pointed to Animal Class related to this Dog class \n",
    "        #self.animal.who_am_i()\n",
    "        print('I am not a jedi I am a dog so  I overwrite it once my object is created from Dog class')\n",
    "        \n",
    "        \n",
    "    # also could add your own methods in this class \n",
    "    def bark(self):\n",
    "        print('I am quiet and I am not a barking dog')"
   ]
  },
  {
   "cell_type": "code",
   "execution_count": 18,
   "metadata": {},
   "outputs": [
    {
     "ename": "TypeError",
     "evalue": "__init__() missing 1 required positional argument: 'name'",
     "output_type": "error",
     "traceback": [
      "\u001b[1;31m---------------------------------------------------------------------------\u001b[0m",
      "\u001b[1;31mTypeError\u001b[0m                                 Traceback (most recent call last)",
      "\u001b[1;32m<ipython-input-18-62303c5bafba>\u001b[0m in \u001b[0;36m<module>\u001b[1;34m\u001b[0m\n\u001b[1;32m----> 1\u001b[1;33m \u001b[0manima\u001b[0m\u001b[1;33m=\u001b[0m\u001b[0mAnimal\u001b[0m\u001b[1;33m(\u001b[0m\u001b[1;33m)\u001b[0m\u001b[1;33m\u001b[0m\u001b[1;33m\u001b[0m\u001b[0m\n\u001b[0m",
      "\u001b[1;31mTypeError\u001b[0m: __init__() missing 1 required positional argument: 'name'"
     ]
    }
   ],
   "source": [
    "anima=Animal()"
   ]
  },
  {
   "cell_type": "code",
   "execution_count": 22,
   "metadata": {},
   "outputs": [
    {
     "name": "stdout",
     "output_type": "stream",
     "text": [
      "GThis is dog\n",
      "This is an jedi\n"
     ]
    }
   ],
   "source": [
    "my_dog=Dog() "
   ]
  },
  {
   "cell_type": "code",
   "execution_count": 7,
   "metadata": {},
   "outputs": [
    {
     "data": {
      "text/plain": [
       "<__main__.Animal at 0x21757fefc40>"
      ]
     },
     "execution_count": 7,
     "metadata": {},
     "output_type": "execute_result"
    }
   ],
   "source": [
    "my_dog.animal # animal is attribute of Dog class but it is also an object from Animal "
   ]
  },
  {
   "cell_type": "code",
   "execution_count": 23,
   "metadata": {},
   "outputs": [
    {
     "name": "stdout",
     "output_type": "stream",
     "text": [
      "GThis is dog\n",
      "I am a jedi\n",
      "I am not a jedi I am a dog so  I overwrite it once my object is created from Dog class\n"
     ]
    }
   ],
   "source": [
    "my_dog.who_am()"
   ]
  },
  {
   "cell_type": "code",
   "execution_count": 25,
   "metadata": {},
   "outputs": [
    {
     "ename": "AttributeError",
     "evalue": "'Dog' object has no attribute 'what_i_eat'",
     "output_type": "error",
     "traceback": [
      "\u001b[1;31m---------------------------------------------------------------------------\u001b[0m",
      "\u001b[1;31mAttributeError\u001b[0m                            Traceback (most recent call last)",
      "\u001b[1;32m<ipython-input-25-2d610a6c2f88>\u001b[0m in \u001b[0;36m<module>\u001b[1;34m\u001b[0m\n\u001b[1;32m----> 1\u001b[1;33m \u001b[0mmy_dog\u001b[0m\u001b[1;33m.\u001b[0m\u001b[0mwhat_i_eat\u001b[0m\u001b[1;33m(\u001b[0m\u001b[1;33m)\u001b[0m\u001b[1;33m\u001b[0m\u001b[1;33m\u001b[0m\u001b[0m\n\u001b[0m",
      "\u001b[1;31mAttributeError\u001b[0m: 'Dog' object has no attribute 'what_i_eat'"
     ]
    }
   ],
   "source": [
    "my_dog.what_i_eat()"
   ]
  },
  {
   "cell_type": "markdown",
   "metadata": {},
   "source": [
    "#### <span style='color : red' > This is the upgraded inheritance with attributs in both the inherited class as well as the base class: then we need to add the base class attributes inside the __init__ of the inherited class to do the inheritance "
   ]
  },
  {
   "cell_type": "code",
   "execution_count": 45,
   "metadata": {},
   "outputs": [],
   "source": [
    "# inheritence \n",
    "\n",
    "class Animal():\n",
    "    \n",
    "    def __init__(self, breed):\n",
    "        self.breed=breed\n",
    "        print(f'GThis is {self.breed}')\n",
    "        \n",
    "    def who_am_i(self):\n",
    "        print('I am a jedi')\n",
    "    \n",
    "    def what_i_eat(self):\n",
    "        print('I eat everything!')\n"
   ]
  },
  {
   "cell_type": "code",
   "execution_count": 47,
   "metadata": {},
   "outputs": [],
   "source": [
    "class Dog(Animal):   # pass another class as argument of this class to be able to inherite all methods from Animal class\n",
    "    \n",
    "    ## there are some common methods that have already in Animal class then we could reuse them by inheritence \n",
    "    \n",
    "    def __init__(self,breed,name): # breed is inherited from the Animal class and name is the self defined this Dog class\n",
    "        self.name = name # name is the specific attributs of Dog class \n",
    "        Animal.__init__(self, breed) # inherite everything from Animal class, not only the attributes but methods also \n",
    "        print(f'This is an {self.name}')\n",
    "        \n",
    "        \n",
    "    # instead of inheriting the method from ANIMAL CLASS we also could overwrite the original methods from Animal class\n",
    "    def who_am_i(self):\n",
    "        print('I am not a jedi I am a dog so  I overwrite it once my object is created from Dog class')\n",
    "        \n",
    "        \n",
    "    # also could add your own methods in this class \n",
    "    def bark(self):\n",
    "        print('I am quiet and I am not a barking dog')\n",
    "        "
   ]
  },
  {
   "cell_type": "code",
   "execution_count": 48,
   "metadata": {},
   "outputs": [
    {
     "name": "stdout",
     "output_type": "stream",
     "text": [
      "GThis is jedi\n",
      "This is an unknown species\n"
     ]
    }
   ],
   "source": [
    "my_dog = Dog('jedi','unknown species') # two paramters are expected since both from Animal and Dog class "
   ]
  },
  {
   "cell_type": "code",
   "execution_count": 50,
   "metadata": {},
   "outputs": [
    {
     "name": "stdout",
     "output_type": "stream",
     "text": [
      "GThis is ll\n"
     ]
    }
   ],
   "source": [
    "my_animal=Animal('ll')"
   ]
  },
  {
   "cell_type": "code",
   "execution_count": 51,
   "metadata": {},
   "outputs": [
    {
     "name": "stdout",
     "output_type": "stream",
     "text": [
      "I eat everything!\n"
     ]
    }
   ],
   "source": [
    "my_animal.what_i_eat()"
   ]
  },
  {
   "cell_type": "code",
   "execution_count": 52,
   "metadata": {},
   "outputs": [
    {
     "name": "stdout",
     "output_type": "stream",
     "text": [
      "I eat everything!\n"
     ]
    }
   ],
   "source": [
    "my_dog.what_i_eat()  ### inherite from Animal class "
   ]
  },
  {
   "cell_type": "code",
   "execution_count": 55,
   "metadata": {},
   "outputs": [
    {
     "name": "stdout",
     "output_type": "stream",
     "text": [
      "I am not a jedi I am a dog so  I overwrite it once my object is created from Dog class\n"
     ]
    }
   ],
   "source": [
    "my_dog.who_am_i()"
   ]
  },
  {
   "cell_type": "code",
   "execution_count": 218,
   "metadata": {},
   "outputs": [
    {
     "name": "stdout",
     "output_type": "stream",
     "text": [
      "I am quiet and I am not a barking dog\n"
     ]
    }
   ],
   "source": [
    "my_dog.bark()"
   ]
  },
  {
   "cell_type": "code",
   "execution_count": 56,
   "metadata": {},
   "outputs": [],
   "source": [
    "class Dog():   # pass another class as argument of this class to be able to inherite all methods from Animal class\n",
    "    \n",
    "    ## there are some common methods that have already in Animal class then we could reuse them by inheritence \n",
    "    \n",
    "    def __init__(self,breed,name): # breed is inherited from the Animal class and name is the self defined this Dog class\n",
    "        self.name = name # name is the specific attributs of Dog class \n",
    "        Animal.__init__(self, breed) # inherite everything from Animal class, not only the attributes but methods also \n",
    "        print(f'This is an {self.name}')\n",
    "        \n",
    "        \n",
    "    # instead of inheriting the method from ANIMAL CLASS we also could overwrite the original methods from Animal class\n",
    "    def who_am_i(self):\n",
    "        print('I am not a jedi I am a dog so  I overwrite it once my object is created from Dog class')\n",
    "        \n",
    "        \n",
    "    # also could add your own methods in this class \n",
    "    def bark(self):\n",
    "        print('I am quiet and I am not a barking dog')"
   ]
  },
  {
   "cell_type": "code",
   "execution_count": 57,
   "metadata": {},
   "outputs": [
    {
     "name": "stdout",
     "output_type": "stream",
     "text": [
      "GThis is jedi\n",
      "This is an unknown species\n"
     ]
    }
   ],
   "source": [
    "my_dog = Dog('jedi','unknown species')"
   ]
  },
  {
   "cell_type": "code",
   "execution_count": 58,
   "metadata": {
    "scrolled": true
   },
   "outputs": [
    {
     "ename": "AttributeError",
     "evalue": "'Dog' object has no attribute 'what_i_eat'",
     "output_type": "error",
     "traceback": [
      "\u001b[1;31m---------------------------------------------------------------------------\u001b[0m",
      "\u001b[1;31mAttributeError\u001b[0m                            Traceback (most recent call last)",
      "\u001b[1;32m<ipython-input-58-2d610a6c2f88>\u001b[0m in \u001b[0;36m<module>\u001b[1;34m\u001b[0m\n\u001b[1;32m----> 1\u001b[1;33m \u001b[0mmy_dog\u001b[0m\u001b[1;33m.\u001b[0m\u001b[0mwhat_i_eat\u001b[0m\u001b[1;33m(\u001b[0m\u001b[1;33m)\u001b[0m\u001b[1;33m\u001b[0m\u001b[1;33m\u001b[0m\u001b[0m\n\u001b[0m",
      "\u001b[1;31mAttributeError\u001b[0m: 'Dog' object has no attribute 'what_i_eat'"
     ]
    }
   ],
   "source": [
    "my_dog.what_i_eat()"
   ]
  },
  {
   "cell_type": "markdown",
   "metadata": {},
   "source": [
    "### ** Conclusion of inheritence \n",
    "* When we want to use all methods from one class in another class. t.e.x use Animal's methods in Dog class then we need to\n",
    "  pass Animal as paramter in Dog() as Dog(Animal):, this cannot be acheived by adding Animal.__init__() in Dog's __init__(). \n",
    "  \n",
    "* when you want to inherite or use attributes of one class in another class. t.e.x use or inherit name from Animal in Dog \n",
    "  you cannot achieve this by passing Animal as a parameter in Dog as Dog(Animal). you need to add Animal.__init__() in Dog's     __init__(). \n",
    "  \n",
    "* you also can create an object from another class like Animal to assign it as the attribute of Dog class:\n",
    "         self.animal=Animal()\n",
    "  but in this way. we cannot use any method from Animal or attributes of Animal class."
   ]
  },
  {
   "cell_type": "code",
   "execution_count": null,
   "metadata": {},
   "outputs": [],
   "source": []
  },
  {
   "cell_type": "markdown",
   "metadata": {},
   "source": [
    "### 3.2 Polymorphism "
   ]
  },
  {
   "cell_type": "code",
   "execution_count": 27,
   "metadata": {},
   "outputs": [],
   "source": [
    "class Dog():\n",
    "    \n",
    "    def __init__(self, name):\n",
    "        self.name=name\n",
    "    \n",
    "    def speak(self):\n",
    "        return 'woof'\n"
   ]
  },
  {
   "cell_type": "code",
   "execution_count": 28,
   "metadata": {},
   "outputs": [],
   "source": [
    "class Cat():\n",
    "    \n",
    "    def __init__(self, name):\n",
    "        self.name=name\n",
    "    \n",
    "    def speak(self):\n",
    "        return 'Meowe'"
   ]
  },
  {
   "cell_type": "code",
   "execution_count": 29,
   "metadata": {},
   "outputs": [],
   "source": [
    "##\n",
    "niko= Dog('niko')\n",
    "felix = Cat('felix')"
   ]
  },
  {
   "cell_type": "code",
   "execution_count": 30,
   "metadata": {},
   "outputs": [
    {
     "data": {
      "text/plain": [
       "'woof'"
      ]
     },
     "execution_count": 30,
     "metadata": {},
     "output_type": "execute_result"
    }
   ],
   "source": [
    "niko.speak()"
   ]
  },
  {
   "cell_type": "code",
   "execution_count": 31,
   "metadata": {},
   "outputs": [
    {
     "data": {
      "text/plain": [
       "'Meowe'"
      ]
     },
     "execution_count": 31,
     "metadata": {},
     "output_type": "execute_result"
    }
   ],
   "source": [
    "felix.speak()"
   ]
  },
  {
   "cell_type": "markdown",
   "metadata": {},
   "source": [
    "* while niko and felix share the method name speak, but python will know what to return for specific object regardless of \n",
    "  what is passed in the object"
   ]
  },
  {
   "cell_type": "code",
   "execution_count": 51,
   "metadata": {},
   "outputs": [
    {
     "name": "stdout",
     "output_type": "stream",
     "text": [
      "<class '__main__.Dog'>\n",
      "woof\n",
      "<class '__main__.Cat'>\n",
      "Meowe\n"
     ]
    }
   ],
   "source": [
    "## two way to show polymorphism: we both are able to pass different objects and then obtain object specific result from the\n",
    "## same method name called speak without confusion\n",
    "\n",
    "# for loop \n",
    "for pet in [niko, felix]:  # niko and felix are instance of class, they are objects \n",
    "    print(type(pet))\n",
    "    print(pet.speak())"
   ]
  },
  {
   "cell_type": "markdown",
   "metadata": {},
   "source": [
    "#### another way to show polymorohism:we both are able to pass different objects and then obtain object specific result from the\n",
    "#### same method name called speak without confusion\n",
    "\n",
    "#### objects could be passed in any function as paramter or in another word, function could use any data type as paramter:\n",
    "### class(object), variables"
   ]
  },
  {
   "cell_type": "code",
   "execution_count": 32,
   "metadata": {},
   "outputs": [],
   "source": [
    "\n",
    "\n",
    "def pet_speak(pet,cat): # pass several objects \n",
    "    print(pet.speak())\n",
    "    print(cat.speak())\n"
   ]
  },
  {
   "cell_type": "code",
   "execution_count": 33,
   "metadata": {},
   "outputs": [
    {
     "name": "stdout",
     "output_type": "stream",
     "text": [
      "woof\n",
      "Meowe\n"
     ]
    }
   ],
   "source": [
    "pet_speak(niko, felix)"
   ]
  },
  {
   "cell_type": "markdown",
   "metadata": {},
   "source": [
    "#### another application of polymorphism is abstract class: abstract class will be always used as base class so user cannnot\n",
    "#### create any instance of this base class, it is also class but when we use the method from this class, it will raise error"
   ]
  },
  {
   "cell_type": "code",
   "execution_count": 34,
   "metadata": {},
   "outputs": [],
   "source": [
    "\n",
    "class Animal():\n",
    "    \n",
    "    def __init__(self,name):\n",
    "        self.name=name\n",
    "        \n",
    "    def who_am_i(self):\n",
    "        raise NotImplementedError (\"Subcalss must implement this abstract method and this is  in base class Animal\")"
   ]
  },
  {
   "cell_type": "code",
   "execution_count": 35,
   "metadata": {},
   "outputs": [],
   "source": [
    "myanimal=Animal('niko')"
   ]
  },
  {
   "cell_type": "markdown",
   "metadata": {},
   "source": [
    "#### ERROR ARAISED SINCE it is telling that this instance is created from an abstract class since its \n",
    "#### methods cannot be instanted but could be inherited in the subcalss and overwrite the method "
   ]
  },
  {
   "cell_type": "code",
   "execution_count": 36,
   "metadata": {},
   "outputs": [
    {
     "ename": "NotImplementedError",
     "evalue": "Subcalss must implement this abstract method and this is  in base class Animal",
     "output_type": "error",
     "traceback": [
      "\u001b[1;31m---------------------------------------------------------------------------\u001b[0m",
      "\u001b[1;31mNotImplementedError\u001b[0m                       Traceback (most recent call last)",
      "\u001b[1;32m<ipython-input-36-9a6771e67b5a>\u001b[0m in \u001b[0;36m<module>\u001b[1;34m\u001b[0m\n\u001b[1;32m----> 1\u001b[1;33m \u001b[0mmyanimal\u001b[0m\u001b[1;33m.\u001b[0m\u001b[0mwho_am_i\u001b[0m\u001b[1;33m(\u001b[0m\u001b[1;33m)\u001b[0m \u001b[1;31m### ERROR ARAISED SINCE it is telling that this instance is created from an abstract class since its\u001b[0m\u001b[1;33m\u001b[0m\u001b[1;33m\u001b[0m\u001b[0m\n\u001b[0m\u001b[0;32m      2\u001b[0m                      \u001b[1;31m## cannot be instanted but could be inherited in the subcalss and overwrite the method\u001b[0m\u001b[1;33m\u001b[0m\u001b[1;33m\u001b[0m\u001b[1;33m\u001b[0m\u001b[0m\n",
      "\u001b[1;32m<ipython-input-34-9a448884a704>\u001b[0m in \u001b[0;36mwho_am_i\u001b[1;34m(self)\u001b[0m\n\u001b[0;32m      5\u001b[0m \u001b[1;33m\u001b[0m\u001b[0m\n\u001b[0;32m      6\u001b[0m     \u001b[1;32mdef\u001b[0m \u001b[0mwho_am_i\u001b[0m\u001b[1;33m(\u001b[0m\u001b[0mself\u001b[0m\u001b[1;33m)\u001b[0m\u001b[1;33m:\u001b[0m\u001b[1;33m\u001b[0m\u001b[1;33m\u001b[0m\u001b[0m\n\u001b[1;32m----> 7\u001b[1;33m         \u001b[1;32mraise\u001b[0m \u001b[0mNotImplementedError\u001b[0m \u001b[1;33m(\u001b[0m\u001b[1;34m\"Subcalss must implement this abstract method and this is  in base class Animal\"\u001b[0m\u001b[1;33m)\u001b[0m\u001b[1;33m\u001b[0m\u001b[1;33m\u001b[0m\u001b[0m\n\u001b[0m",
      "\u001b[1;31mNotImplementedError\u001b[0m: Subcalss must implement this abstract method and this is  in base class Animal"
     ]
    }
   ],
   "source": [
    "myanimal.who_am_i() ### ERROR ARAISED SINCE it is telling that this instance is created from an abstract class since its \n",
    "                     ## cannot be instanted but could be inherited in the subcalss and overwrite the method "
   ]
  },
  {
   "cell_type": "code",
   "execution_count": 40,
   "metadata": {},
   "outputs": [],
   "source": [
    "## we can inherite the abstract method :\n",
    "\n",
    "class Dog(Animal):\n",
    "    \n",
    "    # if Dog just does not have any new attritues then this part is not neccessary as long as Animal is passed above \n",
    "\n",
    "    def __init__(self,name,breed):\n",
    "        Animal.__init__(self,name)\n",
    "        self.breed=breed\n",
    "        #Animal.__init__(self,name)\n",
    "        \n",
    "    #**********************************************************************\n",
    "    \n",
    "    # overwrite the speak method is supported and recommended with methods from abstract methods \n",
    "    def who_am_i(self):\n",
    "        print('I AM A DOG')"
   ]
  },
  {
   "cell_type": "markdown",
   "metadata": {},
   "source": [
    "### <span style='color: green'>so if you want to inherit the attribute from the Animal base class and also add your own attribute like breed, you need  to feed both attribute name that you want inherit from the base also the new attributes that you want to create. by convention, the paramter name will be the same as the attribute_name in class. also take care of the order, which is mapped to the arguments that you pass when you create objects. like name is niko, breed is huskie then name is first, breed is after inside the __init__()"
   ]
  },
  {
   "cell_type": "code",
   "execution_count": 41,
   "metadata": {},
   "outputs": [],
   "source": [
    " niko=Dog('niko','huskie')\n"
   ]
  },
  {
   "cell_type": "code",
   "execution_count": 71,
   "metadata": {},
   "outputs": [
    {
     "data": {
      "text/plain": [
       "'huskie'"
      ]
     },
     "execution_count": 71,
     "metadata": {},
     "output_type": "execute_result"
    }
   ],
   "source": [
    "niko.breed"
   ]
  },
  {
   "cell_type": "code",
   "execution_count": 72,
   "metadata": {},
   "outputs": [
    {
     "data": {
      "text/plain": [
       "'niko'"
      ]
     },
     "execution_count": 72,
     "metadata": {},
     "output_type": "execute_result"
    }
   ],
   "source": [
    "niko.name"
   ]
  },
  {
   "cell_type": "code",
   "execution_count": 42,
   "metadata": {},
   "outputs": [
    {
     "name": "stdout",
     "output_type": "stream",
     "text": [
      "I AM A DOG\n"
     ]
    }
   ],
   "source": [
    "niko.who_am_i() # this method could be called even though it has the same method name as the one in abstract class"
   ]
  },
  {
   "cell_type": "code",
   "execution_count": 43,
   "metadata": {},
   "outputs": [],
   "source": [
    "class Cat(Animal):\n",
    "    \n",
    "    def __init__(self,breed):\n",
    "        self.breed=breed\n",
    "        Animal.__init__(self) # here should be Animal.__init__(self,name)\n",
    "    \n",
    "    # overwrite the speak method is supported and recommended with methods from abstract methods \n",
    "    def who_am_i(self):\n",
    "        print('I AM A cat')"
   ]
  },
  {
   "cell_type": "code",
   "execution_count": 45,
   "metadata": {},
   "outputs": [],
   "source": [
    "class Not(Animal): ## so once you inherite the base class, you could just put it in the argument \n",
    "                   ### Animal.__init__(self) is not necessary \n",
    "    pass"
   ]
  },
  {
   "cell_type": "code",
   "execution_count": 46,
   "metadata": {},
   "outputs": [],
   "source": [
    "nn=Not('mm')"
   ]
  },
  {
   "cell_type": "code",
   "execution_count": 47,
   "metadata": {},
   "outputs": [
    {
     "data": {
      "text/plain": [
       "'mm'"
      ]
     },
     "execution_count": 47,
     "metadata": {},
     "output_type": "execute_result"
    }
   ],
   "source": [
    "nn.name"
   ]
  },
  {
   "cell_type": "code",
   "execution_count": 48,
   "metadata": {},
   "outputs": [
    {
     "ename": "NotImplementedError",
     "evalue": "Subcalss must implement this abstract method and this is  in base class Animal",
     "output_type": "error",
     "traceback": [
      "\u001b[1;31m---------------------------------------------------------------------------\u001b[0m",
      "\u001b[1;31mNotImplementedError\u001b[0m                       Traceback (most recent call last)",
      "\u001b[1;32m<ipython-input-48-f2fe04d4bc99>\u001b[0m in \u001b[0;36m<module>\u001b[1;34m\u001b[0m\n\u001b[1;32m----> 1\u001b[1;33m \u001b[0mnn\u001b[0m\u001b[1;33m.\u001b[0m\u001b[0mwho_am_i\u001b[0m\u001b[1;33m(\u001b[0m\u001b[1;33m)\u001b[0m\u001b[1;33m\u001b[0m\u001b[1;33m\u001b[0m\u001b[0m\n\u001b[0m",
      "\u001b[1;32m<ipython-input-34-9a448884a704>\u001b[0m in \u001b[0;36mwho_am_i\u001b[1;34m(self)\u001b[0m\n\u001b[0;32m      5\u001b[0m \u001b[1;33m\u001b[0m\u001b[0m\n\u001b[0;32m      6\u001b[0m     \u001b[1;32mdef\u001b[0m \u001b[0mwho_am_i\u001b[0m\u001b[1;33m(\u001b[0m\u001b[0mself\u001b[0m\u001b[1;33m)\u001b[0m\u001b[1;33m:\u001b[0m\u001b[1;33m\u001b[0m\u001b[1;33m\u001b[0m\u001b[0m\n\u001b[1;32m----> 7\u001b[1;33m         \u001b[1;32mraise\u001b[0m \u001b[0mNotImplementedError\u001b[0m \u001b[1;33m(\u001b[0m\u001b[1;34m\"Subcalss must implement this abstract method and this is  in base class Animal\"\u001b[0m\u001b[1;33m)\u001b[0m\u001b[1;33m\u001b[0m\u001b[1;33m\u001b[0m\u001b[0m\n\u001b[0m",
      "\u001b[1;31mNotImplementedError\u001b[0m: Subcalss must implement this abstract method and this is  in base class Animal"
     ]
    }
   ],
   "source": [
    "nn.who_am_i()"
   ]
  },
  {
   "cell_type": "code",
   "execution_count": 91,
   "metadata": {},
   "outputs": [],
   "source": [
    "niko=Dog('niko','kkk')\n"
   ]
  },
  {
   "cell_type": "code",
   "execution_count": 92,
   "metadata": {},
   "outputs": [
    {
     "data": {
      "text/plain": [
       "'kkk'"
      ]
     },
     "execution_count": 92,
     "metadata": {},
     "output_type": "execute_result"
    }
   ],
   "source": [
    "niko.breed"
   ]
  },
  {
   "cell_type": "code",
   "execution_count": 88,
   "metadata": {},
   "outputs": [
    {
     "ename": "TypeError",
     "evalue": "__init__() missing 1 required positional argument: 'name'",
     "output_type": "error",
     "traceback": [
      "\u001b[1;31m---------------------------------------------------------------------------\u001b[0m",
      "\u001b[1;31mTypeError\u001b[0m                                 Traceback (most recent call last)",
      "\u001b[1;32m<ipython-input-88-81e604b00220>\u001b[0m in \u001b[0;36m<module>\u001b[1;34m\u001b[0m\n\u001b[1;32m----> 1\u001b[1;33m \u001b[0mfelix\u001b[0m\u001b[1;33m=\u001b[0m\u001b[0mCat\u001b[0m\u001b[1;33m(\u001b[0m\u001b[1;34m'felix'\u001b[0m\u001b[1;33m)\u001b[0m\u001b[1;33m\u001b[0m\u001b[1;33m\u001b[0m\u001b[0m\n\u001b[0m",
      "\u001b[1;32m<ipython-input-87-02ff864b42f0>\u001b[0m in \u001b[0;36m__init__\u001b[1;34m(self, breed)\u001b[0m\n\u001b[0;32m      3\u001b[0m     \u001b[1;32mdef\u001b[0m \u001b[0m__init__\u001b[0m\u001b[1;33m(\u001b[0m\u001b[0mself\u001b[0m\u001b[1;33m,\u001b[0m\u001b[0mbreed\u001b[0m\u001b[1;33m)\u001b[0m\u001b[1;33m:\u001b[0m\u001b[1;33m\u001b[0m\u001b[1;33m\u001b[0m\u001b[0m\n\u001b[0;32m      4\u001b[0m         \u001b[0mself\u001b[0m\u001b[1;33m.\u001b[0m\u001b[0mbreed\u001b[0m\u001b[1;33m=\u001b[0m\u001b[0mbreed\u001b[0m\u001b[1;33m\u001b[0m\u001b[1;33m\u001b[0m\u001b[0m\n\u001b[1;32m----> 5\u001b[1;33m         \u001b[0mAnimal\u001b[0m\u001b[1;33m.\u001b[0m\u001b[0m__init__\u001b[0m\u001b[1;33m(\u001b[0m\u001b[0mself\u001b[0m\u001b[1;33m)\u001b[0m \u001b[1;31m# here should be Animal.__init__(self,name)\u001b[0m\u001b[1;33m\u001b[0m\u001b[1;33m\u001b[0m\u001b[0m\n\u001b[0m\u001b[0;32m      6\u001b[0m \u001b[1;33m\u001b[0m\u001b[0m\n\u001b[0;32m      7\u001b[0m     \u001b[1;31m# overwrite the speak method is supported and recommended with methods from abstract methods\u001b[0m\u001b[1;33m\u001b[0m\u001b[1;33m\u001b[0m\u001b[1;33m\u001b[0m\u001b[0m\n",
      "\u001b[1;31mTypeError\u001b[0m: __init__() missing 1 required positional argument: 'name'"
     ]
    }
   ],
   "source": [
    "felix=Cat('felix')"
   ]
  },
  {
   "cell_type": "code",
   "execution_count": 223,
   "metadata": {},
   "outputs": [
    {
     "data": {
      "text/plain": [
       "'niko'"
      ]
     },
     "execution_count": 223,
     "metadata": {},
     "output_type": "execute_result"
    }
   ],
   "source": [
    "niko.name"
   ]
  },
  {
   "cell_type": "code",
   "execution_count": 224,
   "metadata": {},
   "outputs": [
    {
     "name": "stdout",
     "output_type": "stream",
     "text": [
      "I AM A DOG\n"
     ]
    }
   ],
   "source": [
    "niko.who_am_i()"
   ]
  },
  {
   "cell_type": "code",
   "execution_count": 225,
   "metadata": {},
   "outputs": [
    {
     "data": {
      "text/plain": [
       "'felix'"
      ]
     },
     "execution_count": 225,
     "metadata": {},
     "output_type": "execute_result"
    }
   ],
   "source": [
    "felix.name\n"
   ]
  },
  {
   "cell_type": "code",
   "execution_count": 226,
   "metadata": {},
   "outputs": [
    {
     "name": "stdout",
     "output_type": "stream",
     "text": [
      "I AM A cat\n"
     ]
    }
   ],
   "source": [
    "felix.who_am_i()"
   ]
  },
  {
   "cell_type": "markdown",
   "metadata": {},
   "source": [
    "## 4. Special Magic/dunder methods\n",
    "* **Special methods allow us to use some built-in methods in python like print() method with our own user created objects**\n",
    "* **built in methods in python are thorse displayed as green color when we type them in note book here <span style=\"color:green\"> len, list, str, print**"
   ]
  },
  {
   "cell_type": "code",
   "execution_count": 288,
   "metadata": {},
   "outputs": [],
   "source": [
    "class Book():\n",
    "    \n",
    "    def __init__(self,title, author,pages):\n",
    "        self.title = title\n",
    "        self.author=author\n",
    "        self.pages=pages\n",
    "    "
   ]
  },
  {
   "cell_type": "code",
   "execution_count": 289,
   "metadata": {},
   "outputs": [],
   "source": [
    "# instance of class, b is an object with its specific arguments \n",
    "b=Book('JEDI','Huan',200) ## 3 attributes"
   ]
  },
  {
   "cell_type": "code",
   "execution_count": 290,
   "metadata": {},
   "outputs": [
    {
     "data": {
      "text/plain": [
       "'Huan'"
      ]
     },
     "execution_count": 290,
     "metadata": {},
     "output_type": "execute_result"
    }
   ],
   "source": [
    "b.author"
   ]
  },
  {
   "cell_type": "code",
   "execution_count": 291,
   "metadata": {},
   "outputs": [
    {
     "name": "stdout",
     "output_type": "stream",
     "text": [
      "<__main__.Book object at 0x0000016FCF336040>\n"
     ]
    }
   ],
   "source": [
    "print(b)  # when you print(), print will search what is the string presentation of b "
   ]
  },
  {
   "cell_type": "code",
   "execution_count": 292,
   "metadata": {},
   "outputs": [
    {
     "data": {
      "text/plain": [
       "'<__main__.Book object at 0x0000016FCF336040>'"
      ]
     },
     "execution_count": 292,
     "metadata": {},
     "output_type": "execute_result"
    }
   ],
   "source": [
    "# cast b into a string\n",
    "str(b)"
   ]
  },
  {
   "cell_type": "code",
   "execution_count": 293,
   "metadata": {},
   "outputs": [
    {
     "name": "stdout",
     "output_type": "stream",
     "text": [
      "<__main__.Book object at 0x0000016FCF336040>\n"
     ]
    }
   ],
   "source": [
    "print(str(b))"
   ]
  },
  {
   "cell_type": "markdown",
   "metadata": {},
   "source": [
    "**we can see that b returns a class information not any string**\n",
    "**what we can do is use built-in str function in the class to __str__(), what this method does is when you print(object), it \n",
    "  will look through the class and print what this __str__ method returns, so put what you want to be print out inside this\n",
    "  __str__()**"
   ]
  },
  {
   "cell_type": "code",
   "execution_count": 294,
   "metadata": {},
   "outputs": [],
   "source": [
    "class Book():\n",
    "    \n",
    "    def __init__(self,title, author,pages):\n",
    "        self.title = title\n",
    "        self.author=author\n",
    "        self.pages=pages\n",
    "        \n",
    "    def __str__(self):\n",
    "        return f'{self.title} by {self.author}'"
   ]
  },
  {
   "cell_type": "code",
   "execution_count": 303,
   "metadata": {},
   "outputs": [],
   "source": [
    "b=Book('JEDI','Huan',200) ## 3 attributes"
   ]
  },
  {
   "cell_type": "code",
   "execution_count": 296,
   "metadata": {},
   "outputs": [
    {
     "name": "stdout",
     "output_type": "stream",
     "text": [
      "JEDI by Huan\n"
     ]
    }
   ],
   "source": [
    "# print will ask class Book, do you have any string representation? yes I do inside the __str__()\n",
    "print(b) # it will print the returns result from __str__() method"
   ]
  },
  {
   "cell_type": "code",
   "execution_count": 297,
   "metadata": {},
   "outputs": [
    {
     "data": {
      "text/plain": [
       "'JEDI by Huan'"
      ]
     },
     "execution_count": 297,
     "metadata": {},
     "output_type": "execute_result"
    }
   ],
   "source": [
    "str(b)"
   ]
  },
  {
   "cell_type": "code",
   "execution_count": 298,
   "metadata": {},
   "outputs": [
    {
     "ename": "TypeError",
     "evalue": "object of type 'Book' has no len()",
     "output_type": "error",
     "traceback": [
      "\u001b[1;31m---------------------------------------------------------------------------\u001b[0m",
      "\u001b[1;31mTypeError\u001b[0m                                 Traceback (most recent call last)",
      "\u001b[1;32m<ipython-input-298-b8d7cf079640>\u001b[0m in \u001b[0;36m<module>\u001b[1;34m\u001b[0m\n\u001b[0;32m      1\u001b[0m \u001b[1;31m##### the same applies to __len__() built in method\u001b[0m\u001b[1;33m\u001b[0m\u001b[1;33m\u001b[0m\u001b[1;33m\u001b[0m\u001b[0m\n\u001b[1;32m----> 2\u001b[1;33m \u001b[0mlen\u001b[0m\u001b[1;33m(\u001b[0m\u001b[0mb\u001b[0m\u001b[1;33m)\u001b[0m\u001b[1;33m\u001b[0m\u001b[1;33m\u001b[0m\u001b[0m\n\u001b[0m",
      "\u001b[1;31mTypeError\u001b[0m: object of type 'Book' has no len()"
     ]
    }
   ],
   "source": [
    "##### the same applies to __len__() built in method\n",
    "len(b)"
   ]
  },
  {
   "cell_type": "code",
   "execution_count": 308,
   "metadata": {},
   "outputs": [],
   "source": [
    "class Book():\n",
    "    \n",
    "    def __init__(self,title, author,pages):\n",
    "        self.title = title\n",
    "        self.author=author\n",
    "        self.pages=pages\n",
    "        \n",
    "    def __str__(self):\n",
    "        return f'{self.title} by {self.author}'\n",
    "    \n",
    "    def __len__(self):\n",
    "        return self.pages\n",
    "    \n",
    "    def __name__(self):\n",
    "        return self.author"
   ]
  },
  {
   "cell_type": "code",
   "execution_count": 309,
   "metadata": {},
   "outputs": [
    {
     "data": {
      "text/plain": [
       "200"
      ]
     },
     "execution_count": 309,
     "metadata": {},
     "output_type": "execute_result"
    }
   ],
   "source": [
    "len(b)"
   ]
  },
  {
   "cell_type": "markdown",
   "metadata": {},
   "source": [
    "#### <span style=\"color:red\"> name is not green marked since it is not built -in method in python. so this __built-in__() only works as this way "
   ]
  },
  {
   "cell_type": "code",
   "execution_count": 310,
   "metadata": {},
   "outputs": [
    {
     "ename": "NameError",
     "evalue": "name 'name' is not defined",
     "output_type": "error",
     "traceback": [
      "\u001b[1;31m---------------------------------------------------------------------------\u001b[0m",
      "\u001b[1;31mNameError\u001b[0m                                 Traceback (most recent call last)",
      "\u001b[1;32m<ipython-input-310-e70c966378df>\u001b[0m in \u001b[0;36m<module>\u001b[1;34m\u001b[0m\n\u001b[1;32m----> 1\u001b[1;33m \u001b[0mname\u001b[0m\u001b[1;33m(\u001b[0m\u001b[0mb\u001b[0m\u001b[1;33m)\u001b[0m\u001b[1;33m\u001b[0m\u001b[1;33m\u001b[0m\u001b[0m\n\u001b[0m",
      "\u001b[1;31mNameError\u001b[0m: name 'name' is not defined"
     ]
    }
   ],
   "source": [
    "name(b)\n"
   ]
  },
  {
   "cell_type": "code",
   "execution_count": 311,
   "metadata": {},
   "outputs": [],
   "source": [
    "##### del is also built in method \n",
    "del b "
   ]
  },
  {
   "cell_type": "code",
   "execution_count": 312,
   "metadata": {},
   "outputs": [
    {
     "ename": "NameError",
     "evalue": "name 'b' is not defined",
     "output_type": "error",
     "traceback": [
      "\u001b[1;31m---------------------------------------------------------------------------\u001b[0m",
      "\u001b[1;31mNameError\u001b[0m                                 Traceback (most recent call last)",
      "\u001b[1;32m<ipython-input-312-89e6c98d9288>\u001b[0m in \u001b[0;36m<module>\u001b[1;34m\u001b[0m\n\u001b[1;32m----> 1\u001b[1;33m \u001b[0mb\u001b[0m\u001b[1;33m\u001b[0m\u001b[1;33m\u001b[0m\u001b[0m\n\u001b[0m",
      "\u001b[1;31mNameError\u001b[0m: name 'b' is not defined"
     ]
    }
   ],
   "source": [
    "b"
   ]
  },
  {
   "cell_type": "code",
   "execution_count": 370,
   "metadata": {},
   "outputs": [],
   "source": [
    "## left message when something is deleted \n",
    "class Book():\n",
    "    \n",
    "    def __init__(self,title, author,pages):\n",
    "        self.title = title\n",
    "        self.author=author\n",
    "        self.pages=pages\n",
    "        \n",
    "    def __str__(self):\n",
    "        return f'{self.title} by {self.author}'\n",
    "    \n",
    "    def __len__(self):\n",
    "        return self.pages\n",
    "    \n",
    "    def __del__(self):\n",
    "        \n",
    "        print(\"A Book object has been deleted\")"
   ]
  },
  {
   "cell_type": "code",
   "execution_count": 373,
   "metadata": {},
   "outputs": [],
   "source": [
    "b=Book('JEDI','Huan',200) ## 3 attributes"
   ]
  },
  {
   "cell_type": "code",
   "execution_count": 374,
   "metadata": {},
   "outputs": [
    {
     "name": "stdout",
     "output_type": "stream",
     "text": [
      "JEDI by Huan\n"
     ]
    }
   ],
   "source": [
    "print(b)"
   ]
  },
  {
   "cell_type": "code",
   "execution_count": 375,
   "metadata": {},
   "outputs": [
    {
     "name": "stdout",
     "output_type": "stream",
     "text": [
      "A Book object has been deleted\n"
     ]
    }
   ],
   "source": [
    "del b"
   ]
  },
  {
   "cell_type": "code",
   "execution_count": 369,
   "metadata": {},
   "outputs": [
    {
     "ename": "NameError",
     "evalue": "name 'b' is not defined",
     "output_type": "error",
     "traceback": [
      "\u001b[1;31m---------------------------------------------------------------------------\u001b[0m",
      "\u001b[1;31mNameError\u001b[0m                                 Traceback (most recent call last)",
      "\u001b[1;32m<ipython-input-369-89e6c98d9288>\u001b[0m in \u001b[0;36m<module>\u001b[1;34m\u001b[0m\n\u001b[1;32m----> 1\u001b[1;33m \u001b[0mb\u001b[0m\u001b[1;33m\u001b[0m\u001b[1;33m\u001b[0m\u001b[0m\n\u001b[0m",
      "\u001b[1;31mNameError\u001b[0m: name 'b' is not defined"
     ]
    }
   ],
   "source": [
    "b"
   ]
  },
  {
   "cell_type": "markdown",
   "metadata": {},
   "source": [
    "## 5. When the methods are called, it returns nothing but just change the attritues of the  class!!! this is also used and quite normal to see"
   ]
  },
  {
   "cell_type": "code",
   "execution_count": 49,
   "metadata": {},
   "outputs": [],
   "source": [
    "#example \n",
    "class simple_case():\n",
    "    \n",
    "    \n",
    "    def __init__(self,value):\n",
    "        self.value=value\n",
    "        \n",
    "    def add_value_in(self,amount):\n",
    "        self.value=self.value+amount\n",
    "        # you could also print some notes here when you add amount to the value, it is up to you \n",
    "\n",
    "    "
   ]
  },
  {
   "cell_type": "code",
   "execution_count": 25,
   "metadata": {},
   "outputs": [
    {
     "data": {
      "text/plain": [
       "300"
      ]
     },
     "execution_count": 25,
     "metadata": {},
     "output_type": "execute_result"
    }
   ],
   "source": [
    "my_value=simple_case(300) # instance of calss, it is a object \n",
    "my_value.value"
   ]
  },
  {
   "cell_type": "code",
   "execution_count": 26,
   "metadata": {},
   "outputs": [],
   "source": [
    "my_value.add_value_in(200)"
   ]
  },
  {
   "cell_type": "code",
   "execution_count": 27,
   "metadata": {},
   "outputs": [
    {
     "data": {
      "text/plain": [
       "500"
      ]
     },
     "execution_count": 27,
     "metadata": {},
     "output_type": "execute_result"
    }
   ],
   "source": [
    "my_value.value"
   ]
  }
 ],
 "metadata": {
  "kernelspec": {
   "display_name": "Python 3",
   "language": "python",
   "name": "python3"
  },
  "language_info": {
   "codemirror_mode": {
    "name": "ipython",
    "version": 3
   },
   "file_extension": ".py",
   "mimetype": "text/x-python",
   "name": "python",
   "nbconvert_exporter": "python",
   "pygments_lexer": "ipython3",
   "version": "3.8.5"
  }
 },
 "nbformat": 4,
 "nbformat_minor": 4
}
