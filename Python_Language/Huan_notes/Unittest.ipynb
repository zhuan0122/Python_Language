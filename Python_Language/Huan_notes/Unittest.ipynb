{
 "cells": [
  {
   "cell_type": "markdown",
   "metadata": {},
   "source": [
    "# Unit Testing\n",
    "\n",
    "Equally important as writing good code is writing good tests. Better to find bugs yourself than have them reported to you by end users!\n",
    "\n",
    "For this section we'll be working with files outside the notebook. We'll save our code to a .py file, and then save our test script to another .py file. Normally we would code these files using a text editor like Brackets or Atom, or inside an IDE like Spyder or Pycharm. But, since we're here, let's use Jupyter!\n",
    "\n",
    "Recall that with some IPython magic we can write the contents of a cell to a file using `%%writefile`.<br>\n",
    "Something we haven't seen yet; you can run terminal commands from a jupyter cell using `!`\n",
    "\n",
    "## Testing tools\n",
    "\n",
    "There are dozens of good testing libraries out there. Most are third-party packages that require an install, such as:\n",
    "\n",
    "* [pylint](https://www.pylint.org/)\n",
    "* [pyflakes](https://pypi.python.org/pypi/pyflakes/)\n",
    "* [pep8](https://pypi.python.org/pypi/pep8)\n",
    "\n",
    "These are simple tools that merely look at your code, and they'll tell you if there are **style issues or simple problems like variable names being called before assignment**.\n",
    "\n",
    "**A far better way to test your code is to write tests that send sample data to your program, and compare what's returned to a desired outcome.<br>Two such tools are available from the standard library:**\n",
    "\n",
    "* [unittest](https://docs.python.org/3/library/unittest.html)\n",
    "* [doctest](https://docs.python.org/3/library/doctest.html)\n",
    "\n",
    "Let's look at pylint first, then we'll do some heavier lifting with unittest.\n"
   ]
  },
  {
   "cell_type": "markdown",
   "metadata": {},
   "source": [
    "## pylint - look at your code and report back possible issue\n",
    "* pip install pylint --command line\n",
    "* create one simple.py in sublime or amy other py text editor and save it \n",
    "* run it in command where you sae the .py file    python simple.py \n",
    "* after run it and it works  run # pylint simp.py -r y    it will give the report of the you code file score and styling error\n",
    "* Pylint will check the errors and quality of you code.\n",
    "  ** one thing you need to know is pylint cares about the mixed use of tab indentation and space indentation \n",
    "     so you cannot mix these two indentation if you want to get a higher score in pylint check score \n",
    "     space indentaion means you click 4 spaces to make indentation of the code like the codes inside the def function block:\n",
    "     tab means you select or code block and click tab, it will make indentaion for your code make them within the def function\n",
    "     "
   ]
  },
  {
   "cell_type": "markdown",
   "metadata": {},
   "source": [
    "## Unittest library -- allow you to write your own test program and give out the desired outputs\n",
    "\n",
    "* unnitest library is a built-in library \n",
    "\n",
    "* one goal here is to set a set of specific data to your program to analyze the result and see if it actualy gives your the \n",
    "  desired results\n",
    "\n"
   ]
  },
  {
   "cell_type": "markdown",
   "metadata": {},
   "source": [
    "* **one script: captalize the text** \n",
    "* ** another script is actual test script for this**\n",
    "** we do build a test class TO DO THE TEST"
   ]
  },
  {
   "cell_type": "code",
   "execution_count": 4,
   "metadata": {},
   "outputs": [],
   "source": [
    "# cap.py\n",
    "def cap_text(text):\n",
    "\t'''\n",
    "\tcaptalize the first letter of the word\n",
    "\n",
    "\t'''\n",
    "\treturn text.capitalize()"
   ]
  },
  {
   "cell_type": "code",
   "execution_count": 5,
   "metadata": {},
   "outputs": [
    {
     "ename": "ModuleNotFoundError",
     "evalue": "No module named 'cap'",
     "output_type": "error",
     "traceback": [
      "\u001b[1;31m---------------------------------------------------------------------------\u001b[0m",
      "\u001b[1;31mModuleNotFoundError\u001b[0m                       Traceback (most recent call last)",
      "\u001b[1;32m<ipython-input-5-f28796a90c7c>\u001b[0m in \u001b[0;36m<module>\u001b[1;34m\u001b[0m\n\u001b[0;32m      1\u001b[0m \u001b[1;31m# test_cap.py\u001b[0m\u001b[1;33m\u001b[0m\u001b[1;33m\u001b[0m\u001b[1;33m\u001b[0m\u001b[0m\n\u001b[0;32m      2\u001b[0m \u001b[1;32mimport\u001b[0m \u001b[0munittest\u001b[0m\u001b[1;33m\u001b[0m\u001b[1;33m\u001b[0m\u001b[0m\n\u001b[1;32m----> 3\u001b[1;33m \u001b[1;32mimport\u001b[0m \u001b[0mcap\u001b[0m\u001b[1;33m\u001b[0m\u001b[1;33m\u001b[0m\u001b[0m\n\u001b[0m\u001b[0;32m      4\u001b[0m \u001b[1;33m\u001b[0m\u001b[0m\n\u001b[0;32m      5\u001b[0m \u001b[1;32mclass\u001b[0m \u001b[0mtest_cap\u001b[0m\u001b[1;33m(\u001b[0m\u001b[0munittest\u001b[0m\u001b[1;33m.\u001b[0m\u001b[0mTestCase\u001b[0m\u001b[1;33m)\u001b[0m\u001b[1;33m:\u001b[0m\u001b[1;33m\u001b[0m\u001b[1;33m\u001b[0m\u001b[0m\n",
      "\u001b[1;31mModuleNotFoundError\u001b[0m: No module named 'cap'"
     ]
    }
   ],
   "source": [
    "# test_cap.py\n",
    "import unittest\n",
    "import cap  # import the cap.py from the same location that test_cap.pu located. we did this in sublime \n",
    "\n",
    "class test_cap(unittest.TestCase):\n",
    "\t'''\n",
    "\tthis script is run to test if the cap.py work to do the captalization\n",
    "\tdefine different scenario here for test\n",
    "\t'''\n",
    "\n",
    "\tdef test_one_word(self):\n",
    "\t\ttext = 'huan'\n",
    "\t\tresult = cap.cap_text(text)\n",
    "\n",
    "\t\tself.assertEqual(result, 'Huan')\n",
    "\n",
    "\tdef test_one_more_word(self):\n",
    "\t\ttext = 'huan zhang'\n",
    "\t\tresult = cap.cap_text(text)\n",
    "\t\tself.assertEqual(result,'Huan Zhang')\n",
    "\n",
    "\n",
    "if __name__ == '__main__':\n",
    "\t'''\n",
    "\tif the test_cap.py is called directly then this if will be True and run the unitest.main() class?\n",
    "\t'''\n",
    "\tunittest.main() "
   ]
  },
  {
   "cell_type": "markdown",
   "metadata": {},
   "source": [
    "* then in command, we run python test:cap.py directly. it will check if the cap.py gives the expected output \n",
    "    \n",
    "  * it will fail since capitalize only uppcase the first word of the string so it will gives 'Huan zhang'  in the second\n",
    "    test scenario. then we will try to correct the cap.py function "
   ]
  },
  {
   "cell_type": "code",
   "execution_count": 6,
   "metadata": {},
   "outputs": [],
   "source": [
    "# cap.py\n",
    "def cap_text(text):\n",
    "\t'''\n",
    "\tcaptalize the first letter of the word\n",
    "\n",
    "\t'''\n",
    "\treturn text.title()"
   ]
  },
  {
   "cell_type": "markdown",
   "metadata": {},
   "source": [
    "### !!! so what unnittest does is we create a test.py where we import the unittest library and also the .py we write our\n",
    "### function or calss, then we create a test class where we inherite the TestCase object from the library unittest. \n",
    "### inheritence gives us the self.assertEqual to do the test here: test the results output. \n"
   ]
  }
 ],
 "metadata": {
  "kernelspec": {
   "display_name": "Python 3",
   "language": "python",
   "name": "python3"
  },
  "language_info": {
   "codemirror_mode": {
    "name": "ipython",
    "version": 3
   },
   "file_extension": ".py",
   "mimetype": "text/x-python",
   "name": "python",
   "nbconvert_exporter": "python",
   "pygments_lexer": "ipython3",
   "version": "3.8.5"
  }
 },
 "nbformat": 4,
 "nbformat_minor": 4
}
