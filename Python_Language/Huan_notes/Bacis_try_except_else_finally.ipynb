{
 "cells": [
  {
   "cell_type": "markdown",
   "metadata": {},
   "source": [
    "## here we are gonna learn some basics about try/except/else/finally\n"
   ]
  },
  {
   "cell_type": "code",
   "execution_count": 1,
   "metadata": {},
   "outputs": [
    {
     "ename": "SyntaxError",
     "evalue": "EOL while scanning string literal (<ipython-input-1-126035ba983d>, line 1)",
     "output_type": "error",
     "traceback": [
      "\u001b[1;36m  File \u001b[1;32m\"<ipython-input-1-126035ba983d>\"\u001b[1;36m, line \u001b[1;32m1\u001b[0m\n\u001b[1;33m    print('hello)\u001b[0m\n\u001b[1;37m                 ^\u001b[0m\n\u001b[1;31mSyntaxError\u001b[0m\u001b[1;31m:\u001b[0m EOL while scanning string literal\n"
     ]
    }
   ],
   "source": [
    "print('hello)"
   ]
  },
  {
   "cell_type": "markdown",
   "metadata": {},
   "source": [
    " Note how we get a SyntaxError, with the further description that it was an EOL (End of Line Error) while scanning the string literal. This is specific enough for us to see that we forgot a single quote at the end of the line. Understanding these various error types will help you debug your code much faster. \n",
    "\n",
    "This type of error and description is known as an Exception. Even if a statement or expression is syntactically correct, it may cause an error when an attempt is made to execute it. Errors detected during execution are called exceptions and are not unconditionally fatal.\n",
    "\n",
    "You can check out the full list of built-in exceptions [here](https://docs.python.org/3/library/exceptions.html). Now let's learn how to handle errors and exceptions in our own code."
   ]
  },
  {
   "cell_type": "markdown",
   "metadata": {},
   "source": [
    "## error handling will help us to continue with other code though there is an eror happening somewhere. We throw out the\n",
    "## the error information but continue the code not stop the entire script \n",
    "\n",
    "* **three key words for error handling**\n",
    "  * **Try**: \n",
    "       this is the block of code that to be attempted, it may lead to an error when it is executed\n",
    "  * **Except:** \\n\n",
    "       this is the block of code that will be executed if there is an error in the **try** block. we could except different \n",
    "       type of error here like ImportError, ValueError,TypeError.... we also could accept all error as long as it is an error\n",
    "       \n",
    "  * **Finally:** \\n\n",
    "       this block of code will be excuted always regardelss of the error "
   ]
  },
  {
   "cell_type": "markdown",
   "metadata": {},
   "source": [
    "## 1.1 try and except and else and finally"
   ]
  },
  {
   "cell_type": "markdown",
   "metadata": {},
   "source": [
    "* **The basic terminology and syntax used to handle errors in Python are the <code>try</code> and <code>except</code> statements.** The code which can cause an exception to occur is put in the <code>try</code> block and the handling of the exception is then implemented in the <code>except</code> block of code. The syntax follows:\n",
    "\n",
    "    **try:**\n",
    "       You do your operations here...\n",
    "       ...\n",
    "    **except ExceptionI:**\n",
    "       If there is ExceptionI, then execute this block.\n",
    "    **except ExceptionII:**\n",
    "       If there is ExceptionII, then execute this block.\n",
    "       ...\n",
    "    **else:**\n",
    "       If there is no exception then execute this block. \n",
    "\n",
    " We can also just check for any exception with just using <code>except:</code> To get a better understanding of all this let's   check out an example: We will look at some code that opens and writes a file:"
   ]
  },
  {
   "cell_type": "code",
   "execution_count": 4,
   "metadata": {},
   "outputs": [
    {
     "name": "stdout",
     "output_type": "stream",
     "text": [
      "Please give a integer numer:kk\n",
      "The number you provide may be wrong! It cannot be added correctly!\n"
     ]
    }
   ],
   "source": [
    "# example1\n",
    "try:\n",
    "    result = 10 + input('Please give a integer numer:') # str cannot be added with int. so it will always lead an error\n",
    "except:\n",
    "    print('The number you provide may be wrong! It cannot be added correctly!')\n",
    "else:\n",
    "    print('Input is correct type and it is added!')\n",
    "    "
   ]
  },
  {
   "cell_type": "code",
   "execution_count": 5,
   "metadata": {},
   "outputs": [
    {
     "name": "stdout",
     "output_type": "stream",
     "text": [
      "Please give a integer numer:3333\n",
      "Input is correct type and it is added!\n",
      "103333\n"
     ]
    }
   ],
   "source": [
    "# when we know which kind of type error it will happen then we could gives some hints for the user until it gives correct \n",
    "while True:\n",
    "    try:\n",
    "        result = '10' + input('Please give a integer numer:')\n",
    "    except:\n",
    "        print('The number you provide may be wrong! It cannot be added correctly! Try agian!')\n",
    "        continue\n",
    "    else:\n",
    "        print('Input is correct type and it is added!')\n",
    "        print(result)\n",
    "        break"
   ]
  },
  {
   "cell_type": "code",
   "execution_count": 6,
   "metadata": {},
   "outputs": [
    {
     "name": "stdout",
     "output_type": "stream",
     "text": [
      "there is an OS error\n",
      "I am always excuted\n"
     ]
    }
   ],
   "source": [
    "#example2 : open and write file \n",
    "try:\n",
    "    f=open('testfile','r') # it will create the file if it doesnot exist \n",
    "    f.write('add one line here')\n",
    "except TypeError: # only except the typeerror and run this block, othewise continue\n",
    "    print('there was atype error')\n",
    "except OSError: # when you write a file which is read mode \n",
    "    print('there is an OS error')\n",
    "except: # all errors will be excepted \n",
    "    print('except all error!')\n",
    "finally: # excute it no matter if there is an error or not\n",
    "    print('I am always excuted')"
   ]
  },
  {
   "cell_type": "markdown",
   "metadata": {},
   "source": [
    "### !!! **for debugging purpose, it is good to know the built-in exceptions which is also called error types in Python**\n",
    "  * [here](https://docs.python.org/3/library/exceptions.html)"
   ]
  },
  {
   "cell_type": "code",
   "execution_count": 7,
   "metadata": {},
   "outputs": [],
   "source": [
    "# example 3\n",
    "def askint():\n",
    "    while True:\n",
    "        try:\n",
    "            val = int(input(\"Please enter an integer: \"))\n",
    "        except:\n",
    "            print(\"Looks like you did not enter an integer!\")\n",
    "            continue\n",
    "        else:\n",
    "            print(\"Yep that's an integer!\")\n",
    "            break\n",
    "        finally:\n",
    "            print(\"Finally, I executed!\")\n",
    "        print(val) # this print is not part of try clause (try....finally is one clause) and it is part of the while loop\n",
    "                   # so the break will not break the finnaly statement block code since it is still part of try clause\n",
    "                   # but after the finally block has been excuted then it will quit the while loop then this print will \n",
    "                   #never run "
   ]
  },
  {
   "cell_type": "code",
   "execution_count": 8,
   "metadata": {},
   "outputs": [
    {
     "name": "stdout",
     "output_type": "stream",
     "text": [
      "Please enter an integer: fff\n",
      "Looks like you did not enter an integer!\n",
      "Finally, I executed!\n",
      "Please enter an integer: 10\n",
      "Yep that's an integer!\n",
      "Finally, I executed!\n"
     ]
    }
   ],
   "source": [
    "askint()"
   ]
  },
  {
   "cell_type": "markdown",
   "metadata": {},
   "source": [
    "So why did our function print \"Finally, I executed!\" after each trial, **yet it never printed `val` itself?**  **This is because with a try/except/finally clause, any <code>continue</code> or <code>break</code> statements are reserved until *after* the try clause is completed.** \n",
    "**This means that even though a successful input of **3** brought us to the <code>else:</code> block, and a <code>break</code>****statement was thrown, the try clause continued through to <code>finally:</code> before breaking out of the while loop.**\n",
    "* **And since <code>print(val)</code> was outside the try clause, the <code>break</code> statement prevented it from running. break is quiting loop any loop for loop, while loop and so on**\n",
    "\n",
    "Let's make one final adjustment:"
   ]
  },
  {
   "cell_type": "code",
   "execution_count": 9,
   "metadata": {},
   "outputs": [],
   "source": [
    "def askint():\n",
    "    while True:\n",
    "        try:\n",
    "            val = int(input(\"Please enter an integer: \"))\n",
    "        except:\n",
    "            print(\"Looks like you did not enter an integer!\")\n",
    "            continue\n",
    "        else:\n",
    "            print(\"Yep that's an integer!\")\n",
    "            break\n",
    "        finally:\n",
    "            print(\"Finally, I executed!\")\n",
    "    print(val)"
   ]
  },
  {
   "cell_type": "code",
   "execution_count": 10,
   "metadata": {},
   "outputs": [
    {
     "name": "stdout",
     "output_type": "stream",
     "text": [
      "Please enter an integer: kk\n",
      "Looks like you did not enter an integer!\n",
      "Finally, I executed!\n",
      "Please enter an integer: kk\n",
      "Looks like you did not enter an integer!\n",
      "Finally, I executed!\n",
      "Please enter an integer: 89\n",
      "Yep that's an integer!\n",
      "Finally, I executed!\n",
      "89\n"
     ]
    }
   ],
   "source": [
    "askint()"
   ]
  },
  {
   "cell_type": "markdown",
   "metadata": {},
   "source": [
    "#### # if you do not want to use finally then you could use except: and else, since if there is error then except will run. then \n",
    "#### we do not need to figure out all trypes error and we cannot ensure user must give the expected error and then be excepted\n",
    "#### otehrwise use finally to run at any case: no error, has error, regardless of error type "
   ]
  },
  {
   "cell_type": "code",
   "execution_count": 1,
   "metadata": {},
   "outputs": [],
   "source": [
    "\n",
    "def askint():\n",
    "    while True:\n",
    "        try:\n",
    "            val = int(input(\"Please enter an integer: \"))\n",
    "        except OSError:\n",
    "            print(\"Looks like you did not enter an integer!\")\n",
    "            continue\n",
    "        except:\n",
    "            print('some error happen')\n",
    "            \n",
    "        else: # else only run no exception (no error happens)\n",
    "            print(\"Yep that's an integer!\")\n",
    "            print(val)\n",
    "            break\n",
    "        "
   ]
  },
  {
   "cell_type": "code",
   "execution_count": 2,
   "metadata": {},
   "outputs": [
    {
     "name": "stdout",
     "output_type": "stream",
     "text": [
      "Please enter an integer: kk\n",
      "some error happen\n",
      "Please enter an integer: ll\n",
      "some error happen\n",
      "Please enter an integer: 90\n",
      "Yep that's an integer!\n",
      "90\n"
     ]
    }
   ],
   "source": [
    "askint()"
   ]
  },
  {
   "cell_type": "code",
   "execution_count": 3,
   "metadata": {},
   "outputs": [],
   "source": [
    "def askint():\n",
    "    while True:\n",
    "        try:\n",
    "            val = int(input(\"Please enter an integer: \"))\n",
    "        except OSError:\n",
    "            print(\"Looks like you did not enter an integer!\")\n",
    "            continue\n",
    "        #except:\n",
    "            #print('some error happen')\n",
    "            \n",
    "        else: # else only run no exception (no error happens)\n",
    "            print(\"Yep that's an integer!\")\n",
    "            print(val)\n",
    "            break\n",
    "        "
   ]
  },
  {
   "cell_type": "code",
   "execution_count": 4,
   "metadata": {},
   "outputs": [
    {
     "name": "stdout",
     "output_type": "stream",
     "text": [
      "Please enter an integer: ll\n"
     ]
    },
    {
     "ename": "ValueError",
     "evalue": "invalid literal for int() with base 10: 'll'",
     "output_type": "error",
     "traceback": [
      "\u001b[1;31m---------------------------------------------------------------------------\u001b[0m",
      "\u001b[1;31mValueError\u001b[0m                                Traceback (most recent call last)",
      "\u001b[1;32m<ipython-input-4-6f47a672c9f4>\u001b[0m in \u001b[0;36m<module>\u001b[1;34m\u001b[0m\n\u001b[1;32m----> 1\u001b[1;33m \u001b[0maskint\u001b[0m\u001b[1;33m(\u001b[0m\u001b[1;33m)\u001b[0m \u001b[1;31m# this Value ERROR is not in except block since you only define one type OSError is excepted\u001b[0m\u001b[1;33m\u001b[0m\u001b[1;33m\u001b[0m\u001b[0m\n\u001b[0m",
      "\u001b[1;32m<ipython-input-3-8e5d79afaa54>\u001b[0m in \u001b[0;36maskint\u001b[1;34m()\u001b[0m\n\u001b[0;32m      2\u001b[0m     \u001b[1;32mwhile\u001b[0m \u001b[1;32mTrue\u001b[0m\u001b[1;33m:\u001b[0m\u001b[1;33m\u001b[0m\u001b[1;33m\u001b[0m\u001b[0m\n\u001b[0;32m      3\u001b[0m         \u001b[1;32mtry\u001b[0m\u001b[1;33m:\u001b[0m\u001b[1;33m\u001b[0m\u001b[1;33m\u001b[0m\u001b[0m\n\u001b[1;32m----> 4\u001b[1;33m             \u001b[0mval\u001b[0m \u001b[1;33m=\u001b[0m \u001b[0mint\u001b[0m\u001b[1;33m(\u001b[0m\u001b[0minput\u001b[0m\u001b[1;33m(\u001b[0m\u001b[1;34m\"Please enter an integer: \"\u001b[0m\u001b[1;33m)\u001b[0m\u001b[1;33m)\u001b[0m\u001b[1;33m\u001b[0m\u001b[1;33m\u001b[0m\u001b[0m\n\u001b[0m\u001b[0;32m      5\u001b[0m         \u001b[1;32mexcept\u001b[0m \u001b[0mOSError\u001b[0m\u001b[1;33m:\u001b[0m\u001b[1;33m\u001b[0m\u001b[1;33m\u001b[0m\u001b[0m\n\u001b[0;32m      6\u001b[0m             \u001b[0mprint\u001b[0m\u001b[1;33m(\u001b[0m\u001b[1;34m\"Looks like you did not enter an integer!\"\u001b[0m\u001b[1;33m)\u001b[0m\u001b[1;33m\u001b[0m\u001b[1;33m\u001b[0m\u001b[0m\n",
      "\u001b[1;31mValueError\u001b[0m: invalid literal for int() with base 10: 'll'"
     ]
    }
   ],
   "source": [
    "askint() # this Value ERROR is not in except block since you only define one type OSError is excepted"
   ]
  },
  {
   "cell_type": "code",
   "execution_count": 5,
   "metadata": {},
   "outputs": [],
   "source": [
    "def askint():\n",
    "    while True:\n",
    "        try:\n",
    "            val = int(input(\"Please enter an integer: \"))\n",
    "        except OSError:\n",
    "            print(\"Looks like you did not enter an integer!\")\n",
    "            continue\n",
    "        #except:\n",
    "            #print('some error happen')\n",
    "            \n",
    "        #else: # else only run no exception (no error happens)\n",
    "           # print(\"Yep that's an integer!\")\n",
    "           # print(val)\n",
    "           # break\n",
    "        finally:\n",
    "            print('run whatever')\n",
    "            #print(val)\n",
    "            break"
   ]
  },
  {
   "cell_type": "code",
   "execution_count": 6,
   "metadata": {},
   "outputs": [
    {
     "name": "stdout",
     "output_type": "stream",
     "text": [
      "Please enter an integer: ll\n",
      "run whatever\n"
     ]
    }
   ],
   "source": [
    "askint()"
   ]
  },
  {
   "cell_type": "markdown",
   "metadata": {},
   "source": [
    "### !!! so my concusion is:\n",
    "   * **when you really ensure the user will set which kind of error, then you try and except **this type of error** otherwise \n",
    "     just except: to except all type errors**\n",
    "   * except: combine with else then it will run with all error excepted. so you do not need to give finally. \n",
    "   * except **specific type error** combine with finally, this make possible that this type error is not araised but we \n",
    "     could run the rest of code anyway with finally block. \n",
    "   * except: , else:, finally:, not used all of these. since except: will except all error and run the code block inside\n",
    "                else: will run if there is no error or exception araised. finally: will run all cases. so combine \n",
    "                        except: with else: or except: with finally:"
   ]
  }
 ],
 "metadata": {
  "kernelspec": {
   "display_name": "Python 3",
   "language": "python",
   "name": "python3"
  },
  "language_info": {
   "codemirror_mode": {
    "name": "ipython",
    "version": 3
   },
   "file_extension": ".py",
   "mimetype": "text/x-python",
   "name": "python",
   "nbconvert_exporter": "python",
   "pygments_lexer": "ipython3",
   "version": "3.8.5"
  }
 },
 "nbformat": 4,
 "nbformat_minor": 4
}
